{
 "cells": [
  {
   "cell_type": "markdown",
   "id": "7524df4a",
   "metadata": {},
   "source": [
    "## Imports"
   ]
  },
  {
   "cell_type": "code",
   "execution_count": 1,
   "id": "87d35ddf",
   "metadata": {},
   "outputs": [],
   "source": [
    "import pandas as pd\n",
    "import numpy as np"
   ]
  },
  {
   "cell_type": "code",
   "execution_count": 2,
   "id": "6ec29377",
   "metadata": {},
   "outputs": [],
   "source": [
    "from sklearn.preprocessing import StandardScaler\n",
    "from sklearn.linear_model import LogisticRegression\n",
    "\n",
    "from sklearn.tree import DecisionTreeClassifier, plot_tree\n",
    "from sklearn.model_selection import train_test_split\n",
    "from sklearn.metrics import accuracy_score, recall_score, precision_score, f1_score\n",
    "from sklearn.metrics import ConfusionMatrixDisplay,RocCurveDisplay\n",
    "from sklearn.metrics import plot_confusion_matrix, plot_roc_curve\n",
    "from sklearn.metrics import confusion_matrix, ConfusionMatrixDisplay\n",
    "from sklearn.metrics import roc_auc_score, roc_curve"
   ]
  },
  {
   "cell_type": "code",
   "execution_count": 3,
   "id": "ad9e77a0",
   "metadata": {},
   "outputs": [],
   "source": [
    "import matplotlib.pyplot as plt\n",
    "import seaborn as sns"
   ]
  },
  {
   "cell_type": "code",
   "execution_count": 4,
   "id": "0f822519",
   "metadata": {},
   "outputs": [],
   "source": [
    "import warnings\n",
    "warnings.filterwarnings(\"ignore\")"
   ]
  },
  {
   "cell_type": "markdown",
   "id": "4e70f7a6",
   "metadata": {},
   "source": [
    "### Major League"
   ]
  },
  {
   "cell_type": "code",
   "execution_count": 5,
   "id": "f8f25ddf",
   "metadata": {},
   "outputs": [
    {
     "data": {
      "text/html": [
       "<div>\n",
       "<style scoped>\n",
       "    .dataframe tbody tr th:only-of-type {\n",
       "        vertical-align: middle;\n",
       "    }\n",
       "\n",
       "    .dataframe tbody tr th {\n",
       "        vertical-align: top;\n",
       "    }\n",
       "\n",
       "    .dataframe thead th {\n",
       "        text-align: right;\n",
       "    }\n",
       "</style>\n",
       "<table border=\"1\" class=\"dataframe\">\n",
       "  <thead>\n",
       "    <tr style=\"text-align: right;\">\n",
       "      <th></th>\n",
       "      <th>last_name</th>\n",
       "      <th>first_name</th>\n",
       "      <th>player_id</th>\n",
       "      <th>year</th>\n",
       "      <th>p_game</th>\n",
       "      <th>p_formatted_ip</th>\n",
       "      <th>pa</th>\n",
       "      <th>ab</th>\n",
       "      <th>hit</th>\n",
       "      <th>home_run</th>\n",
       "      <th>...</th>\n",
       "      <th>walk</th>\n",
       "      <th>p_earned_run</th>\n",
       "      <th>p_run</th>\n",
       "      <th>p_save</th>\n",
       "      <th>p_blown_save</th>\n",
       "      <th>p_win</th>\n",
       "      <th>p_loss</th>\n",
       "      <th>p_balk</th>\n",
       "      <th>p_era</th>\n",
       "      <th>Unnamed: 20</th>\n",
       "    </tr>\n",
       "  </thead>\n",
       "  <tbody>\n",
       "    <tr>\n",
       "      <th>0</th>\n",
       "      <td>Colon</td>\n",
       "      <td>Bartolo</td>\n",
       "      <td>112526</td>\n",
       "      <td>2015</td>\n",
       "      <td>33</td>\n",
       "      <td>194.2</td>\n",
       "      <td>815</td>\n",
       "      <td>771</td>\n",
       "      <td>217</td>\n",
       "      <td>25</td>\n",
       "      <td>...</td>\n",
       "      <td>24</td>\n",
       "      <td>90</td>\n",
       "      <td>94</td>\n",
       "      <td>0</td>\n",
       "      <td>0</td>\n",
       "      <td>14</td>\n",
       "      <td>13</td>\n",
       "      <td>0</td>\n",
       "      <td>4.16</td>\n",
       "      <td>NaN</td>\n",
       "    </tr>\n",
       "    <tr>\n",
       "      <th>1</th>\n",
       "      <td>Burnett</td>\n",
       "      <td>A.J.</td>\n",
       "      <td>150359</td>\n",
       "      <td>2015</td>\n",
       "      <td>26</td>\n",
       "      <td>164.0</td>\n",
       "      <td>699</td>\n",
       "      <td>633</td>\n",
       "      <td>174</td>\n",
       "      <td>11</td>\n",
       "      <td>...</td>\n",
       "      <td>49</td>\n",
       "      <td>58</td>\n",
       "      <td>64</td>\n",
       "      <td>0</td>\n",
       "      <td>0</td>\n",
       "      <td>9</td>\n",
       "      <td>7</td>\n",
       "      <td>1</td>\n",
       "      <td>3.18</td>\n",
       "      <td>NaN</td>\n",
       "    </tr>\n",
       "    <tr>\n",
       "      <th>2</th>\n",
       "      <td>Hudson</td>\n",
       "      <td>Tim</td>\n",
       "      <td>218596</td>\n",
       "      <td>2015</td>\n",
       "      <td>24</td>\n",
       "      <td>123.2</td>\n",
       "      <td>525</td>\n",
       "      <td>476</td>\n",
       "      <td>134</td>\n",
       "      <td>13</td>\n",
       "      <td>...</td>\n",
       "      <td>37</td>\n",
       "      <td>61</td>\n",
       "      <td>62</td>\n",
       "      <td>0</td>\n",
       "      <td>0</td>\n",
       "      <td>8</td>\n",
       "      <td>9</td>\n",
       "      <td>0</td>\n",
       "      <td>4.44</td>\n",
       "      <td>NaN</td>\n",
       "    </tr>\n",
       "    <tr>\n",
       "      <th>3</th>\n",
       "      <td>Buehrle</td>\n",
       "      <td>Mark</td>\n",
       "      <td>279824</td>\n",
       "      <td>2015</td>\n",
       "      <td>32</td>\n",
       "      <td>198.2</td>\n",
       "      <td>827</td>\n",
       "      <td>768</td>\n",
       "      <td>214</td>\n",
       "      <td>22</td>\n",
       "      <td>...</td>\n",
       "      <td>33</td>\n",
       "      <td>84</td>\n",
       "      <td>100</td>\n",
       "      <td>0</td>\n",
       "      <td>0</td>\n",
       "      <td>15</td>\n",
       "      <td>8</td>\n",
       "      <td>0</td>\n",
       "      <td>3.81</td>\n",
       "      <td>NaN</td>\n",
       "    </tr>\n",
       "    <tr>\n",
       "      <th>4</th>\n",
       "      <td>Sabathia</td>\n",
       "      <td>CC</td>\n",
       "      <td>282332</td>\n",
       "      <td>2015</td>\n",
       "      <td>29</td>\n",
       "      <td>167.1</td>\n",
       "      <td>726</td>\n",
       "      <td>659</td>\n",
       "      <td>188</td>\n",
       "      <td>28</td>\n",
       "      <td>...</td>\n",
       "      <td>50</td>\n",
       "      <td>88</td>\n",
       "      <td>92</td>\n",
       "      <td>0</td>\n",
       "      <td>0</td>\n",
       "      <td>6</td>\n",
       "      <td>10</td>\n",
       "      <td>1</td>\n",
       "      <td>4.73</td>\n",
       "      <td>NaN</td>\n",
       "    </tr>\n",
       "    <tr>\n",
       "      <th>...</th>\n",
       "      <td>...</td>\n",
       "      <td>...</td>\n",
       "      <td>...</td>\n",
       "      <td>...</td>\n",
       "      <td>...</td>\n",
       "      <td>...</td>\n",
       "      <td>...</td>\n",
       "      <td>...</td>\n",
       "      <td>...</td>\n",
       "      <td>...</td>\n",
       "      <td>...</td>\n",
       "      <td>...</td>\n",
       "      <td>...</td>\n",
       "      <td>...</td>\n",
       "      <td>...</td>\n",
       "      <td>...</td>\n",
       "      <td>...</td>\n",
       "      <td>...</td>\n",
       "      <td>...</td>\n",
       "      <td>...</td>\n",
       "      <td>...</td>\n",
       "    </tr>\n",
       "    <tr>\n",
       "      <th>1008</th>\n",
       "      <td>Bradish</td>\n",
       "      <td>Kyle</td>\n",
       "      <td>680694</td>\n",
       "      <td>2023</td>\n",
       "      <td>12</td>\n",
       "      <td>60.0</td>\n",
       "      <td>251</td>\n",
       "      <td>230</td>\n",
       "      <td>60</td>\n",
       "      <td>6</td>\n",
       "      <td>...</td>\n",
       "      <td>16</td>\n",
       "      <td>26</td>\n",
       "      <td>27</td>\n",
       "      <td>0</td>\n",
       "      <td>0</td>\n",
       "      <td>2</td>\n",
       "      <td>3</td>\n",
       "      <td>0</td>\n",
       "      <td>3.90</td>\n",
       "      <td>NaN</td>\n",
       "    </tr>\n",
       "    <tr>\n",
       "      <th>1009</th>\n",
       "      <td>Waldichuk</td>\n",
       "      <td>Ken</td>\n",
       "      <td>686610</td>\n",
       "      <td>2023</td>\n",
       "      <td>16</td>\n",
       "      <td>59.2</td>\n",
       "      <td>291</td>\n",
       "      <td>244</td>\n",
       "      <td>77</td>\n",
       "      <td>14</td>\n",
       "      <td>...</td>\n",
       "      <td>39</td>\n",
       "      <td>44</td>\n",
       "      <td>48</td>\n",
       "      <td>1</td>\n",
       "      <td>0</td>\n",
       "      <td>1</td>\n",
       "      <td>5</td>\n",
       "      <td>0</td>\n",
       "      <td>6.64</td>\n",
       "      <td>NaN</td>\n",
       "    </tr>\n",
       "    <tr>\n",
       "      <th>1010</th>\n",
       "      <td>Brown</td>\n",
       "      <td>Hunter</td>\n",
       "      <td>686613</td>\n",
       "      <td>2023</td>\n",
       "      <td>14</td>\n",
       "      <td>81.0</td>\n",
       "      <td>332</td>\n",
       "      <td>299</td>\n",
       "      <td>71</td>\n",
       "      <td>8</td>\n",
       "      <td>...</td>\n",
       "      <td>28</td>\n",
       "      <td>34</td>\n",
       "      <td>38</td>\n",
       "      <td>0</td>\n",
       "      <td>0</td>\n",
       "      <td>6</td>\n",
       "      <td>4</td>\n",
       "      <td>0</td>\n",
       "      <td>3.78</td>\n",
       "      <td>NaN</td>\n",
       "    </tr>\n",
       "    <tr>\n",
       "      <th>1011</th>\n",
       "      <td>Varland</td>\n",
       "      <td>Louie</td>\n",
       "      <td>686973</td>\n",
       "      <td>2023</td>\n",
       "      <td>10</td>\n",
       "      <td>56.0</td>\n",
       "      <td>241</td>\n",
       "      <td>222</td>\n",
       "      <td>60</td>\n",
       "      <td>14</td>\n",
       "      <td>...</td>\n",
       "      <td>16</td>\n",
       "      <td>33</td>\n",
       "      <td>33</td>\n",
       "      <td>0</td>\n",
       "      <td>0</td>\n",
       "      <td>3</td>\n",
       "      <td>3</td>\n",
       "      <td>0</td>\n",
       "      <td>5.30</td>\n",
       "      <td>NaN</td>\n",
       "    </tr>\n",
       "    <tr>\n",
       "      <th>1012</th>\n",
       "      <td>Elder</td>\n",
       "      <td>Bryce</td>\n",
       "      <td>693821</td>\n",
       "      <td>2023</td>\n",
       "      <td>14</td>\n",
       "      <td>83.0</td>\n",
       "      <td>334</td>\n",
       "      <td>308</td>\n",
       "      <td>73</td>\n",
       "      <td>8</td>\n",
       "      <td>...</td>\n",
       "      <td>22</td>\n",
       "      <td>24</td>\n",
       "      <td>25</td>\n",
       "      <td>0</td>\n",
       "      <td>0</td>\n",
       "      <td>5</td>\n",
       "      <td>1</td>\n",
       "      <td>1</td>\n",
       "      <td>2.60</td>\n",
       "      <td>NaN</td>\n",
       "    </tr>\n",
       "  </tbody>\n",
       "</table>\n",
       "<p>1013 rows × 21 columns</p>\n",
       "</div>"
      ],
      "text/plain": [
       "      last_name  first_name  player_id  year  p_game  p_formatted_ip   pa  \\\n",
       "0         Colon     Bartolo     112526  2015      33           194.2  815   \n",
       "1       Burnett        A.J.     150359  2015      26           164.0  699   \n",
       "2        Hudson         Tim     218596  2015      24           123.2  525   \n",
       "3       Buehrle        Mark     279824  2015      32           198.2  827   \n",
       "4      Sabathia          CC     282332  2015      29           167.1  726   \n",
       "...         ...         ...        ...   ...     ...             ...  ...   \n",
       "1008    Bradish        Kyle     680694  2023      12            60.0  251   \n",
       "1009  Waldichuk         Ken     686610  2023      16            59.2  291   \n",
       "1010      Brown      Hunter     686613  2023      14            81.0  332   \n",
       "1011    Varland       Louie     686973  2023      10            56.0  241   \n",
       "1012      Elder       Bryce     693821  2023      14            83.0  334   \n",
       "\n",
       "       ab  hit  home_run  ...  walk  p_earned_run  p_run  p_save  \\\n",
       "0     771  217        25  ...    24            90     94       0   \n",
       "1     633  174        11  ...    49            58     64       0   \n",
       "2     476  134        13  ...    37            61     62       0   \n",
       "3     768  214        22  ...    33            84    100       0   \n",
       "4     659  188        28  ...    50            88     92       0   \n",
       "...   ...  ...       ...  ...   ...           ...    ...     ...   \n",
       "1008  230   60         6  ...    16            26     27       0   \n",
       "1009  244   77        14  ...    39            44     48       1   \n",
       "1010  299   71         8  ...    28            34     38       0   \n",
       "1011  222   60        14  ...    16            33     33       0   \n",
       "1012  308   73         8  ...    22            24     25       0   \n",
       "\n",
       "      p_blown_save  p_win  p_loss  p_balk  p_era  Unnamed: 20  \n",
       "0                0     14      13       0   4.16          NaN  \n",
       "1                0      9       7       1   3.18          NaN  \n",
       "2                0      8       9       0   4.44          NaN  \n",
       "3                0     15       8       0   3.81          NaN  \n",
       "4                0      6      10       1   4.73          NaN  \n",
       "...            ...    ...     ...     ...    ...          ...  \n",
       "1008             0      2       3       0   3.90          NaN  \n",
       "1009             0      1       5       0   6.64          NaN  \n",
       "1010             0      6       4       0   3.78          NaN  \n",
       "1011             0      3       3       0   5.30          NaN  \n",
       "1012             0      5       1       1   2.60          NaN  \n",
       "\n",
       "[1013 rows x 21 columns]"
      ]
     },
     "execution_count": 5,
     "metadata": {},
     "output_type": "execute_result"
    }
   ],
   "source": [
    "MLB_Pitch = pd.read_csv('/Users/kellyjara/Desktop/Project3/Data/MLB PItchers.csv')\n",
    "MLB_Pitch"
   ]
  },
  {
   "cell_type": "code",
   "execution_count": 6,
   "id": "726e4ee5",
   "metadata": {},
   "outputs": [],
   "source": [
    "MLB_Pitch.drop(columns = 'Unnamed: 20', inplace = True)"
   ]
  },
  {
   "cell_type": "code",
   "execution_count": 7,
   "id": "5f45273f",
   "metadata": {},
   "outputs": [],
   "source": [
    "#creating column specifying players are in the major league"
   ]
  },
  {
   "cell_type": "code",
   "execution_count": 8,
   "id": "16fbd4ee",
   "metadata": {},
   "outputs": [],
   "source": [
    "MLB_Pitch['League'] = 'Major'"
   ]
  },
  {
   "cell_type": "code",
   "execution_count": 9,
   "id": "0f30d60f",
   "metadata": {},
   "outputs": [],
   "source": [
    "# combining name columns"
   ]
  },
  {
   "cell_type": "code",
   "execution_count": 10,
   "id": "498fc9ba",
   "metadata": {},
   "outputs": [
    {
     "data": {
      "text/html": [
       "<div>\n",
       "<style scoped>\n",
       "    .dataframe tbody tr th:only-of-type {\n",
       "        vertical-align: middle;\n",
       "    }\n",
       "\n",
       "    .dataframe tbody tr th {\n",
       "        vertical-align: top;\n",
       "    }\n",
       "\n",
       "    .dataframe thead th {\n",
       "        text-align: right;\n",
       "    }\n",
       "</style>\n",
       "<table border=\"1\" class=\"dataframe\">\n",
       "  <thead>\n",
       "    <tr style=\"text-align: right;\">\n",
       "      <th></th>\n",
       "      <th>last_name</th>\n",
       "      <th>first_name</th>\n",
       "      <th>player_id</th>\n",
       "      <th>year</th>\n",
       "      <th>p_game</th>\n",
       "      <th>p_formatted_ip</th>\n",
       "      <th>pa</th>\n",
       "      <th>ab</th>\n",
       "      <th>hit</th>\n",
       "      <th>home_run</th>\n",
       "      <th>...</th>\n",
       "      <th>p_earned_run</th>\n",
       "      <th>p_run</th>\n",
       "      <th>p_save</th>\n",
       "      <th>p_blown_save</th>\n",
       "      <th>p_win</th>\n",
       "      <th>p_loss</th>\n",
       "      <th>p_balk</th>\n",
       "      <th>p_era</th>\n",
       "      <th>League</th>\n",
       "      <th>Name</th>\n",
       "    </tr>\n",
       "  </thead>\n",
       "  <tbody>\n",
       "    <tr>\n",
       "      <th>0</th>\n",
       "      <td>Colon</td>\n",
       "      <td>Bartolo</td>\n",
       "      <td>112526</td>\n",
       "      <td>2015</td>\n",
       "      <td>33</td>\n",
       "      <td>194.2</td>\n",
       "      <td>815</td>\n",
       "      <td>771</td>\n",
       "      <td>217</td>\n",
       "      <td>25</td>\n",
       "      <td>...</td>\n",
       "      <td>90</td>\n",
       "      <td>94</td>\n",
       "      <td>0</td>\n",
       "      <td>0</td>\n",
       "      <td>14</td>\n",
       "      <td>13</td>\n",
       "      <td>0</td>\n",
       "      <td>4.16</td>\n",
       "      <td>Major</td>\n",
       "      <td>Bartolo Colon</td>\n",
       "    </tr>\n",
       "    <tr>\n",
       "      <th>1</th>\n",
       "      <td>Burnett</td>\n",
       "      <td>A.J.</td>\n",
       "      <td>150359</td>\n",
       "      <td>2015</td>\n",
       "      <td>26</td>\n",
       "      <td>164.0</td>\n",
       "      <td>699</td>\n",
       "      <td>633</td>\n",
       "      <td>174</td>\n",
       "      <td>11</td>\n",
       "      <td>...</td>\n",
       "      <td>58</td>\n",
       "      <td>64</td>\n",
       "      <td>0</td>\n",
       "      <td>0</td>\n",
       "      <td>9</td>\n",
       "      <td>7</td>\n",
       "      <td>1</td>\n",
       "      <td>3.18</td>\n",
       "      <td>Major</td>\n",
       "      <td>A.J. Burnett</td>\n",
       "    </tr>\n",
       "    <tr>\n",
       "      <th>2</th>\n",
       "      <td>Hudson</td>\n",
       "      <td>Tim</td>\n",
       "      <td>218596</td>\n",
       "      <td>2015</td>\n",
       "      <td>24</td>\n",
       "      <td>123.2</td>\n",
       "      <td>525</td>\n",
       "      <td>476</td>\n",
       "      <td>134</td>\n",
       "      <td>13</td>\n",
       "      <td>...</td>\n",
       "      <td>61</td>\n",
       "      <td>62</td>\n",
       "      <td>0</td>\n",
       "      <td>0</td>\n",
       "      <td>8</td>\n",
       "      <td>9</td>\n",
       "      <td>0</td>\n",
       "      <td>4.44</td>\n",
       "      <td>Major</td>\n",
       "      <td>Tim Hudson</td>\n",
       "    </tr>\n",
       "    <tr>\n",
       "      <th>3</th>\n",
       "      <td>Buehrle</td>\n",
       "      <td>Mark</td>\n",
       "      <td>279824</td>\n",
       "      <td>2015</td>\n",
       "      <td>32</td>\n",
       "      <td>198.2</td>\n",
       "      <td>827</td>\n",
       "      <td>768</td>\n",
       "      <td>214</td>\n",
       "      <td>22</td>\n",
       "      <td>...</td>\n",
       "      <td>84</td>\n",
       "      <td>100</td>\n",
       "      <td>0</td>\n",
       "      <td>0</td>\n",
       "      <td>15</td>\n",
       "      <td>8</td>\n",
       "      <td>0</td>\n",
       "      <td>3.81</td>\n",
       "      <td>Major</td>\n",
       "      <td>Mark Buehrle</td>\n",
       "    </tr>\n",
       "    <tr>\n",
       "      <th>4</th>\n",
       "      <td>Sabathia</td>\n",
       "      <td>CC</td>\n",
       "      <td>282332</td>\n",
       "      <td>2015</td>\n",
       "      <td>29</td>\n",
       "      <td>167.1</td>\n",
       "      <td>726</td>\n",
       "      <td>659</td>\n",
       "      <td>188</td>\n",
       "      <td>28</td>\n",
       "      <td>...</td>\n",
       "      <td>88</td>\n",
       "      <td>92</td>\n",
       "      <td>0</td>\n",
       "      <td>0</td>\n",
       "      <td>6</td>\n",
       "      <td>10</td>\n",
       "      <td>1</td>\n",
       "      <td>4.73</td>\n",
       "      <td>Major</td>\n",
       "      <td>CC Sabathia</td>\n",
       "    </tr>\n",
       "  </tbody>\n",
       "</table>\n",
       "<p>5 rows × 22 columns</p>\n",
       "</div>"
      ],
      "text/plain": [
       "  last_name  first_name  player_id  year  p_game  p_formatted_ip   pa   ab  \\\n",
       "0     Colon     Bartolo     112526  2015      33           194.2  815  771   \n",
       "1   Burnett        A.J.     150359  2015      26           164.0  699  633   \n",
       "2    Hudson         Tim     218596  2015      24           123.2  525  476   \n",
       "3   Buehrle        Mark     279824  2015      32           198.2  827  768   \n",
       "4  Sabathia          CC     282332  2015      29           167.1  726  659   \n",
       "\n",
       "   hit  home_run  ...  p_earned_run  p_run  p_save  p_blown_save  p_win  \\\n",
       "0  217        25  ...            90     94       0             0     14   \n",
       "1  174        11  ...            58     64       0             0      9   \n",
       "2  134        13  ...            61     62       0             0      8   \n",
       "3  214        22  ...            84    100       0             0     15   \n",
       "4  188        28  ...            88     92       0             0      6   \n",
       "\n",
       "   p_loss  p_balk  p_era  League            Name  \n",
       "0      13       0   4.16   Major   Bartolo Colon  \n",
       "1       7       1   3.18   Major    A.J. Burnett  \n",
       "2       9       0   4.44   Major      Tim Hudson  \n",
       "3       8       0   3.81   Major    Mark Buehrle  \n",
       "4      10       1   4.73   Major     CC Sabathia  \n",
       "\n",
       "[5 rows x 22 columns]"
      ]
     },
     "execution_count": 10,
     "metadata": {},
     "output_type": "execute_result"
    }
   ],
   "source": [
    "MLB_Pitch['Name'] = MLB_Pitch[' first_name'].map(str) + ' ' + MLB_Pitch['last_name'].map(str)\n",
    "MLB_Pitch.head()"
   ]
  },
  {
   "cell_type": "code",
   "execution_count": 11,
   "id": "065475e8",
   "metadata": {},
   "outputs": [
    {
     "name": "stdout",
     "output_type": "stream",
     "text": [
      "<class 'pandas.core.frame.DataFrame'>\n",
      "RangeIndex: 1013 entries, 0 to 1012\n",
      "Data columns (total 22 columns):\n",
      " #   Column          Non-Null Count  Dtype  \n",
      "---  ------          --------------  -----  \n",
      " 0   last_name       1013 non-null   object \n",
      " 1    first_name     1013 non-null   object \n",
      " 2   player_id       1013 non-null   int64  \n",
      " 3   year            1013 non-null   int64  \n",
      " 4   p_game          1013 non-null   int64  \n",
      " 5   p_formatted_ip  1013 non-null   float64\n",
      " 6   pa              1013 non-null   int64  \n",
      " 7   ab              1013 non-null   int64  \n",
      " 8   hit             1013 non-null   int64  \n",
      " 9   home_run        1013 non-null   int64  \n",
      " 10  strikeout       1013 non-null   int64  \n",
      " 11  walk            1013 non-null   int64  \n",
      " 12  p_earned_run    1013 non-null   int64  \n",
      " 13  p_run           1013 non-null   int64  \n",
      " 14  p_save          1013 non-null   int64  \n",
      " 15  p_blown_save    1013 non-null   int64  \n",
      " 16  p_win           1013 non-null   int64  \n",
      " 17  p_loss          1013 non-null   int64  \n",
      " 18  p_balk          1013 non-null   int64  \n",
      " 19  p_era           1013 non-null   float64\n",
      " 20  League          1013 non-null   object \n",
      " 21  Name            1013 non-null   object \n",
      "dtypes: float64(2), int64(16), object(4)\n",
      "memory usage: 174.2+ KB\n"
     ]
    }
   ],
   "source": [
    "MLB_Pitch.info()"
   ]
  },
  {
   "cell_type": "code",
   "execution_count": 12,
   "id": "210e9244",
   "metadata": {},
   "outputs": [],
   "source": [
    "# Renaming columns to match minor league df"
   ]
  },
  {
   "cell_type": "code",
   "execution_count": 13,
   "id": "e1786af0",
   "metadata": {},
   "outputs": [],
   "source": [
    "MLB_Pitch.rename(columns = {'p_game':'G','p_formatted_ip':'IP', 'hit':'H'\n",
    "                            , 'home_run':'HR', 'strikeout':'SO','walk':'BB',\n",
    "                            'p_earned_run':\"ER\", 'p_run':'R', 'p_save':'SV',\n",
    "                            'p_blown_save':'BS', 'p_win':'W', 'p_loss':'L', 'p_balk':'BK',\n",
    "                            'p_era':'ERA'\n",
    "                           }, inplace = True)"
   ]
  },
  {
   "cell_type": "code",
   "execution_count": 14,
   "id": "7897e407",
   "metadata": {},
   "outputs": [
    {
     "name": "stdout",
     "output_type": "stream",
     "text": [
      "<class 'pandas.core.frame.DataFrame'>\n",
      "RangeIndex: 1013 entries, 0 to 1012\n",
      "Data columns (total 22 columns):\n",
      " #   Column       Non-Null Count  Dtype  \n",
      "---  ------       --------------  -----  \n",
      " 0   last_name    1013 non-null   object \n",
      " 1    first_name  1013 non-null   object \n",
      " 2   player_id    1013 non-null   int64  \n",
      " 3   year         1013 non-null   int64  \n",
      " 4   G            1013 non-null   int64  \n",
      " 5   IP           1013 non-null   float64\n",
      " 6   pa           1013 non-null   int64  \n",
      " 7   ab           1013 non-null   int64  \n",
      " 8   H            1013 non-null   int64  \n",
      " 9   HR           1013 non-null   int64  \n",
      " 10  SO           1013 non-null   int64  \n",
      " 11  BB           1013 non-null   int64  \n",
      " 12  ER           1013 non-null   int64  \n",
      " 13  R            1013 non-null   int64  \n",
      " 14  SV           1013 non-null   int64  \n",
      " 15  BS           1013 non-null   int64  \n",
      " 16  W            1013 non-null   int64  \n",
      " 17  L            1013 non-null   int64  \n",
      " 18  BK           1013 non-null   int64  \n",
      " 19  ERA          1013 non-null   float64\n",
      " 20  League       1013 non-null   object \n",
      " 21  Name         1013 non-null   object \n",
      "dtypes: float64(2), int64(16), object(4)\n",
      "memory usage: 174.2+ KB\n"
     ]
    }
   ],
   "source": [
    "MLB_Pitch.info()"
   ]
  },
  {
   "cell_type": "code",
   "execution_count": 15,
   "id": "9711cdea",
   "metadata": {},
   "outputs": [],
   "source": [
    "#Dropping columns"
   ]
  },
  {
   "cell_type": "code",
   "execution_count": 16,
   "id": "640c0f45",
   "metadata": {},
   "outputs": [],
   "source": [
    "MLB_Pitch = MLB_Pitch.drop(columns = ['last_name', ' first_name', 'player_id', 'year','ab','pa'], axis = 1)"
   ]
  },
  {
   "cell_type": "code",
   "execution_count": 17,
   "id": "65be4913",
   "metadata": {},
   "outputs": [
    {
     "name": "stdout",
     "output_type": "stream",
     "text": [
      "<class 'pandas.core.frame.DataFrame'>\n",
      "RangeIndex: 1013 entries, 0 to 1012\n",
      "Data columns (total 16 columns):\n",
      " #   Column  Non-Null Count  Dtype  \n",
      "---  ------  --------------  -----  \n",
      " 0   G       1013 non-null   int64  \n",
      " 1   IP      1013 non-null   float64\n",
      " 2   H       1013 non-null   int64  \n",
      " 3   HR      1013 non-null   int64  \n",
      " 4   SO      1013 non-null   int64  \n",
      " 5   BB      1013 non-null   int64  \n",
      " 6   ER      1013 non-null   int64  \n",
      " 7   R       1013 non-null   int64  \n",
      " 8   SV      1013 non-null   int64  \n",
      " 9   BS      1013 non-null   int64  \n",
      " 10  W       1013 non-null   int64  \n",
      " 11  L       1013 non-null   int64  \n",
      " 12  BK      1013 non-null   int64  \n",
      " 13  ERA     1013 non-null   float64\n",
      " 14  League  1013 non-null   object \n",
      " 15  Name    1013 non-null   object \n",
      "dtypes: float64(2), int64(12), object(2)\n",
      "memory usage: 126.8+ KB\n"
     ]
    }
   ],
   "source": [
    "MLB_Pitch.info()"
   ]
  },
  {
   "cell_type": "code",
   "execution_count": 18,
   "id": "4624ebe8",
   "metadata": {},
   "outputs": [],
   "source": [
    "# Reordering columns"
   ]
  },
  {
   "cell_type": "code",
   "execution_count": 19,
   "id": "bde526f8",
   "metadata": {},
   "outputs": [
    {
     "data": {
      "text/html": [
       "<div>\n",
       "<style scoped>\n",
       "    .dataframe tbody tr th:only-of-type {\n",
       "        vertical-align: middle;\n",
       "    }\n",
       "\n",
       "    .dataframe tbody tr th {\n",
       "        vertical-align: top;\n",
       "    }\n",
       "\n",
       "    .dataframe thead th {\n",
       "        text-align: right;\n",
       "    }\n",
       "</style>\n",
       "<table border=\"1\" class=\"dataframe\">\n",
       "  <thead>\n",
       "    <tr style=\"text-align: right;\">\n",
       "      <th></th>\n",
       "      <th>Name</th>\n",
       "      <th>League</th>\n",
       "      <th>G</th>\n",
       "      <th>W</th>\n",
       "      <th>L</th>\n",
       "      <th>IP</th>\n",
       "      <th>H</th>\n",
       "      <th>R</th>\n",
       "      <th>HR</th>\n",
       "      <th>SO</th>\n",
       "      <th>BB</th>\n",
       "      <th>ER</th>\n",
       "      <th>SV</th>\n",
       "      <th>BS</th>\n",
       "      <th>BK</th>\n",
       "      <th>ERA</th>\n",
       "    </tr>\n",
       "  </thead>\n",
       "  <tbody>\n",
       "    <tr>\n",
       "      <th>0</th>\n",
       "      <td>Bartolo Colon</td>\n",
       "      <td>Major</td>\n",
       "      <td>33</td>\n",
       "      <td>14</td>\n",
       "      <td>13</td>\n",
       "      <td>194.2</td>\n",
       "      <td>217</td>\n",
       "      <td>94</td>\n",
       "      <td>25</td>\n",
       "      <td>136</td>\n",
       "      <td>24</td>\n",
       "      <td>90</td>\n",
       "      <td>0</td>\n",
       "      <td>0</td>\n",
       "      <td>0</td>\n",
       "      <td>4.16</td>\n",
       "    </tr>\n",
       "    <tr>\n",
       "      <th>1</th>\n",
       "      <td>A.J. Burnett</td>\n",
       "      <td>Major</td>\n",
       "      <td>26</td>\n",
       "      <td>9</td>\n",
       "      <td>7</td>\n",
       "      <td>164.0</td>\n",
       "      <td>174</td>\n",
       "      <td>64</td>\n",
       "      <td>11</td>\n",
       "      <td>143</td>\n",
       "      <td>49</td>\n",
       "      <td>58</td>\n",
       "      <td>0</td>\n",
       "      <td>0</td>\n",
       "      <td>1</td>\n",
       "      <td>3.18</td>\n",
       "    </tr>\n",
       "    <tr>\n",
       "      <th>2</th>\n",
       "      <td>Tim Hudson</td>\n",
       "      <td>Major</td>\n",
       "      <td>24</td>\n",
       "      <td>8</td>\n",
       "      <td>9</td>\n",
       "      <td>123.2</td>\n",
       "      <td>134</td>\n",
       "      <td>62</td>\n",
       "      <td>13</td>\n",
       "      <td>64</td>\n",
       "      <td>37</td>\n",
       "      <td>61</td>\n",
       "      <td>0</td>\n",
       "      <td>0</td>\n",
       "      <td>0</td>\n",
       "      <td>4.44</td>\n",
       "    </tr>\n",
       "    <tr>\n",
       "      <th>3</th>\n",
       "      <td>Mark Buehrle</td>\n",
       "      <td>Major</td>\n",
       "      <td>32</td>\n",
       "      <td>15</td>\n",
       "      <td>8</td>\n",
       "      <td>198.2</td>\n",
       "      <td>214</td>\n",
       "      <td>100</td>\n",
       "      <td>22</td>\n",
       "      <td>91</td>\n",
       "      <td>33</td>\n",
       "      <td>84</td>\n",
       "      <td>0</td>\n",
       "      <td>0</td>\n",
       "      <td>0</td>\n",
       "      <td>3.81</td>\n",
       "    </tr>\n",
       "    <tr>\n",
       "      <th>4</th>\n",
       "      <td>CC Sabathia</td>\n",
       "      <td>Major</td>\n",
       "      <td>29</td>\n",
       "      <td>6</td>\n",
       "      <td>10</td>\n",
       "      <td>167.1</td>\n",
       "      <td>188</td>\n",
       "      <td>92</td>\n",
       "      <td>28</td>\n",
       "      <td>137</td>\n",
       "      <td>50</td>\n",
       "      <td>88</td>\n",
       "      <td>0</td>\n",
       "      <td>0</td>\n",
       "      <td>1</td>\n",
       "      <td>4.73</td>\n",
       "    </tr>\n",
       "  </tbody>\n",
       "</table>\n",
       "</div>"
      ],
      "text/plain": [
       "             Name League   G   W   L     IP    H    R  HR   SO  BB  ER  SV  \\\n",
       "0   Bartolo Colon  Major  33  14  13  194.2  217   94  25  136  24  90   0   \n",
       "1    A.J. Burnett  Major  26   9   7  164.0  174   64  11  143  49  58   0   \n",
       "2      Tim Hudson  Major  24   8   9  123.2  134   62  13   64  37  61   0   \n",
       "3    Mark Buehrle  Major  32  15   8  198.2  214  100  22   91  33  84   0   \n",
       "4     CC Sabathia  Major  29   6  10  167.1  188   92  28  137  50  88   0   \n",
       "\n",
       "   BS  BK   ERA  \n",
       "0   0   0  4.16  \n",
       "1   0   1  3.18  \n",
       "2   0   0  4.44  \n",
       "3   0   0  3.81  \n",
       "4   0   1  4.73  "
      ]
     },
     "execution_count": 19,
     "metadata": {},
     "output_type": "execute_result"
    }
   ],
   "source": [
    "MLB_Pitch = MLB_Pitch[['Name', 'League', 'G', 'W','L','IP','H','R','HR','SO','BB','ER','SV','BS','BK','ERA']]\n",
    "MLB_Pitch.head()"
   ]
  },
  {
   "cell_type": "markdown",
   "id": "26be063b",
   "metadata": {},
   "source": [
    "### Minor League"
   ]
  },
  {
   "cell_type": "code",
   "execution_count": 20,
   "id": "14394ea9",
   "metadata": {},
   "outputs": [
    {
     "data": {
      "text/html": [
       "<div>\n",
       "<style scoped>\n",
       "    .dataframe tbody tr th:only-of-type {\n",
       "        vertical-align: middle;\n",
       "    }\n",
       "\n",
       "    .dataframe tbody tr th {\n",
       "        vertical-align: top;\n",
       "    }\n",
       "\n",
       "    .dataframe thead th {\n",
       "        text-align: right;\n",
       "    }\n",
       "</style>\n",
       "<table border=\"1\" class=\"dataframe\">\n",
       "  <thead>\n",
       "    <tr style=\"text-align: right;\">\n",
       "      <th></th>\n",
       "      <th>Name</th>\n",
       "      <th>Team</th>\n",
       "      <th>Level</th>\n",
       "      <th>Age</th>\n",
       "      <th>W</th>\n",
       "      <th>L</th>\n",
       "      <th>ERA</th>\n",
       "      <th>G</th>\n",
       "      <th>GS</th>\n",
       "      <th>CG</th>\n",
       "      <th>...</th>\n",
       "      <th>R</th>\n",
       "      <th>ER</th>\n",
       "      <th>HR</th>\n",
       "      <th>BB</th>\n",
       "      <th>IBB</th>\n",
       "      <th>HBP</th>\n",
       "      <th>WP</th>\n",
       "      <th>BK</th>\n",
       "      <th>SO</th>\n",
       "      <th>PlayerId</th>\n",
       "    </tr>\n",
       "  </thead>\n",
       "  <tbody>\n",
       "    <tr>\n",
       "      <th>0</th>\n",
       "      <td>Patrick Schuster</td>\n",
       "      <td>ARI</td>\n",
       "      <td>AA,AAA</td>\n",
       "      <td>24-26</td>\n",
       "      <td>7</td>\n",
       "      <td>4</td>\n",
       "      <td>3.635762</td>\n",
       "      <td>134</td>\n",
       "      <td>0</td>\n",
       "      <td>0</td>\n",
       "      <td>...</td>\n",
       "      <td>64</td>\n",
       "      <td>61</td>\n",
       "      <td>8</td>\n",
       "      <td>63</td>\n",
       "      <td>1</td>\n",
       "      <td>10</td>\n",
       "      <td>12</td>\n",
       "      <td>1</td>\n",
       "      <td>145</td>\n",
       "      <td>10029</td>\n",
       "    </tr>\n",
       "    <tr>\n",
       "      <th>1</th>\n",
       "      <td>Keyvius Sampson</td>\n",
       "      <td>CIN</td>\n",
       "      <td>A,AA,AAA,R</td>\n",
       "      <td>24-30</td>\n",
       "      <td>12</td>\n",
       "      <td>18</td>\n",
       "      <td>4.017426</td>\n",
       "      <td>74</td>\n",
       "      <td>44</td>\n",
       "      <td>0</td>\n",
       "      <td>...</td>\n",
       "      <td>123</td>\n",
       "      <td>111</td>\n",
       "      <td>18</td>\n",
       "      <td>138</td>\n",
       "      <td>1</td>\n",
       "      <td>8</td>\n",
       "      <td>14</td>\n",
       "      <td>1</td>\n",
       "      <td>245</td>\n",
       "      <td>10039</td>\n",
       "    </tr>\n",
       "    <tr>\n",
       "      <th>2</th>\n",
       "      <td>Ashur Tolliver</td>\n",
       "      <td>BAL</td>\n",
       "      <td>A-,AA,AAA,R</td>\n",
       "      <td>27-29</td>\n",
       "      <td>5</td>\n",
       "      <td>3</td>\n",
       "      <td>3.751708</td>\n",
       "      <td>108</td>\n",
       "      <td>2</td>\n",
       "      <td>0</td>\n",
       "      <td>...</td>\n",
       "      <td>63</td>\n",
       "      <td>61</td>\n",
       "      <td>8</td>\n",
       "      <td>80</td>\n",
       "      <td>1</td>\n",
       "      <td>5</td>\n",
       "      <td>12</td>\n",
       "      <td>1</td>\n",
       "      <td>146</td>\n",
       "      <td>10044</td>\n",
       "    </tr>\n",
       "    <tr>\n",
       "      <th>3</th>\n",
       "      <td>Johnny Hellweg</td>\n",
       "      <td>MIL</td>\n",
       "      <td>A+,AA,AAA</td>\n",
       "      <td>26-29</td>\n",
       "      <td>3</td>\n",
       "      <td>17</td>\n",
       "      <td>5.915731</td>\n",
       "      <td>54</td>\n",
       "      <td>22</td>\n",
       "      <td>0</td>\n",
       "      <td>...</td>\n",
       "      <td>99</td>\n",
       "      <td>78</td>\n",
       "      <td>10</td>\n",
       "      <td>85</td>\n",
       "      <td>0</td>\n",
       "      <td>21</td>\n",
       "      <td>21</td>\n",
       "      <td>2</td>\n",
       "      <td>87</td>\n",
       "      <td>10065</td>\n",
       "    </tr>\n",
       "    <tr>\n",
       "      <th>4</th>\n",
       "      <td>Ian Krol</td>\n",
       "      <td>DET</td>\n",
       "      <td>A+,AAA,R</td>\n",
       "      <td>24-31</td>\n",
       "      <td>10</td>\n",
       "      <td>8</td>\n",
       "      <td>3.831683</td>\n",
       "      <td>177</td>\n",
       "      <td>2</td>\n",
       "      <td>0</td>\n",
       "      <td>...</td>\n",
       "      <td>95</td>\n",
       "      <td>86</td>\n",
       "      <td>18</td>\n",
       "      <td>98</td>\n",
       "      <td>3</td>\n",
       "      <td>13</td>\n",
       "      <td>17</td>\n",
       "      <td>1</td>\n",
       "      <td>234</td>\n",
       "      <td>10066</td>\n",
       "    </tr>\n",
       "    <tr>\n",
       "      <th>...</th>\n",
       "      <td>...</td>\n",
       "      <td>...</td>\n",
       "      <td>...</td>\n",
       "      <td>...</td>\n",
       "      <td>...</td>\n",
       "      <td>...</td>\n",
       "      <td>...</td>\n",
       "      <td>...</td>\n",
       "      <td>...</td>\n",
       "      <td>...</td>\n",
       "      <td>...</td>\n",
       "      <td>...</td>\n",
       "      <td>...</td>\n",
       "      <td>...</td>\n",
       "      <td>...</td>\n",
       "      <td>...</td>\n",
       "      <td>...</td>\n",
       "      <td>...</td>\n",
       "      <td>...</td>\n",
       "      <td>...</td>\n",
       "      <td>...</td>\n",
       "    </tr>\n",
       "    <tr>\n",
       "      <th>5873</th>\n",
       "      <td>Tom de Blok</td>\n",
       "      <td>DET</td>\n",
       "      <td>A,A-,A+</td>\n",
       "      <td>21-23</td>\n",
       "      <td>11</td>\n",
       "      <td>21</td>\n",
       "      <td>3.909502</td>\n",
       "      <td>64</td>\n",
       "      <td>51</td>\n",
       "      <td>0</td>\n",
       "      <td>...</td>\n",
       "      <td>139</td>\n",
       "      <td>128</td>\n",
       "      <td>26</td>\n",
       "      <td>93</td>\n",
       "      <td>0</td>\n",
       "      <td>11</td>\n",
       "      <td>11</td>\n",
       "      <td>2</td>\n",
       "      <td>234</td>\n",
       "      <td>sa971762</td>\n",
       "    </tr>\n",
       "    <tr>\n",
       "      <th>5874</th>\n",
       "      <td>Adrian Alcantara</td>\n",
       "      <td>KCR</td>\n",
       "      <td>A,A+,AA,R</td>\n",
       "      <td>17-23</td>\n",
       "      <td>22</td>\n",
       "      <td>23</td>\n",
       "      <td>4.487738</td>\n",
       "      <td>94</td>\n",
       "      <td>59</td>\n",
       "      <td>1</td>\n",
       "      <td>...</td>\n",
       "      <td>209</td>\n",
       "      <td>183</td>\n",
       "      <td>48</td>\n",
       "      <td>147</td>\n",
       "      <td>1</td>\n",
       "      <td>28</td>\n",
       "      <td>39</td>\n",
       "      <td>11</td>\n",
       "      <td>375</td>\n",
       "      <td>sa974592</td>\n",
       "    </tr>\n",
       "    <tr>\n",
       "      <th>5875</th>\n",
       "      <td>Osvaldo Hernandez</td>\n",
       "      <td>SDP</td>\n",
       "      <td>A,A-,A+,AA,R</td>\n",
       "      <td>19-24</td>\n",
       "      <td>22</td>\n",
       "      <td>23</td>\n",
       "      <td>3.777465</td>\n",
       "      <td>106</td>\n",
       "      <td>69</td>\n",
       "      <td>0</td>\n",
       "      <td>...</td>\n",
       "      <td>178</td>\n",
       "      <td>149</td>\n",
       "      <td>35</td>\n",
       "      <td>102</td>\n",
       "      <td>1</td>\n",
       "      <td>21</td>\n",
       "      <td>26</td>\n",
       "      <td>9</td>\n",
       "      <td>322</td>\n",
       "      <td>sa975541</td>\n",
       "    </tr>\n",
       "    <tr>\n",
       "      <th>5876</th>\n",
       "      <td>Parker Curry</td>\n",
       "      <td>LAD</td>\n",
       "      <td>A,A+,AA,AAA</td>\n",
       "      <td>23-25</td>\n",
       "      <td>15</td>\n",
       "      <td>20</td>\n",
       "      <td>3.916560</td>\n",
       "      <td>97</td>\n",
       "      <td>28</td>\n",
       "      <td>0</td>\n",
       "      <td>...</td>\n",
       "      <td>130</td>\n",
       "      <td>113</td>\n",
       "      <td>33</td>\n",
       "      <td>75</td>\n",
       "      <td>0</td>\n",
       "      <td>2</td>\n",
       "      <td>22</td>\n",
       "      <td>1</td>\n",
       "      <td>280</td>\n",
       "      <td>sa977821</td>\n",
       "    </tr>\n",
       "    <tr>\n",
       "      <th>5877</th>\n",
       "      <td>Victor Castaneda</td>\n",
       "      <td>MIL</td>\n",
       "      <td>A,A+,AA,AAA,R</td>\n",
       "      <td>19-23</td>\n",
       "      <td>18</td>\n",
       "      <td>22</td>\n",
       "      <td>4.570094</td>\n",
       "      <td>95</td>\n",
       "      <td>56</td>\n",
       "      <td>2</td>\n",
       "      <td>...</td>\n",
       "      <td>184</td>\n",
       "      <td>163</td>\n",
       "      <td>49</td>\n",
       "      <td>126</td>\n",
       "      <td>0</td>\n",
       "      <td>10</td>\n",
       "      <td>18</td>\n",
       "      <td>0</td>\n",
       "      <td>342</td>\n",
       "      <td>sa978399</td>\n",
       "    </tr>\n",
       "  </tbody>\n",
       "</table>\n",
       "<p>5878 rows × 27 columns</p>\n",
       "</div>"
      ],
      "text/plain": [
       "                   Name Team          Level    Age   W   L       ERA    G  GS  \\\n",
       "0      Patrick Schuster  ARI         AA,AAA  24-26   7   4  3.635762  134   0   \n",
       "1       Keyvius Sampson  CIN     A,AA,AAA,R  24-30  12  18  4.017426   74  44   \n",
       "2        Ashur Tolliver  BAL    A-,AA,AAA,R  27-29   5   3  3.751708  108   2   \n",
       "3        Johnny Hellweg  MIL      A+,AA,AAA  26-29   3  17  5.915731   54  22   \n",
       "4              Ian Krol  DET       A+,AAA,R  24-31  10   8  3.831683  177   2   \n",
       "...                 ...  ...            ...    ...  ..  ..       ...  ...  ..   \n",
       "5873        Tom de Blok  DET        A,A-,A+  21-23  11  21  3.909502   64  51   \n",
       "5874   Adrian Alcantara  KCR      A,A+,AA,R  17-23  22  23  4.487738   94  59   \n",
       "5875  Osvaldo Hernandez  SDP   A,A-,A+,AA,R  19-24  22  23  3.777465  106  69   \n",
       "5876       Parker Curry  LAD    A,A+,AA,AAA  23-25  15  20  3.916560   97  28   \n",
       "5877   Victor Castaneda  MIL  A,A+,AA,AAA,R  19-23  18  22  4.570094   95  56   \n",
       "\n",
       "      CG  ...    R   ER  HR   BB  IBB  HBP  WP  BK   SO  PlayerId  \n",
       "0      0  ...   64   61   8   63    1   10  12   1  145     10029  \n",
       "1      0  ...  123  111  18  138    1    8  14   1  245     10039  \n",
       "2      0  ...   63   61   8   80    1    5  12   1  146     10044  \n",
       "3      0  ...   99   78  10   85    0   21  21   2   87     10065  \n",
       "4      0  ...   95   86  18   98    3   13  17   1  234     10066  \n",
       "...   ..  ...  ...  ...  ..  ...  ...  ...  ..  ..  ...       ...  \n",
       "5873   0  ...  139  128  26   93    0   11  11   2  234  sa971762  \n",
       "5874   1  ...  209  183  48  147    1   28  39  11  375  sa974592  \n",
       "5875   0  ...  178  149  35  102    1   21  26   9  322  sa975541  \n",
       "5876   0  ...  130  113  33   75    0    2  22   1  280  sa977821  \n",
       "5877   2  ...  184  163  49  126    0   10  18   0  342  sa978399  \n",
       "\n",
       "[5878 rows x 27 columns]"
      ]
     },
     "execution_count": 20,
     "metadata": {},
     "output_type": "execute_result"
    }
   ],
   "source": [
    "Min_Pitch = pd.read_csv('/Users/kellyjara/Desktop/Project3/Data/Minor League Pitchers.csv')\n",
    "Min_Pitch"
   ]
  },
  {
   "cell_type": "code",
   "execution_count": 21,
   "id": "da8e0d2e",
   "metadata": {},
   "outputs": [
    {
     "name": "stdout",
     "output_type": "stream",
     "text": [
      "<class 'pandas.core.frame.DataFrame'>\n",
      "RangeIndex: 5878 entries, 0 to 5877\n",
      "Data columns (total 27 columns):\n",
      " #   Column    Non-Null Count  Dtype  \n",
      "---  ------    --------------  -----  \n",
      " 0   Name      5878 non-null   object \n",
      " 1   Team      5875 non-null   object \n",
      " 2   Level     5878 non-null   object \n",
      " 3   Age       5878 non-null   object \n",
      " 4   W         5878 non-null   int64  \n",
      " 5   L         5878 non-null   int64  \n",
      " 6   ERA       5878 non-null   float64\n",
      " 7   G         5878 non-null   int64  \n",
      " 8   GS        5878 non-null   int64  \n",
      " 9   CG        5878 non-null   int64  \n",
      " 10  ShO       5878 non-null   int64  \n",
      " 11  SV        5878 non-null   int64  \n",
      " 12  BS        5878 non-null   int64  \n",
      " 13  HLD       0 non-null      float64\n",
      " 14  IP        5878 non-null   float64\n",
      " 15  TBF       5878 non-null   int64  \n",
      " 16  H         5878 non-null   int64  \n",
      " 17  R         5878 non-null   int64  \n",
      " 18  ER        5878 non-null   int64  \n",
      " 19  HR        5878 non-null   int64  \n",
      " 20  BB        5878 non-null   int64  \n",
      " 21  IBB       5878 non-null   int64  \n",
      " 22  HBP       5878 non-null   int64  \n",
      " 23  WP        5878 non-null   int64  \n",
      " 24  BK        5878 non-null   int64  \n",
      " 25  SO        5878 non-null   int64  \n",
      " 26  PlayerId  5878 non-null   object \n",
      "dtypes: float64(3), int64(19), object(5)\n",
      "memory usage: 1.2+ MB\n"
     ]
    }
   ],
   "source": [
    "Min_Pitch.info()"
   ]
  },
  {
   "cell_type": "code",
   "execution_count": 22,
   "id": "60dc6bc4",
   "metadata": {},
   "outputs": [],
   "source": [
    "#Creating column with total number of walks; intentional and unintentional"
   ]
  },
  {
   "cell_type": "code",
   "execution_count": 23,
   "id": "71790e9e",
   "metadata": {},
   "outputs": [],
   "source": [
    "Min_Pitch['Walks'] = Min_Pitch['BB'] + Min_Pitch['IBB']"
   ]
  },
  {
   "cell_type": "code",
   "execution_count": 24,
   "id": "b6001065",
   "metadata": {},
   "outputs": [
    {
     "data": {
      "text/html": [
       "<div>\n",
       "<style scoped>\n",
       "    .dataframe tbody tr th:only-of-type {\n",
       "        vertical-align: middle;\n",
       "    }\n",
       "\n",
       "    .dataframe tbody tr th {\n",
       "        vertical-align: top;\n",
       "    }\n",
       "\n",
       "    .dataframe thead th {\n",
       "        text-align: right;\n",
       "    }\n",
       "</style>\n",
       "<table border=\"1\" class=\"dataframe\">\n",
       "  <thead>\n",
       "    <tr style=\"text-align: right;\">\n",
       "      <th></th>\n",
       "      <th>Name</th>\n",
       "      <th>Team</th>\n",
       "      <th>Level</th>\n",
       "      <th>Age</th>\n",
       "      <th>W</th>\n",
       "      <th>L</th>\n",
       "      <th>ERA</th>\n",
       "      <th>G</th>\n",
       "      <th>GS</th>\n",
       "      <th>CG</th>\n",
       "      <th>...</th>\n",
       "      <th>ER</th>\n",
       "      <th>HR</th>\n",
       "      <th>BB</th>\n",
       "      <th>IBB</th>\n",
       "      <th>HBP</th>\n",
       "      <th>WP</th>\n",
       "      <th>BK</th>\n",
       "      <th>SO</th>\n",
       "      <th>PlayerId</th>\n",
       "      <th>Walks</th>\n",
       "    </tr>\n",
       "  </thead>\n",
       "  <tbody>\n",
       "    <tr>\n",
       "      <th>0</th>\n",
       "      <td>Patrick Schuster</td>\n",
       "      <td>ARI</td>\n",
       "      <td>AA,AAA</td>\n",
       "      <td>24-26</td>\n",
       "      <td>7</td>\n",
       "      <td>4</td>\n",
       "      <td>3.635762</td>\n",
       "      <td>134</td>\n",
       "      <td>0</td>\n",
       "      <td>0</td>\n",
       "      <td>...</td>\n",
       "      <td>61</td>\n",
       "      <td>8</td>\n",
       "      <td>63</td>\n",
       "      <td>1</td>\n",
       "      <td>10</td>\n",
       "      <td>12</td>\n",
       "      <td>1</td>\n",
       "      <td>145</td>\n",
       "      <td>10029</td>\n",
       "      <td>64</td>\n",
       "    </tr>\n",
       "    <tr>\n",
       "      <th>1</th>\n",
       "      <td>Keyvius Sampson</td>\n",
       "      <td>CIN</td>\n",
       "      <td>A,AA,AAA,R</td>\n",
       "      <td>24-30</td>\n",
       "      <td>12</td>\n",
       "      <td>18</td>\n",
       "      <td>4.017426</td>\n",
       "      <td>74</td>\n",
       "      <td>44</td>\n",
       "      <td>0</td>\n",
       "      <td>...</td>\n",
       "      <td>111</td>\n",
       "      <td>18</td>\n",
       "      <td>138</td>\n",
       "      <td>1</td>\n",
       "      <td>8</td>\n",
       "      <td>14</td>\n",
       "      <td>1</td>\n",
       "      <td>245</td>\n",
       "      <td>10039</td>\n",
       "      <td>139</td>\n",
       "    </tr>\n",
       "    <tr>\n",
       "      <th>2</th>\n",
       "      <td>Ashur Tolliver</td>\n",
       "      <td>BAL</td>\n",
       "      <td>A-,AA,AAA,R</td>\n",
       "      <td>27-29</td>\n",
       "      <td>5</td>\n",
       "      <td>3</td>\n",
       "      <td>3.751708</td>\n",
       "      <td>108</td>\n",
       "      <td>2</td>\n",
       "      <td>0</td>\n",
       "      <td>...</td>\n",
       "      <td>61</td>\n",
       "      <td>8</td>\n",
       "      <td>80</td>\n",
       "      <td>1</td>\n",
       "      <td>5</td>\n",
       "      <td>12</td>\n",
       "      <td>1</td>\n",
       "      <td>146</td>\n",
       "      <td>10044</td>\n",
       "      <td>81</td>\n",
       "    </tr>\n",
       "    <tr>\n",
       "      <th>3</th>\n",
       "      <td>Johnny Hellweg</td>\n",
       "      <td>MIL</td>\n",
       "      <td>A+,AA,AAA</td>\n",
       "      <td>26-29</td>\n",
       "      <td>3</td>\n",
       "      <td>17</td>\n",
       "      <td>5.915731</td>\n",
       "      <td>54</td>\n",
       "      <td>22</td>\n",
       "      <td>0</td>\n",
       "      <td>...</td>\n",
       "      <td>78</td>\n",
       "      <td>10</td>\n",
       "      <td>85</td>\n",
       "      <td>0</td>\n",
       "      <td>21</td>\n",
       "      <td>21</td>\n",
       "      <td>2</td>\n",
       "      <td>87</td>\n",
       "      <td>10065</td>\n",
       "      <td>85</td>\n",
       "    </tr>\n",
       "    <tr>\n",
       "      <th>4</th>\n",
       "      <td>Ian Krol</td>\n",
       "      <td>DET</td>\n",
       "      <td>A+,AAA,R</td>\n",
       "      <td>24-31</td>\n",
       "      <td>10</td>\n",
       "      <td>8</td>\n",
       "      <td>3.831683</td>\n",
       "      <td>177</td>\n",
       "      <td>2</td>\n",
       "      <td>0</td>\n",
       "      <td>...</td>\n",
       "      <td>86</td>\n",
       "      <td>18</td>\n",
       "      <td>98</td>\n",
       "      <td>3</td>\n",
       "      <td>13</td>\n",
       "      <td>17</td>\n",
       "      <td>1</td>\n",
       "      <td>234</td>\n",
       "      <td>10066</td>\n",
       "      <td>101</td>\n",
       "    </tr>\n",
       "  </tbody>\n",
       "</table>\n",
       "<p>5 rows × 28 columns</p>\n",
       "</div>"
      ],
      "text/plain": [
       "               Name Team        Level    Age   W   L       ERA    G  GS  CG  \\\n",
       "0  Patrick Schuster  ARI       AA,AAA  24-26   7   4  3.635762  134   0   0   \n",
       "1   Keyvius Sampson  CIN   A,AA,AAA,R  24-30  12  18  4.017426   74  44   0   \n",
       "2    Ashur Tolliver  BAL  A-,AA,AAA,R  27-29   5   3  3.751708  108   2   0   \n",
       "3    Johnny Hellweg  MIL    A+,AA,AAA  26-29   3  17  5.915731   54  22   0   \n",
       "4          Ian Krol  DET     A+,AAA,R  24-31  10   8  3.831683  177   2   0   \n",
       "\n",
       "   ...   ER  HR   BB  IBB  HBP  WP  BK   SO  PlayerId  Walks  \n",
       "0  ...   61   8   63    1   10  12   1  145     10029     64  \n",
       "1  ...  111  18  138    1    8  14   1  245     10039    139  \n",
       "2  ...   61   8   80    1    5  12   1  146     10044     81  \n",
       "3  ...   78  10   85    0   21  21   2   87     10065     85  \n",
       "4  ...   86  18   98    3   13  17   1  234     10066    101  \n",
       "\n",
       "[5 rows x 28 columns]"
      ]
     },
     "execution_count": 24,
     "metadata": {},
     "output_type": "execute_result"
    }
   ],
   "source": [
    "Min_Pitch.head()"
   ]
  },
  {
   "cell_type": "code",
   "execution_count": 25,
   "id": "0a3298cd",
   "metadata": {},
   "outputs": [],
   "source": [
    "# Dropping columns"
   ]
  },
  {
   "cell_type": "code",
   "execution_count": 26,
   "id": "acf854f9",
   "metadata": {},
   "outputs": [],
   "source": [
    "Min_Pitch = Min_Pitch.drop(columns = ['Team', 'Level', 'GS', 'CG', 'ShO',\n",
    "                                      'HLD','TBF','IBB','BB','PlayerId','HBP', \n",
    "                                      'WP','Age'], axis = 1)"
   ]
  },
  {
   "cell_type": "code",
   "execution_count": 27,
   "id": "37ec7ddc",
   "metadata": {},
   "outputs": [],
   "source": [
    "# Adding League Column"
   ]
  },
  {
   "cell_type": "code",
   "execution_count": 28,
   "id": "1de7e52c",
   "metadata": {},
   "outputs": [],
   "source": [
    "Min_Pitch['League'] = 'Minor'"
   ]
  },
  {
   "cell_type": "code",
   "execution_count": 29,
   "id": "a6e6cc7f",
   "metadata": {},
   "outputs": [
    {
     "name": "stdout",
     "output_type": "stream",
     "text": [
      "<class 'pandas.core.frame.DataFrame'>\n",
      "RangeIndex: 5878 entries, 0 to 5877\n",
      "Data columns (total 16 columns):\n",
      " #   Column  Non-Null Count  Dtype  \n",
      "---  ------  --------------  -----  \n",
      " 0   Name    5878 non-null   object \n",
      " 1   W       5878 non-null   int64  \n",
      " 2   L       5878 non-null   int64  \n",
      " 3   ERA     5878 non-null   float64\n",
      " 4   G       5878 non-null   int64  \n",
      " 5   SV      5878 non-null   int64  \n",
      " 6   BS      5878 non-null   int64  \n",
      " 7   IP      5878 non-null   float64\n",
      " 8   H       5878 non-null   int64  \n",
      " 9   R       5878 non-null   int64  \n",
      " 10  ER      5878 non-null   int64  \n",
      " 11  HR      5878 non-null   int64  \n",
      " 12  BK      5878 non-null   int64  \n",
      " 13  SO      5878 non-null   int64  \n",
      " 14  Walks   5878 non-null   int64  \n",
      " 15  League  5878 non-null   object \n",
      "dtypes: float64(2), int64(12), object(2)\n",
      "memory usage: 734.9+ KB\n"
     ]
    }
   ],
   "source": [
    "Min_Pitch.info()"
   ]
  },
  {
   "cell_type": "code",
   "execution_count": 30,
   "id": "89ee4df8",
   "metadata": {},
   "outputs": [],
   "source": [
    "#Renaming Walk to BB to match MLB df"
   ]
  },
  {
   "cell_type": "code",
   "execution_count": 31,
   "id": "09bd9850",
   "metadata": {},
   "outputs": [],
   "source": [
    "Min_Pitch.rename(columns = {'Walks':'BB'}, inplace = True)"
   ]
  },
  {
   "cell_type": "code",
   "execution_count": 32,
   "id": "c0b42210",
   "metadata": {},
   "outputs": [],
   "source": [
    "#Reordering columns"
   ]
  },
  {
   "cell_type": "code",
   "execution_count": 33,
   "id": "508ffbcc",
   "metadata": {},
   "outputs": [
    {
     "data": {
      "text/html": [
       "<div>\n",
       "<style scoped>\n",
       "    .dataframe tbody tr th:only-of-type {\n",
       "        vertical-align: middle;\n",
       "    }\n",
       "\n",
       "    .dataframe tbody tr th {\n",
       "        vertical-align: top;\n",
       "    }\n",
       "\n",
       "    .dataframe thead th {\n",
       "        text-align: right;\n",
       "    }\n",
       "</style>\n",
       "<table border=\"1\" class=\"dataframe\">\n",
       "  <thead>\n",
       "    <tr style=\"text-align: right;\">\n",
       "      <th></th>\n",
       "      <th>Name</th>\n",
       "      <th>League</th>\n",
       "      <th>G</th>\n",
       "      <th>W</th>\n",
       "      <th>L</th>\n",
       "      <th>IP</th>\n",
       "      <th>H</th>\n",
       "      <th>R</th>\n",
       "      <th>HR</th>\n",
       "      <th>SO</th>\n",
       "      <th>BB</th>\n",
       "      <th>ER</th>\n",
       "      <th>SV</th>\n",
       "      <th>BS</th>\n",
       "      <th>BK</th>\n",
       "      <th>ERA</th>\n",
       "    </tr>\n",
       "  </thead>\n",
       "  <tbody>\n",
       "    <tr>\n",
       "      <th>0</th>\n",
       "      <td>Patrick Schuster</td>\n",
       "      <td>Minor</td>\n",
       "      <td>134</td>\n",
       "      <td>7</td>\n",
       "      <td>4</td>\n",
       "      <td>151.0</td>\n",
       "      <td>149</td>\n",
       "      <td>64</td>\n",
       "      <td>8</td>\n",
       "      <td>145</td>\n",
       "      <td>64</td>\n",
       "      <td>61</td>\n",
       "      <td>8</td>\n",
       "      <td>7</td>\n",
       "      <td>1</td>\n",
       "      <td>3.635762</td>\n",
       "    </tr>\n",
       "    <tr>\n",
       "      <th>1</th>\n",
       "      <td>Keyvius Sampson</td>\n",
       "      <td>Minor</td>\n",
       "      <td>74</td>\n",
       "      <td>12</td>\n",
       "      <td>18</td>\n",
       "      <td>248.2</td>\n",
       "      <td>221</td>\n",
       "      <td>123</td>\n",
       "      <td>18</td>\n",
       "      <td>245</td>\n",
       "      <td>139</td>\n",
       "      <td>111</td>\n",
       "      <td>0</td>\n",
       "      <td>2</td>\n",
       "      <td>1</td>\n",
       "      <td>4.017426</td>\n",
       "    </tr>\n",
       "    <tr>\n",
       "      <th>2</th>\n",
       "      <td>Ashur Tolliver</td>\n",
       "      <td>Minor</td>\n",
       "      <td>108</td>\n",
       "      <td>5</td>\n",
       "      <td>3</td>\n",
       "      <td>146.1</td>\n",
       "      <td>136</td>\n",
       "      <td>63</td>\n",
       "      <td>8</td>\n",
       "      <td>146</td>\n",
       "      <td>81</td>\n",
       "      <td>61</td>\n",
       "      <td>3</td>\n",
       "      <td>7</td>\n",
       "      <td>1</td>\n",
       "      <td>3.751708</td>\n",
       "    </tr>\n",
       "    <tr>\n",
       "      <th>3</th>\n",
       "      <td>Johnny Hellweg</td>\n",
       "      <td>Minor</td>\n",
       "      <td>54</td>\n",
       "      <td>3</td>\n",
       "      <td>17</td>\n",
       "      <td>118.2</td>\n",
       "      <td>124</td>\n",
       "      <td>99</td>\n",
       "      <td>10</td>\n",
       "      <td>87</td>\n",
       "      <td>85</td>\n",
       "      <td>78</td>\n",
       "      <td>11</td>\n",
       "      <td>1</td>\n",
       "      <td>2</td>\n",
       "      <td>5.915731</td>\n",
       "    </tr>\n",
       "    <tr>\n",
       "      <th>4</th>\n",
       "      <td>Ian Krol</td>\n",
       "      <td>Minor</td>\n",
       "      <td>177</td>\n",
       "      <td>10</td>\n",
       "      <td>8</td>\n",
       "      <td>202.0</td>\n",
       "      <td>201</td>\n",
       "      <td>95</td>\n",
       "      <td>18</td>\n",
       "      <td>234</td>\n",
       "      <td>101</td>\n",
       "      <td>86</td>\n",
       "      <td>21</td>\n",
       "      <td>7</td>\n",
       "      <td>1</td>\n",
       "      <td>3.831683</td>\n",
       "    </tr>\n",
       "  </tbody>\n",
       "</table>\n",
       "</div>"
      ],
      "text/plain": [
       "               Name League    G   W   L     IP    H    R  HR   SO   BB   ER  \\\n",
       "0  Patrick Schuster  Minor  134   7   4  151.0  149   64   8  145   64   61   \n",
       "1   Keyvius Sampson  Minor   74  12  18  248.2  221  123  18  245  139  111   \n",
       "2    Ashur Tolliver  Minor  108   5   3  146.1  136   63   8  146   81   61   \n",
       "3    Johnny Hellweg  Minor   54   3  17  118.2  124   99  10   87   85   78   \n",
       "4          Ian Krol  Minor  177  10   8  202.0  201   95  18  234  101   86   \n",
       "\n",
       "   SV  BS  BK       ERA  \n",
       "0   8   7   1  3.635762  \n",
       "1   0   2   1  4.017426  \n",
       "2   3   7   1  3.751708  \n",
       "3  11   1   2  5.915731  \n",
       "4  21   7   1  3.831683  "
      ]
     },
     "execution_count": 33,
     "metadata": {},
     "output_type": "execute_result"
    }
   ],
   "source": [
    "Min_Pitch = Min_Pitch[['Name', 'League', 'G', 'W','L','IP','H','R','HR','SO','BB','ER','SV','BS','BK','ERA']]\n",
    "Min_Pitch.head()"
   ]
  },
  {
   "cell_type": "markdown",
   "id": "4789ee00",
   "metadata": {},
   "source": [
    "### Combining Major and Minor League Dataframes"
   ]
  },
  {
   "cell_type": "code",
   "execution_count": 34,
   "id": "68189165",
   "metadata": {},
   "outputs": [
    {
     "data": {
      "text/html": [
       "<div>\n",
       "<style scoped>\n",
       "    .dataframe tbody tr th:only-of-type {\n",
       "        vertical-align: middle;\n",
       "    }\n",
       "\n",
       "    .dataframe tbody tr th {\n",
       "        vertical-align: top;\n",
       "    }\n",
       "\n",
       "    .dataframe thead th {\n",
       "        text-align: right;\n",
       "    }\n",
       "</style>\n",
       "<table border=\"1\" class=\"dataframe\">\n",
       "  <thead>\n",
       "    <tr style=\"text-align: right;\">\n",
       "      <th></th>\n",
       "      <th>Name</th>\n",
       "      <th>League</th>\n",
       "      <th>G</th>\n",
       "      <th>W</th>\n",
       "      <th>L</th>\n",
       "      <th>IP</th>\n",
       "      <th>H</th>\n",
       "      <th>R</th>\n",
       "      <th>HR</th>\n",
       "      <th>SO</th>\n",
       "      <th>BB</th>\n",
       "      <th>ER</th>\n",
       "      <th>SV</th>\n",
       "      <th>BS</th>\n",
       "      <th>BK</th>\n",
       "      <th>ERA</th>\n",
       "    </tr>\n",
       "  </thead>\n",
       "  <tbody>\n",
       "    <tr>\n",
       "      <th>0</th>\n",
       "      <td>Bartolo Colon</td>\n",
       "      <td>Major</td>\n",
       "      <td>33</td>\n",
       "      <td>14</td>\n",
       "      <td>13</td>\n",
       "      <td>194.2</td>\n",
       "      <td>217</td>\n",
       "      <td>94</td>\n",
       "      <td>25</td>\n",
       "      <td>136</td>\n",
       "      <td>24</td>\n",
       "      <td>90</td>\n",
       "      <td>0</td>\n",
       "      <td>0</td>\n",
       "      <td>0</td>\n",
       "      <td>4.160000</td>\n",
       "    </tr>\n",
       "    <tr>\n",
       "      <th>1</th>\n",
       "      <td>A.J. Burnett</td>\n",
       "      <td>Major</td>\n",
       "      <td>26</td>\n",
       "      <td>9</td>\n",
       "      <td>7</td>\n",
       "      <td>164.0</td>\n",
       "      <td>174</td>\n",
       "      <td>64</td>\n",
       "      <td>11</td>\n",
       "      <td>143</td>\n",
       "      <td>49</td>\n",
       "      <td>58</td>\n",
       "      <td>0</td>\n",
       "      <td>0</td>\n",
       "      <td>1</td>\n",
       "      <td>3.180000</td>\n",
       "    </tr>\n",
       "    <tr>\n",
       "      <th>2</th>\n",
       "      <td>Tim Hudson</td>\n",
       "      <td>Major</td>\n",
       "      <td>24</td>\n",
       "      <td>8</td>\n",
       "      <td>9</td>\n",
       "      <td>123.2</td>\n",
       "      <td>134</td>\n",
       "      <td>62</td>\n",
       "      <td>13</td>\n",
       "      <td>64</td>\n",
       "      <td>37</td>\n",
       "      <td>61</td>\n",
       "      <td>0</td>\n",
       "      <td>0</td>\n",
       "      <td>0</td>\n",
       "      <td>4.440000</td>\n",
       "    </tr>\n",
       "    <tr>\n",
       "      <th>3</th>\n",
       "      <td>Mark Buehrle</td>\n",
       "      <td>Major</td>\n",
       "      <td>32</td>\n",
       "      <td>15</td>\n",
       "      <td>8</td>\n",
       "      <td>198.2</td>\n",
       "      <td>214</td>\n",
       "      <td>100</td>\n",
       "      <td>22</td>\n",
       "      <td>91</td>\n",
       "      <td>33</td>\n",
       "      <td>84</td>\n",
       "      <td>0</td>\n",
       "      <td>0</td>\n",
       "      <td>0</td>\n",
       "      <td>3.810000</td>\n",
       "    </tr>\n",
       "    <tr>\n",
       "      <th>4</th>\n",
       "      <td>CC Sabathia</td>\n",
       "      <td>Major</td>\n",
       "      <td>29</td>\n",
       "      <td>6</td>\n",
       "      <td>10</td>\n",
       "      <td>167.1</td>\n",
       "      <td>188</td>\n",
       "      <td>92</td>\n",
       "      <td>28</td>\n",
       "      <td>137</td>\n",
       "      <td>50</td>\n",
       "      <td>88</td>\n",
       "      <td>0</td>\n",
       "      <td>0</td>\n",
       "      <td>1</td>\n",
       "      <td>4.730000</td>\n",
       "    </tr>\n",
       "    <tr>\n",
       "      <th>...</th>\n",
       "      <td>...</td>\n",
       "      <td>...</td>\n",
       "      <td>...</td>\n",
       "      <td>...</td>\n",
       "      <td>...</td>\n",
       "      <td>...</td>\n",
       "      <td>...</td>\n",
       "      <td>...</td>\n",
       "      <td>...</td>\n",
       "      <td>...</td>\n",
       "      <td>...</td>\n",
       "      <td>...</td>\n",
       "      <td>...</td>\n",
       "      <td>...</td>\n",
       "      <td>...</td>\n",
       "      <td>...</td>\n",
       "    </tr>\n",
       "    <tr>\n",
       "      <th>5873</th>\n",
       "      <td>Tom de Blok</td>\n",
       "      <td>Minor</td>\n",
       "      <td>64</td>\n",
       "      <td>11</td>\n",
       "      <td>21</td>\n",
       "      <td>294.2</td>\n",
       "      <td>277</td>\n",
       "      <td>139</td>\n",
       "      <td>26</td>\n",
       "      <td>234</td>\n",
       "      <td>93</td>\n",
       "      <td>128</td>\n",
       "      <td>1</td>\n",
       "      <td>1</td>\n",
       "      <td>2</td>\n",
       "      <td>3.909502</td>\n",
       "    </tr>\n",
       "    <tr>\n",
       "      <th>5874</th>\n",
       "      <td>Adrian Alcantara</td>\n",
       "      <td>Minor</td>\n",
       "      <td>94</td>\n",
       "      <td>22</td>\n",
       "      <td>23</td>\n",
       "      <td>367.0</td>\n",
       "      <td>340</td>\n",
       "      <td>209</td>\n",
       "      <td>48</td>\n",
       "      <td>375</td>\n",
       "      <td>148</td>\n",
       "      <td>183</td>\n",
       "      <td>3</td>\n",
       "      <td>3</td>\n",
       "      <td>11</td>\n",
       "      <td>4.487738</td>\n",
       "    </tr>\n",
       "    <tr>\n",
       "      <th>5875</th>\n",
       "      <td>Osvaldo Hernandez</td>\n",
       "      <td>Minor</td>\n",
       "      <td>106</td>\n",
       "      <td>22</td>\n",
       "      <td>23</td>\n",
       "      <td>355.0</td>\n",
       "      <td>364</td>\n",
       "      <td>178</td>\n",
       "      <td>35</td>\n",
       "      <td>322</td>\n",
       "      <td>103</td>\n",
       "      <td>149</td>\n",
       "      <td>0</td>\n",
       "      <td>3</td>\n",
       "      <td>9</td>\n",
       "      <td>3.777465</td>\n",
       "    </tr>\n",
       "    <tr>\n",
       "      <th>5876</th>\n",
       "      <td>Parker Curry</td>\n",
       "      <td>Minor</td>\n",
       "      <td>97</td>\n",
       "      <td>15</td>\n",
       "      <td>20</td>\n",
       "      <td>259.2</td>\n",
       "      <td>256</td>\n",
       "      <td>130</td>\n",
       "      <td>33</td>\n",
       "      <td>280</td>\n",
       "      <td>75</td>\n",
       "      <td>113</td>\n",
       "      <td>5</td>\n",
       "      <td>1</td>\n",
       "      <td>1</td>\n",
       "      <td>3.916560</td>\n",
       "    </tr>\n",
       "    <tr>\n",
       "      <th>5877</th>\n",
       "      <td>Victor Castaneda</td>\n",
       "      <td>Minor</td>\n",
       "      <td>95</td>\n",
       "      <td>18</td>\n",
       "      <td>22</td>\n",
       "      <td>321.0</td>\n",
       "      <td>313</td>\n",
       "      <td>184</td>\n",
       "      <td>49</td>\n",
       "      <td>342</td>\n",
       "      <td>126</td>\n",
       "      <td>163</td>\n",
       "      <td>6</td>\n",
       "      <td>2</td>\n",
       "      <td>0</td>\n",
       "      <td>4.570094</td>\n",
       "    </tr>\n",
       "  </tbody>\n",
       "</table>\n",
       "<p>6891 rows × 16 columns</p>\n",
       "</div>"
      ],
      "text/plain": [
       "                   Name League    G   W   L     IP    H    R  HR   SO   BB  \\\n",
       "0         Bartolo Colon  Major   33  14  13  194.2  217   94  25  136   24   \n",
       "1          A.J. Burnett  Major   26   9   7  164.0  174   64  11  143   49   \n",
       "2            Tim Hudson  Major   24   8   9  123.2  134   62  13   64   37   \n",
       "3          Mark Buehrle  Major   32  15   8  198.2  214  100  22   91   33   \n",
       "4           CC Sabathia  Major   29   6  10  167.1  188   92  28  137   50   \n",
       "...                 ...    ...  ...  ..  ..    ...  ...  ...  ..  ...  ...   \n",
       "5873        Tom de Blok  Minor   64  11  21  294.2  277  139  26  234   93   \n",
       "5874   Adrian Alcantara  Minor   94  22  23  367.0  340  209  48  375  148   \n",
       "5875  Osvaldo Hernandez  Minor  106  22  23  355.0  364  178  35  322  103   \n",
       "5876       Parker Curry  Minor   97  15  20  259.2  256  130  33  280   75   \n",
       "5877   Victor Castaneda  Minor   95  18  22  321.0  313  184  49  342  126   \n",
       "\n",
       "       ER  SV  BS  BK       ERA  \n",
       "0      90   0   0   0  4.160000  \n",
       "1      58   0   0   1  3.180000  \n",
       "2      61   0   0   0  4.440000  \n",
       "3      84   0   0   0  3.810000  \n",
       "4      88   0   0   1  4.730000  \n",
       "...   ...  ..  ..  ..       ...  \n",
       "5873  128   1   1   2  3.909502  \n",
       "5874  183   3   3  11  4.487738  \n",
       "5875  149   0   3   9  3.777465  \n",
       "5876  113   5   1   1  3.916560  \n",
       "5877  163   6   2   0  4.570094  \n",
       "\n",
       "[6891 rows x 16 columns]"
      ]
     },
     "execution_count": 34,
     "metadata": {},
     "output_type": "execute_result"
    }
   ],
   "source": [
    "Pitchers = pd.concat([MLB_Pitch, Min_Pitch])\n",
    "Pitchers"
   ]
  },
  {
   "cell_type": "code",
   "execution_count": 35,
   "id": "4382982d",
   "metadata": {},
   "outputs": [],
   "source": [
    "#Creating WHIP Column"
   ]
  },
  {
   "cell_type": "code",
   "execution_count": 36,
   "id": "eab4119b",
   "metadata": {},
   "outputs": [],
   "source": [
    "Pitchers['WHIP'] = (Pitchers['BB'] + Pitchers['H']) / Pitchers['IP']"
   ]
  },
  {
   "cell_type": "code",
   "execution_count": 37,
   "id": "571e97dd",
   "metadata": {},
   "outputs": [],
   "source": [
    "#Creating Categorical Column ranking WHIP for each player"
   ]
  },
  {
   "cell_type": "code",
   "execution_count": 38,
   "id": "5078c734",
   "metadata": {},
   "outputs": [],
   "source": [
    "def whip_ranks(x):\n",
    "    if x < 1.20:\n",
    "        return 'Above Average'\n",
    "    elif x > 1.40:\n",
    "        return 'Below Average'\n",
    "    else: \n",
    "        return 'Average'\n",
    "    \n",
    "Pitchers['WHIP Ranks'] = Pitchers['WHIP'].apply(whip_ranks)"
   ]
  },
  {
   "cell_type": "code",
   "execution_count": 39,
   "id": "b1649971",
   "metadata": {},
   "outputs": [
    {
     "data": {
      "text/plain": [
       "Average          3083\n",
       "Below Average    2510\n",
       "Above Average    1298\n",
       "Name: WHIP Ranks, dtype: int64"
      ]
     },
     "execution_count": 39,
     "metadata": {},
     "output_type": "execute_result"
    }
   ],
   "source": [
    "Pitchers['WHIP Ranks'].value_counts()"
   ]
  },
  {
   "cell_type": "code",
   "execution_count": 40,
   "id": "ca972e1b",
   "metadata": {},
   "outputs": [],
   "source": [
    "# Creating nominal column for WHIP Rank"
   ]
  },
  {
   "cell_type": "code",
   "execution_count": 41,
   "id": "157536f2",
   "metadata": {},
   "outputs": [
    {
     "data": {
      "text/plain": [
       "0    3083\n",
       "1    2510\n",
       "2    1298\n",
       "Name: WHIP_Rank, dtype: int64"
      ]
     },
     "execution_count": 41,
     "metadata": {},
     "output_type": "execute_result"
    }
   ],
   "source": [
    "Pitchers[\"WHIP_Rank\"] = Pitchers[\"WHIP Ranks\"].astype('category')\n",
    "categories = [\"Average\",\"Below Average\",\"Above Average\"]\n",
    "Pitchers[\"WHIP_Rank\"] = Pitchers[\"WHIP_Rank\"].cat.reorder_categories(categories)\n",
    "Pitchers[\"WHIP_Rank\"] = Pitchers[\"WHIP_Rank\"].cat.codes\n",
    "Pitchers[\"WHIP_Rank\"].value_counts()"
   ]
  },
  {
   "cell_type": "code",
   "execution_count": 42,
   "id": "ec875c23",
   "metadata": {},
   "outputs": [],
   "source": [
    "# Creating a categorical column ranking ERA for each player"
   ]
  },
  {
   "cell_type": "code",
   "execution_count": 43,
   "id": "b0b425c4",
   "metadata": {},
   "outputs": [],
   "source": [
    "def era_ranks(x):\n",
    "    if x < 3.40:\n",
    "        return 'Above Average'\n",
    "    elif x > 4.00:\n",
    "        return 'Below Average'\n",
    "    else: \n",
    "        return 'Average'\n",
    "    \n",
    "Pitchers['ERA Ranks'] = Pitchers['ERA'].apply(era_ranks)"
   ]
  },
  {
   "cell_type": "code",
   "execution_count": 44,
   "id": "d57b3071",
   "metadata": {},
   "outputs": [
    {
     "data": {
      "text/plain": [
       "Below Average    3438\n",
       "Average          1732\n",
       "Above Average    1721\n",
       "Name: ERA Ranks, dtype: int64"
      ]
     },
     "execution_count": 44,
     "metadata": {},
     "output_type": "execute_result"
    }
   ],
   "source": [
    "Pitchers['ERA Ranks'].value_counts()"
   ]
  },
  {
   "cell_type": "code",
   "execution_count": 45,
   "id": "26666a8d",
   "metadata": {},
   "outputs": [],
   "source": [
    "# Creating nominal column for ERA Rank"
   ]
  },
  {
   "cell_type": "code",
   "execution_count": 46,
   "id": "874a4ed9",
   "metadata": {},
   "outputs": [
    {
     "data": {
      "text/plain": [
       "0    3438\n",
       "1    1732\n",
       "2    1721\n",
       "Name: ERA_Rank, dtype: int64"
      ]
     },
     "execution_count": 46,
     "metadata": {},
     "output_type": "execute_result"
    }
   ],
   "source": [
    "Pitchers[\"ERA_Rank\"] = Pitchers[\"ERA Ranks\"].astype('category')\n",
    "categories = [\"Below Average\",\"Average\",\"Above Average\"]\n",
    "Pitchers[\"ERA_Rank\"] = Pitchers[\"ERA_Rank\"].cat.reorder_categories(categories)\n",
    "Pitchers[\"ERA_Rank\"] = Pitchers[\"ERA_Rank\"].cat.codes\n",
    "Pitchers[\"ERA_Rank\"].value_counts()"
   ]
  },
  {
   "cell_type": "code",
   "execution_count": 47,
   "id": "d8c8294e",
   "metadata": {},
   "outputs": [],
   "source": [
    "# Creating a nomial column for league"
   ]
  },
  {
   "cell_type": "code",
   "execution_count": 48,
   "id": "159ce8d2",
   "metadata": {},
   "outputs": [
    {
     "data": {
      "text/plain": [
       "Minor    5878\n",
       "Major    1013\n",
       "Name: League, dtype: int64"
      ]
     },
     "execution_count": 48,
     "metadata": {},
     "output_type": "execute_result"
    }
   ],
   "source": [
    "Pitchers['League'].value_counts()"
   ]
  },
  {
   "cell_type": "code",
   "execution_count": 49,
   "id": "1bc36076",
   "metadata": {},
   "outputs": [
    {
     "data": {
      "text/plain": [
       "0    5878\n",
       "1    1013\n",
       "Name: Leagues, dtype: int64"
      ]
     },
     "execution_count": 49,
     "metadata": {},
     "output_type": "execute_result"
    }
   ],
   "source": [
    "Pitchers[\"Leagues\"] = Pitchers[\"League\"].astype('category')\n",
    "categories = [\"Minor\",\"Major\"]\n",
    "Pitchers[\"Leagues\"] = Pitchers[\"Leagues\"].cat.reorder_categories(categories)\n",
    "Pitchers[\"Leagues\"] = Pitchers[\"Leagues\"].cat.codes\n",
    "Pitchers[\"Leagues\"].value_counts()"
   ]
  },
  {
   "cell_type": "markdown",
   "id": "bbf6646b",
   "metadata": {},
   "source": [
    "## Preprocessing"
   ]
  },
  {
   "cell_type": "markdown",
   "id": "e1fc69bb",
   "metadata": {},
   "source": [
    "### Logistic Regression - Model 1"
   ]
  },
  {
   "cell_type": "code",
   "execution_count": 50,
   "id": "a39a3d1e",
   "metadata": {},
   "outputs": [],
   "source": [
    "base_feats = ['G', 'W','L','IP','H','R','HR','SO','BB','ER','SV',\n",
    "              'BS','BK','ERA','WHIP']"
   ]
  },
  {
   "cell_type": "code",
   "execution_count": 51,
   "id": "b0df655d",
   "metadata": {},
   "outputs": [],
   "source": [
    "X = Pitchers[base_feats]\n",
    "y = Pitchers['Leagues']"
   ]
  },
  {
   "cell_type": "code",
   "execution_count": 52,
   "id": "05846e35",
   "metadata": {},
   "outputs": [],
   "source": [
    "X_train, X_test, y_train, y_test = train_test_split(\n",
    "    X, y, test_size=0.20, random_state=42)"
   ]
  },
  {
   "cell_type": "code",
   "execution_count": 53,
   "id": "8d22e7e3",
   "metadata": {},
   "outputs": [],
   "source": [
    "scaler = StandardScaler()\n",
    "\n",
    "scaler.fit(X_train)\n",
    "\n",
    "X_train_scaled = scaler.transform(X_train)\n",
    "X_test_scaled = scaler.transform(X_test)"
   ]
  },
  {
   "cell_type": "code",
   "execution_count": 54,
   "id": "2e46b289",
   "metadata": {},
   "outputs": [],
   "source": [
    "Pit_Model = LogisticRegression(random_state=42)\n",
    "Pit_Model.fit(X_train_scaled, y_train)\n",
    "preds = Pit_Model.predict(X_test_scaled)"
   ]
  },
  {
   "cell_type": "code",
   "execution_count": 55,
   "id": "43d1c4ab",
   "metadata": {},
   "outputs": [
    {
     "name": "stdout",
     "output_type": "stream",
     "text": [
      "Training: 0.9638969521044993\n",
      "Test: 0.9615663524292966\n"
     ]
    }
   ],
   "source": [
    "print('Training:', Pit_Model.score(X_train_scaled, y_train))\n",
    "print('Test:', Pit_Model.score(X_test_scaled, y_test))"
   ]
  },
  {
   "cell_type": "code",
   "execution_count": 56,
   "id": "5edff092",
   "metadata": {},
   "outputs": [
    {
     "data": {
      "text/plain": [
       "<sklearn.metrics._plot.confusion_matrix.ConfusionMatrixDisplay at 0x7fcf98496100>"
      ]
     },
     "execution_count": 56,
     "metadata": {},
     "output_type": "execute_result"
    },
    {
     "data": {
      "image/png": "[encoded data removed]",
      "text/plain": [
       "<Figure size 432x288 with 2 Axes>"
      ]
     },
     "metadata": {
      "needs_background": "light"
     },
     "output_type": "display_data"
    }
   ],
   "source": [
    "Pitchers_CM =confusion_matrix(y_test,preds);\n",
    "ConfusionMatrixDisplay(Pitchers_CM).plot()"
   ]
  },
  {
   "cell_type": "code",
   "execution_count": 57,
   "id": "9371d375",
   "metadata": {},
   "outputs": [
    {
     "name": "stdout",
     "output_type": "stream",
     "text": [
      "0.9615663524292966\n",
      "0.8829268292682927\n",
      "0.861904761904762\n",
      "0.8722891566265061\n"
     ]
    }
   ],
   "source": [
    "accuracy = accuracy_score(y_test, preds)\n",
    "print(accuracy)\n",
    "precision = precision_score(y_test, preds)\n",
    "print(precision)\n",
    "recall = recall_score(y_test, preds)\n",
    "print(recall)\n",
    "f1 = f1_score(y_test, preds)\n",
    "print(f1)"
   ]
  },
  {
   "cell_type": "code",
   "execution_count": 58,
   "id": "e7d8cf1a",
   "metadata": {},
   "outputs": [],
   "source": [
    "# ROC - AUC for LR Model"
   ]
  },
  {
   "cell_type": "code",
   "execution_count": 59,
   "id": "f9ba24d9",
   "metadata": {},
   "outputs": [
    {
     "data": {
      "text/plain": [
       "array([[1.00000000e+00, 3.90478567e-18],\n",
       "       [9.99998743e-01, 1.25651108e-06],\n",
       "       [9.62718983e-01, 3.72810174e-02],\n",
       "       ...,\n",
       "       [9.98189877e-01, 1.81012329e-03],\n",
       "       [8.82326612e-01, 1.17673388e-01],\n",
       "       [1.04884966e-01, 8.95115034e-01]])"
      ]
     },
     "execution_count": 59,
     "metadata": {},
     "output_type": "execute_result"
    }
   ],
   "source": [
    "Pit_Model.predict_proba(X_test_scaled)"
   ]
  },
  {
   "cell_type": "code",
   "execution_count": 60,
   "id": "0a8ffd49",
   "metadata": {},
   "outputs": [
    {
     "data": {
      "text/plain": [
       "0.9878202778117235"
      ]
     },
     "execution_count": 60,
     "metadata": {},
     "output_type": "execute_result"
    }
   ],
   "source": [
    "test_probas = Pit_Model.predict_proba(X_test_scaled)[:,1]\n",
    "\n",
    "roc_auc_score(y_test, test_probas)"
   ]
  },
  {
   "cell_type": "code",
   "execution_count": 61,
   "id": "42b4e114",
   "metadata": {},
   "outputs": [
    {
     "data": {
      "text/plain": [
       "<sklearn.metrics._plot.roc_curve.RocCurveDisplay at 0x7fcf9849bcd0>"
      ]
     },
     "execution_count": 61,
     "metadata": {},
     "output_type": "execute_result"
    },
    {
     "data": {
      "image/png": "[encoded data removed]",
      "text/plain": [
       "<Figure size 432x288 with 1 Axes>"
      ]
     },
     "metadata": {
      "needs_background": "light"
     },
     "output_type": "display_data"
    }
   ],
   "source": [
    "plot_roc_curve(Pit_Model, X_test_scaled, y_test)"
   ]
  },
  {
   "cell_type": "markdown",
   "id": "47dae9b7",
   "metadata": {},
   "source": [
    "### Decission Tree Model 2"
   ]
  },
  {
   "cell_type": "code",
   "execution_count": 62,
   "id": "804c30d5",
   "metadata": {
    "scrolled": true
   },
   "outputs": [
    {
     "data": {
      "text/plain": [
       "DecisionTreeClassifier(criterion='entropy', max_depth=3, random_state=42)"
      ]
     },
     "execution_count": 62,
     "metadata": {},
     "output_type": "execute_result"
    }
   ],
   "source": [
    "dt = DecisionTreeClassifier(criterion = 'entropy', max_depth = 3, random_state = 42)\n",
    "dt.fit(X_train_scaled, y_train)"
   ]
  },
  {
   "cell_type": "code",
   "execution_count": 63,
   "id": "9eb5cc5f",
   "metadata": {},
   "outputs": [
    {
     "name": "stdout",
     "output_type": "stream",
     "text": [
      "Training: 0.9528301886792453\n",
      "Test: 0.9477882523567803\n"
     ]
    }
   ],
   "source": [
    "print('Training:', dt.score(X_train_scaled, y_train))\n",
    "print('Test:', dt.score(X_test_scaled, y_test))"
   ]
  },
  {
   "cell_type": "code",
   "execution_count": 64,
   "id": "1e608e33",
   "metadata": {},
   "outputs": [
    {
     "data": {
      "image/png": "[encoded data removed]",
      "text/plain": [
       "<Figure size 1440x1440 with 1 Axes>"
      ]
     },
     "metadata": {
      "needs_background": "light"
     },
     "output_type": "display_data"
    }
   ],
   "source": [
    "f, ax = plt.subplots(figsize =(20,20))\n",
    "plot_tree(dt, ax=ax);"
   ]
  },
  {
   "cell_type": "code",
   "execution_count": 65,
   "id": "be16f0ce",
   "metadata": {},
   "outputs": [],
   "source": [
    "dt_preds = dt.predict(X_test_scaled)"
   ]
  },
  {
   "cell_type": "code",
   "execution_count": 66,
   "id": "02415ed8",
   "metadata": {},
   "outputs": [
    {
     "name": "stdout",
     "output_type": "stream",
     "text": [
      "0.9477882523567803\n",
      "0.7851239669421488\n",
      "0.9047619047619048\n",
      "0.8407079646017699\n"
     ]
    }
   ],
   "source": [
    "accuracy = accuracy_score(y_test, dt_preds)\n",
    "print(accuracy)\n",
    "precision = precision_score(y_test, dt_preds)\n",
    "print(precision)\n",
    "recall = recall_score(y_test, dt_preds)\n",
    "print(recall)\n",
    "f1 = f1_score(y_test, dt_preds)\n",
    "print(f1)"
   ]
  },
  {
   "cell_type": "code",
   "execution_count": 67,
   "id": "8b72c01e",
   "metadata": {
    "scrolled": true
   },
   "outputs": [
    {
     "data": {
      "text/plain": [
       "<sklearn.metrics._plot.confusion_matrix.ConfusionMatrixDisplay at 0x7fcf98bca5b0>"
      ]
     },
     "execution_count": 67,
     "metadata": {},
     "output_type": "execute_result"
    },
    {
     "data": {
      "image/png": "[encoded data removed]",
      "text/plain": [
       "<Figure size 432x288 with 2 Axes>"
      ]
     },
     "metadata": {
      "needs_background": "light"
     },
     "output_type": "display_data"
    }
   ],
   "source": [
    "dt_CM =confusion_matrix(y_test,dt_preds);\n",
    "ConfusionMatrixDisplay(dt_CM).plot()"
   ]
  },
  {
   "cell_type": "code",
   "execution_count": 68,
   "id": "9bd04408",
   "metadata": {
    "scrolled": false
   },
   "outputs": [
    {
     "data": {
      "text/plain": [
       "0.9301397205588822"
      ]
     },
     "execution_count": 68,
     "metadata": {},
     "output_type": "execute_result"
    }
   ],
   "source": [
    "roc_auc_score(y_test,dt_preds)"
   ]
  },
  {
   "cell_type": "code",
   "execution_count": 69,
   "id": "20f0c93d",
   "metadata": {
    "scrolled": true
   },
   "outputs": [
    {
     "data": {
      "text/plain": [
       "0    0.847716\n",
       "1    0.152284\n",
       "Name: Leagues, dtype: float64"
      ]
     },
     "execution_count": 69,
     "metadata": {},
     "output_type": "execute_result"
    }
   ],
   "source": [
    "y_test.value_counts(normalize = True)"
   ]
  },
  {
   "cell_type": "code",
   "execution_count": 70,
   "id": "d45c9116",
   "metadata": {},
   "outputs": [
    {
     "data": {
      "text/plain": [
       "<sklearn.metrics._plot.roc_curve.RocCurveDisplay at 0x7fcf98dcc9d0>"
      ]
     },
     "execution_count": 70,
     "metadata": {},
     "output_type": "execute_result"
    },
    {
     "data": {
      "image/png": "[encoded data removed]",
      "text/plain": [
       "<Figure size 432x288 with 1 Axes>"
      ]
     },
     "metadata": {
      "needs_background": "light"
     },
     "output_type": "display_data"
    }
   ],
   "source": [
    "fig, ax = plt.subplots()\n",
    "plot_roc_curve(dt, X_test_scaled, y_test, ax=ax)\n",
    "plot_roc_curve(Pit_Model, X_test_scaled, y_test, ax=ax)"
   ]
  },
  {
   "cell_type": "code",
   "execution_count": 71,
   "id": "19129310",
   "metadata": {
    "scrolled": true
   },
   "outputs": [
    {
     "data": {
      "text/plain": [
       "<AxesSubplot:xlabel='Leagues', ylabel='count'>"
      ]
     },
     "execution_count": 71,
     "metadata": {},
     "output_type": "execute_result"
    },
    {
     "data": {
      "image/png": "[encoded data removed]",
      "text/plain": [
       "<Figure size 432x288 with 1 Axes>"
      ]
     },
     "metadata": {
      "needs_background": "light"
     },
     "output_type": "display_data"
    }
   ],
   "source": [
    "sns.countplot(Pitchers['Leagues'])"
   ]
  },
  {
   "cell_type": "code",
   "execution_count": 72,
   "id": "1413e36f",
   "metadata": {},
   "outputs": [],
   "source": [
    "# based on baseline models and plot above... Data is imbalanced"
   ]
  },
  {
   "cell_type": "markdown",
   "id": "a4516c19",
   "metadata": {},
   "source": [
    "### Using SMOTE - Logistic Regression Model 3"
   ]
  },
  {
   "cell_type": "code",
   "execution_count": 73,
   "id": "36f25af4",
   "metadata": {},
   "outputs": [],
   "source": [
    "# using SMOTE to fix imbalanced issue"
   ]
  },
  {
   "cell_type": "code",
   "execution_count": 74,
   "id": "6a54a17a",
   "metadata": {},
   "outputs": [],
   "source": [
    "from imblearn.over_sampling import SMOTE"
   ]
  },
  {
   "cell_type": "code",
   "execution_count": 75,
   "id": "1e47c791",
   "metadata": {},
   "outputs": [],
   "source": [
    "sm = SMOTE()\n",
    "X_train_res, y_train_res = sm.fit_sample(X_train, y_train.ravel())"
   ]
  },
  {
   "cell_type": "code",
   "execution_count": 76,
   "id": "683e7133",
   "metadata": {},
   "outputs": [],
   "source": [
    "sm_model = LogisticRegression()\n",
    "sm_fit = sm_model.fit(X_train_res, y_train_res.ravel())\n",
    "sm_pred = sm_fit.predict(X_test)"
   ]
  },
  {
   "cell_type": "code",
   "execution_count": 77,
   "id": "161f3649",
   "metadata": {},
   "outputs": [
    {
     "name": "stdout",
     "output_type": "stream",
     "text": [
      "0.9550398839738942\n",
      "0.796\n",
      "0.9476190476190476\n",
      "0.8652173913043478\n"
     ]
    }
   ],
   "source": [
    "accuracy = accuracy_score(y_test, sm_pred)\n",
    "print(accuracy)\n",
    "precision = precision_score(y_test, sm_pred)\n",
    "print(precision)\n",
    "recall = recall_score(y_test, sm_pred)\n",
    "print(recall)\n",
    "f1 = f1_score(y_test, sm_pred)\n",
    "print(f1)"
   ]
  },
  {
   "cell_type": "code",
   "execution_count": 78,
   "id": "747776fb",
   "metadata": {},
   "outputs": [
    {
     "data": {
      "text/plain": [
       "0.9519960079840319"
      ]
     },
     "execution_count": 78,
     "metadata": {},
     "output_type": "execute_result"
    }
   ],
   "source": [
    "roc_auc_score(y_test, sm_pred)"
   ]
  },
  {
   "cell_type": "code",
   "execution_count": 79,
   "id": "1682d38b",
   "metadata": {},
   "outputs": [
    {
     "data": {
      "text/plain": [
       "<sklearn.metrics._plot.roc_curve.RocCurveDisplay at 0x7fcf992676a0>"
      ]
     },
     "execution_count": 79,
     "metadata": {},
     "output_type": "execute_result"
    },
    {
     "data": {
      "image/png": "[encoded data removed]",
      "text/plain": [
       "<Figure size 432x288 with 1 Axes>"
      ]
     },
     "metadata": {
      "needs_background": "light"
     },
     "output_type": "display_data"
    }
   ],
   "source": [
    "fig, ax = plt.subplots()\n",
    "plot_roc_curve(dt, X_test_scaled, y_test, ax=ax)\n",
    "plot_roc_curve(Pit_Model, X_test_scaled, y_test, ax=ax)\n",
    "plot_roc_curve(sm_model, X_test, y_test, ax=ax)"
   ]
  },
  {
   "cell_type": "code",
   "execution_count": 80,
   "id": "da9755d0",
   "metadata": {},
   "outputs": [
    {
     "name": "stdout",
     "output_type": "stream",
     "text": [
      "Training: 0.9665534083669569\n",
      "Test: 0.9550398839738942\n"
     ]
    }
   ],
   "source": [
    "print('Training:', sm_model.score(X_train_res, y_train_res))\n",
    "print('Test:', sm_model.score(X_test, y_test))"
   ]
  },
  {
   "cell_type": "code",
   "execution_count": 81,
   "id": "bf428ca0",
   "metadata": {},
   "outputs": [
    {
     "data": {
      "text/plain": [
       "<sklearn.metrics._plot.confusion_matrix.ConfusionMatrixDisplay at 0x7fcf99242ee0>"
      ]
     },
     "execution_count": 81,
     "metadata": {},
     "output_type": "execute_result"
    },
    {
     "data": {
      "image/png": "[encoded data removed]",
      "text/plain": [
       "<Figure size 432x288 with 2 Axes>"
      ]
     },
     "metadata": {
      "needs_background": "light"
     },
     "output_type": "display_data"
    }
   ],
   "source": [
    "dt_CM =confusion_matrix(y_test,sm_pred);\n",
    "ConfusionMatrixDisplay(dt_CM).plot()"
   ]
  },
  {
   "cell_type": "markdown",
   "id": "3225e578",
   "metadata": {},
   "source": [
    "### Predictive Model #1"
   ]
  },
  {
   "cell_type": "code",
   "execution_count": 82,
   "id": "fabeaaf9",
   "metadata": {},
   "outputs": [
    {
     "data": {
      "text/html": [
       "<div>\n",
       "<style scoped>\n",
       "    .dataframe tbody tr th:only-of-type {\n",
       "        vertical-align: middle;\n",
       "    }\n",
       "\n",
       "    .dataframe tbody tr th {\n",
       "        vertical-align: top;\n",
       "    }\n",
       "\n",
       "    .dataframe thead th {\n",
       "        text-align: right;\n",
       "    }\n",
       "</style>\n",
       "<table border=\"1\" class=\"dataframe\">\n",
       "  <thead>\n",
       "    <tr style=\"text-align: right;\">\n",
       "      <th></th>\n",
       "      <th>G</th>\n",
       "      <th>W</th>\n",
       "      <th>L</th>\n",
       "      <th>IP</th>\n",
       "      <th>H</th>\n",
       "      <th>R</th>\n",
       "      <th>HR</th>\n",
       "      <th>SO</th>\n",
       "      <th>BB</th>\n",
       "      <th>ER</th>\n",
       "      <th>SV</th>\n",
       "      <th>BS</th>\n",
       "      <th>BK</th>\n",
       "      <th>ERA</th>\n",
       "      <th>WHIP</th>\n",
       "    </tr>\n",
       "  </thead>\n",
       "  <tbody>\n",
       "    <tr>\n",
       "      <th>3489</th>\n",
       "      <td>29</td>\n",
       "      <td>6</td>\n",
       "      <td>7</td>\n",
       "      <td>108.1</td>\n",
       "      <td>130</td>\n",
       "      <td>79</td>\n",
       "      <td>18</td>\n",
       "      <td>109</td>\n",
       "      <td>43</td>\n",
       "      <td>70</td>\n",
       "      <td>0</td>\n",
       "      <td>1</td>\n",
       "      <td>2</td>\n",
       "      <td>5.815385</td>\n",
       "      <td>1.600370</td>\n",
       "    </tr>\n",
       "    <tr>\n",
       "      <th>3071</th>\n",
       "      <td>54</td>\n",
       "      <td>11</td>\n",
       "      <td>20</td>\n",
       "      <td>228.2</td>\n",
       "      <td>234</td>\n",
       "      <td>137</td>\n",
       "      <td>26</td>\n",
       "      <td>166</td>\n",
       "      <td>77</td>\n",
       "      <td>126</td>\n",
       "      <td>0</td>\n",
       "      <td>2</td>\n",
       "      <td>7</td>\n",
       "      <td>4.959184</td>\n",
       "      <td>1.362840</td>\n",
       "    </tr>\n",
       "    <tr>\n",
       "      <th>4505</th>\n",
       "      <td>61</td>\n",
       "      <td>6</td>\n",
       "      <td>10</td>\n",
       "      <td>119.2</td>\n",
       "      <td>124</td>\n",
       "      <td>63</td>\n",
       "      <td>14</td>\n",
       "      <td>111</td>\n",
       "      <td>28</td>\n",
       "      <td>52</td>\n",
       "      <td>1</td>\n",
       "      <td>6</td>\n",
       "      <td>0</td>\n",
       "      <td>3.910863</td>\n",
       "      <td>1.275168</td>\n",
       "    </tr>\n",
       "    <tr>\n",
       "      <th>5034</th>\n",
       "      <td>75</td>\n",
       "      <td>19</td>\n",
       "      <td>17</td>\n",
       "      <td>292.1</td>\n",
       "      <td>258</td>\n",
       "      <td>160</td>\n",
       "      <td>17</td>\n",
       "      <td>276</td>\n",
       "      <td>126</td>\n",
       "      <td>127</td>\n",
       "      <td>0</td>\n",
       "      <td>1</td>\n",
       "      <td>3</td>\n",
       "      <td>3.909920</td>\n",
       "      <td>1.314618</td>\n",
       "    </tr>\n",
       "    <tr>\n",
       "      <th>3283</th>\n",
       "      <td>28</td>\n",
       "      <td>6</td>\n",
       "      <td>2</td>\n",
       "      <td>74.1</td>\n",
       "      <td>60</td>\n",
       "      <td>35</td>\n",
       "      <td>7</td>\n",
       "      <td>79</td>\n",
       "      <td>23</td>\n",
       "      <td>33</td>\n",
       "      <td>0</td>\n",
       "      <td>2</td>\n",
       "      <td>0</td>\n",
       "      <td>3.995516</td>\n",
       "      <td>1.120108</td>\n",
       "    </tr>\n",
       "    <tr>\n",
       "      <th>...</th>\n",
       "      <td>...</td>\n",
       "      <td>...</td>\n",
       "      <td>...</td>\n",
       "      <td>...</td>\n",
       "      <td>...</td>\n",
       "      <td>...</td>\n",
       "      <td>...</td>\n",
       "      <td>...</td>\n",
       "      <td>...</td>\n",
       "      <td>...</td>\n",
       "      <td>...</td>\n",
       "      <td>...</td>\n",
       "      <td>...</td>\n",
       "      <td>...</td>\n",
       "      <td>...</td>\n",
       "    </tr>\n",
       "    <tr>\n",
       "      <th>2759</th>\n",
       "      <td>71</td>\n",
       "      <td>8</td>\n",
       "      <td>9</td>\n",
       "      <td>132.2</td>\n",
       "      <td>102</td>\n",
       "      <td>58</td>\n",
       "      <td>11</td>\n",
       "      <td>201</td>\n",
       "      <td>72</td>\n",
       "      <td>53</td>\n",
       "      <td>2</td>\n",
       "      <td>6</td>\n",
       "      <td>0</td>\n",
       "      <td>3.595477</td>\n",
       "      <td>1.316188</td>\n",
       "    </tr>\n",
       "    <tr>\n",
       "      <th>4178</th>\n",
       "      <td>112</td>\n",
       "      <td>38</td>\n",
       "      <td>40</td>\n",
       "      <td>616.0</td>\n",
       "      <td>631</td>\n",
       "      <td>331</td>\n",
       "      <td>64</td>\n",
       "      <td>432</td>\n",
       "      <td>151</td>\n",
       "      <td>293</td>\n",
       "      <td>0</td>\n",
       "      <td>0</td>\n",
       "      <td>6</td>\n",
       "      <td>4.280844</td>\n",
       "      <td>1.269481</td>\n",
       "    </tr>\n",
       "    <tr>\n",
       "      <th>4213</th>\n",
       "      <td>172</td>\n",
       "      <td>21</td>\n",
       "      <td>21</td>\n",
       "      <td>439.0</td>\n",
       "      <td>437</td>\n",
       "      <td>207</td>\n",
       "      <td>35</td>\n",
       "      <td>364</td>\n",
       "      <td>137</td>\n",
       "      <td>178</td>\n",
       "      <td>8</td>\n",
       "      <td>8</td>\n",
       "      <td>2</td>\n",
       "      <td>3.649203</td>\n",
       "      <td>1.307517</td>\n",
       "    </tr>\n",
       "    <tr>\n",
       "      <th>4377</th>\n",
       "      <td>143</td>\n",
       "      <td>8</td>\n",
       "      <td>7</td>\n",
       "      <td>203.0</td>\n",
       "      <td>214</td>\n",
       "      <td>122</td>\n",
       "      <td>16</td>\n",
       "      <td>131</td>\n",
       "      <td>108</td>\n",
       "      <td>103</td>\n",
       "      <td>24</td>\n",
       "      <td>5</td>\n",
       "      <td>2</td>\n",
       "      <td>4.566503</td>\n",
       "      <td>1.586207</td>\n",
       "    </tr>\n",
       "    <tr>\n",
       "      <th>860</th>\n",
       "      <td>27</td>\n",
       "      <td>6</td>\n",
       "      <td>11</td>\n",
       "      <td>137.0</td>\n",
       "      <td>155</td>\n",
       "      <td>91</td>\n",
       "      <td>25</td>\n",
       "      <td>110</td>\n",
       "      <td>58</td>\n",
       "      <td>87</td>\n",
       "      <td>0</td>\n",
       "      <td>0</td>\n",
       "      <td>0</td>\n",
       "      <td>5.720000</td>\n",
       "      <td>1.554745</td>\n",
       "    </tr>\n",
       "  </tbody>\n",
       "</table>\n",
       "<p>5512 rows × 15 columns</p>\n",
       "</div>"
      ],
      "text/plain": [
       "        G   W   L     IP    H    R  HR   SO   BB   ER  SV  BS  BK       ERA  \\\n",
       "3489   29   6   7  108.1  130   79  18  109   43   70   0   1   2  5.815385   \n",
       "3071   54  11  20  228.2  234  137  26  166   77  126   0   2   7  4.959184   \n",
       "4505   61   6  10  119.2  124   63  14  111   28   52   1   6   0  3.910863   \n",
       "5034   75  19  17  292.1  258  160  17  276  126  127   0   1   3  3.909920   \n",
       "3283   28   6   2   74.1   60   35   7   79   23   33   0   2   0  3.995516   \n",
       "...   ...  ..  ..    ...  ...  ...  ..  ...  ...  ...  ..  ..  ..       ...   \n",
       "2759   71   8   9  132.2  102   58  11  201   72   53   2   6   0  3.595477   \n",
       "4178  112  38  40  616.0  631  331  64  432  151  293   0   0   6  4.280844   \n",
       "4213  172  21  21  439.0  437  207  35  364  137  178   8   8   2  3.649203   \n",
       "4377  143   8   7  203.0  214  122  16  131  108  103  24   5   2  4.566503   \n",
       "860    27   6  11  137.0  155   91  25  110   58   87   0   0   0  5.720000   \n",
       "\n",
       "          WHIP  \n",
       "3489  1.600370  \n",
       "3071  1.362840  \n",
       "4505  1.275168  \n",
       "5034  1.314618  \n",
       "3283  1.120108  \n",
       "...        ...  \n",
       "2759  1.316188  \n",
       "4178  1.269481  \n",
       "4213  1.307517  \n",
       "4377  1.586207  \n",
       "860   1.554745  \n",
       "\n",
       "[5512 rows x 15 columns]"
      ]
     },
     "execution_count": 82,
     "metadata": {},
     "output_type": "execute_result"
    }
   ],
   "source": [
    "X_train"
   ]
  },
  {
   "cell_type": "code",
   "execution_count": 83,
   "id": "93e1296c",
   "metadata": {},
   "outputs": [
    {
     "data": {
      "text/plain": [
       "0    4709\n",
       "1     803\n",
       "Name: Leagues, dtype: int64"
      ]
     },
     "execution_count": 83,
     "metadata": {},
     "output_type": "execute_result"
    }
   ],
   "source": [
    "y_train.value_counts()"
   ]
  },
  {
   "cell_type": "code",
   "execution_count": 84,
   "id": "bae99440",
   "metadata": {},
   "outputs": [],
   "source": [
    "preds = sm_model.predict(X_test)"
   ]
  },
  {
   "cell_type": "code",
   "execution_count": 85,
   "id": "463cdd22",
   "metadata": {},
   "outputs": [],
   "source": [
    "pred_df = pd.concat([X_test,y_test],axis =1)"
   ]
  },
  {
   "cell_type": "code",
   "execution_count": 86,
   "id": "3e4c34b0",
   "metadata": {},
   "outputs": [
    {
     "data": {
      "text/plain": [
       "(1379, 16)"
      ]
     },
     "execution_count": 86,
     "metadata": {},
     "output_type": "execute_result"
    }
   ],
   "source": [
    "pred_df = pred_df.reset_index().drop('index',1)\n",
    "pred_df.shape"
   ]
  },
  {
   "cell_type": "code",
   "execution_count": 87,
   "id": "624826ce",
   "metadata": {},
   "outputs": [],
   "source": [
    "preds_df = pd.concat([pred_df, pd.Series(preds)],1)"
   ]
  },
  {
   "cell_type": "code",
   "execution_count": 88,
   "id": "71b5a7a8",
   "metadata": {},
   "outputs": [],
   "source": [
    "# Minor League players - based on stats - that can be placed in the Major Leagues"
   ]
  },
  {
   "cell_type": "code",
   "execution_count": 89,
   "id": "bf97dc8d",
   "metadata": {
    "scrolled": true
   },
   "outputs": [
    {
     "data": {
      "text/html": [
       "<div>\n",
       "<style scoped>\n",
       "    .dataframe tbody tr th:only-of-type {\n",
       "        vertical-align: middle;\n",
       "    }\n",
       "\n",
       "    .dataframe tbody tr th {\n",
       "        vertical-align: top;\n",
       "    }\n",
       "\n",
       "    .dataframe thead th {\n",
       "        text-align: right;\n",
       "    }\n",
       "</style>\n",
       "<table border=\"1\" class=\"dataframe\">\n",
       "  <thead>\n",
       "    <tr style=\"text-align: right;\">\n",
       "      <th></th>\n",
       "      <th>G</th>\n",
       "      <th>W</th>\n",
       "      <th>L</th>\n",
       "      <th>IP</th>\n",
       "      <th>H</th>\n",
       "      <th>R</th>\n",
       "      <th>HR</th>\n",
       "      <th>SO</th>\n",
       "      <th>BB</th>\n",
       "      <th>ER</th>\n",
       "      <th>SV</th>\n",
       "      <th>BS</th>\n",
       "      <th>BK</th>\n",
       "      <th>ERA</th>\n",
       "      <th>WHIP</th>\n",
       "      <th>Leagues</th>\n",
       "      <th>0</th>\n",
       "    </tr>\n",
       "  </thead>\n",
       "  <tbody>\n",
       "    <tr>\n",
       "      <th>6</th>\n",
       "      <td>55</td>\n",
       "      <td>13</td>\n",
       "      <td>19</td>\n",
       "      <td>270.0</td>\n",
       "      <td>229</td>\n",
       "      <td>120</td>\n",
       "      <td>38</td>\n",
       "      <td>283</td>\n",
       "      <td>67</td>\n",
       "      <td>112</td>\n",
       "      <td>0</td>\n",
       "      <td>0</td>\n",
       "      <td>2</td>\n",
       "      <td>3.733333</td>\n",
       "      <td>1.096296</td>\n",
       "      <td>0</td>\n",
       "      <td>1</td>\n",
       "    </tr>\n",
       "    <tr>\n",
       "      <th>49</th>\n",
       "      <td>14</td>\n",
       "      <td>2</td>\n",
       "      <td>4</td>\n",
       "      <td>66.2</td>\n",
       "      <td>62</td>\n",
       "      <td>31</td>\n",
       "      <td>3</td>\n",
       "      <td>37</td>\n",
       "      <td>17</td>\n",
       "      <td>27</td>\n",
       "      <td>0</td>\n",
       "      <td>0</td>\n",
       "      <td>0</td>\n",
       "      <td>3.645001</td>\n",
       "      <td>1.193353</td>\n",
       "      <td>0</td>\n",
       "      <td>1</td>\n",
       "    </tr>\n",
       "    <tr>\n",
       "      <th>56</th>\n",
       "      <td>25</td>\n",
       "      <td>7</td>\n",
       "      <td>9</td>\n",
       "      <td>135.0</td>\n",
       "      <td>114</td>\n",
       "      <td>59</td>\n",
       "      <td>8</td>\n",
       "      <td>133</td>\n",
       "      <td>57</td>\n",
       "      <td>49</td>\n",
       "      <td>0</td>\n",
       "      <td>0</td>\n",
       "      <td>0</td>\n",
       "      <td>3.266667</td>\n",
       "      <td>1.266667</td>\n",
       "      <td>0</td>\n",
       "      <td>1</td>\n",
       "    </tr>\n",
       "    <tr>\n",
       "      <th>75</th>\n",
       "      <td>2</td>\n",
       "      <td>0</td>\n",
       "      <td>1</td>\n",
       "      <td>6.2</td>\n",
       "      <td>4</td>\n",
       "      <td>3</td>\n",
       "      <td>0</td>\n",
       "      <td>2</td>\n",
       "      <td>6</td>\n",
       "      <td>2</td>\n",
       "      <td>0</td>\n",
       "      <td>0</td>\n",
       "      <td>1</td>\n",
       "      <td>2.699999</td>\n",
       "      <td>1.612903</td>\n",
       "      <td>0</td>\n",
       "      <td>1</td>\n",
       "    </tr>\n",
       "    <tr>\n",
       "      <th>77</th>\n",
       "      <td>2</td>\n",
       "      <td>0</td>\n",
       "      <td>1</td>\n",
       "      <td>6.0</td>\n",
       "      <td>11</td>\n",
       "      <td>8</td>\n",
       "      <td>0</td>\n",
       "      <td>8</td>\n",
       "      <td>2</td>\n",
       "      <td>6</td>\n",
       "      <td>0</td>\n",
       "      <td>0</td>\n",
       "      <td>1</td>\n",
       "      <td>9.000000</td>\n",
       "      <td>2.166667</td>\n",
       "      <td>0</td>\n",
       "      <td>1</td>\n",
       "    </tr>\n",
       "    <tr>\n",
       "      <th>93</th>\n",
       "      <td>54</td>\n",
       "      <td>16</td>\n",
       "      <td>16</td>\n",
       "      <td>285.2</td>\n",
       "      <td>331</td>\n",
       "      <td>171</td>\n",
       "      <td>44</td>\n",
       "      <td>204</td>\n",
       "      <td>70</td>\n",
       "      <td>164</td>\n",
       "      <td>0</td>\n",
       "      <td>1</td>\n",
       "      <td>0</td>\n",
       "      <td>5.166861</td>\n",
       "      <td>1.406031</td>\n",
       "      <td>0</td>\n",
       "      <td>1</td>\n",
       "    </tr>\n",
       "    <tr>\n",
       "      <th>135</th>\n",
       "      <td>25</td>\n",
       "      <td>6</td>\n",
       "      <td>7</td>\n",
       "      <td>117.2</td>\n",
       "      <td>108</td>\n",
       "      <td>65</td>\n",
       "      <td>23</td>\n",
       "      <td>118</td>\n",
       "      <td>54</td>\n",
       "      <td>61</td>\n",
       "      <td>0</td>\n",
       "      <td>0</td>\n",
       "      <td>0</td>\n",
       "      <td>4.665722</td>\n",
       "      <td>1.382253</td>\n",
       "      <td>0</td>\n",
       "      <td>1</td>\n",
       "    </tr>\n",
       "    <tr>\n",
       "      <th>169</th>\n",
       "      <td>22</td>\n",
       "      <td>3</td>\n",
       "      <td>5</td>\n",
       "      <td>52.0</td>\n",
       "      <td>85</td>\n",
       "      <td>69</td>\n",
       "      <td>10</td>\n",
       "      <td>37</td>\n",
       "      <td>32</td>\n",
       "      <td>57</td>\n",
       "      <td>0</td>\n",
       "      <td>2</td>\n",
       "      <td>0</td>\n",
       "      <td>9.865385</td>\n",
       "      <td>2.250000</td>\n",
       "      <td>0</td>\n",
       "      <td>1</td>\n",
       "    </tr>\n",
       "    <tr>\n",
       "      <th>199</th>\n",
       "      <td>54</td>\n",
       "      <td>19</td>\n",
       "      <td>17</td>\n",
       "      <td>303.0</td>\n",
       "      <td>300</td>\n",
       "      <td>152</td>\n",
       "      <td>35</td>\n",
       "      <td>240</td>\n",
       "      <td>89</td>\n",
       "      <td>136</td>\n",
       "      <td>0</td>\n",
       "      <td>0</td>\n",
       "      <td>2</td>\n",
       "      <td>4.039604</td>\n",
       "      <td>1.283828</td>\n",
       "      <td>0</td>\n",
       "      <td>1</td>\n",
       "    </tr>\n",
       "    <tr>\n",
       "      <th>201</th>\n",
       "      <td>65</td>\n",
       "      <td>15</td>\n",
       "      <td>19</td>\n",
       "      <td>304.0</td>\n",
       "      <td>284</td>\n",
       "      <td>167</td>\n",
       "      <td>43</td>\n",
       "      <td>313</td>\n",
       "      <td>130</td>\n",
       "      <td>155</td>\n",
       "      <td>0</td>\n",
       "      <td>0</td>\n",
       "      <td>1</td>\n",
       "      <td>4.588816</td>\n",
       "      <td>1.361842</td>\n",
       "      <td>0</td>\n",
       "      <td>1</td>\n",
       "    </tr>\n",
       "    <tr>\n",
       "      <th>246</th>\n",
       "      <td>24</td>\n",
       "      <td>8</td>\n",
       "      <td>7</td>\n",
       "      <td>138.0</td>\n",
       "      <td>121</td>\n",
       "      <td>66</td>\n",
       "      <td>10</td>\n",
       "      <td>91</td>\n",
       "      <td>60</td>\n",
       "      <td>53</td>\n",
       "      <td>0</td>\n",
       "      <td>0</td>\n",
       "      <td>0</td>\n",
       "      <td>3.456522</td>\n",
       "      <td>1.311594</td>\n",
       "      <td>0</td>\n",
       "      <td>1</td>\n",
       "    </tr>\n",
       "    <tr>\n",
       "      <th>295</th>\n",
       "      <td>2</td>\n",
       "      <td>1</td>\n",
       "      <td>0</td>\n",
       "      <td>8.0</td>\n",
       "      <td>3</td>\n",
       "      <td>2</td>\n",
       "      <td>0</td>\n",
       "      <td>11</td>\n",
       "      <td>2</td>\n",
       "      <td>2</td>\n",
       "      <td>0</td>\n",
       "      <td>0</td>\n",
       "      <td>0</td>\n",
       "      <td>2.250000</td>\n",
       "      <td>0.625000</td>\n",
       "      <td>0</td>\n",
       "      <td>1</td>\n",
       "    </tr>\n",
       "    <tr>\n",
       "      <th>331</th>\n",
       "      <td>14</td>\n",
       "      <td>0</td>\n",
       "      <td>1</td>\n",
       "      <td>50.2</td>\n",
       "      <td>40</td>\n",
       "      <td>19</td>\n",
       "      <td>0</td>\n",
       "      <td>46</td>\n",
       "      <td>16</td>\n",
       "      <td>18</td>\n",
       "      <td>0</td>\n",
       "      <td>0</td>\n",
       "      <td>0</td>\n",
       "      <td>3.197368</td>\n",
       "      <td>1.115538</td>\n",
       "      <td>0</td>\n",
       "      <td>1</td>\n",
       "    </tr>\n",
       "    <tr>\n",
       "      <th>435</th>\n",
       "      <td>22</td>\n",
       "      <td>5</td>\n",
       "      <td>6</td>\n",
       "      <td>119.1</td>\n",
       "      <td>108</td>\n",
       "      <td>41</td>\n",
       "      <td>4</td>\n",
       "      <td>73</td>\n",
       "      <td>34</td>\n",
       "      <td>37</td>\n",
       "      <td>0</td>\n",
       "      <td>0</td>\n",
       "      <td>0</td>\n",
       "      <td>2.790503</td>\n",
       "      <td>1.192275</td>\n",
       "      <td>0</td>\n",
       "      <td>1</td>\n",
       "    </tr>\n",
       "    <tr>\n",
       "      <th>438</th>\n",
       "      <td>38</td>\n",
       "      <td>7</td>\n",
       "      <td>16</td>\n",
       "      <td>173.0</td>\n",
       "      <td>158</td>\n",
       "      <td>92</td>\n",
       "      <td>25</td>\n",
       "      <td>211</td>\n",
       "      <td>54</td>\n",
       "      <td>86</td>\n",
       "      <td>0</td>\n",
       "      <td>0</td>\n",
       "      <td>1</td>\n",
       "      <td>4.473989</td>\n",
       "      <td>1.225434</td>\n",
       "      <td>0</td>\n",
       "      <td>1</td>\n",
       "    </tr>\n",
       "    <tr>\n",
       "      <th>455</th>\n",
       "      <td>28</td>\n",
       "      <td>5</td>\n",
       "      <td>11</td>\n",
       "      <td>135.2</td>\n",
       "      <td>158</td>\n",
       "      <td>96</td>\n",
       "      <td>18</td>\n",
       "      <td>74</td>\n",
       "      <td>58</td>\n",
       "      <td>87</td>\n",
       "      <td>0</td>\n",
       "      <td>0</td>\n",
       "      <td>0</td>\n",
       "      <td>5.771499</td>\n",
       "      <td>1.597633</td>\n",
       "      <td>0</td>\n",
       "      <td>1</td>\n",
       "    </tr>\n",
       "    <tr>\n",
       "      <th>471</th>\n",
       "      <td>25</td>\n",
       "      <td>7</td>\n",
       "      <td>11</td>\n",
       "      <td>122.0</td>\n",
       "      <td>124</td>\n",
       "      <td>77</td>\n",
       "      <td>17</td>\n",
       "      <td>108</td>\n",
       "      <td>40</td>\n",
       "      <td>61</td>\n",
       "      <td>0</td>\n",
       "      <td>0</td>\n",
       "      <td>0</td>\n",
       "      <td>4.500000</td>\n",
       "      <td>1.344262</td>\n",
       "      <td>0</td>\n",
       "      <td>1</td>\n",
       "    </tr>\n",
       "    <tr>\n",
       "      <th>496</th>\n",
       "      <td>48</td>\n",
       "      <td>13</td>\n",
       "      <td>7</td>\n",
       "      <td>196.2</td>\n",
       "      <td>186</td>\n",
       "      <td>114</td>\n",
       "      <td>34</td>\n",
       "      <td>227</td>\n",
       "      <td>96</td>\n",
       "      <td>104</td>\n",
       "      <td>0</td>\n",
       "      <td>0</td>\n",
       "      <td>1</td>\n",
       "      <td>4.759322</td>\n",
       "      <td>1.437309</td>\n",
       "      <td>0</td>\n",
       "      <td>1</td>\n",
       "    </tr>\n",
       "    <tr>\n",
       "      <th>579</th>\n",
       "      <td>68</td>\n",
       "      <td>27</td>\n",
       "      <td>17</td>\n",
       "      <td>360.2</td>\n",
       "      <td>257</td>\n",
       "      <td>126</td>\n",
       "      <td>34</td>\n",
       "      <td>430</td>\n",
       "      <td>116</td>\n",
       "      <td>110</td>\n",
       "      <td>0</td>\n",
       "      <td>0</td>\n",
       "      <td>1</td>\n",
       "      <td>2.744917</td>\n",
       "      <td>1.035536</td>\n",
       "      <td>0</td>\n",
       "      <td>1</td>\n",
       "    </tr>\n",
       "    <tr>\n",
       "      <th>605</th>\n",
       "      <td>41</td>\n",
       "      <td>15</td>\n",
       "      <td>6</td>\n",
       "      <td>214.1</td>\n",
       "      <td>210</td>\n",
       "      <td>116</td>\n",
       "      <td>30</td>\n",
       "      <td>221</td>\n",
       "      <td>70</td>\n",
       "      <td>103</td>\n",
       "      <td>0</td>\n",
       "      <td>0</td>\n",
       "      <td>1</td>\n",
       "      <td>4.325039</td>\n",
       "      <td>1.307800</td>\n",
       "      <td>0</td>\n",
       "      <td>1</td>\n",
       "    </tr>\n",
       "    <tr>\n",
       "      <th>609</th>\n",
       "      <td>11</td>\n",
       "      <td>5</td>\n",
       "      <td>1</td>\n",
       "      <td>53.1</td>\n",
       "      <td>48</td>\n",
       "      <td>20</td>\n",
       "      <td>7</td>\n",
       "      <td>64</td>\n",
       "      <td>19</td>\n",
       "      <td>20</td>\n",
       "      <td>0</td>\n",
       "      <td>0</td>\n",
       "      <td>0</td>\n",
       "      <td>3.375000</td>\n",
       "      <td>1.261770</td>\n",
       "      <td>0</td>\n",
       "      <td>1</td>\n",
       "    </tr>\n",
       "    <tr>\n",
       "      <th>618</th>\n",
       "      <td>37</td>\n",
       "      <td>8</td>\n",
       "      <td>7</td>\n",
       "      <td>164.0</td>\n",
       "      <td>142</td>\n",
       "      <td>71</td>\n",
       "      <td>23</td>\n",
       "      <td>184</td>\n",
       "      <td>55</td>\n",
       "      <td>61</td>\n",
       "      <td>0</td>\n",
       "      <td>0</td>\n",
       "      <td>0</td>\n",
       "      <td>3.347561</td>\n",
       "      <td>1.201220</td>\n",
       "      <td>0</td>\n",
       "      <td>1</td>\n",
       "    </tr>\n",
       "    <tr>\n",
       "      <th>646</th>\n",
       "      <td>2</td>\n",
       "      <td>1</td>\n",
       "      <td>0</td>\n",
       "      <td>6.2</td>\n",
       "      <td>3</td>\n",
       "      <td>1</td>\n",
       "      <td>1</td>\n",
       "      <td>12</td>\n",
       "      <td>4</td>\n",
       "      <td>1</td>\n",
       "      <td>0</td>\n",
       "      <td>0</td>\n",
       "      <td>0</td>\n",
       "      <td>1.349999</td>\n",
       "      <td>1.129032</td>\n",
       "      <td>0</td>\n",
       "      <td>1</td>\n",
       "    </tr>\n",
       "    <tr>\n",
       "      <th>666</th>\n",
       "      <td>2</td>\n",
       "      <td>0</td>\n",
       "      <td>0</td>\n",
       "      <td>7.1</td>\n",
       "      <td>9</td>\n",
       "      <td>1</td>\n",
       "      <td>1</td>\n",
       "      <td>4</td>\n",
       "      <td>1</td>\n",
       "      <td>1</td>\n",
       "      <td>0</td>\n",
       "      <td>0</td>\n",
       "      <td>1</td>\n",
       "      <td>1.227273</td>\n",
       "      <td>1.408451</td>\n",
       "      <td>0</td>\n",
       "      <td>1</td>\n",
       "    </tr>\n",
       "    <tr>\n",
       "      <th>679</th>\n",
       "      <td>28</td>\n",
       "      <td>7</td>\n",
       "      <td>5</td>\n",
       "      <td>116.0</td>\n",
       "      <td>119</td>\n",
       "      <td>60</td>\n",
       "      <td>18</td>\n",
       "      <td>93</td>\n",
       "      <td>55</td>\n",
       "      <td>55</td>\n",
       "      <td>0</td>\n",
       "      <td>0</td>\n",
       "      <td>2</td>\n",
       "      <td>4.267241</td>\n",
       "      <td>1.500000</td>\n",
       "      <td>0</td>\n",
       "      <td>1</td>\n",
       "    </tr>\n",
       "    <tr>\n",
       "      <th>709</th>\n",
       "      <td>28</td>\n",
       "      <td>8</td>\n",
       "      <td>9</td>\n",
       "      <td>151.0</td>\n",
       "      <td>146</td>\n",
       "      <td>81</td>\n",
       "      <td>14</td>\n",
       "      <td>116</td>\n",
       "      <td>69</td>\n",
       "      <td>72</td>\n",
       "      <td>0</td>\n",
       "      <td>0</td>\n",
       "      <td>1</td>\n",
       "      <td>4.291391</td>\n",
       "      <td>1.423841</td>\n",
       "      <td>0</td>\n",
       "      <td>1</td>\n",
       "    </tr>\n",
       "    <tr>\n",
       "      <th>785</th>\n",
       "      <td>2</td>\n",
       "      <td>0</td>\n",
       "      <td>1</td>\n",
       "      <td>5.2</td>\n",
       "      <td>3</td>\n",
       "      <td>7</td>\n",
       "      <td>0</td>\n",
       "      <td>3</td>\n",
       "      <td>9</td>\n",
       "      <td>6</td>\n",
       "      <td>0</td>\n",
       "      <td>0</td>\n",
       "      <td>0</td>\n",
       "      <td>9.529406</td>\n",
       "      <td>2.307692</td>\n",
       "      <td>0</td>\n",
       "      <td>1</td>\n",
       "    </tr>\n",
       "    <tr>\n",
       "      <th>807</th>\n",
       "      <td>21</td>\n",
       "      <td>8</td>\n",
       "      <td>8</td>\n",
       "      <td>135.2</td>\n",
       "      <td>138</td>\n",
       "      <td>49</td>\n",
       "      <td>5</td>\n",
       "      <td>103</td>\n",
       "      <td>10</td>\n",
       "      <td>47</td>\n",
       "      <td>0</td>\n",
       "      <td>0</td>\n",
       "      <td>0</td>\n",
       "      <td>3.117936</td>\n",
       "      <td>1.094675</td>\n",
       "      <td>0</td>\n",
       "      <td>1</td>\n",
       "    </tr>\n",
       "    <tr>\n",
       "      <th>870</th>\n",
       "      <td>30</td>\n",
       "      <td>8</td>\n",
       "      <td>12</td>\n",
       "      <td>134.1</td>\n",
       "      <td>157</td>\n",
       "      <td>82</td>\n",
       "      <td>13</td>\n",
       "      <td>84</td>\n",
       "      <td>50</td>\n",
       "      <td>77</td>\n",
       "      <td>0</td>\n",
       "      <td>0</td>\n",
       "      <td>0</td>\n",
       "      <td>5.158809</td>\n",
       "      <td>1.543624</td>\n",
       "      <td>0</td>\n",
       "      <td>1</td>\n",
       "    </tr>\n",
       "    <tr>\n",
       "      <th>899</th>\n",
       "      <td>42</td>\n",
       "      <td>21</td>\n",
       "      <td>8</td>\n",
       "      <td>220.0</td>\n",
       "      <td>193</td>\n",
       "      <td>70</td>\n",
       "      <td>19</td>\n",
       "      <td>224</td>\n",
       "      <td>23</td>\n",
       "      <td>62</td>\n",
       "      <td>1</td>\n",
       "      <td>0</td>\n",
       "      <td>0</td>\n",
       "      <td>2.536364</td>\n",
       "      <td>0.981818</td>\n",
       "      <td>0</td>\n",
       "      <td>1</td>\n",
       "    </tr>\n",
       "    <tr>\n",
       "      <th>912</th>\n",
       "      <td>2</td>\n",
       "      <td>0</td>\n",
       "      <td>0</td>\n",
       "      <td>9.0</td>\n",
       "      <td>8</td>\n",
       "      <td>3</td>\n",
       "      <td>0</td>\n",
       "      <td>9</td>\n",
       "      <td>1</td>\n",
       "      <td>2</td>\n",
       "      <td>0</td>\n",
       "      <td>0</td>\n",
       "      <td>0</td>\n",
       "      <td>2.000000</td>\n",
       "      <td>1.000000</td>\n",
       "      <td>0</td>\n",
       "      <td>1</td>\n",
       "    </tr>\n",
       "    <tr>\n",
       "      <th>929</th>\n",
       "      <td>2</td>\n",
       "      <td>1</td>\n",
       "      <td>0</td>\n",
       "      <td>5.2</td>\n",
       "      <td>6</td>\n",
       "      <td>1</td>\n",
       "      <td>1</td>\n",
       "      <td>3</td>\n",
       "      <td>1</td>\n",
       "      <td>1</td>\n",
       "      <td>0</td>\n",
       "      <td>0</td>\n",
       "      <td>1</td>\n",
       "      <td>1.588234</td>\n",
       "      <td>1.346154</td>\n",
       "      <td>0</td>\n",
       "      <td>1</td>\n",
       "    </tr>\n",
       "    <tr>\n",
       "      <th>942</th>\n",
       "      <td>29</td>\n",
       "      <td>4</td>\n",
       "      <td>5</td>\n",
       "      <td>118.2</td>\n",
       "      <td>111</td>\n",
       "      <td>60</td>\n",
       "      <td>19</td>\n",
       "      <td>122</td>\n",
       "      <td>40</td>\n",
       "      <td>53</td>\n",
       "      <td>1</td>\n",
       "      <td>0</td>\n",
       "      <td>0</td>\n",
       "      <td>4.019663</td>\n",
       "      <td>1.277496</td>\n",
       "      <td>0</td>\n",
       "      <td>1</td>\n",
       "    </tr>\n",
       "    <tr>\n",
       "      <th>945</th>\n",
       "      <td>10</td>\n",
       "      <td>4</td>\n",
       "      <td>1</td>\n",
       "      <td>48.1</td>\n",
       "      <td>39</td>\n",
       "      <td>15</td>\n",
       "      <td>3</td>\n",
       "      <td>52</td>\n",
       "      <td>12</td>\n",
       "      <td>15</td>\n",
       "      <td>0</td>\n",
       "      <td>0</td>\n",
       "      <td>0</td>\n",
       "      <td>2.793104</td>\n",
       "      <td>1.060291</td>\n",
       "      <td>0</td>\n",
       "      <td>1</td>\n",
       "    </tr>\n",
       "    <tr>\n",
       "      <th>946</th>\n",
       "      <td>38</td>\n",
       "      <td>10</td>\n",
       "      <td>5</td>\n",
       "      <td>180.1</td>\n",
       "      <td>145</td>\n",
       "      <td>62</td>\n",
       "      <td>16</td>\n",
       "      <td>208</td>\n",
       "      <td>55</td>\n",
       "      <td>57</td>\n",
       "      <td>2</td>\n",
       "      <td>0</td>\n",
       "      <td>1</td>\n",
       "      <td>2.844732</td>\n",
       "      <td>1.110494</td>\n",
       "      <td>0</td>\n",
       "      <td>1</td>\n",
       "    </tr>\n",
       "    <tr>\n",
       "      <th>964</th>\n",
       "      <td>30</td>\n",
       "      <td>7</td>\n",
       "      <td>8</td>\n",
       "      <td>162.1</td>\n",
       "      <td>163</td>\n",
       "      <td>68</td>\n",
       "      <td>19</td>\n",
       "      <td>101</td>\n",
       "      <td>32</td>\n",
       "      <td>64</td>\n",
       "      <td>1</td>\n",
       "      <td>0</td>\n",
       "      <td>1</td>\n",
       "      <td>3.548255</td>\n",
       "      <td>1.202961</td>\n",
       "      <td>0</td>\n",
       "      <td>1</td>\n",
       "    </tr>\n",
       "    <tr>\n",
       "      <th>982</th>\n",
       "      <td>22</td>\n",
       "      <td>1</td>\n",
       "      <td>6</td>\n",
       "      <td>68.0</td>\n",
       "      <td>65</td>\n",
       "      <td>37</td>\n",
       "      <td>9</td>\n",
       "      <td>63</td>\n",
       "      <td>29</td>\n",
       "      <td>34</td>\n",
       "      <td>1</td>\n",
       "      <td>0</td>\n",
       "      <td>0</td>\n",
       "      <td>4.500000</td>\n",
       "      <td>1.382353</td>\n",
       "      <td>0</td>\n",
       "      <td>1</td>\n",
       "    </tr>\n",
       "    <tr>\n",
       "      <th>1025</th>\n",
       "      <td>2</td>\n",
       "      <td>0</td>\n",
       "      <td>1</td>\n",
       "      <td>6.2</td>\n",
       "      <td>6</td>\n",
       "      <td>4</td>\n",
       "      <td>0</td>\n",
       "      <td>5</td>\n",
       "      <td>2</td>\n",
       "      <td>2</td>\n",
       "      <td>0</td>\n",
       "      <td>0</td>\n",
       "      <td>0</td>\n",
       "      <td>2.699999</td>\n",
       "      <td>1.290323</td>\n",
       "      <td>0</td>\n",
       "      <td>1</td>\n",
       "    </tr>\n",
       "    <tr>\n",
       "      <th>1041</th>\n",
       "      <td>29</td>\n",
       "      <td>6</td>\n",
       "      <td>8</td>\n",
       "      <td>123.0</td>\n",
       "      <td>154</td>\n",
       "      <td>78</td>\n",
       "      <td>10</td>\n",
       "      <td>86</td>\n",
       "      <td>37</td>\n",
       "      <td>75</td>\n",
       "      <td>4</td>\n",
       "      <td>0</td>\n",
       "      <td>0</td>\n",
       "      <td>5.487805</td>\n",
       "      <td>1.552846</td>\n",
       "      <td>0</td>\n",
       "      <td>1</td>\n",
       "    </tr>\n",
       "    <tr>\n",
       "      <th>1042</th>\n",
       "      <td>27</td>\n",
       "      <td>9</td>\n",
       "      <td>7</td>\n",
       "      <td>153.2</td>\n",
       "      <td>165</td>\n",
       "      <td>80</td>\n",
       "      <td>17</td>\n",
       "      <td>90</td>\n",
       "      <td>40</td>\n",
       "      <td>74</td>\n",
       "      <td>0</td>\n",
       "      <td>0</td>\n",
       "      <td>1</td>\n",
       "      <td>4.334056</td>\n",
       "      <td>1.338120</td>\n",
       "      <td>0</td>\n",
       "      <td>1</td>\n",
       "    </tr>\n",
       "    <tr>\n",
       "      <th>1062</th>\n",
       "      <td>13</td>\n",
       "      <td>2</td>\n",
       "      <td>1</td>\n",
       "      <td>54.2</td>\n",
       "      <td>36</td>\n",
       "      <td>13</td>\n",
       "      <td>1</td>\n",
       "      <td>54</td>\n",
       "      <td>19</td>\n",
       "      <td>12</td>\n",
       "      <td>0</td>\n",
       "      <td>0</td>\n",
       "      <td>0</td>\n",
       "      <td>1.975610</td>\n",
       "      <td>1.014760</td>\n",
       "      <td>0</td>\n",
       "      <td>1</td>\n",
       "    </tr>\n",
       "    <tr>\n",
       "      <th>1095</th>\n",
       "      <td>27</td>\n",
       "      <td>11</td>\n",
       "      <td>8</td>\n",
       "      <td>152.2</td>\n",
       "      <td>155</td>\n",
       "      <td>61</td>\n",
       "      <td>8</td>\n",
       "      <td>99</td>\n",
       "      <td>37</td>\n",
       "      <td>56</td>\n",
       "      <td>0</td>\n",
       "      <td>0</td>\n",
       "      <td>1</td>\n",
       "      <td>3.301310</td>\n",
       "      <td>1.261498</td>\n",
       "      <td>0</td>\n",
       "      <td>1</td>\n",
       "    </tr>\n",
       "    <tr>\n",
       "      <th>1114</th>\n",
       "      <td>30</td>\n",
       "      <td>5</td>\n",
       "      <td>4</td>\n",
       "      <td>136.1</td>\n",
       "      <td>121</td>\n",
       "      <td>57</td>\n",
       "      <td>9</td>\n",
       "      <td>156</td>\n",
       "      <td>53</td>\n",
       "      <td>54</td>\n",
       "      <td>0</td>\n",
       "      <td>0</td>\n",
       "      <td>0</td>\n",
       "      <td>3.564792</td>\n",
       "      <td>1.278472</td>\n",
       "      <td>0</td>\n",
       "      <td>1</td>\n",
       "    </tr>\n",
       "    <tr>\n",
       "      <th>1137</th>\n",
       "      <td>3</td>\n",
       "      <td>0</td>\n",
       "      <td>0</td>\n",
       "      <td>6.2</td>\n",
       "      <td>7</td>\n",
       "      <td>4</td>\n",
       "      <td>0</td>\n",
       "      <td>8</td>\n",
       "      <td>1</td>\n",
       "      <td>4</td>\n",
       "      <td>0</td>\n",
       "      <td>0</td>\n",
       "      <td>0</td>\n",
       "      <td>5.399997</td>\n",
       "      <td>1.290323</td>\n",
       "      <td>0</td>\n",
       "      <td>1</td>\n",
       "    </tr>\n",
       "    <tr>\n",
       "      <th>1146</th>\n",
       "      <td>59</td>\n",
       "      <td>14</td>\n",
       "      <td>25</td>\n",
       "      <td>282.2</td>\n",
       "      <td>334</td>\n",
       "      <td>203</td>\n",
       "      <td>46</td>\n",
       "      <td>251</td>\n",
       "      <td>142</td>\n",
       "      <td>186</td>\n",
       "      <td>0</td>\n",
       "      <td>0</td>\n",
       "      <td>1</td>\n",
       "      <td>5.922170</td>\n",
       "      <td>1.686747</td>\n",
       "      <td>0</td>\n",
       "      <td>1</td>\n",
       "    </tr>\n",
       "    <tr>\n",
       "      <th>1163</th>\n",
       "      <td>29</td>\n",
       "      <td>7</td>\n",
       "      <td>9</td>\n",
       "      <td>120.2</td>\n",
       "      <td>127</td>\n",
       "      <td>62</td>\n",
       "      <td>20</td>\n",
       "      <td>102</td>\n",
       "      <td>29</td>\n",
       "      <td>62</td>\n",
       "      <td>0</td>\n",
       "      <td>0</td>\n",
       "      <td>0</td>\n",
       "      <td>4.624310</td>\n",
       "      <td>1.297837</td>\n",
       "      <td>0</td>\n",
       "      <td>1</td>\n",
       "    </tr>\n",
       "    <tr>\n",
       "      <th>1310</th>\n",
       "      <td>26</td>\n",
       "      <td>8</td>\n",
       "      <td>7</td>\n",
       "      <td>127.1</td>\n",
       "      <td>109</td>\n",
       "      <td>47</td>\n",
       "      <td>14</td>\n",
       "      <td>127</td>\n",
       "      <td>29</td>\n",
       "      <td>47</td>\n",
       "      <td>0</td>\n",
       "      <td>0</td>\n",
       "      <td>1</td>\n",
       "      <td>3.321990</td>\n",
       "      <td>1.085759</td>\n",
       "      <td>0</td>\n",
       "      <td>1</td>\n",
       "    </tr>\n",
       "    <tr>\n",
       "      <th>1332</th>\n",
       "      <td>30</td>\n",
       "      <td>7</td>\n",
       "      <td>11</td>\n",
       "      <td>150.0</td>\n",
       "      <td>156</td>\n",
       "      <td>78</td>\n",
       "      <td>12</td>\n",
       "      <td>94</td>\n",
       "      <td>35</td>\n",
       "      <td>72</td>\n",
       "      <td>1</td>\n",
       "      <td>0</td>\n",
       "      <td>0</td>\n",
       "      <td>4.320000</td>\n",
       "      <td>1.273333</td>\n",
       "      <td>0</td>\n",
       "      <td>1</td>\n",
       "    </tr>\n",
       "    <tr>\n",
       "      <th>1342</th>\n",
       "      <td>13</td>\n",
       "      <td>3</td>\n",
       "      <td>4</td>\n",
       "      <td>67.2</td>\n",
       "      <td>57</td>\n",
       "      <td>23</td>\n",
       "      <td>4</td>\n",
       "      <td>46</td>\n",
       "      <td>15</td>\n",
       "      <td>14</td>\n",
       "      <td>0</td>\n",
       "      <td>0</td>\n",
       "      <td>0</td>\n",
       "      <td>1.862069</td>\n",
       "      <td>1.071429</td>\n",
       "      <td>0</td>\n",
       "      <td>1</td>\n",
       "    </tr>\n",
       "    <tr>\n",
       "      <th>1349</th>\n",
       "      <td>2</td>\n",
       "      <td>0</td>\n",
       "      <td>0</td>\n",
       "      <td>6.0</td>\n",
       "      <td>6</td>\n",
       "      <td>1</td>\n",
       "      <td>0</td>\n",
       "      <td>4</td>\n",
       "      <td>7</td>\n",
       "      <td>1</td>\n",
       "      <td>0</td>\n",
       "      <td>0</td>\n",
       "      <td>0</td>\n",
       "      <td>1.500000</td>\n",
       "      <td>2.166667</td>\n",
       "      <td>0</td>\n",
       "      <td>1</td>\n",
       "    </tr>\n",
       "    <tr>\n",
       "      <th>1352</th>\n",
       "      <td>59</td>\n",
       "      <td>22</td>\n",
       "      <td>15</td>\n",
       "      <td>336.2</td>\n",
       "      <td>302</td>\n",
       "      <td>143</td>\n",
       "      <td>56</td>\n",
       "      <td>423</td>\n",
       "      <td>71</td>\n",
       "      <td>134</td>\n",
       "      <td>0</td>\n",
       "      <td>0</td>\n",
       "      <td>0</td>\n",
       "      <td>3.582178</td>\n",
       "      <td>1.109459</td>\n",
       "      <td>0</td>\n",
       "      <td>1</td>\n",
       "    </tr>\n",
       "  </tbody>\n",
       "</table>\n",
       "</div>"
      ],
      "text/plain": [
       "       G   W   L     IP    H    R  HR   SO   BB   ER  SV  BS  BK       ERA  \\\n",
       "6     55  13  19  270.0  229  120  38  283   67  112   0   0   2  3.733333   \n",
       "49    14   2   4   66.2   62   31   3   37   17   27   0   0   0  3.645001   \n",
       "56    25   7   9  135.0  114   59   8  133   57   49   0   0   0  3.266667   \n",
       "75     2   0   1    6.2    4    3   0    2    6    2   0   0   1  2.699999   \n",
       "77     2   0   1    6.0   11    8   0    8    2    6   0   0   1  9.000000   \n",
       "93    54  16  16  285.2  331  171  44  204   70  164   0   1   0  5.166861   \n",
       "135   25   6   7  117.2  108   65  23  118   54   61   0   0   0  4.665722   \n",
       "169   22   3   5   52.0   85   69  10   37   32   57   0   2   0  9.865385   \n",
       "199   54  19  17  303.0  300  152  35  240   89  136   0   0   2  4.039604   \n",
       "201   65  15  19  304.0  284  167  43  313  130  155   0   0   1  4.588816   \n",
       "246   24   8   7  138.0  121   66  10   91   60   53   0   0   0  3.456522   \n",
       "295    2   1   0    8.0    3    2   0   11    2    2   0   0   0  2.250000   \n",
       "331   14   0   1   50.2   40   19   0   46   16   18   0   0   0  3.197368   \n",
       "435   22   5   6  119.1  108   41   4   73   34   37   0   0   0  2.790503   \n",
       "438   38   7  16  173.0  158   92  25  211   54   86   0   0   1  4.473989   \n",
       "455   28   5  11  135.2  158   96  18   74   58   87   0   0   0  5.771499   \n",
       "471   25   7  11  122.0  124   77  17  108   40   61   0   0   0  4.500000   \n",
       "496   48  13   7  196.2  186  114  34  227   96  104   0   0   1  4.759322   \n",
       "579   68  27  17  360.2  257  126  34  430  116  110   0   0   1  2.744917   \n",
       "605   41  15   6  214.1  210  116  30  221   70  103   0   0   1  4.325039   \n",
       "609   11   5   1   53.1   48   20   7   64   19   20   0   0   0  3.375000   \n",
       "618   37   8   7  164.0  142   71  23  184   55   61   0   0   0  3.347561   \n",
       "646    2   1   0    6.2    3    1   1   12    4    1   0   0   0  1.349999   \n",
       "666    2   0   0    7.1    9    1   1    4    1    1   0   0   1  1.227273   \n",
       "679   28   7   5  116.0  119   60  18   93   55   55   0   0   2  4.267241   \n",
       "709   28   8   9  151.0  146   81  14  116   69   72   0   0   1  4.291391   \n",
       "785    2   0   1    5.2    3    7   0    3    9    6   0   0   0  9.529406   \n",
       "807   21   8   8  135.2  138   49   5  103   10   47   0   0   0  3.117936   \n",
       "870   30   8  12  134.1  157   82  13   84   50   77   0   0   0  5.158809   \n",
       "899   42  21   8  220.0  193   70  19  224   23   62   1   0   0  2.536364   \n",
       "912    2   0   0    9.0    8    3   0    9    1    2   0   0   0  2.000000   \n",
       "929    2   1   0    5.2    6    1   1    3    1    1   0   0   1  1.588234   \n",
       "942   29   4   5  118.2  111   60  19  122   40   53   1   0   0  4.019663   \n",
       "945   10   4   1   48.1   39   15   3   52   12   15   0   0   0  2.793104   \n",
       "946   38  10   5  180.1  145   62  16  208   55   57   2   0   1  2.844732   \n",
       "964   30   7   8  162.1  163   68  19  101   32   64   1   0   1  3.548255   \n",
       "982   22   1   6   68.0   65   37   9   63   29   34   1   0   0  4.500000   \n",
       "1025   2   0   1    6.2    6    4   0    5    2    2   0   0   0  2.699999   \n",
       "1041  29   6   8  123.0  154   78  10   86   37   75   4   0   0  5.487805   \n",
       "1042  27   9   7  153.2  165   80  17   90   40   74   0   0   1  4.334056   \n",
       "1062  13   2   1   54.2   36   13   1   54   19   12   0   0   0  1.975610   \n",
       "1095  27  11   8  152.2  155   61   8   99   37   56   0   0   1  3.301310   \n",
       "1114  30   5   4  136.1  121   57   9  156   53   54   0   0   0  3.564792   \n",
       "1137   3   0   0    6.2    7    4   0    8    1    4   0   0   0  5.399997   \n",
       "1146  59  14  25  282.2  334  203  46  251  142  186   0   0   1  5.922170   \n",
       "1163  29   7   9  120.2  127   62  20  102   29   62   0   0   0  4.624310   \n",
       "1310  26   8   7  127.1  109   47  14  127   29   47   0   0   1  3.321990   \n",
       "1332  30   7  11  150.0  156   78  12   94   35   72   1   0   0  4.320000   \n",
       "1342  13   3   4   67.2   57   23   4   46   15   14   0   0   0  1.862069   \n",
       "1349   2   0   0    6.0    6    1   0    4    7    1   0   0   0  1.500000   \n",
       "1352  59  22  15  336.2  302  143  56  423   71  134   0   0   0  3.582178   \n",
       "\n",
       "          WHIP  Leagues  0  \n",
       "6     1.096296        0  1  \n",
       "49    1.193353        0  1  \n",
       "56    1.266667        0  1  \n",
       "75    1.612903        0  1  \n",
       "77    2.166667        0  1  \n",
       "93    1.406031        0  1  \n",
       "135   1.382253        0  1  \n",
       "169   2.250000        0  1  \n",
       "199   1.283828        0  1  \n",
       "201   1.361842        0  1  \n",
       "246   1.311594        0  1  \n",
       "295   0.625000        0  1  \n",
       "331   1.115538        0  1  \n",
       "435   1.192275        0  1  \n",
       "438   1.225434        0  1  \n",
       "455   1.597633        0  1  \n",
       "471   1.344262        0  1  \n",
       "496   1.437309        0  1  \n",
       "579   1.035536        0  1  \n",
       "605   1.307800        0  1  \n",
       "609   1.261770        0  1  \n",
       "618   1.201220        0  1  \n",
       "646   1.129032        0  1  \n",
       "666   1.408451        0  1  \n",
       "679   1.500000        0  1  \n",
       "709   1.423841        0  1  \n",
       "785   2.307692        0  1  \n",
       "807   1.094675        0  1  \n",
       "870   1.543624        0  1  \n",
       "899   0.981818        0  1  \n",
       "912   1.000000        0  1  \n",
       "929   1.346154        0  1  \n",
       "942   1.277496        0  1  \n",
       "945   1.060291        0  1  \n",
       "946   1.110494        0  1  \n",
       "964   1.202961        0  1  \n",
       "982   1.382353        0  1  \n",
       "1025  1.290323        0  1  \n",
       "1041  1.552846        0  1  \n",
       "1042  1.338120        0  1  \n",
       "1062  1.014760        0  1  \n",
       "1095  1.261498        0  1  \n",
       "1114  1.278472        0  1  \n",
       "1137  1.290323        0  1  \n",
       "1146  1.686747        0  1  \n",
       "1163  1.297837        0  1  \n",
       "1310  1.085759        0  1  \n",
       "1332  1.273333        0  1  \n",
       "1342  1.071429        0  1  \n",
       "1349  2.166667        0  1  \n",
       "1352  1.109459        0  1  "
      ]
     },
     "execution_count": 89,
     "metadata": {},
     "output_type": "execute_result"
    }
   ],
   "source": [
    "preds_df.loc[(preds_df['Leagues'] == 0 )& (preds_df[0] == 1)]"
   ]
  },
  {
   "cell_type": "markdown",
   "id": "7246b0ee",
   "metadata": {},
   "source": [
    "### Cross Validation - Model 4"
   ]
  },
  {
   "cell_type": "code",
   "execution_count": 90,
   "id": "935861e6",
   "metadata": {},
   "outputs": [],
   "source": [
    "base_feats = ['G', 'W','L','IP','H','R','HR','SO','BB','ER','SV',\n",
    "              'BS','BK','ERA','WHIP']"
   ]
  },
  {
   "cell_type": "code",
   "execution_count": 123,
   "id": "110fc494",
   "metadata": {},
   "outputs": [],
   "source": [
    "X = Pitchers[base_feats]\n",
    "y = Pitchers['Leagues']"
   ]
  },
  {
   "cell_type": "code",
   "execution_count": 124,
   "id": "eb42e04f",
   "metadata": {},
   "outputs": [],
   "source": [
    "X_train, X_test, y_train, y_test = train_test_split(X, y, test_size=0.20, random_state=42)"
   ]
  },
  {
   "cell_type": "code",
   "execution_count": 125,
   "id": "5d386cc3",
   "metadata": {},
   "outputs": [],
   "source": [
    "scaler = StandardScaler()\n",
    "\n",
    "scaler.fit(X_train)\n",
    "\n",
    "X_train_scaled = scaler.transform(X_train)\n",
    "X_test_scaled = scaler.transform(X_test)"
   ]
  },
  {
   "cell_type": "code",
   "execution_count": 126,
   "id": "da50f91f",
   "metadata": {},
   "outputs": [],
   "source": [
    "#importing pipeline object"
   ]
  },
  {
   "cell_type": "code",
   "execution_count": 127,
   "id": "a38f6dbc",
   "metadata": {},
   "outputs": [],
   "source": [
    "from sklearn.model_selection import KFold\n",
    "from sklearn.neighbors import KNeighborsClassifier\n",
    "from sklearn.preprocessing import LabelEncoder\n",
    "from sklearn.impute import SimpleImputer\n",
    "from sklearn.model_selection import GridSearchCV, cross_val_score, RandomizedSearchCV\n",
    "from sklearn.preprocessing import OneHotEncoder, StandardScaler, Normalizer\n",
    "from sklearn.compose import ColumnTransformer"
   ]
  },
  {
   "cell_type": "code",
   "execution_count": 128,
   "id": "5696ff1a",
   "metadata": {},
   "outputs": [],
   "source": [
    "from sklearn.pipeline import Pipeline\n",
    "from sklearn import set_config\n",
    "set_config(display = 'diagram')"
   ]
  },
  {
   "cell_type": "code",
   "execution_count": 129,
   "id": "1fe42d0e",
   "metadata": {},
   "outputs": [
    {
     "data": {
      "text/html": [
       "<style>div.sk-top-container {color: black;background-color: white;}div.sk-toggleable {background-color: white;}label.sk-toggleable__label {cursor: pointer;display: block;width: 100%;margin-bottom: 0;padding: 0.2em 0.3em;box-sizing: border-box;text-align: center;}div.sk-toggleable__content {max-height: 0;max-width: 0;overflow: hidden;text-align: left;background-color: #f0f8ff;}div.sk-toggleable__content pre {margin: 0.2em;color: black;border-radius: 0.25em;background-color: #f0f8ff;}input.sk-toggleable__control:checked~div.sk-toggleable__content {max-height: 200px;max-width: 100%;overflow: auto;}div.sk-estimator input.sk-toggleable__control:checked~label.sk-toggleable__label {background-color: #d4ebff;}div.sk-label input.sk-toggleable__control:checked~label.sk-toggleable__label {background-color: #d4ebff;}input.sk-hidden--visually {border: 0;clip: rect(1px 1px 1px 1px);clip: rect(1px, 1px, 1px, 1px);height: 1px;margin: -1px;overflow: hidden;padding: 0;position: absolute;width: 1px;}div.sk-estimator {font-family: monospace;background-color: #f0f8ff;margin: 0.25em 0.25em;border: 1px dotted black;border-radius: 0.25em;box-sizing: border-box;}div.sk-estimator:hover {background-color: #d4ebff;}div.sk-parallel-item::after {content: \"\";width: 100%;border-bottom: 1px solid gray;flex-grow: 1;}div.sk-label:hover label.sk-toggleable__label {background-color: #d4ebff;}div.sk-serial::before {content: \"\";position: absolute;border-left: 1px solid gray;box-sizing: border-box;top: 2em;bottom: 0;left: 50%;}div.sk-serial {display: flex;flex-direction: column;align-items: center;background-color: white;}div.sk-item {z-index: 1;}div.sk-parallel {display: flex;align-items: stretch;justify-content: center;background-color: white;}div.sk-parallel-item {display: flex;flex-direction: column;position: relative;background-color: white;}div.sk-parallel-item:first-child::after {align-self: flex-end;width: 50%;}div.sk-parallel-item:last-child::after {align-self: flex-start;width: 50%;}div.sk-parallel-item:only-child::after {width: 0;}div.sk-dashed-wrapped {border: 1px dashed gray;margin: 0.2em;box-sizing: border-box;padding-bottom: 0.1em;background-color: white;position: relative;}div.sk-label label {font-family: monospace;font-weight: bold;background-color: white;display: inline-block;line-height: 1.2em;}div.sk-label-container {position: relative;z-index: 2;text-align: center;}div.sk-container {display: inline-block;position: relative;}</style><div class=\"sk-top-container\"><div class=\"sk-container\"><div class=\"sk-item sk-dashed-wrapped\"><div class=\"sk-label-container\"><div class=\"sk-label sk-toggleable\"><input class=\"sk-toggleable__control sk-hidden--visually\" id=\"8f51c81f-834c-42f8-8131-c0f12299691f\" type=\"checkbox\" ><label class=\"sk-toggleable__label\" for=\"8f51c81f-834c-42f8-8131-c0f12299691f\">Pipeline</label><div class=\"sk-toggleable__content\"><pre>Pipeline(steps=[('imputer', SimpleImputer(strategy='median')),\n",
       "                ('std_scaler', StandardScaler()),\n",
       "                ('rf_clf', DecisionTreeClassifier(random_state=42))])</pre></div></div></div><div class=\"sk-serial\"><div class=\"sk-item\"><div class=\"sk-estimator sk-toggleable\"><input class=\"sk-toggleable__control sk-hidden--visually\" id=\"0e4727ce-4173-41b1-bf58-6a079f4c2e2a\" type=\"checkbox\" ><label class=\"sk-toggleable__label\" for=\"0e4727ce-4173-41b1-bf58-6a079f4c2e2a\">SimpleImputer</label><div class=\"sk-toggleable__content\"><pre>SimpleImputer(strategy='median')</pre></div></div></div><div class=\"sk-item\"><div class=\"sk-estimator sk-toggleable\"><input class=\"sk-toggleable__control sk-hidden--visually\" id=\"854f98d6-8773-428a-8584-5b56bf75f776\" type=\"checkbox\" ><label class=\"sk-toggleable__label\" for=\"854f98d6-8773-428a-8584-5b56bf75f776\">StandardScaler</label><div class=\"sk-toggleable__content\"><pre>StandardScaler()</pre></div></div></div><div class=\"sk-item\"><div class=\"sk-estimator sk-toggleable\"><input class=\"sk-toggleable__control sk-hidden--visually\" id=\"70bef76c-024d-4206-b0a7-c0f0f28e880d\" type=\"checkbox\" ><label class=\"sk-toggleable__label\" for=\"70bef76c-024d-4206-b0a7-c0f0f28e880d\">DecisionTreeClassifier</label><div class=\"sk-toggleable__content\"><pre>DecisionTreeClassifier(random_state=42)</pre></div></div></div></div></div></div></div>"
      ],
      "text/plain": [
       "Pipeline(steps=[('imputer', SimpleImputer(strategy='median')),\n",
       "                ('std_scaler', StandardScaler()),\n",
       "                ('rf_clf', DecisionTreeClassifier(random_state=42))])"
      ]
     },
     "execution_count": 129,
     "metadata": {},
     "output_type": "execute_result"
    }
   ],
   "source": [
    "steps = [('imputer', SimpleImputer(strategy ='median')), ('std_scaler', StandardScaler()),\n",
    "        ('rf_clf', DecisionTreeClassifier(random_state =42))]\n",
    "\n",
    "pipeline = Pipeline(steps)\n",
    "\n",
    "pipeline"
   ]
  },
  {
   "cell_type": "code",
   "execution_count": 130,
   "id": "906f2c19",
   "metadata": {},
   "outputs": [],
   "source": [
    "def cross_validation(X_train, y_train, estimator, num_split = 10):\n",
    "\n",
    "    X_train = X_train.values\n",
    "    y_train = y_train.values\n",
    "    \n",
    "    score_train_list = []\n",
    "    score_val_list = []\n",
    "    \n",
    "    for train_index, valid_index in KFold(n_splits = num_split).split(X_train):\n",
    "        \n",
    "        X_train_fold, X_val_fold = X_train[train_index], X_train[valid_index]\n",
    "        y_train_fold, y_val_fold = y_train[train_index], y_train[valid_index]\n",
    "        \n",
    "        estimator.fit(X_train_fold, y_train_fold)\n",
    "        \n",
    "        accuracy_train = estimator.score(X_train_fold, y_train_fold)\n",
    "        accuracy_val = estimator.score(X_val_fold, y_val_fold)\n",
    "        score_train_list.append(accuracy_train)\n",
    "        score_val_list.append(accuracy_val)\n",
    "        \n",
    "        \n",
    "    return {\"train\": np.mean(score_train_list), \n",
    "            'validation': np.mean(score_val_list)}"
   ]
  },
  {
   "cell_type": "code",
   "execution_count": 131,
   "id": "181f6b47",
   "metadata": {},
   "outputs": [
    {
     "data": {
      "text/plain": [
       "{'train': 1.0, 'validation': 0.9669836134564298}"
      ]
     },
     "execution_count": 131,
     "metadata": {},
     "output_type": "execute_result"
    }
   ],
   "source": [
    "cv_model = cross_validation(X_train, y_train, pipeline)\n",
    "cv_model"
   ]
  },
  {
   "cell_type": "markdown",
   "id": "933042f4",
   "metadata": {},
   "source": [
    "### GridSearche KNN - Model 5"
   ]
  },
  {
   "cell_type": "code",
   "execution_count": 100,
   "id": "e312db9f",
   "metadata": {},
   "outputs": [],
   "source": [
    "# New pipeline"
   ]
  },
  {
   "cell_type": "code",
   "execution_count": 101,
   "id": "650d71e6",
   "metadata": {},
   "outputs": [],
   "source": [
    "steps = [('imputer', SimpleImputer(strategy=\"median\")), ('std_scaler', StandardScaler()),\n",
    "        ('knn', KNeighborsClassifier())]\n",
    "\n",
    "model_pipe = Pipeline(steps)"
   ]
  },
  {
   "cell_type": "code",
   "execution_count": 102,
   "id": "964414e6",
   "metadata": {},
   "outputs": [],
   "source": [
    "\n",
    "pipe_grid = {'imputer__strategy': [\"mean\", \"median\"],\n",
    "             'knn__n_neighbors': [3, 5, 7, 9, 11, 13, 15, 18],\n",
    "             'knn__p': [1, 2, 3, 4]}\n",
    "\n",
    "gs_pipe = GridSearchCV(estimator=model_pipe, \n",
    "                       param_grid=pipe_grid)"
   ]
  },
  {
   "cell_type": "code",
   "execution_count": 103,
   "id": "ca46e496",
   "metadata": {},
   "outputs": [],
   "source": [
    "gs_pipe.fit(X_train, y_train);"
   ]
  },
  {
   "cell_type": "code",
   "execution_count": 104,
   "id": "1b9d3868",
   "metadata": {},
   "outputs": [
    {
     "data": {
      "text/plain": [
       "{'imputer__strategy': 'mean', 'knn__n_neighbors': 18, 'knn__p': 1}"
      ]
     },
     "execution_count": 104,
     "metadata": {},
     "output_type": "execute_result"
    }
   ],
   "source": [
    "gs_pipe.best_params_"
   ]
  },
  {
   "cell_type": "code",
   "execution_count": 105,
   "id": "2eaf9c16",
   "metadata": {},
   "outputs": [
    {
     "data": {
      "text/plain": [
       "0.9530136420552429"
      ]
     },
     "execution_count": 105,
     "metadata": {},
     "output_type": "execute_result"
    }
   ],
   "source": [
    "gs_pipe.best_score_"
   ]
  },
  {
   "cell_type": "code",
   "execution_count": 106,
   "id": "e773afd0",
   "metadata": {},
   "outputs": [
    {
     "data": {
      "text/html": [
       "<style>div.sk-top-container {color: black;background-color: white;}div.sk-toggleable {background-color: white;}label.sk-toggleable__label {cursor: pointer;display: block;width: 100%;margin-bottom: 0;padding: 0.2em 0.3em;box-sizing: border-box;text-align: center;}div.sk-toggleable__content {max-height: 0;max-width: 0;overflow: hidden;text-align: left;background-color: #f0f8ff;}div.sk-toggleable__content pre {margin: 0.2em;color: black;border-radius: 0.25em;background-color: #f0f8ff;}input.sk-toggleable__control:checked~div.sk-toggleable__content {max-height: 200px;max-width: 100%;overflow: auto;}div.sk-estimator input.sk-toggleable__control:checked~label.sk-toggleable__label {background-color: #d4ebff;}div.sk-label input.sk-toggleable__control:checked~label.sk-toggleable__label {background-color: #d4ebff;}input.sk-hidden--visually {border: 0;clip: rect(1px 1px 1px 1px);clip: rect(1px, 1px, 1px, 1px);height: 1px;margin: -1px;overflow: hidden;padding: 0;position: absolute;width: 1px;}div.sk-estimator {font-family: monospace;background-color: #f0f8ff;margin: 0.25em 0.25em;border: 1px dotted black;border-radius: 0.25em;box-sizing: border-box;}div.sk-estimator:hover {background-color: #d4ebff;}div.sk-parallel-item::after {content: \"\";width: 100%;border-bottom: 1px solid gray;flex-grow: 1;}div.sk-label:hover label.sk-toggleable__label {background-color: #d4ebff;}div.sk-serial::before {content: \"\";position: absolute;border-left: 1px solid gray;box-sizing: border-box;top: 2em;bottom: 0;left: 50%;}div.sk-serial {display: flex;flex-direction: column;align-items: center;background-color: white;}div.sk-item {z-index: 1;}div.sk-parallel {display: flex;align-items: stretch;justify-content: center;background-color: white;}div.sk-parallel-item {display: flex;flex-direction: column;position: relative;background-color: white;}div.sk-parallel-item:first-child::after {align-self: flex-end;width: 50%;}div.sk-parallel-item:last-child::after {align-self: flex-start;width: 50%;}div.sk-parallel-item:only-child::after {width: 0;}div.sk-dashed-wrapped {border: 1px dashed gray;margin: 0.2em;box-sizing: border-box;padding-bottom: 0.1em;background-color: white;position: relative;}div.sk-label label {font-family: monospace;font-weight: bold;background-color: white;display: inline-block;line-height: 1.2em;}div.sk-label-container {position: relative;z-index: 2;text-align: center;}div.sk-container {display: inline-block;position: relative;}</style><div class=\"sk-top-container\"><div class=\"sk-container\"><div class=\"sk-item sk-dashed-wrapped\"><div class=\"sk-label-container\"><div class=\"sk-label sk-toggleable\"><input class=\"sk-toggleable__control sk-hidden--visually\" id=\"1cf747d4-afc9-4b13-bd47-7c2f42a0c27a\" type=\"checkbox\" ><label class=\"sk-toggleable__label\" for=\"1cf747d4-afc9-4b13-bd47-7c2f42a0c27a\">Pipeline</label><div class=\"sk-toggleable__content\"><pre>Pipeline(steps=[('imputer', SimpleImputer()), ('std_scaler', StandardScaler()),\n",
       "                ('knn', KNeighborsClassifier(n_neighbors=18, p=1))])</pre></div></div></div><div class=\"sk-serial\"><div class=\"sk-item\"><div class=\"sk-estimator sk-toggleable\"><input class=\"sk-toggleable__control sk-hidden--visually\" id=\"f9e0c5cb-3390-42ef-a6df-16580fd45095\" type=\"checkbox\" ><label class=\"sk-toggleable__label\" for=\"f9e0c5cb-3390-42ef-a6df-16580fd45095\">SimpleImputer</label><div class=\"sk-toggleable__content\"><pre>SimpleImputer()</pre></div></div></div><div class=\"sk-item\"><div class=\"sk-estimator sk-toggleable\"><input class=\"sk-toggleable__control sk-hidden--visually\" id=\"7f9067f2-1e56-45a4-99a9-ec0b0456c5a2\" type=\"checkbox\" ><label class=\"sk-toggleable__label\" for=\"7f9067f2-1e56-45a4-99a9-ec0b0456c5a2\">StandardScaler</label><div class=\"sk-toggleable__content\"><pre>StandardScaler()</pre></div></div></div><div class=\"sk-item\"><div class=\"sk-estimator sk-toggleable\"><input class=\"sk-toggleable__control sk-hidden--visually\" id=\"aeb12f4d-d681-4e73-a8cc-a61b734a2ea2\" type=\"checkbox\" ><label class=\"sk-toggleable__label\" for=\"aeb12f4d-d681-4e73-a8cc-a61b734a2ea2\">KNeighborsClassifier</label><div class=\"sk-toggleable__content\"><pre>KNeighborsClassifier(n_neighbors=18, p=1)</pre></div></div></div></div></div></div></div>"
      ],
      "text/plain": [
       "Pipeline(steps=[('imputer', SimpleImputer()), ('std_scaler', StandardScaler()),\n",
       "                ('knn', KNeighborsClassifier(n_neighbors=18, p=1))])"
      ]
     },
     "execution_count": 106,
     "metadata": {},
     "output_type": "execute_result"
    }
   ],
   "source": [
    "gs_model = gs_pipe.best_estimator_\n",
    "gs_model"
   ]
  },
  {
   "cell_type": "code",
   "execution_count": 107,
   "id": "3ab76d23",
   "metadata": {},
   "outputs": [],
   "source": [
    "gs_pred = gs_model.predict(X_test)"
   ]
  },
  {
   "cell_type": "code",
   "execution_count": 108,
   "id": "ae9aba04",
   "metadata": {},
   "outputs": [
    {
     "data": {
      "text/plain": [
       "<sklearn.metrics._plot.confusion_matrix.ConfusionMatrixDisplay at 0x7fcf988336a0>"
      ]
     },
     "execution_count": 108,
     "metadata": {},
     "output_type": "execute_result"
    },
    {
     "data": {
      "image/png": "[encoded data removed]",
      "text/plain": [
       "<Figure size 432x288 with 2 Axes>"
      ]
     },
     "metadata": {
      "needs_background": "light"
     },
     "output_type": "display_data"
    }
   ],
   "source": [
    "gs_CM =confusion_matrix(y_test,gs_pred);\n",
    "ConfusionMatrixDisplay(gs_CM).plot()"
   ]
  },
  {
   "cell_type": "code",
   "execution_count": 109,
   "id": "37f1cda0",
   "metadata": {},
   "outputs": [
    {
     "name": "stdout",
     "output_type": "stream",
     "text": [
      "0.9579405366207396\n",
      "0.8392857142857143\n",
      "0.8952380952380953\n",
      "0.8663594470046083\n"
     ]
    }
   ],
   "source": [
    "accuracy = accuracy_score(y_test, gs_pred)\n",
    "print(accuracy)\n",
    "precision = precision_score(y_test, gs_pred)\n",
    "print(precision)\n",
    "recall = recall_score(y_test, gs_pred)\n",
    "print(recall)\n",
    "f1 = f1_score(y_test, gs_pred)\n",
    "print(f1)"
   ]
  },
  {
   "cell_type": "code",
   "execution_count": 110,
   "id": "9f14bca7",
   "metadata": {},
   "outputs": [
    {
     "name": "stdout",
     "output_type": "stream",
     "text": [
      "Training: 0.9633526850507983\n",
      "Test: 0.9579405366207396\n"
     ]
    }
   ],
   "source": [
    "print('Training:', gs_model.score(X_train, y_train))\n",
    "print('Test:', gs_model.score(X_test, y_test))"
   ]
  },
  {
   "cell_type": "code",
   "execution_count": 111,
   "id": "9231a972",
   "metadata": {},
   "outputs": [
    {
     "data": {
      "text/plain": [
       "0.9322212717422298"
      ]
     },
     "execution_count": 111,
     "metadata": {},
     "output_type": "execute_result"
    }
   ],
   "source": [
    "roc_auc_score(y_test, gs_pred)"
   ]
  },
  {
   "cell_type": "code",
   "execution_count": 112,
   "id": "89de6cca",
   "metadata": {},
   "outputs": [
    {
     "data": {
      "text/plain": [
       "<sklearn.metrics._plot.roc_curve.RocCurveDisplay at 0x7fcf99a88fa0>"
      ]
     },
     "execution_count": 112,
     "metadata": {},
     "output_type": "execute_result"
    },
    {
     "data": {
      "image/png": "[encoded data removed]",
      "text/plain": [
       "<Figure size 432x288 with 1 Axes>"
      ]
     },
     "metadata": {
      "needs_background": "light"
     },
     "output_type": "display_data"
    }
   ],
   "source": [
    "fig, ax = plt.subplots()\n",
    "\n",
    "plot_roc_curve(dt, X_test_scaled, y_test, ax=ax) # model 2\n",
    "\n",
    "plot_roc_curve(sm_model, X_test, y_test, ax=ax) # model 3"
   ]
  },
  {
   "cell_type": "code",
   "execution_count": 113,
   "id": "2c222741",
   "metadata": {},
   "outputs": [
    {
     "data": {
      "text/plain": [
       "<sklearn.metrics._plot.roc_curve.RocCurveDisplay at 0x7fcf99833eb0>"
      ]
     },
     "execution_count": 113,
     "metadata": {},
     "output_type": "execute_result"
    },
    {
     "data": {
      "image/png": "[encoded data removed]",
      "text/plain": [
       "<Figure size 432x288 with 1 Axes>"
      ]
     },
     "metadata": {
      "needs_background": "light"
     },
     "output_type": "display_data"
    }
   ],
   "source": [
    "fig, ax = plt.subplots()\n",
    "\n",
    "plot_roc_curve(Pit_Model, X_test_scaled, y_test, ax=ax) # model 1\n",
    "\n",
    "plot_roc_curve(gs_model, X_test, y_test, ax=ax) # model 4"
   ]
  },
  {
   "cell_type": "markdown",
   "id": "63845a38",
   "metadata": {},
   "source": [
    "### Random Forest - Model 6"
   ]
  },
  {
   "cell_type": "code",
   "execution_count": 116,
   "id": "3f3c110e",
   "metadata": {},
   "outputs": [],
   "source": [
    "from sklearn.ensemble import RandomForestClassifier"
   ]
  },
  {
   "cell_type": "code",
   "execution_count": 142,
   "id": "c27a4800",
   "metadata": {},
   "outputs": [],
   "source": [
    "rf_pipe = Pipeline([('scaler', StandardScaler()),\n",
    "                   ('model', RandomForestClassifier(n_estimators = 100, max_depth = 8))])"
   ]
  },
  {
   "cell_type": "code",
   "execution_count": 143,
   "id": "852f5fec",
   "metadata": {},
   "outputs": [
    {
     "data": {
      "text/html": [
       "<style>div.sk-top-container {color: black;background-color: white;}div.sk-toggleable {background-color: white;}label.sk-toggleable__label {cursor: pointer;display: block;width: 100%;margin-bottom: 0;padding: 0.2em 0.3em;box-sizing: border-box;text-align: center;}div.sk-toggleable__content {max-height: 0;max-width: 0;overflow: hidden;text-align: left;background-color: #f0f8ff;}div.sk-toggleable__content pre {margin: 0.2em;color: black;border-radius: 0.25em;background-color: #f0f8ff;}input.sk-toggleable__control:checked~div.sk-toggleable__content {max-height: 200px;max-width: 100%;overflow: auto;}div.sk-estimator input.sk-toggleable__control:checked~label.sk-toggleable__label {background-color: #d4ebff;}div.sk-label input.sk-toggleable__control:checked~label.sk-toggleable__label {background-color: #d4ebff;}input.sk-hidden--visually {border: 0;clip: rect(1px 1px 1px 1px);clip: rect(1px, 1px, 1px, 1px);height: 1px;margin: -1px;overflow: hidden;padding: 0;position: absolute;width: 1px;}div.sk-estimator {font-family: monospace;background-color: #f0f8ff;margin: 0.25em 0.25em;border: 1px dotted black;border-radius: 0.25em;box-sizing: border-box;}div.sk-estimator:hover {background-color: #d4ebff;}div.sk-parallel-item::after {content: \"\";width: 100%;border-bottom: 1px solid gray;flex-grow: 1;}div.sk-label:hover label.sk-toggleable__label {background-color: #d4ebff;}div.sk-serial::before {content: \"\";position: absolute;border-left: 1px solid gray;box-sizing: border-box;top: 2em;bottom: 0;left: 50%;}div.sk-serial {display: flex;flex-direction: column;align-items: center;background-color: white;}div.sk-item {z-index: 1;}div.sk-parallel {display: flex;align-items: stretch;justify-content: center;background-color: white;}div.sk-parallel-item {display: flex;flex-direction: column;position: relative;background-color: white;}div.sk-parallel-item:first-child::after {align-self: flex-end;width: 50%;}div.sk-parallel-item:last-child::after {align-self: flex-start;width: 50%;}div.sk-parallel-item:only-child::after {width: 0;}div.sk-dashed-wrapped {border: 1px dashed gray;margin: 0.2em;box-sizing: border-box;padding-bottom: 0.1em;background-color: white;position: relative;}div.sk-label label {font-family: monospace;font-weight: bold;background-color: white;display: inline-block;line-height: 1.2em;}div.sk-label-container {position: relative;z-index: 2;text-align: center;}div.sk-container {display: inline-block;position: relative;}</style><div class=\"sk-top-container\"><div class=\"sk-container\"><div class=\"sk-item sk-dashed-wrapped\"><div class=\"sk-label-container\"><div class=\"sk-label sk-toggleable\"><input class=\"sk-toggleable__control sk-hidden--visually\" id=\"85d4d82c-f3e5-4a95-8e9f-c861020dc183\" type=\"checkbox\" ><label class=\"sk-toggleable__label\" for=\"85d4d82c-f3e5-4a95-8e9f-c861020dc183\">Pipeline</label><div class=\"sk-toggleable__content\"><pre>Pipeline(steps=[('scaler', StandardScaler()),\n",
       "                ('model', RandomForestClassifier(max_depth=8))])</pre></div></div></div><div class=\"sk-serial\"><div class=\"sk-item\"><div class=\"sk-estimator sk-toggleable\"><input class=\"sk-toggleable__control sk-hidden--visually\" id=\"120e2e45-93bf-45a9-bed2-77245d2580e8\" type=\"checkbox\" ><label class=\"sk-toggleable__label\" for=\"120e2e45-93bf-45a9-bed2-77245d2580e8\">StandardScaler</label><div class=\"sk-toggleable__content\"><pre>StandardScaler()</pre></div></div></div><div class=\"sk-item\"><div class=\"sk-estimator sk-toggleable\"><input class=\"sk-toggleable__control sk-hidden--visually\" id=\"5bfa6f50-b98f-4eb5-8733-542ca9a3a4d4\" type=\"checkbox\" ><label class=\"sk-toggleable__label\" for=\"5bfa6f50-b98f-4eb5-8733-542ca9a3a4d4\">RandomForestClassifier</label><div class=\"sk-toggleable__content\"><pre>RandomForestClassifier(max_depth=8)</pre></div></div></div></div></div></div></div>"
      ],
      "text/plain": [
       "Pipeline(steps=[('scaler', StandardScaler()),\n",
       "                ('model', RandomForestClassifier(max_depth=8))])"
      ]
     },
     "execution_count": 143,
     "metadata": {},
     "output_type": "execute_result"
    }
   ],
   "source": [
    "rf_pipe.fit(X_train,y_train)"
   ]
  },
  {
   "cell_type": "code",
   "execution_count": 144,
   "id": "16511554",
   "metadata": {},
   "outputs": [
    {
     "name": "stdout",
     "output_type": "stream",
     "text": [
      "0.9876632801161103\n",
      "0.9702683103698332\n"
     ]
    }
   ],
   "source": [
    "print(rf_pipe.score(X_train,y_train))\n",
    "print(rf_pipe.score(X_test,y_test))"
   ]
  },
  {
   "cell_type": "code",
   "execution_count": 154,
   "id": "16cb9cde",
   "metadata": {},
   "outputs": [],
   "source": [
    "rf_pred = rf_pipe.predict(X_test)"
   ]
  },
  {
   "cell_type": "code",
   "execution_count": 155,
   "id": "cf703127",
   "metadata": {},
   "outputs": [
    {
     "name": "stdout",
     "output_type": "stream",
     "text": [
      "0.9702683103698332\n",
      "0.9043062200956937\n",
      "0.9\n",
      "0.9021479713603819\n"
     ]
    }
   ],
   "source": [
    "accuracy = accuracy_score(y_test, rf_pred)\n",
    "print(accuracy)\n",
    "precision = precision_score(y_test, rf_pred)\n",
    "print(precision)\n",
    "recall = recall_score(y_test, rf_pred)\n",
    "print(recall)\n",
    "f1 = f1_score(y_test, rf_pred)\n",
    "print(f1)"
   ]
  },
  {
   "cell_type": "code",
   "execution_count": 156,
   "id": "7774c8d2",
   "metadata": {},
   "outputs": [
    {
     "data": {
      "text/plain": [
       "0.9414456800684345"
      ]
     },
     "execution_count": 156,
     "metadata": {},
     "output_type": "execute_result"
    }
   ],
   "source": [
    "roc_auc_score(y_test, rf_pred)"
   ]
  },
  {
   "cell_type": "code",
   "execution_count": 161,
   "id": "fe7429e1",
   "metadata": {},
   "outputs": [
    {
     "data": {
      "text/plain": [
       "<sklearn.metrics._plot.roc_curve.RocCurveDisplay at 0x7fcf9a7be850>"
      ]
     },
     "execution_count": 161,
     "metadata": {},
     "output_type": "execute_result"
    },
    {
     "data": {
      "image/png": "[encoded data removed]",
      "text/plain": [
       "<Figure size 432x288 with 1 Axes>"
      ]
     },
     "metadata": {
      "needs_background": "light"
     },
     "output_type": "display_data"
    }
   ],
   "source": [
    "fig, ax = plt.subplots()\n",
    "\n",
    "plot_roc_curve(rf_pipe, X_test, y_test, ax=ax) # model 5\n",
    "\n",
    "plot_roc_curve(dt, X_test_scaled, y_test, ax=ax) # model 2\n",
    "\n",
    "#comparing decision tree model with random forest model"
   ]
  },
  {
   "cell_type": "markdown",
   "id": "0ea5c27c",
   "metadata": {},
   "source": [
    "### Feature Importances"
   ]
  },
  {
   "cell_type": "code",
   "execution_count": 150,
   "id": "8f27dd2d",
   "metadata": {},
   "outputs": [],
   "source": [
    "importances = rf_pipe.steps[1][1].feature_importances_"
   ]
  },
  {
   "cell_type": "code",
   "execution_count": 153,
   "id": "347addbc",
   "metadata": {},
   "outputs": [
    {
     "data": {
      "text/html": [
       "<div>\n",
       "<style scoped>\n",
       "    .dataframe tbody tr th:only-of-type {\n",
       "        vertical-align: middle;\n",
       "    }\n",
       "\n",
       "    .dataframe tbody tr th {\n",
       "        vertical-align: top;\n",
       "    }\n",
       "\n",
       "    .dataframe thead th {\n",
       "        text-align: right;\n",
       "    }\n",
       "</style>\n",
       "<table border=\"1\" class=\"dataframe\">\n",
       "  <thead>\n",
       "    <tr style=\"text-align: right;\">\n",
       "      <th></th>\n",
       "      <th>0</th>\n",
       "      <th>1</th>\n",
       "    </tr>\n",
       "  </thead>\n",
       "  <tbody>\n",
       "    <tr>\n",
       "      <th>0</th>\n",
       "      <td>G</td>\n",
       "      <td>0.291142</td>\n",
       "    </tr>\n",
       "    <tr>\n",
       "      <th>6</th>\n",
       "      <td>HR</td>\n",
       "      <td>0.171543</td>\n",
       "    </tr>\n",
       "    <tr>\n",
       "      <th>11</th>\n",
       "      <td>BS</td>\n",
       "      <td>0.125229</td>\n",
       "    </tr>\n",
       "    <tr>\n",
       "      <th>10</th>\n",
       "      <td>SV</td>\n",
       "      <td>0.080485</td>\n",
       "    </tr>\n",
       "    <tr>\n",
       "      <th>3</th>\n",
       "      <td>IP</td>\n",
       "      <td>0.061648</td>\n",
       "    </tr>\n",
       "    <tr>\n",
       "      <th>4</th>\n",
       "      <td>H</td>\n",
       "      <td>0.052031</td>\n",
       "    </tr>\n",
       "    <tr>\n",
       "      <th>8</th>\n",
       "      <td>BB</td>\n",
       "      <td>0.039399</td>\n",
       "    </tr>\n",
       "    <tr>\n",
       "      <th>7</th>\n",
       "      <td>SO</td>\n",
       "      <td>0.034305</td>\n",
       "    </tr>\n",
       "    <tr>\n",
       "      <th>12</th>\n",
       "      <td>BK</td>\n",
       "      <td>0.034248</td>\n",
       "    </tr>\n",
       "    <tr>\n",
       "      <th>9</th>\n",
       "      <td>ER</td>\n",
       "      <td>0.032971</td>\n",
       "    </tr>\n",
       "    <tr>\n",
       "      <th>5</th>\n",
       "      <td>R</td>\n",
       "      <td>0.031102</td>\n",
       "    </tr>\n",
       "    <tr>\n",
       "      <th>1</th>\n",
       "      <td>W</td>\n",
       "      <td>0.014977</td>\n",
       "    </tr>\n",
       "    <tr>\n",
       "      <th>14</th>\n",
       "      <td>WHIP</td>\n",
       "      <td>0.011546</td>\n",
       "    </tr>\n",
       "    <tr>\n",
       "      <th>13</th>\n",
       "      <td>ERA</td>\n",
       "      <td>0.010258</td>\n",
       "    </tr>\n",
       "    <tr>\n",
       "      <th>2</th>\n",
       "      <td>L</td>\n",
       "      <td>0.009116</td>\n",
       "    </tr>\n",
       "  </tbody>\n",
       "</table>\n",
       "</div>"
      ],
      "text/plain": [
       "       0         1\n",
       "0      G  0.291142\n",
       "6     HR  0.171543\n",
       "11    BS  0.125229\n",
       "10    SV  0.080485\n",
       "3     IP  0.061648\n",
       "4      H  0.052031\n",
       "8     BB  0.039399\n",
       "7     SO  0.034305\n",
       "12    BK  0.034248\n",
       "9     ER  0.032971\n",
       "5      R  0.031102\n",
       "1      W  0.014977\n",
       "14  WHIP  0.011546\n",
       "13   ERA  0.010258\n",
       "2      L  0.009116"
      ]
     },
     "execution_count": 153,
     "metadata": {},
     "output_type": "execute_result"
    }
   ],
   "source": [
    "pd.DataFrame(zip(X_train.columns,importances)).sort_values(by = 1, ascending = False)"
   ]
  },
  {
   "cell_type": "code",
   "execution_count": 171,
   "id": "2da7ef7d",
   "metadata": {
    "scrolled": true
   },
   "outputs": [
    {
     "data": {
      "text/html": [
       "<style>div.sk-top-container {color: black;background-color: white;}div.sk-toggleable {background-color: white;}label.sk-toggleable__label {cursor: pointer;display: block;width: 100%;margin-bottom: 0;padding: 0.2em 0.3em;box-sizing: border-box;text-align: center;}div.sk-toggleable__content {max-height: 0;max-width: 0;overflow: hidden;text-align: left;background-color: #f0f8ff;}div.sk-toggleable__content pre {margin: 0.2em;color: black;border-radius: 0.25em;background-color: #f0f8ff;}input.sk-toggleable__control:checked~div.sk-toggleable__content {max-height: 200px;max-width: 100%;overflow: auto;}div.sk-estimator input.sk-toggleable__control:checked~label.sk-toggleable__label {background-color: #d4ebff;}div.sk-label input.sk-toggleable__control:checked~label.sk-toggleable__label {background-color: #d4ebff;}input.sk-hidden--visually {border: 0;clip: rect(1px 1px 1px 1px);clip: rect(1px, 1px, 1px, 1px);height: 1px;margin: -1px;overflow: hidden;padding: 0;position: absolute;width: 1px;}div.sk-estimator {font-family: monospace;background-color: #f0f8ff;margin: 0.25em 0.25em;border: 1px dotted black;border-radius: 0.25em;box-sizing: border-box;}div.sk-estimator:hover {background-color: #d4ebff;}div.sk-parallel-item::after {content: \"\";width: 100%;border-bottom: 1px solid gray;flex-grow: 1;}div.sk-label:hover label.sk-toggleable__label {background-color: #d4ebff;}div.sk-serial::before {content: \"\";position: absolute;border-left: 1px solid gray;box-sizing: border-box;top: 2em;bottom: 0;left: 50%;}div.sk-serial {display: flex;flex-direction: column;align-items: center;background-color: white;}div.sk-item {z-index: 1;}div.sk-parallel {display: flex;align-items: stretch;justify-content: center;background-color: white;}div.sk-parallel-item {display: flex;flex-direction: column;position: relative;background-color: white;}div.sk-parallel-item:first-child::after {align-self: flex-end;width: 50%;}div.sk-parallel-item:last-child::after {align-self: flex-start;width: 50%;}div.sk-parallel-item:only-child::after {width: 0;}div.sk-dashed-wrapped {border: 1px dashed gray;margin: 0.2em;box-sizing: border-box;padding-bottom: 0.1em;background-color: white;position: relative;}div.sk-label label {font-family: monospace;font-weight: bold;background-color: white;display: inline-block;line-height: 1.2em;}div.sk-label-container {position: relative;z-index: 2;text-align: center;}div.sk-container {display: inline-block;position: relative;}</style><div class=\"sk-top-container\"><div class=\"sk-container\"><div class=\"sk-item sk-dashed-wrapped\"><div class=\"sk-label-container\"><div class=\"sk-label sk-toggleable\"><input class=\"sk-toggleable__control sk-hidden--visually\" id=\"8259a270-6a3b-4dbc-a464-0e593e9d0803\" type=\"checkbox\" ><label class=\"sk-toggleable__label\" for=\"8259a270-6a3b-4dbc-a464-0e593e9d0803\">LogisticRegression</label><div class=\"sk-toggleable__content\"><pre>LogisticRegression(dual=Index(['G', 'HR', 'BS', 'SV', 'IP'], dtype='object'),\n",
       "                   penalty=Pipeline(steps=[('scaler', StandardScaler()),\n",
       "                                           ('model',\n",
       "                                            RandomForestClassifier(max_depth=8))]))</pre></div></div></div><div class=\"sk-parallel\"><div class=\"sk-parallel-item\"><div class=\"sk-item\"><div class=\"sk-serial\"><div class=\"sk-item\"><div class=\"sk-serial\"><div class=\"sk-item\"><div class=\"sk-estimator sk-toggleable\"><input class=\"sk-toggleable__control sk-hidden--visually\" id=\"f21b1ea3-97ba-4d0c-a075-abd7f1bcfe60\" type=\"checkbox\" ><label class=\"sk-toggleable__label\" for=\"f21b1ea3-97ba-4d0c-a075-abd7f1bcfe60\">StandardScaler</label><div class=\"sk-toggleable__content\"><pre>StandardScaler()</pre></div></div></div><div class=\"sk-item\"><div class=\"sk-estimator sk-toggleable\"><input class=\"sk-toggleable__control sk-hidden--visually\" id=\"5ff7090b-fbe6-4060-a37a-b087f4781d30\" type=\"checkbox\" ><label class=\"sk-toggleable__label\" for=\"5ff7090b-fbe6-4060-a37a-b087f4781d30\">RandomForestClassifier</label><div class=\"sk-toggleable__content\"><pre>RandomForestClassifier(max_depth=8)</pre></div></div></div></div></div></div></div></div></div></div></div></div>"
      ],
      "text/plain": [
       "LogisticRegression(dual=Index(['G', 'HR', 'BS', 'SV', 'IP'], dtype='object'),\n",
       "                   penalty=Pipeline(steps=[('scaler', StandardScaler()),\n",
       "                                           ('model',\n",
       "                                            RandomForestClassifier(max_depth=8))]))"
      ]
     },
     "execution_count": 171,
     "metadata": {},
     "output_type": "execute_result"
    }
   ],
   "source": [
    "LogisticRegression(rf_pipe, X.columns)"
   ]
  },
  {
   "cell_type": "code",
   "execution_count": null,
   "id": "8f3a56bb",
   "metadata": {},
   "outputs": [],
   "source": [
    "functions.py"
   ]
  }
 ],
 "metadata": {
  "kernelspec": {
   "display_name": "Python (learn-env)",
   "language": "python",
   "name": "learn-env"
  },
  "language_info": {
   "codemirror_mode": {
    "name": "ipython",
    "version": 3
   },
   "file_extension": ".py",
   "mimetype": "text/x-python",
   "name": "python",
   "nbconvert_exporter": "python",
   "pygments_lexer": "ipython3",
   "version": "3.8.5"
  }
 },
 "nbformat": 4,
 "nbformat_minor": 5
}
