{
 "cells": [
  {
   "cell_type": "markdown",
   "id": "0fb6e1ef",
   "metadata": {},
   "source": [
    "## Imports"
   ]
  },
  {
   "cell_type": "code",
   "execution_count": 1,
   "id": "fd064789",
   "metadata": {},
   "outputs": [],
   "source": [
    "import pandas as pd\n",
    "import numpy as np\n",
    "import warnings\n",
    "warnings.filterwarnings(\"ignore\")"
   ]
  },
  {
   "cell_type": "code",
   "execution_count": 2,
   "id": "c49b9ef6",
   "metadata": {},
   "outputs": [],
   "source": [
    "#visuals"
   ]
  },
  {
   "cell_type": "code",
   "execution_count": 3,
   "id": "df547877",
   "metadata": {},
   "outputs": [],
   "source": [
    "import matplotlib.pyplot as plt\n",
    "import seaborn as sns"
   ]
  },
  {
   "cell_type": "markdown",
   "id": "856254e2",
   "metadata": {},
   "source": [
    "## MLB Pitchers"
   ]
  },
  {
   "cell_type": "code",
   "execution_count": null,
   "id": "daac0343",
   "metadata": {},
   "outputs": [],
   "source": [
    "MLB_Pitch = pd.read_csv('/Users/kellyjara/Desktop/Project3/Data/MLB PItchers.csv')\n",
    "MLB_Pitch"
   ]
  }
 ],
 "metadata": {
  "kernelspec": {
   "display_name": "Python 3 (ipykernel)",
   "language": "python",
   "name": "python3"
  },
  "language_info": {
   "codemirror_mode": {
    "name": "ipython",
    "version": 3
   },
   "file_extension": ".py",
   "mimetype": "text/x-python",
   "name": "python",
   "nbconvert_exporter": "python",
   "pygments_lexer": "ipython3",
   "version": "3.10.9"
  }
 },
 "nbformat": 4,
 "nbformat_minor": 5
}
