{
 "cells": [
  {
   "cell_type": "markdown",
   "id": "0fb6e1ef",
   "metadata": {},
   "source": [
    "## Imports"
   ]
  },
  {
   "cell_type": "code",
   "execution_count": 1,
   "id": "fd064789",
   "metadata": {},
   "outputs": [],
   "source": [
    "import pandas as pd\n",
    "import numpy as np"
   ]
  },
  {
   "cell_type": "code",
   "execution_count": 2,
   "id": "5c5a56c3",
   "metadata": {},
   "outputs": [],
   "source": [
    "from sklearn.preprocessing import StandardScaler\n",
    "from sklearn.linear_model import LogisticRegression\n",
    "from sklearn.tree import DecisionTreeClassifier, plot_tree\n",
    "from sklearn.model_selection import train_test_split\n",
    "from sklearn.metrics import accuracy_score, recall_score, precision_score, f1_score\n",
    "from sklearn.metrics import confusion_matrix, ConfusionMatrixDisplay\n",
    "from sklearn.metrics import roc_auc_score, roc_curve"
   ]
  },
  {
   "cell_type": "code",
   "execution_count": 3,
   "id": "df547877",
   "metadata": {},
   "outputs": [],
   "source": [
    "import matplotlib.pyplot as plt\n",
    "import seaborn as sns"
   ]
  },
  {
   "cell_type": "markdown",
   "id": "856254e2",
   "metadata": {},
   "source": [
    "## Major League"
   ]
  },
  {
   "cell_type": "markdown",
   "id": "f7bbefc6",
   "metadata": {},
   "source": [
    "## Pitchers"
   ]
  },
  {
   "cell_type": "code",
   "execution_count": 4,
   "id": "733b01fc",
   "metadata": {
    "scrolled": true
   },
   "outputs": [
    {
     "data": {
      "text/html": [
       "<div>\n",
       "<style scoped>\n",
       "    .dataframe tbody tr th:only-of-type {\n",
       "        vertical-align: middle;\n",
       "    }\n",
       "\n",
       "    .dataframe tbody tr th {\n",
       "        vertical-align: top;\n",
       "    }\n",
       "\n",
       "    .dataframe thead th {\n",
       "        text-align: right;\n",
       "    }\n",
       "</style>\n",
       "<table border=\"1\" class=\"dataframe\">\n",
       "  <thead>\n",
       "    <tr style=\"text-align: right;\">\n",
       "      <th></th>\n",
       "      <th>last_name</th>\n",
       "      <th>first_name</th>\n",
       "      <th>player_id</th>\n",
       "      <th>year</th>\n",
       "      <th>p_game</th>\n",
       "      <th>p_formatted_ip</th>\n",
       "      <th>pa</th>\n",
       "      <th>ab</th>\n",
       "      <th>hit</th>\n",
       "      <th>home_run</th>\n",
       "      <th>...</th>\n",
       "      <th>walk</th>\n",
       "      <th>p_earned_run</th>\n",
       "      <th>p_run</th>\n",
       "      <th>p_save</th>\n",
       "      <th>p_blown_save</th>\n",
       "      <th>p_win</th>\n",
       "      <th>p_loss</th>\n",
       "      <th>p_balk</th>\n",
       "      <th>p_era</th>\n",
       "      <th>Unnamed: 20</th>\n",
       "    </tr>\n",
       "  </thead>\n",
       "  <tbody>\n",
       "    <tr>\n",
       "      <th>0</th>\n",
       "      <td>Colon</td>\n",
       "      <td>Bartolo</td>\n",
       "      <td>112526</td>\n",
       "      <td>2015</td>\n",
       "      <td>33</td>\n",
       "      <td>194.2</td>\n",
       "      <td>815</td>\n",
       "      <td>771</td>\n",
       "      <td>217</td>\n",
       "      <td>25</td>\n",
       "      <td>...</td>\n",
       "      <td>24</td>\n",
       "      <td>90</td>\n",
       "      <td>94</td>\n",
       "      <td>0</td>\n",
       "      <td>0</td>\n",
       "      <td>14</td>\n",
       "      <td>13</td>\n",
       "      <td>0</td>\n",
       "      <td>4.16</td>\n",
       "      <td>NaN</td>\n",
       "    </tr>\n",
       "    <tr>\n",
       "      <th>1</th>\n",
       "      <td>Burnett</td>\n",
       "      <td>A.J.</td>\n",
       "      <td>150359</td>\n",
       "      <td>2015</td>\n",
       "      <td>26</td>\n",
       "      <td>164.0</td>\n",
       "      <td>699</td>\n",
       "      <td>633</td>\n",
       "      <td>174</td>\n",
       "      <td>11</td>\n",
       "      <td>...</td>\n",
       "      <td>49</td>\n",
       "      <td>58</td>\n",
       "      <td>64</td>\n",
       "      <td>0</td>\n",
       "      <td>0</td>\n",
       "      <td>9</td>\n",
       "      <td>7</td>\n",
       "      <td>1</td>\n",
       "      <td>3.18</td>\n",
       "      <td>NaN</td>\n",
       "    </tr>\n",
       "    <tr>\n",
       "      <th>2</th>\n",
       "      <td>Hudson</td>\n",
       "      <td>Tim</td>\n",
       "      <td>218596</td>\n",
       "      <td>2015</td>\n",
       "      <td>24</td>\n",
       "      <td>123.2</td>\n",
       "      <td>525</td>\n",
       "      <td>476</td>\n",
       "      <td>134</td>\n",
       "      <td>13</td>\n",
       "      <td>...</td>\n",
       "      <td>37</td>\n",
       "      <td>61</td>\n",
       "      <td>62</td>\n",
       "      <td>0</td>\n",
       "      <td>0</td>\n",
       "      <td>8</td>\n",
       "      <td>9</td>\n",
       "      <td>0</td>\n",
       "      <td>4.44</td>\n",
       "      <td>NaN</td>\n",
       "    </tr>\n",
       "    <tr>\n",
       "      <th>3</th>\n",
       "      <td>Buehrle</td>\n",
       "      <td>Mark</td>\n",
       "      <td>279824</td>\n",
       "      <td>2015</td>\n",
       "      <td>32</td>\n",
       "      <td>198.2</td>\n",
       "      <td>827</td>\n",
       "      <td>768</td>\n",
       "      <td>214</td>\n",
       "      <td>22</td>\n",
       "      <td>...</td>\n",
       "      <td>33</td>\n",
       "      <td>84</td>\n",
       "      <td>100</td>\n",
       "      <td>0</td>\n",
       "      <td>0</td>\n",
       "      <td>15</td>\n",
       "      <td>8</td>\n",
       "      <td>0</td>\n",
       "      <td>3.81</td>\n",
       "      <td>NaN</td>\n",
       "    </tr>\n",
       "    <tr>\n",
       "      <th>4</th>\n",
       "      <td>Sabathia</td>\n",
       "      <td>CC</td>\n",
       "      <td>282332</td>\n",
       "      <td>2015</td>\n",
       "      <td>29</td>\n",
       "      <td>167.1</td>\n",
       "      <td>726</td>\n",
       "      <td>659</td>\n",
       "      <td>188</td>\n",
       "      <td>28</td>\n",
       "      <td>...</td>\n",
       "      <td>50</td>\n",
       "      <td>88</td>\n",
       "      <td>92</td>\n",
       "      <td>0</td>\n",
       "      <td>0</td>\n",
       "      <td>6</td>\n",
       "      <td>10</td>\n",
       "      <td>1</td>\n",
       "      <td>4.73</td>\n",
       "      <td>NaN</td>\n",
       "    </tr>\n",
       "    <tr>\n",
       "      <th>...</th>\n",
       "      <td>...</td>\n",
       "      <td>...</td>\n",
       "      <td>...</td>\n",
       "      <td>...</td>\n",
       "      <td>...</td>\n",
       "      <td>...</td>\n",
       "      <td>...</td>\n",
       "      <td>...</td>\n",
       "      <td>...</td>\n",
       "      <td>...</td>\n",
       "      <td>...</td>\n",
       "      <td>...</td>\n",
       "      <td>...</td>\n",
       "      <td>...</td>\n",
       "      <td>...</td>\n",
       "      <td>...</td>\n",
       "      <td>...</td>\n",
       "      <td>...</td>\n",
       "      <td>...</td>\n",
       "      <td>...</td>\n",
       "      <td>...</td>\n",
       "    </tr>\n",
       "    <tr>\n",
       "      <th>1008</th>\n",
       "      <td>Bradish</td>\n",
       "      <td>Kyle</td>\n",
       "      <td>680694</td>\n",
       "      <td>2023</td>\n",
       "      <td>12</td>\n",
       "      <td>60.0</td>\n",
       "      <td>251</td>\n",
       "      <td>230</td>\n",
       "      <td>60</td>\n",
       "      <td>6</td>\n",
       "      <td>...</td>\n",
       "      <td>16</td>\n",
       "      <td>26</td>\n",
       "      <td>27</td>\n",
       "      <td>0</td>\n",
       "      <td>0</td>\n",
       "      <td>2</td>\n",
       "      <td>3</td>\n",
       "      <td>0</td>\n",
       "      <td>3.90</td>\n",
       "      <td>NaN</td>\n",
       "    </tr>\n",
       "    <tr>\n",
       "      <th>1009</th>\n",
       "      <td>Waldichuk</td>\n",
       "      <td>Ken</td>\n",
       "      <td>686610</td>\n",
       "      <td>2023</td>\n",
       "      <td>16</td>\n",
       "      <td>59.2</td>\n",
       "      <td>291</td>\n",
       "      <td>244</td>\n",
       "      <td>77</td>\n",
       "      <td>14</td>\n",
       "      <td>...</td>\n",
       "      <td>39</td>\n",
       "      <td>44</td>\n",
       "      <td>48</td>\n",
       "      <td>1</td>\n",
       "      <td>0</td>\n",
       "      <td>1</td>\n",
       "      <td>5</td>\n",
       "      <td>0</td>\n",
       "      <td>6.64</td>\n",
       "      <td>NaN</td>\n",
       "    </tr>\n",
       "    <tr>\n",
       "      <th>1010</th>\n",
       "      <td>Brown</td>\n",
       "      <td>Hunter</td>\n",
       "      <td>686613</td>\n",
       "      <td>2023</td>\n",
       "      <td>14</td>\n",
       "      <td>81.0</td>\n",
       "      <td>332</td>\n",
       "      <td>299</td>\n",
       "      <td>71</td>\n",
       "      <td>8</td>\n",
       "      <td>...</td>\n",
       "      <td>28</td>\n",
       "      <td>34</td>\n",
       "      <td>38</td>\n",
       "      <td>0</td>\n",
       "      <td>0</td>\n",
       "      <td>6</td>\n",
       "      <td>4</td>\n",
       "      <td>0</td>\n",
       "      <td>3.78</td>\n",
       "      <td>NaN</td>\n",
       "    </tr>\n",
       "    <tr>\n",
       "      <th>1011</th>\n",
       "      <td>Varland</td>\n",
       "      <td>Louie</td>\n",
       "      <td>686973</td>\n",
       "      <td>2023</td>\n",
       "      <td>10</td>\n",
       "      <td>56.0</td>\n",
       "      <td>241</td>\n",
       "      <td>222</td>\n",
       "      <td>60</td>\n",
       "      <td>14</td>\n",
       "      <td>...</td>\n",
       "      <td>16</td>\n",
       "      <td>33</td>\n",
       "      <td>33</td>\n",
       "      <td>0</td>\n",
       "      <td>0</td>\n",
       "      <td>3</td>\n",
       "      <td>3</td>\n",
       "      <td>0</td>\n",
       "      <td>5.30</td>\n",
       "      <td>NaN</td>\n",
       "    </tr>\n",
       "    <tr>\n",
       "      <th>1012</th>\n",
       "      <td>Elder</td>\n",
       "      <td>Bryce</td>\n",
       "      <td>693821</td>\n",
       "      <td>2023</td>\n",
       "      <td>14</td>\n",
       "      <td>83.0</td>\n",
       "      <td>334</td>\n",
       "      <td>308</td>\n",
       "      <td>73</td>\n",
       "      <td>8</td>\n",
       "      <td>...</td>\n",
       "      <td>22</td>\n",
       "      <td>24</td>\n",
       "      <td>25</td>\n",
       "      <td>0</td>\n",
       "      <td>0</td>\n",
       "      <td>5</td>\n",
       "      <td>1</td>\n",
       "      <td>1</td>\n",
       "      <td>2.60</td>\n",
       "      <td>NaN</td>\n",
       "    </tr>\n",
       "  </tbody>\n",
       "</table>\n",
       "<p>1013 rows × 21 columns</p>\n",
       "</div>"
      ],
      "text/plain": [
       "      last_name  first_name  player_id  year  p_game  p_formatted_ip   pa  \\\n",
       "0         Colon     Bartolo     112526  2015      33           194.2  815   \n",
       "1       Burnett        A.J.     150359  2015      26           164.0  699   \n",
       "2        Hudson         Tim     218596  2015      24           123.2  525   \n",
       "3       Buehrle        Mark     279824  2015      32           198.2  827   \n",
       "4      Sabathia          CC     282332  2015      29           167.1  726   \n",
       "...         ...         ...        ...   ...     ...             ...  ...   \n",
       "1008    Bradish        Kyle     680694  2023      12            60.0  251   \n",
       "1009  Waldichuk         Ken     686610  2023      16            59.2  291   \n",
       "1010      Brown      Hunter     686613  2023      14            81.0  332   \n",
       "1011    Varland       Louie     686973  2023      10            56.0  241   \n",
       "1012      Elder       Bryce     693821  2023      14            83.0  334   \n",
       "\n",
       "       ab  hit  home_run  ...  walk  p_earned_run  p_run  p_save  \\\n",
       "0     771  217        25  ...    24            90     94       0   \n",
       "1     633  174        11  ...    49            58     64       0   \n",
       "2     476  134        13  ...    37            61     62       0   \n",
       "3     768  214        22  ...    33            84    100       0   \n",
       "4     659  188        28  ...    50            88     92       0   \n",
       "...   ...  ...       ...  ...   ...           ...    ...     ...   \n",
       "1008  230   60         6  ...    16            26     27       0   \n",
       "1009  244   77        14  ...    39            44     48       1   \n",
       "1010  299   71         8  ...    28            34     38       0   \n",
       "1011  222   60        14  ...    16            33     33       0   \n",
       "1012  308   73         8  ...    22            24     25       0   \n",
       "\n",
       "      p_blown_save  p_win  p_loss  p_balk  p_era  Unnamed: 20  \n",
       "0                0     14      13       0   4.16          NaN  \n",
       "1                0      9       7       1   3.18          NaN  \n",
       "2                0      8       9       0   4.44          NaN  \n",
       "3                0     15       8       0   3.81          NaN  \n",
       "4                0      6      10       1   4.73          NaN  \n",
       "...            ...    ...     ...     ...    ...          ...  \n",
       "1008             0      2       3       0   3.90          NaN  \n",
       "1009             0      1       5       0   6.64          NaN  \n",
       "1010             0      6       4       0   3.78          NaN  \n",
       "1011             0      3       3       0   5.30          NaN  \n",
       "1012             0      5       1       1   2.60          NaN  \n",
       "\n",
       "[1013 rows x 21 columns]"
      ]
     },
     "execution_count": 4,
     "metadata": {},
     "output_type": "execute_result"
    }
   ],
   "source": [
    "MLB_Pitch = pd.read_csv('/Users/kellyjara/Desktop/Project3/Data/MLB PItchers.csv')\n",
    "MLB_Pitch"
   ]
  },
  {
   "cell_type": "code",
   "execution_count": 5,
   "id": "ad520387",
   "metadata": {},
   "outputs": [],
   "source": [
    "MLB_Pitch.drop(columns = 'Unnamed: 20', inplace = True)"
   ]
  },
  {
   "cell_type": "code",
   "execution_count": 6,
   "id": "5f3d4bfb",
   "metadata": {},
   "outputs": [
    {
     "name": "stdout",
     "output_type": "stream",
     "text": [
      "<class 'pandas.core.frame.DataFrame'>\n",
      "RangeIndex: 1013 entries, 0 to 1012\n",
      "Data columns (total 20 columns):\n",
      " #   Column          Non-Null Count  Dtype  \n",
      "---  ------          --------------  -----  \n",
      " 0   last_name       1013 non-null   object \n",
      " 1    first_name     1013 non-null   object \n",
      " 2   player_id       1013 non-null   int64  \n",
      " 3   year            1013 non-null   int64  \n",
      " 4   p_game          1013 non-null   int64  \n",
      " 5   p_formatted_ip  1013 non-null   float64\n",
      " 6   pa              1013 non-null   int64  \n",
      " 7   ab              1013 non-null   int64  \n",
      " 8   hit             1013 non-null   int64  \n",
      " 9   home_run        1013 non-null   int64  \n",
      " 10  strikeout       1013 non-null   int64  \n",
      " 11  walk            1013 non-null   int64  \n",
      " 12  p_earned_run    1013 non-null   int64  \n",
      " 13  p_run           1013 non-null   int64  \n",
      " 14  p_save          1013 non-null   int64  \n",
      " 15  p_blown_save    1013 non-null   int64  \n",
      " 16  p_win           1013 non-null   int64  \n",
      " 17  p_loss          1013 non-null   int64  \n",
      " 18  p_balk          1013 non-null   int64  \n",
      " 19  p_era           1013 non-null   float64\n",
      "dtypes: float64(2), int64(16), object(2)\n",
      "memory usage: 158.4+ KB\n"
     ]
    }
   ],
   "source": [
    "MLB_Pitch.info()"
   ]
  },
  {
   "cell_type": "code",
   "execution_count": 7,
   "id": "602d91f0",
   "metadata": {},
   "outputs": [],
   "source": [
    "#creating column specifying players are in the major league"
   ]
  },
  {
   "cell_type": "code",
   "execution_count": 8,
   "id": "ca946202",
   "metadata": {},
   "outputs": [],
   "source": [
    "MLB_Pitch['League'] = 'Major'"
   ]
  },
  {
   "cell_type": "code",
   "execution_count": 9,
   "id": "c5ccd27d",
   "metadata": {},
   "outputs": [
    {
     "data": {
      "text/html": [
       "<div>\n",
       "<style scoped>\n",
       "    .dataframe tbody tr th:only-of-type {\n",
       "        vertical-align: middle;\n",
       "    }\n",
       "\n",
       "    .dataframe tbody tr th {\n",
       "        vertical-align: top;\n",
       "    }\n",
       "\n",
       "    .dataframe thead th {\n",
       "        text-align: right;\n",
       "    }\n",
       "</style>\n",
       "<table border=\"1\" class=\"dataframe\">\n",
       "  <thead>\n",
       "    <tr style=\"text-align: right;\">\n",
       "      <th></th>\n",
       "      <th>last_name</th>\n",
       "      <th>first_name</th>\n",
       "      <th>player_id</th>\n",
       "      <th>year</th>\n",
       "      <th>p_game</th>\n",
       "      <th>p_formatted_ip</th>\n",
       "      <th>pa</th>\n",
       "      <th>ab</th>\n",
       "      <th>hit</th>\n",
       "      <th>home_run</th>\n",
       "      <th>...</th>\n",
       "      <th>walk</th>\n",
       "      <th>p_earned_run</th>\n",
       "      <th>p_run</th>\n",
       "      <th>p_save</th>\n",
       "      <th>p_blown_save</th>\n",
       "      <th>p_win</th>\n",
       "      <th>p_loss</th>\n",
       "      <th>p_balk</th>\n",
       "      <th>p_era</th>\n",
       "      <th>League</th>\n",
       "    </tr>\n",
       "  </thead>\n",
       "  <tbody>\n",
       "    <tr>\n",
       "      <th>0</th>\n",
       "      <td>Colon</td>\n",
       "      <td>Bartolo</td>\n",
       "      <td>112526</td>\n",
       "      <td>2015</td>\n",
       "      <td>33</td>\n",
       "      <td>194.2</td>\n",
       "      <td>815</td>\n",
       "      <td>771</td>\n",
       "      <td>217</td>\n",
       "      <td>25</td>\n",
       "      <td>...</td>\n",
       "      <td>24</td>\n",
       "      <td>90</td>\n",
       "      <td>94</td>\n",
       "      <td>0</td>\n",
       "      <td>0</td>\n",
       "      <td>14</td>\n",
       "      <td>13</td>\n",
       "      <td>0</td>\n",
       "      <td>4.16</td>\n",
       "      <td>Major</td>\n",
       "    </tr>\n",
       "    <tr>\n",
       "      <th>1</th>\n",
       "      <td>Burnett</td>\n",
       "      <td>A.J.</td>\n",
       "      <td>150359</td>\n",
       "      <td>2015</td>\n",
       "      <td>26</td>\n",
       "      <td>164.0</td>\n",
       "      <td>699</td>\n",
       "      <td>633</td>\n",
       "      <td>174</td>\n",
       "      <td>11</td>\n",
       "      <td>...</td>\n",
       "      <td>49</td>\n",
       "      <td>58</td>\n",
       "      <td>64</td>\n",
       "      <td>0</td>\n",
       "      <td>0</td>\n",
       "      <td>9</td>\n",
       "      <td>7</td>\n",
       "      <td>1</td>\n",
       "      <td>3.18</td>\n",
       "      <td>Major</td>\n",
       "    </tr>\n",
       "    <tr>\n",
       "      <th>2</th>\n",
       "      <td>Hudson</td>\n",
       "      <td>Tim</td>\n",
       "      <td>218596</td>\n",
       "      <td>2015</td>\n",
       "      <td>24</td>\n",
       "      <td>123.2</td>\n",
       "      <td>525</td>\n",
       "      <td>476</td>\n",
       "      <td>134</td>\n",
       "      <td>13</td>\n",
       "      <td>...</td>\n",
       "      <td>37</td>\n",
       "      <td>61</td>\n",
       "      <td>62</td>\n",
       "      <td>0</td>\n",
       "      <td>0</td>\n",
       "      <td>8</td>\n",
       "      <td>9</td>\n",
       "      <td>0</td>\n",
       "      <td>4.44</td>\n",
       "      <td>Major</td>\n",
       "    </tr>\n",
       "    <tr>\n",
       "      <th>3</th>\n",
       "      <td>Buehrle</td>\n",
       "      <td>Mark</td>\n",
       "      <td>279824</td>\n",
       "      <td>2015</td>\n",
       "      <td>32</td>\n",
       "      <td>198.2</td>\n",
       "      <td>827</td>\n",
       "      <td>768</td>\n",
       "      <td>214</td>\n",
       "      <td>22</td>\n",
       "      <td>...</td>\n",
       "      <td>33</td>\n",
       "      <td>84</td>\n",
       "      <td>100</td>\n",
       "      <td>0</td>\n",
       "      <td>0</td>\n",
       "      <td>15</td>\n",
       "      <td>8</td>\n",
       "      <td>0</td>\n",
       "      <td>3.81</td>\n",
       "      <td>Major</td>\n",
       "    </tr>\n",
       "    <tr>\n",
       "      <th>4</th>\n",
       "      <td>Sabathia</td>\n",
       "      <td>CC</td>\n",
       "      <td>282332</td>\n",
       "      <td>2015</td>\n",
       "      <td>29</td>\n",
       "      <td>167.1</td>\n",
       "      <td>726</td>\n",
       "      <td>659</td>\n",
       "      <td>188</td>\n",
       "      <td>28</td>\n",
       "      <td>...</td>\n",
       "      <td>50</td>\n",
       "      <td>88</td>\n",
       "      <td>92</td>\n",
       "      <td>0</td>\n",
       "      <td>0</td>\n",
       "      <td>6</td>\n",
       "      <td>10</td>\n",
       "      <td>1</td>\n",
       "      <td>4.73</td>\n",
       "      <td>Major</td>\n",
       "    </tr>\n",
       "  </tbody>\n",
       "</table>\n",
       "<p>5 rows × 21 columns</p>\n",
       "</div>"
      ],
      "text/plain": [
       "  last_name  first_name  player_id  year  p_game  p_formatted_ip   pa   ab  \\\n",
       "0     Colon     Bartolo     112526  2015      33           194.2  815  771   \n",
       "1   Burnett        A.J.     150359  2015      26           164.0  699  633   \n",
       "2    Hudson         Tim     218596  2015      24           123.2  525  476   \n",
       "3   Buehrle        Mark     279824  2015      32           198.2  827  768   \n",
       "4  Sabathia          CC     282332  2015      29           167.1  726  659   \n",
       "\n",
       "   hit  home_run  ...  walk  p_earned_run  p_run  p_save  p_blown_save  p_win  \\\n",
       "0  217        25  ...    24            90     94       0             0     14   \n",
       "1  174        11  ...    49            58     64       0             0      9   \n",
       "2  134        13  ...    37            61     62       0             0      8   \n",
       "3  214        22  ...    33            84    100       0             0     15   \n",
       "4  188        28  ...    50            88     92       0             0      6   \n",
       "\n",
       "   p_loss  p_balk  p_era  League  \n",
       "0      13       0   4.16   Major  \n",
       "1       7       1   3.18   Major  \n",
       "2       9       0   4.44   Major  \n",
       "3       8       0   3.81   Major  \n",
       "4      10       1   4.73   Major  \n",
       "\n",
       "[5 rows x 21 columns]"
      ]
     },
     "execution_count": 9,
     "metadata": {},
     "output_type": "execute_result"
    }
   ],
   "source": [
    "MLB_Pitch.head()"
   ]
  },
  {
   "cell_type": "code",
   "execution_count": 10,
   "id": "bfe36b70",
   "metadata": {},
   "outputs": [
    {
     "name": "stdout",
     "output_type": "stream",
     "text": [
      "<class 'pandas.core.frame.DataFrame'>\n",
      "RangeIndex: 1013 entries, 0 to 1012\n",
      "Data columns (total 21 columns):\n",
      " #   Column          Non-Null Count  Dtype  \n",
      "---  ------          --------------  -----  \n",
      " 0   last_name       1013 non-null   object \n",
      " 1    first_name     1013 non-null   object \n",
      " 2   player_id       1013 non-null   int64  \n",
      " 3   year            1013 non-null   int64  \n",
      " 4   p_game          1013 non-null   int64  \n",
      " 5   p_formatted_ip  1013 non-null   float64\n",
      " 6   pa              1013 non-null   int64  \n",
      " 7   ab              1013 non-null   int64  \n",
      " 8   hit             1013 non-null   int64  \n",
      " 9   home_run        1013 non-null   int64  \n",
      " 10  strikeout       1013 non-null   int64  \n",
      " 11  walk            1013 non-null   int64  \n",
      " 12  p_earned_run    1013 non-null   int64  \n",
      " 13  p_run           1013 non-null   int64  \n",
      " 14  p_save          1013 non-null   int64  \n",
      " 15  p_blown_save    1013 non-null   int64  \n",
      " 16  p_win           1013 non-null   int64  \n",
      " 17  p_loss          1013 non-null   int64  \n",
      " 18  p_balk          1013 non-null   int64  \n",
      " 19  p_era           1013 non-null   float64\n",
      " 20  League          1013 non-null   object \n",
      "dtypes: float64(2), int64(16), object(3)\n",
      "memory usage: 166.3+ KB\n"
     ]
    }
   ],
   "source": [
    "MLB_Pitch.info()"
   ]
  },
  {
   "cell_type": "code",
   "execution_count": 11,
   "id": "631c772e",
   "metadata": {},
   "outputs": [],
   "source": [
    "# combining name columns"
   ]
  },
  {
   "cell_type": "code",
   "execution_count": 12,
   "id": "62f6e6be",
   "metadata": {},
   "outputs": [
    {
     "data": {
      "text/html": [
       "<div>\n",
       "<style scoped>\n",
       "    .dataframe tbody tr th:only-of-type {\n",
       "        vertical-align: middle;\n",
       "    }\n",
       "\n",
       "    .dataframe tbody tr th {\n",
       "        vertical-align: top;\n",
       "    }\n",
       "\n",
       "    .dataframe thead th {\n",
       "        text-align: right;\n",
       "    }\n",
       "</style>\n",
       "<table border=\"1\" class=\"dataframe\">\n",
       "  <thead>\n",
       "    <tr style=\"text-align: right;\">\n",
       "      <th></th>\n",
       "      <th>last_name</th>\n",
       "      <th>first_name</th>\n",
       "      <th>player_id</th>\n",
       "      <th>year</th>\n",
       "      <th>p_game</th>\n",
       "      <th>p_formatted_ip</th>\n",
       "      <th>pa</th>\n",
       "      <th>ab</th>\n",
       "      <th>hit</th>\n",
       "      <th>home_run</th>\n",
       "      <th>...</th>\n",
       "      <th>p_earned_run</th>\n",
       "      <th>p_run</th>\n",
       "      <th>p_save</th>\n",
       "      <th>p_blown_save</th>\n",
       "      <th>p_win</th>\n",
       "      <th>p_loss</th>\n",
       "      <th>p_balk</th>\n",
       "      <th>p_era</th>\n",
       "      <th>League</th>\n",
       "      <th>name</th>\n",
       "    </tr>\n",
       "  </thead>\n",
       "  <tbody>\n",
       "    <tr>\n",
       "      <th>0</th>\n",
       "      <td>Colon</td>\n",
       "      <td>Bartolo</td>\n",
       "      <td>112526</td>\n",
       "      <td>2015</td>\n",
       "      <td>33</td>\n",
       "      <td>194.2</td>\n",
       "      <td>815</td>\n",
       "      <td>771</td>\n",
       "      <td>217</td>\n",
       "      <td>25</td>\n",
       "      <td>...</td>\n",
       "      <td>90</td>\n",
       "      <td>94</td>\n",
       "      <td>0</td>\n",
       "      <td>0</td>\n",
       "      <td>14</td>\n",
       "      <td>13</td>\n",
       "      <td>0</td>\n",
       "      <td>4.16</td>\n",
       "      <td>Major</td>\n",
       "      <td>Bartolo Colon</td>\n",
       "    </tr>\n",
       "    <tr>\n",
       "      <th>1</th>\n",
       "      <td>Burnett</td>\n",
       "      <td>A.J.</td>\n",
       "      <td>150359</td>\n",
       "      <td>2015</td>\n",
       "      <td>26</td>\n",
       "      <td>164.0</td>\n",
       "      <td>699</td>\n",
       "      <td>633</td>\n",
       "      <td>174</td>\n",
       "      <td>11</td>\n",
       "      <td>...</td>\n",
       "      <td>58</td>\n",
       "      <td>64</td>\n",
       "      <td>0</td>\n",
       "      <td>0</td>\n",
       "      <td>9</td>\n",
       "      <td>7</td>\n",
       "      <td>1</td>\n",
       "      <td>3.18</td>\n",
       "      <td>Major</td>\n",
       "      <td>A.J. Burnett</td>\n",
       "    </tr>\n",
       "    <tr>\n",
       "      <th>2</th>\n",
       "      <td>Hudson</td>\n",
       "      <td>Tim</td>\n",
       "      <td>218596</td>\n",
       "      <td>2015</td>\n",
       "      <td>24</td>\n",
       "      <td>123.2</td>\n",
       "      <td>525</td>\n",
       "      <td>476</td>\n",
       "      <td>134</td>\n",
       "      <td>13</td>\n",
       "      <td>...</td>\n",
       "      <td>61</td>\n",
       "      <td>62</td>\n",
       "      <td>0</td>\n",
       "      <td>0</td>\n",
       "      <td>8</td>\n",
       "      <td>9</td>\n",
       "      <td>0</td>\n",
       "      <td>4.44</td>\n",
       "      <td>Major</td>\n",
       "      <td>Tim Hudson</td>\n",
       "    </tr>\n",
       "    <tr>\n",
       "      <th>3</th>\n",
       "      <td>Buehrle</td>\n",
       "      <td>Mark</td>\n",
       "      <td>279824</td>\n",
       "      <td>2015</td>\n",
       "      <td>32</td>\n",
       "      <td>198.2</td>\n",
       "      <td>827</td>\n",
       "      <td>768</td>\n",
       "      <td>214</td>\n",
       "      <td>22</td>\n",
       "      <td>...</td>\n",
       "      <td>84</td>\n",
       "      <td>100</td>\n",
       "      <td>0</td>\n",
       "      <td>0</td>\n",
       "      <td>15</td>\n",
       "      <td>8</td>\n",
       "      <td>0</td>\n",
       "      <td>3.81</td>\n",
       "      <td>Major</td>\n",
       "      <td>Mark Buehrle</td>\n",
       "    </tr>\n",
       "    <tr>\n",
       "      <th>4</th>\n",
       "      <td>Sabathia</td>\n",
       "      <td>CC</td>\n",
       "      <td>282332</td>\n",
       "      <td>2015</td>\n",
       "      <td>29</td>\n",
       "      <td>167.1</td>\n",
       "      <td>726</td>\n",
       "      <td>659</td>\n",
       "      <td>188</td>\n",
       "      <td>28</td>\n",
       "      <td>...</td>\n",
       "      <td>88</td>\n",
       "      <td>92</td>\n",
       "      <td>0</td>\n",
       "      <td>0</td>\n",
       "      <td>6</td>\n",
       "      <td>10</td>\n",
       "      <td>1</td>\n",
       "      <td>4.73</td>\n",
       "      <td>Major</td>\n",
       "      <td>CC Sabathia</td>\n",
       "    </tr>\n",
       "  </tbody>\n",
       "</table>\n",
       "<p>5 rows × 22 columns</p>\n",
       "</div>"
      ],
      "text/plain": [
       "  last_name  first_name  player_id  year  p_game  p_formatted_ip   pa   ab  \\\n",
       "0     Colon     Bartolo     112526  2015      33           194.2  815  771   \n",
       "1   Burnett        A.J.     150359  2015      26           164.0  699  633   \n",
       "2    Hudson         Tim     218596  2015      24           123.2  525  476   \n",
       "3   Buehrle        Mark     279824  2015      32           198.2  827  768   \n",
       "4  Sabathia          CC     282332  2015      29           167.1  726  659   \n",
       "\n",
       "   hit  home_run  ...  p_earned_run  p_run  p_save  p_blown_save  p_win  \\\n",
       "0  217        25  ...            90     94       0             0     14   \n",
       "1  174        11  ...            58     64       0             0      9   \n",
       "2  134        13  ...            61     62       0             0      8   \n",
       "3  214        22  ...            84    100       0             0     15   \n",
       "4  188        28  ...            88     92       0             0      6   \n",
       "\n",
       "   p_loss  p_balk  p_era  League            name  \n",
       "0      13       0   4.16   Major   Bartolo Colon  \n",
       "1       7       1   3.18   Major    A.J. Burnett  \n",
       "2       9       0   4.44   Major      Tim Hudson  \n",
       "3       8       0   3.81   Major    Mark Buehrle  \n",
       "4      10       1   4.73   Major     CC Sabathia  \n",
       "\n",
       "[5 rows x 22 columns]"
      ]
     },
     "execution_count": 12,
     "metadata": {},
     "output_type": "execute_result"
    }
   ],
   "source": [
    "MLB_Pitch['name'] = MLB_Pitch[' first_name'].map(str) + ' ' + MLB_Pitch['last_name'].map(str)\n",
    "MLB_Pitch.head()"
   ]
  },
  {
   "cell_type": "code",
   "execution_count": 13,
   "id": "c6aca6d0",
   "metadata": {},
   "outputs": [],
   "source": [
    "#creating WHIP column"
   ]
  },
  {
   "cell_type": "code",
   "execution_count": 14,
   "id": "e035823a",
   "metadata": {},
   "outputs": [],
   "source": [
    "MLB_Pitch['WHIP'] = (MLB_Pitch['hit'] + MLB_Pitch['walk']) / MLB_Pitch['p_formatted_ip']"
   ]
  },
  {
   "cell_type": "code",
   "execution_count": 15,
   "id": "c7145253",
   "metadata": {},
   "outputs": [],
   "source": [
    "# Creating catergorical column based on WHIP values"
   ]
  },
  {
   "cell_type": "code",
   "execution_count": 16,
   "id": "5f73aad4",
   "metadata": {},
   "outputs": [],
   "source": [
    "def whip_ranks(x):\n",
    "    if x < 1.20:\n",
    "        return 'Above Average'\n",
    "    elif x > 1.40:\n",
    "        return 'Below Average'\n",
    "    else: \n",
    "        return 'Average'\n",
    "    \n",
    "MLB_Pitch['WHIP Ranks'] = MLB_Pitch['WHIP'].apply(whip_ranks)"
   ]
  },
  {
   "cell_type": "code",
   "execution_count": 17,
   "id": "b73924f7",
   "metadata": {
    "scrolled": true
   },
   "outputs": [
    {
     "data": {
      "text/plain": [
       "Average          433\n",
       "Above Average    342\n",
       "Below Average    238\n",
       "Name: WHIP Ranks, dtype: int64"
      ]
     },
     "execution_count": 17,
     "metadata": {},
     "output_type": "execute_result"
    }
   ],
   "source": [
    "MLB_Pitch['WHIP Ranks'].value_counts()"
   ]
  },
  {
   "cell_type": "code",
   "execution_count": 18,
   "id": "f32ad0d2",
   "metadata": {
    "scrolled": true
   },
   "outputs": [
    {
     "data": {
      "text/plain": [
       "0    433\n",
       "1    342\n",
       "2    238\n",
       "Name: WHIP_Rank, dtype: int64"
      ]
     },
     "execution_count": 18,
     "metadata": {},
     "output_type": "execute_result"
    }
   ],
   "source": [
    "MLB_Pitch[\"WHIP_Rank\"] = MLB_Pitch[\"WHIP Ranks\"].astype('category')\n",
    "categories = [\"Average\", \"Above Average\",\"Below Average\"]\n",
    "MLB_Pitch[\"WHIP_Rank\"] = MLB_Pitch[\"WHIP_Rank\"].cat.reorder_categories(categories)\n",
    "MLB_Pitch[\"WHIP_Rank\"] = MLB_Pitch[\"WHIP_Rank\"].cat.codes\n",
    "MLB_Pitch[\"WHIP_Rank\"].value_counts()"
   ]
  },
  {
   "cell_type": "code",
   "execution_count": 19,
   "id": "7198e008",
   "metadata": {},
   "outputs": [],
   "source": [
    "# Creating categorical column based on ERA values"
   ]
  },
  {
   "cell_type": "code",
   "execution_count": 20,
   "id": "c2c00c37",
   "metadata": {},
   "outputs": [],
   "source": [
    "def era_ranks(x):\n",
    "    if x < 3.40:\n",
    "        return 'Above Average'\n",
    "    elif x > 4.00:\n",
    "        return 'Below Average'\n",
    "    else: \n",
    "        return 'Average'\n",
    "    \n",
    "MLB_Pitch['ERA Ranks'] = MLB_Pitch['p_era'].apply(era_ranks)"
   ]
  },
  {
   "cell_type": "code",
   "execution_count": 21,
   "id": "6f308a23",
   "metadata": {},
   "outputs": [
    {
     "data": {
      "text/plain": [
       "Below Average    511\n",
       "Above Average    264\n",
       "Average          238\n",
       "Name: ERA Ranks, dtype: int64"
      ]
     },
     "execution_count": 21,
     "metadata": {},
     "output_type": "execute_result"
    }
   ],
   "source": [
    "MLB_Pitch['ERA Ranks'].value_counts()"
   ]
  },
  {
   "cell_type": "code",
   "execution_count": 22,
   "id": "d9ffae6d",
   "metadata": {},
   "outputs": [
    {
     "data": {
      "text/plain": [
       "0    511\n",
       "1    264\n",
       "2    238\n",
       "Name: ERA_Rank, dtype: int64"
      ]
     },
     "execution_count": 22,
     "metadata": {},
     "output_type": "execute_result"
    }
   ],
   "source": [
    "MLB_Pitch[\"ERA_Rank\"] = MLB_Pitch[\"ERA Ranks\"].astype('category')\n",
    "categories = [\"Below Average\",\"Above Average\", \"Average\"]\n",
    "MLB_Pitch[\"ERA_Rank\"] = MLB_Pitch[\"ERA_Rank\"].cat.reorder_categories(categories)\n",
    "MLB_Pitch[\"ERA_Rank\"] = MLB_Pitch[\"ERA_Rank\"].cat.codes\n",
    "MLB_Pitch[\"ERA_Rank\"].value_counts()"
   ]
  },
  {
   "cell_type": "code",
   "execution_count": 23,
   "id": "13baaa43",
   "metadata": {},
   "outputs": [
    {
     "name": "stdout",
     "output_type": "stream",
     "text": [
      "<class 'pandas.core.frame.DataFrame'>\n",
      "RangeIndex: 1013 entries, 0 to 1012\n",
      "Data columns (total 27 columns):\n",
      " #   Column          Non-Null Count  Dtype  \n",
      "---  ------          --------------  -----  \n",
      " 0   last_name       1013 non-null   object \n",
      " 1    first_name     1013 non-null   object \n",
      " 2   player_id       1013 non-null   int64  \n",
      " 3   year            1013 non-null   int64  \n",
      " 4   p_game          1013 non-null   int64  \n",
      " 5   p_formatted_ip  1013 non-null   float64\n",
      " 6   pa              1013 non-null   int64  \n",
      " 7   ab              1013 non-null   int64  \n",
      " 8   hit             1013 non-null   int64  \n",
      " 9   home_run        1013 non-null   int64  \n",
      " 10  strikeout       1013 non-null   int64  \n",
      " 11  walk            1013 non-null   int64  \n",
      " 12  p_earned_run    1013 non-null   int64  \n",
      " 13  p_run           1013 non-null   int64  \n",
      " 14  p_save          1013 non-null   int64  \n",
      " 15  p_blown_save    1013 non-null   int64  \n",
      " 16  p_win           1013 non-null   int64  \n",
      " 17  p_loss          1013 non-null   int64  \n",
      " 18  p_balk          1013 non-null   int64  \n",
      " 19  p_era           1013 non-null   float64\n",
      " 20  League          1013 non-null   object \n",
      " 21  name            1013 non-null   object \n",
      " 22  WHIP            1013 non-null   float64\n",
      " 23  WHIP Ranks      1013 non-null   object \n",
      " 24  WHIP_Rank       1013 non-null   int8   \n",
      " 25  ERA Ranks       1013 non-null   object \n",
      " 26  ERA_Rank        1013 non-null   int8   \n",
      "dtypes: float64(3), int64(16), int8(2), object(6)\n",
      "memory usage: 200.0+ KB\n"
     ]
    }
   ],
   "source": [
    "MLB_Pitch.info()"
   ]
  },
  {
   "cell_type": "markdown",
   "id": "52118c49",
   "metadata": {},
   "source": [
    "### MLB PreProcessing"
   ]
  },
  {
   "cell_type": "code",
   "execution_count": 24,
   "id": "e995ba1c",
   "metadata": {},
   "outputs": [
    {
     "data": {
      "image/png": "[encoded data removed]",
      "text/plain": [
       "<Figure size 800x600 with 1 Axes>"
      ]
     },
     "metadata": {},
     "output_type": "display_data"
    }
   ],
   "source": [
    "plt.figure(figsize=(8, 6))\n",
    "sns.regplot(x='p_era', y='WHIP', data=MLB_Pitch, line_kws={\"color\":\"orange\"})\n",
    "plt.title('Relationship Between WHIP and ERA')\n",
    "plt.show()"
   ]
  },
  {
   "cell_type": "code",
   "execution_count": 25,
   "id": "857f28da",
   "metadata": {},
   "outputs": [],
   "source": [
    "MLB_Feats = ['p_game', 'p_formatted_ip', 'pa', 'ab', 'hit', 'home_run','strikeout',\n",
    "            'walk','p_earned_run','p_run','p_save','p_blown_save','p_win','p_loss',\n",
    "            'p_balk','p_era']"
   ]
  },
  {
   "cell_type": "code",
   "execution_count": 26,
   "id": "40c15a1e",
   "metadata": {},
   "outputs": [],
   "source": [
    "X = MLB_Pitch[MLB_Feats]\n",
    "y = MLB_Pitch['WHIP_Rank']\n",
    "\n",
    "X_train, X_test, y_train, y_test = train_test_split(\n",
    "    X, y, test_size=0.30, random_state=42)"
   ]
  },
  {
   "cell_type": "code",
   "execution_count": 27,
   "id": "0c9430db",
   "metadata": {},
   "outputs": [],
   "source": [
    "scaler = StandardScaler()\n",
    "\n",
    "scaler.fit(X_train)\n",
    "\n",
    "X_train_scaled = scaler.transform(X_train)\n",
    "X_test_scaled = scaler.transform(X_test)"
   ]
  },
  {
   "cell_type": "code",
   "execution_count": 28,
   "id": "3236963b",
   "metadata": {},
   "outputs": [
    {
     "data": {
      "text/plain": [
       "0    0.417489\n",
       "1    0.335684\n",
       "2    0.246827\n",
       "Name: WHIP_Rank, dtype: float64"
      ]
     },
     "execution_count": 28,
     "metadata": {},
     "output_type": "execute_result"
    }
   ],
   "source": [
    "y_train.value_counts(normalize=True)"
   ]
  },
  {
   "cell_type": "code",
   "execution_count": 29,
   "id": "99b2f076",
   "metadata": {},
   "outputs": [
    {
     "data": {
      "text/plain": [
       "0    0.450658\n",
       "1    0.342105\n",
       "2    0.207237\n",
       "Name: WHIP_Rank, dtype: float64"
      ]
     },
     "execution_count": 29,
     "metadata": {},
     "output_type": "execute_result"
    }
   ],
   "source": [
    "y_test.value_counts(normalize=True)"
   ]
  },
  {
   "cell_type": "code",
   "execution_count": 30,
   "id": "460f84f5",
   "metadata": {},
   "outputs": [],
   "source": [
    "MLB_Model = LogisticRegression(random_state=42)\n",
    "MLB_Model.fit(X_train_scaled, y_train)\n",
    "preds =MLB_Model.predict(X_test_scaled)"
   ]
  },
  {
   "cell_type": "code",
   "execution_count": 31,
   "id": "04d33d51",
   "metadata": {},
   "outputs": [
    {
     "data": {
      "text/plain": [
       "<sklearn.metrics._plot.confusion_matrix.ConfusionMatrixDisplay at 0x7fb084a30be0>"
      ]
     },
     "execution_count": 31,
     "metadata": {},
     "output_type": "execute_result"
    },
    {
     "data": {
      "image/png": "[encoded data removed]",
      "text/plain": [
       "<Figure size 640x480 with 2 Axes>"
      ]
     },
     "metadata": {},
     "output_type": "display_data"
    }
   ],
   "source": [
    "MLB_CM =confusion_matrix(y_test,preds);\n",
    "ConfusionMatrixDisplay(MLB_CM).plot()"
   ]
  },
  {
   "cell_type": "code",
   "execution_count": 32,
   "id": "d5017578",
   "metadata": {},
   "outputs": [],
   "source": [
    "test_preds = MLB_Model.predict(X_test_scaled)"
   ]
  },
  {
   "cell_type": "code",
   "execution_count": 33,
   "id": "eddda923",
   "metadata": {},
   "outputs": [
    {
     "name": "stdout",
     "output_type": "stream",
     "text": [
      "0.868421052631579\n",
      "0.8709650022515789\n",
      "0.868421052631579\n",
      "0.868738193310869\n"
     ]
    }
   ],
   "source": [
    "accuracy = accuracy_score(y_test, test_preds)\n",
    "print(accuracy)\n",
    "precision = precision_score(y_test, test_preds, average = 'weighted')\n",
    "print(precision)\n",
    "recall = recall_score(y_test, test_preds, average = 'weighted')\n",
    "print(recall)\n",
    "f1 = f1_score(y_test, test_preds, average = 'weighted')\n",
    "print(f1)"
   ]
  },
  {
   "cell_type": "markdown",
   "id": "fe2d6614",
   "metadata": {},
   "source": [
    "## Minor League"
   ]
  },
  {
   "cell_type": "markdown",
   "id": "6e22fa8c",
   "metadata": {},
   "source": [
    "#### Minor League Pitchers"
   ]
  },
  {
   "cell_type": "code",
   "execution_count": 34,
   "id": "95992fe8",
   "metadata": {},
   "outputs": [
    {
     "data": {
      "text/html": [
       "<div>\n",
       "<style scoped>\n",
       "    .dataframe tbody tr th:only-of-type {\n",
       "        vertical-align: middle;\n",
       "    }\n",
       "\n",
       "    .dataframe tbody tr th {\n",
       "        vertical-align: top;\n",
       "    }\n",
       "\n",
       "    .dataframe thead th {\n",
       "        text-align: right;\n",
       "    }\n",
       "</style>\n",
       "<table border=\"1\" class=\"dataframe\">\n",
       "  <thead>\n",
       "    <tr style=\"text-align: right;\">\n",
       "      <th></th>\n",
       "      <th>Name</th>\n",
       "      <th>Team</th>\n",
       "      <th>Level</th>\n",
       "      <th>Age</th>\n",
       "      <th>W</th>\n",
       "      <th>L</th>\n",
       "      <th>ERA</th>\n",
       "      <th>G</th>\n",
       "      <th>GS</th>\n",
       "      <th>CG</th>\n",
       "      <th>...</th>\n",
       "      <th>R</th>\n",
       "      <th>ER</th>\n",
       "      <th>HR</th>\n",
       "      <th>BB</th>\n",
       "      <th>IBB</th>\n",
       "      <th>HBP</th>\n",
       "      <th>WP</th>\n",
       "      <th>BK</th>\n",
       "      <th>SO</th>\n",
       "      <th>PlayerId</th>\n",
       "    </tr>\n",
       "  </thead>\n",
       "  <tbody>\n",
       "    <tr>\n",
       "      <th>0</th>\n",
       "      <td>Patrick Schuster</td>\n",
       "      <td>ARI</td>\n",
       "      <td>AA,AAA</td>\n",
       "      <td>24-26</td>\n",
       "      <td>7</td>\n",
       "      <td>4</td>\n",
       "      <td>3.635762</td>\n",
       "      <td>134</td>\n",
       "      <td>0</td>\n",
       "      <td>0</td>\n",
       "      <td>...</td>\n",
       "      <td>64</td>\n",
       "      <td>61</td>\n",
       "      <td>8</td>\n",
       "      <td>63</td>\n",
       "      <td>1</td>\n",
       "      <td>10</td>\n",
       "      <td>12</td>\n",
       "      <td>1</td>\n",
       "      <td>145</td>\n",
       "      <td>10029</td>\n",
       "    </tr>\n",
       "    <tr>\n",
       "      <th>1</th>\n",
       "      <td>Keyvius Sampson</td>\n",
       "      <td>CIN</td>\n",
       "      <td>A,AA,AAA,R</td>\n",
       "      <td>24-30</td>\n",
       "      <td>12</td>\n",
       "      <td>18</td>\n",
       "      <td>4.017426</td>\n",
       "      <td>74</td>\n",
       "      <td>44</td>\n",
       "      <td>0</td>\n",
       "      <td>...</td>\n",
       "      <td>123</td>\n",
       "      <td>111</td>\n",
       "      <td>18</td>\n",
       "      <td>138</td>\n",
       "      <td>1</td>\n",
       "      <td>8</td>\n",
       "      <td>14</td>\n",
       "      <td>1</td>\n",
       "      <td>245</td>\n",
       "      <td>10039</td>\n",
       "    </tr>\n",
       "    <tr>\n",
       "      <th>2</th>\n",
       "      <td>Ashur Tolliver</td>\n",
       "      <td>BAL</td>\n",
       "      <td>A-,AA,AAA,R</td>\n",
       "      <td>27-29</td>\n",
       "      <td>5</td>\n",
       "      <td>3</td>\n",
       "      <td>3.751708</td>\n",
       "      <td>108</td>\n",
       "      <td>2</td>\n",
       "      <td>0</td>\n",
       "      <td>...</td>\n",
       "      <td>63</td>\n",
       "      <td>61</td>\n",
       "      <td>8</td>\n",
       "      <td>80</td>\n",
       "      <td>1</td>\n",
       "      <td>5</td>\n",
       "      <td>12</td>\n",
       "      <td>1</td>\n",
       "      <td>146</td>\n",
       "      <td>10044</td>\n",
       "    </tr>\n",
       "    <tr>\n",
       "      <th>3</th>\n",
       "      <td>Johnny Hellweg</td>\n",
       "      <td>MIL</td>\n",
       "      <td>A+,AA,AAA</td>\n",
       "      <td>26-29</td>\n",
       "      <td>3</td>\n",
       "      <td>17</td>\n",
       "      <td>5.915731</td>\n",
       "      <td>54</td>\n",
       "      <td>22</td>\n",
       "      <td>0</td>\n",
       "      <td>...</td>\n",
       "      <td>99</td>\n",
       "      <td>78</td>\n",
       "      <td>10</td>\n",
       "      <td>85</td>\n",
       "      <td>0</td>\n",
       "      <td>21</td>\n",
       "      <td>21</td>\n",
       "      <td>2</td>\n",
       "      <td>87</td>\n",
       "      <td>10065</td>\n",
       "    </tr>\n",
       "    <tr>\n",
       "      <th>4</th>\n",
       "      <td>Ian Krol</td>\n",
       "      <td>DET</td>\n",
       "      <td>A+,AAA,R</td>\n",
       "      <td>24-31</td>\n",
       "      <td>10</td>\n",
       "      <td>8</td>\n",
       "      <td>3.831683</td>\n",
       "      <td>177</td>\n",
       "      <td>2</td>\n",
       "      <td>0</td>\n",
       "      <td>...</td>\n",
       "      <td>95</td>\n",
       "      <td>86</td>\n",
       "      <td>18</td>\n",
       "      <td>98</td>\n",
       "      <td>3</td>\n",
       "      <td>13</td>\n",
       "      <td>17</td>\n",
       "      <td>1</td>\n",
       "      <td>234</td>\n",
       "      <td>10066</td>\n",
       "    </tr>\n",
       "    <tr>\n",
       "      <th>...</th>\n",
       "      <td>...</td>\n",
       "      <td>...</td>\n",
       "      <td>...</td>\n",
       "      <td>...</td>\n",
       "      <td>...</td>\n",
       "      <td>...</td>\n",
       "      <td>...</td>\n",
       "      <td>...</td>\n",
       "      <td>...</td>\n",
       "      <td>...</td>\n",
       "      <td>...</td>\n",
       "      <td>...</td>\n",
       "      <td>...</td>\n",
       "      <td>...</td>\n",
       "      <td>...</td>\n",
       "      <td>...</td>\n",
       "      <td>...</td>\n",
       "      <td>...</td>\n",
       "      <td>...</td>\n",
       "      <td>...</td>\n",
       "      <td>...</td>\n",
       "    </tr>\n",
       "    <tr>\n",
       "      <th>5873</th>\n",
       "      <td>Tom de Blok</td>\n",
       "      <td>DET</td>\n",
       "      <td>A,A-,A+</td>\n",
       "      <td>21-23</td>\n",
       "      <td>11</td>\n",
       "      <td>21</td>\n",
       "      <td>3.909502</td>\n",
       "      <td>64</td>\n",
       "      <td>51</td>\n",
       "      <td>0</td>\n",
       "      <td>...</td>\n",
       "      <td>139</td>\n",
       "      <td>128</td>\n",
       "      <td>26</td>\n",
       "      <td>93</td>\n",
       "      <td>0</td>\n",
       "      <td>11</td>\n",
       "      <td>11</td>\n",
       "      <td>2</td>\n",
       "      <td>234</td>\n",
       "      <td>sa971762</td>\n",
       "    </tr>\n",
       "    <tr>\n",
       "      <th>5874</th>\n",
       "      <td>Adrian Alcantara</td>\n",
       "      <td>KCR</td>\n",
       "      <td>A,A+,AA,R</td>\n",
       "      <td>17-23</td>\n",
       "      <td>22</td>\n",
       "      <td>23</td>\n",
       "      <td>4.487738</td>\n",
       "      <td>94</td>\n",
       "      <td>59</td>\n",
       "      <td>1</td>\n",
       "      <td>...</td>\n",
       "      <td>209</td>\n",
       "      <td>183</td>\n",
       "      <td>48</td>\n",
       "      <td>147</td>\n",
       "      <td>1</td>\n",
       "      <td>28</td>\n",
       "      <td>39</td>\n",
       "      <td>11</td>\n",
       "      <td>375</td>\n",
       "      <td>sa974592</td>\n",
       "    </tr>\n",
       "    <tr>\n",
       "      <th>5875</th>\n",
       "      <td>Osvaldo Hernandez</td>\n",
       "      <td>SDP</td>\n",
       "      <td>A,A-,A+,AA,R</td>\n",
       "      <td>19-24</td>\n",
       "      <td>22</td>\n",
       "      <td>23</td>\n",
       "      <td>3.777465</td>\n",
       "      <td>106</td>\n",
       "      <td>69</td>\n",
       "      <td>0</td>\n",
       "      <td>...</td>\n",
       "      <td>178</td>\n",
       "      <td>149</td>\n",
       "      <td>35</td>\n",
       "      <td>102</td>\n",
       "      <td>1</td>\n",
       "      <td>21</td>\n",
       "      <td>26</td>\n",
       "      <td>9</td>\n",
       "      <td>322</td>\n",
       "      <td>sa975541</td>\n",
       "    </tr>\n",
       "    <tr>\n",
       "      <th>5876</th>\n",
       "      <td>Parker Curry</td>\n",
       "      <td>LAD</td>\n",
       "      <td>A,A+,AA,AAA</td>\n",
       "      <td>23-25</td>\n",
       "      <td>15</td>\n",
       "      <td>20</td>\n",
       "      <td>3.916560</td>\n",
       "      <td>97</td>\n",
       "      <td>28</td>\n",
       "      <td>0</td>\n",
       "      <td>...</td>\n",
       "      <td>130</td>\n",
       "      <td>113</td>\n",
       "      <td>33</td>\n",
       "      <td>75</td>\n",
       "      <td>0</td>\n",
       "      <td>2</td>\n",
       "      <td>22</td>\n",
       "      <td>1</td>\n",
       "      <td>280</td>\n",
       "      <td>sa977821</td>\n",
       "    </tr>\n",
       "    <tr>\n",
       "      <th>5877</th>\n",
       "      <td>Victor Castaneda</td>\n",
       "      <td>MIL</td>\n",
       "      <td>A,A+,AA,AAA,R</td>\n",
       "      <td>19-23</td>\n",
       "      <td>18</td>\n",
       "      <td>22</td>\n",
       "      <td>4.570094</td>\n",
       "      <td>95</td>\n",
       "      <td>56</td>\n",
       "      <td>2</td>\n",
       "      <td>...</td>\n",
       "      <td>184</td>\n",
       "      <td>163</td>\n",
       "      <td>49</td>\n",
       "      <td>126</td>\n",
       "      <td>0</td>\n",
       "      <td>10</td>\n",
       "      <td>18</td>\n",
       "      <td>0</td>\n",
       "      <td>342</td>\n",
       "      <td>sa978399</td>\n",
       "    </tr>\n",
       "  </tbody>\n",
       "</table>\n",
       "<p>5878 rows × 27 columns</p>\n",
       "</div>"
      ],
      "text/plain": [
       "                   Name Team          Level    Age   W   L       ERA    G  GS  \\\n",
       "0      Patrick Schuster  ARI         AA,AAA  24-26   7   4  3.635762  134   0   \n",
       "1       Keyvius Sampson  CIN     A,AA,AAA,R  24-30  12  18  4.017426   74  44   \n",
       "2        Ashur Tolliver  BAL    A-,AA,AAA,R  27-29   5   3  3.751708  108   2   \n",
       "3        Johnny Hellweg  MIL      A+,AA,AAA  26-29   3  17  5.915731   54  22   \n",
       "4              Ian Krol  DET       A+,AAA,R  24-31  10   8  3.831683  177   2   \n",
       "...                 ...  ...            ...    ...  ..  ..       ...  ...  ..   \n",
       "5873        Tom de Blok  DET        A,A-,A+  21-23  11  21  3.909502   64  51   \n",
       "5874   Adrian Alcantara  KCR      A,A+,AA,R  17-23  22  23  4.487738   94  59   \n",
       "5875  Osvaldo Hernandez  SDP   A,A-,A+,AA,R  19-24  22  23  3.777465  106  69   \n",
       "5876       Parker Curry  LAD    A,A+,AA,AAA  23-25  15  20  3.916560   97  28   \n",
       "5877   Victor Castaneda  MIL  A,A+,AA,AAA,R  19-23  18  22  4.570094   95  56   \n",
       "\n",
       "      CG  ...    R   ER  HR   BB  IBB  HBP  WP  BK   SO  PlayerId  \n",
       "0      0  ...   64   61   8   63    1   10  12   1  145     10029  \n",
       "1      0  ...  123  111  18  138    1    8  14   1  245     10039  \n",
       "2      0  ...   63   61   8   80    1    5  12   1  146     10044  \n",
       "3      0  ...   99   78  10   85    0   21  21   2   87     10065  \n",
       "4      0  ...   95   86  18   98    3   13  17   1  234     10066  \n",
       "...   ..  ...  ...  ...  ..  ...  ...  ...  ..  ..  ...       ...  \n",
       "5873   0  ...  139  128  26   93    0   11  11   2  234  sa971762  \n",
       "5874   1  ...  209  183  48  147    1   28  39  11  375  sa974592  \n",
       "5875   0  ...  178  149  35  102    1   21  26   9  322  sa975541  \n",
       "5876   0  ...  130  113  33   75    0    2  22   1  280  sa977821  \n",
       "5877   2  ...  184  163  49  126    0   10  18   0  342  sa978399  \n",
       "\n",
       "[5878 rows x 27 columns]"
      ]
     },
     "execution_count": 34,
     "metadata": {},
     "output_type": "execute_result"
    }
   ],
   "source": [
    "Min_Pitch = pd.read_csv('/Users/kellyjara/Desktop/Project3/Data/Minor League Pitchers.csv')\n",
    "Min_Pitch"
   ]
  },
  {
   "cell_type": "code",
   "execution_count": 35,
   "id": "63e40069",
   "metadata": {
    "scrolled": true
   },
   "outputs": [
    {
     "name": "stdout",
     "output_type": "stream",
     "text": [
      "<class 'pandas.core.frame.DataFrame'>\n",
      "RangeIndex: 5878 entries, 0 to 5877\n",
      "Data columns (total 27 columns):\n",
      " #   Column    Non-Null Count  Dtype  \n",
      "---  ------    --------------  -----  \n",
      " 0   Name      5878 non-null   object \n",
      " 1   Team      5875 non-null   object \n",
      " 2   Level     5878 non-null   object \n",
      " 3   Age       5878 non-null   object \n",
      " 4   W         5878 non-null   int64  \n",
      " 5   L         5878 non-null   int64  \n",
      " 6   ERA       5878 non-null   float64\n",
      " 7   G         5878 non-null   int64  \n",
      " 8   GS        5878 non-null   int64  \n",
      " 9   CG        5878 non-null   int64  \n",
      " 10  ShO       5878 non-null   int64  \n",
      " 11  SV        5878 non-null   int64  \n",
      " 12  BS        5878 non-null   int64  \n",
      " 13  HLD       0 non-null      float64\n",
      " 14  IP        5878 non-null   float64\n",
      " 15  TBF       5878 non-null   int64  \n",
      " 16  H         5878 non-null   int64  \n",
      " 17  R         5878 non-null   int64  \n",
      " 18  ER        5878 non-null   int64  \n",
      " 19  HR        5878 non-null   int64  \n",
      " 20  BB        5878 non-null   int64  \n",
      " 21  IBB       5878 non-null   int64  \n",
      " 22  HBP       5878 non-null   int64  \n",
      " 23  WP        5878 non-null   int64  \n",
      " 24  BK        5878 non-null   int64  \n",
      " 25  SO        5878 non-null   int64  \n",
      " 26  PlayerId  5878 non-null   object \n",
      "dtypes: float64(3), int64(19), object(5)\n",
      "memory usage: 1.2+ MB\n"
     ]
    }
   ],
   "source": [
    "Min_Pitch.info()"
   ]
  },
  {
   "cell_type": "code",
   "execution_count": 36,
   "id": "ea1e3fe4",
   "metadata": {},
   "outputs": [],
   "source": [
    "#Creating column with total number of walks; intentional and unintentional"
   ]
  },
  {
   "cell_type": "code",
   "execution_count": 37,
   "id": "5a9cc3fc",
   "metadata": {},
   "outputs": [],
   "source": [
    "Min_Pitch['Total Walks'] = Min_Pitch['BB'] + Min_Pitch['IBB']"
   ]
  },
  {
   "cell_type": "code",
   "execution_count": 38,
   "id": "d7ffe5fe",
   "metadata": {},
   "outputs": [
    {
     "data": {
      "text/html": [
       "<div>\n",
       "<style scoped>\n",
       "    .dataframe tbody tr th:only-of-type {\n",
       "        vertical-align: middle;\n",
       "    }\n",
       "\n",
       "    .dataframe tbody tr th {\n",
       "        vertical-align: top;\n",
       "    }\n",
       "\n",
       "    .dataframe thead th {\n",
       "        text-align: right;\n",
       "    }\n",
       "</style>\n",
       "<table border=\"1\" class=\"dataframe\">\n",
       "  <thead>\n",
       "    <tr style=\"text-align: right;\">\n",
       "      <th></th>\n",
       "      <th>Name</th>\n",
       "      <th>Team</th>\n",
       "      <th>Level</th>\n",
       "      <th>Age</th>\n",
       "      <th>W</th>\n",
       "      <th>L</th>\n",
       "      <th>ERA</th>\n",
       "      <th>G</th>\n",
       "      <th>GS</th>\n",
       "      <th>CG</th>\n",
       "      <th>...</th>\n",
       "      <th>ER</th>\n",
       "      <th>HR</th>\n",
       "      <th>BB</th>\n",
       "      <th>IBB</th>\n",
       "      <th>HBP</th>\n",
       "      <th>WP</th>\n",
       "      <th>BK</th>\n",
       "      <th>SO</th>\n",
       "      <th>PlayerId</th>\n",
       "      <th>Total Walks</th>\n",
       "    </tr>\n",
       "  </thead>\n",
       "  <tbody>\n",
       "    <tr>\n",
       "      <th>0</th>\n",
       "      <td>Patrick Schuster</td>\n",
       "      <td>ARI</td>\n",
       "      <td>AA,AAA</td>\n",
       "      <td>24-26</td>\n",
       "      <td>7</td>\n",
       "      <td>4</td>\n",
       "      <td>3.635762</td>\n",
       "      <td>134</td>\n",
       "      <td>0</td>\n",
       "      <td>0</td>\n",
       "      <td>...</td>\n",
       "      <td>61</td>\n",
       "      <td>8</td>\n",
       "      <td>63</td>\n",
       "      <td>1</td>\n",
       "      <td>10</td>\n",
       "      <td>12</td>\n",
       "      <td>1</td>\n",
       "      <td>145</td>\n",
       "      <td>10029</td>\n",
       "      <td>64</td>\n",
       "    </tr>\n",
       "    <tr>\n",
       "      <th>1</th>\n",
       "      <td>Keyvius Sampson</td>\n",
       "      <td>CIN</td>\n",
       "      <td>A,AA,AAA,R</td>\n",
       "      <td>24-30</td>\n",
       "      <td>12</td>\n",
       "      <td>18</td>\n",
       "      <td>4.017426</td>\n",
       "      <td>74</td>\n",
       "      <td>44</td>\n",
       "      <td>0</td>\n",
       "      <td>...</td>\n",
       "      <td>111</td>\n",
       "      <td>18</td>\n",
       "      <td>138</td>\n",
       "      <td>1</td>\n",
       "      <td>8</td>\n",
       "      <td>14</td>\n",
       "      <td>1</td>\n",
       "      <td>245</td>\n",
       "      <td>10039</td>\n",
       "      <td>139</td>\n",
       "    </tr>\n",
       "    <tr>\n",
       "      <th>2</th>\n",
       "      <td>Ashur Tolliver</td>\n",
       "      <td>BAL</td>\n",
       "      <td>A-,AA,AAA,R</td>\n",
       "      <td>27-29</td>\n",
       "      <td>5</td>\n",
       "      <td>3</td>\n",
       "      <td>3.751708</td>\n",
       "      <td>108</td>\n",
       "      <td>2</td>\n",
       "      <td>0</td>\n",
       "      <td>...</td>\n",
       "      <td>61</td>\n",
       "      <td>8</td>\n",
       "      <td>80</td>\n",
       "      <td>1</td>\n",
       "      <td>5</td>\n",
       "      <td>12</td>\n",
       "      <td>1</td>\n",
       "      <td>146</td>\n",
       "      <td>10044</td>\n",
       "      <td>81</td>\n",
       "    </tr>\n",
       "    <tr>\n",
       "      <th>3</th>\n",
       "      <td>Johnny Hellweg</td>\n",
       "      <td>MIL</td>\n",
       "      <td>A+,AA,AAA</td>\n",
       "      <td>26-29</td>\n",
       "      <td>3</td>\n",
       "      <td>17</td>\n",
       "      <td>5.915731</td>\n",
       "      <td>54</td>\n",
       "      <td>22</td>\n",
       "      <td>0</td>\n",
       "      <td>...</td>\n",
       "      <td>78</td>\n",
       "      <td>10</td>\n",
       "      <td>85</td>\n",
       "      <td>0</td>\n",
       "      <td>21</td>\n",
       "      <td>21</td>\n",
       "      <td>2</td>\n",
       "      <td>87</td>\n",
       "      <td>10065</td>\n",
       "      <td>85</td>\n",
       "    </tr>\n",
       "    <tr>\n",
       "      <th>4</th>\n",
       "      <td>Ian Krol</td>\n",
       "      <td>DET</td>\n",
       "      <td>A+,AAA,R</td>\n",
       "      <td>24-31</td>\n",
       "      <td>10</td>\n",
       "      <td>8</td>\n",
       "      <td>3.831683</td>\n",
       "      <td>177</td>\n",
       "      <td>2</td>\n",
       "      <td>0</td>\n",
       "      <td>...</td>\n",
       "      <td>86</td>\n",
       "      <td>18</td>\n",
       "      <td>98</td>\n",
       "      <td>3</td>\n",
       "      <td>13</td>\n",
       "      <td>17</td>\n",
       "      <td>1</td>\n",
       "      <td>234</td>\n",
       "      <td>10066</td>\n",
       "      <td>101</td>\n",
       "    </tr>\n",
       "  </tbody>\n",
       "</table>\n",
       "<p>5 rows × 28 columns</p>\n",
       "</div>"
      ],
      "text/plain": [
       "               Name Team        Level    Age   W   L       ERA    G  GS  CG  \\\n",
       "0  Patrick Schuster  ARI       AA,AAA  24-26   7   4  3.635762  134   0   0   \n",
       "1   Keyvius Sampson  CIN   A,AA,AAA,R  24-30  12  18  4.017426   74  44   0   \n",
       "2    Ashur Tolliver  BAL  A-,AA,AAA,R  27-29   5   3  3.751708  108   2   0   \n",
       "3    Johnny Hellweg  MIL    A+,AA,AAA  26-29   3  17  5.915731   54  22   0   \n",
       "4          Ian Krol  DET     A+,AAA,R  24-31  10   8  3.831683  177   2   0   \n",
       "\n",
       "   ...   ER  HR   BB  IBB  HBP  WP  BK   SO  PlayerId  Total Walks  \n",
       "0  ...   61   8   63    1   10  12   1  145     10029           64  \n",
       "1  ...  111  18  138    1    8  14   1  245     10039          139  \n",
       "2  ...   61   8   80    1    5  12   1  146     10044           81  \n",
       "3  ...   78  10   85    0   21  21   2   87     10065           85  \n",
       "4  ...   86  18   98    3   13  17   1  234     10066          101  \n",
       "\n",
       "[5 rows x 28 columns]"
      ]
     },
     "execution_count": 38,
     "metadata": {},
     "output_type": "execute_result"
    }
   ],
   "source": [
    "Min_Pitch.head()"
   ]
  },
  {
   "cell_type": "code",
   "execution_count": 39,
   "id": "8248f7c0",
   "metadata": {},
   "outputs": [],
   "source": [
    "# Creating WHIP column; Walks plus Hits per Innings Pitched"
   ]
  },
  {
   "cell_type": "code",
   "execution_count": 40,
   "id": "fc599275",
   "metadata": {},
   "outputs": [],
   "source": [
    "Min_Pitch['WHIP'] = (Min_Pitch['Total Walks'] + Min_Pitch['H']) / Min_Pitch['IP']"
   ]
  },
  {
   "cell_type": "code",
   "execution_count": 41,
   "id": "32f48726",
   "metadata": {},
   "outputs": [
    {
     "data": {
      "text/html": [
       "<div>\n",
       "<style scoped>\n",
       "    .dataframe tbody tr th:only-of-type {\n",
       "        vertical-align: middle;\n",
       "    }\n",
       "\n",
       "    .dataframe tbody tr th {\n",
       "        vertical-align: top;\n",
       "    }\n",
       "\n",
       "    .dataframe thead th {\n",
       "        text-align: right;\n",
       "    }\n",
       "</style>\n",
       "<table border=\"1\" class=\"dataframe\">\n",
       "  <thead>\n",
       "    <tr style=\"text-align: right;\">\n",
       "      <th></th>\n",
       "      <th>Name</th>\n",
       "      <th>Team</th>\n",
       "      <th>Level</th>\n",
       "      <th>Age</th>\n",
       "      <th>W</th>\n",
       "      <th>L</th>\n",
       "      <th>ERA</th>\n",
       "      <th>G</th>\n",
       "      <th>GS</th>\n",
       "      <th>CG</th>\n",
       "      <th>...</th>\n",
       "      <th>HR</th>\n",
       "      <th>BB</th>\n",
       "      <th>IBB</th>\n",
       "      <th>HBP</th>\n",
       "      <th>WP</th>\n",
       "      <th>BK</th>\n",
       "      <th>SO</th>\n",
       "      <th>PlayerId</th>\n",
       "      <th>Total Walks</th>\n",
       "      <th>WHIP</th>\n",
       "    </tr>\n",
       "  </thead>\n",
       "  <tbody>\n",
       "    <tr>\n",
       "      <th>0</th>\n",
       "      <td>Patrick Schuster</td>\n",
       "      <td>ARI</td>\n",
       "      <td>AA,AAA</td>\n",
       "      <td>24-26</td>\n",
       "      <td>7</td>\n",
       "      <td>4</td>\n",
       "      <td>3.635762</td>\n",
       "      <td>134</td>\n",
       "      <td>0</td>\n",
       "      <td>0</td>\n",
       "      <td>...</td>\n",
       "      <td>8</td>\n",
       "      <td>63</td>\n",
       "      <td>1</td>\n",
       "      <td>10</td>\n",
       "      <td>12</td>\n",
       "      <td>1</td>\n",
       "      <td>145</td>\n",
       "      <td>10029</td>\n",
       "      <td>64</td>\n",
       "      <td>1.410596</td>\n",
       "    </tr>\n",
       "    <tr>\n",
       "      <th>1</th>\n",
       "      <td>Keyvius Sampson</td>\n",
       "      <td>CIN</td>\n",
       "      <td>A,AA,AAA,R</td>\n",
       "      <td>24-30</td>\n",
       "      <td>12</td>\n",
       "      <td>18</td>\n",
       "      <td>4.017426</td>\n",
       "      <td>74</td>\n",
       "      <td>44</td>\n",
       "      <td>0</td>\n",
       "      <td>...</td>\n",
       "      <td>18</td>\n",
       "      <td>138</td>\n",
       "      <td>1</td>\n",
       "      <td>8</td>\n",
       "      <td>14</td>\n",
       "      <td>1</td>\n",
       "      <td>245</td>\n",
       "      <td>10039</td>\n",
       "      <td>139</td>\n",
       "      <td>1.450443</td>\n",
       "    </tr>\n",
       "    <tr>\n",
       "      <th>2</th>\n",
       "      <td>Ashur Tolliver</td>\n",
       "      <td>BAL</td>\n",
       "      <td>A-,AA,AAA,R</td>\n",
       "      <td>27-29</td>\n",
       "      <td>5</td>\n",
       "      <td>3</td>\n",
       "      <td>3.751708</td>\n",
       "      <td>108</td>\n",
       "      <td>2</td>\n",
       "      <td>0</td>\n",
       "      <td>...</td>\n",
       "      <td>8</td>\n",
       "      <td>80</td>\n",
       "      <td>1</td>\n",
       "      <td>5</td>\n",
       "      <td>12</td>\n",
       "      <td>1</td>\n",
       "      <td>146</td>\n",
       "      <td>10044</td>\n",
       "      <td>81</td>\n",
       "      <td>1.485284</td>\n",
       "    </tr>\n",
       "    <tr>\n",
       "      <th>3</th>\n",
       "      <td>Johnny Hellweg</td>\n",
       "      <td>MIL</td>\n",
       "      <td>A+,AA,AAA</td>\n",
       "      <td>26-29</td>\n",
       "      <td>3</td>\n",
       "      <td>17</td>\n",
       "      <td>5.915731</td>\n",
       "      <td>54</td>\n",
       "      <td>22</td>\n",
       "      <td>0</td>\n",
       "      <td>...</td>\n",
       "      <td>10</td>\n",
       "      <td>85</td>\n",
       "      <td>0</td>\n",
       "      <td>21</td>\n",
       "      <td>21</td>\n",
       "      <td>2</td>\n",
       "      <td>87</td>\n",
       "      <td>10065</td>\n",
       "      <td>85</td>\n",
       "      <td>1.768190</td>\n",
       "    </tr>\n",
       "    <tr>\n",
       "      <th>4</th>\n",
       "      <td>Ian Krol</td>\n",
       "      <td>DET</td>\n",
       "      <td>A+,AAA,R</td>\n",
       "      <td>24-31</td>\n",
       "      <td>10</td>\n",
       "      <td>8</td>\n",
       "      <td>3.831683</td>\n",
       "      <td>177</td>\n",
       "      <td>2</td>\n",
       "      <td>0</td>\n",
       "      <td>...</td>\n",
       "      <td>18</td>\n",
       "      <td>98</td>\n",
       "      <td>3</td>\n",
       "      <td>13</td>\n",
       "      <td>17</td>\n",
       "      <td>1</td>\n",
       "      <td>234</td>\n",
       "      <td>10066</td>\n",
       "      <td>101</td>\n",
       "      <td>1.495050</td>\n",
       "    </tr>\n",
       "  </tbody>\n",
       "</table>\n",
       "<p>5 rows × 29 columns</p>\n",
       "</div>"
      ],
      "text/plain": [
       "               Name Team        Level    Age   W   L       ERA    G  GS  CG  \\\n",
       "0  Patrick Schuster  ARI       AA,AAA  24-26   7   4  3.635762  134   0   0   \n",
       "1   Keyvius Sampson  CIN   A,AA,AAA,R  24-30  12  18  4.017426   74  44   0   \n",
       "2    Ashur Tolliver  BAL  A-,AA,AAA,R  27-29   5   3  3.751708  108   2   0   \n",
       "3    Johnny Hellweg  MIL    A+,AA,AAA  26-29   3  17  5.915731   54  22   0   \n",
       "4          Ian Krol  DET     A+,AAA,R  24-31  10   8  3.831683  177   2   0   \n",
       "\n",
       "   ...  HR   BB  IBB  HBP  WP  BK   SO  PlayerId  Total Walks      WHIP  \n",
       "0  ...   8   63    1   10  12   1  145     10029           64  1.410596  \n",
       "1  ...  18  138    1    8  14   1  245     10039          139  1.450443  \n",
       "2  ...   8   80    1    5  12   1  146     10044           81  1.485284  \n",
       "3  ...  10   85    0   21  21   2   87     10065           85  1.768190  \n",
       "4  ...  18   98    3   13  17   1  234     10066          101  1.495050  \n",
       "\n",
       "[5 rows x 29 columns]"
      ]
     },
     "execution_count": 41,
     "metadata": {},
     "output_type": "execute_result"
    }
   ],
   "source": [
    "Min_Pitch.head()"
   ]
  },
  {
   "cell_type": "code",
   "execution_count": 42,
   "id": "4ac87188",
   "metadata": {},
   "outputs": [],
   "source": [
    "# removing columns "
   ]
  },
  {
   "cell_type": "code",
   "execution_count": 43,
   "id": "cfbb53c1",
   "metadata": {},
   "outputs": [],
   "source": [
    "Min_Pitch.drop(columns = 'HLD', inplace = True)\n",
    "Min_Pitch.drop(columns = 'Level', inplace = True)\n",
    "Min_Pitch.drop(columns = 'PlayerId', inplace = True)\n",
    "Min_Pitch.drop(columns = 'Age', inplace = True)"
   ]
  },
  {
   "cell_type": "code",
   "execution_count": 44,
   "id": "e0347d77",
   "metadata": {},
   "outputs": [
    {
     "name": "stdout",
     "output_type": "stream",
     "text": [
      "<class 'pandas.core.frame.DataFrame'>\n",
      "RangeIndex: 5878 entries, 0 to 5877\n",
      "Data columns (total 25 columns):\n",
      " #   Column       Non-Null Count  Dtype  \n",
      "---  ------       --------------  -----  \n",
      " 0   Name         5878 non-null   object \n",
      " 1   Team         5875 non-null   object \n",
      " 2   W            5878 non-null   int64  \n",
      " 3   L            5878 non-null   int64  \n",
      " 4   ERA          5878 non-null   float64\n",
      " 5   G            5878 non-null   int64  \n",
      " 6   GS           5878 non-null   int64  \n",
      " 7   CG           5878 non-null   int64  \n",
      " 8   ShO          5878 non-null   int64  \n",
      " 9   SV           5878 non-null   int64  \n",
      " 10  BS           5878 non-null   int64  \n",
      " 11  IP           5878 non-null   float64\n",
      " 12  TBF          5878 non-null   int64  \n",
      " 13  H            5878 non-null   int64  \n",
      " 14  R            5878 non-null   int64  \n",
      " 15  ER           5878 non-null   int64  \n",
      " 16  HR           5878 non-null   int64  \n",
      " 17  BB           5878 non-null   int64  \n",
      " 18  IBB          5878 non-null   int64  \n",
      " 19  HBP          5878 non-null   int64  \n",
      " 20  WP           5878 non-null   int64  \n",
      " 21  BK           5878 non-null   int64  \n",
      " 22  SO           5878 non-null   int64  \n",
      " 23  Total Walks  5878 non-null   int64  \n",
      " 24  WHIP         5878 non-null   float64\n",
      "dtypes: float64(3), int64(20), object(2)\n",
      "memory usage: 1.1+ MB\n"
     ]
    }
   ],
   "source": [
    "Min_Pitch.info()"
   ]
  },
  {
   "cell_type": "code",
   "execution_count": 45,
   "id": "eb336b0e",
   "metadata": {},
   "outputs": [],
   "source": [
    "# Adding New Column specifying the player is in the minor league"
   ]
  },
  {
   "cell_type": "code",
   "execution_count": 46,
   "id": "87e708f4",
   "metadata": {},
   "outputs": [],
   "source": [
    "Min_Pitch['League'] = 'Minor'"
   ]
  },
  {
   "cell_type": "code",
   "execution_count": 47,
   "id": "06c5e278",
   "metadata": {},
   "outputs": [
    {
     "name": "stdout",
     "output_type": "stream",
     "text": [
      "<class 'pandas.core.frame.DataFrame'>\n",
      "RangeIndex: 5878 entries, 0 to 5877\n",
      "Data columns (total 26 columns):\n",
      " #   Column       Non-Null Count  Dtype  \n",
      "---  ------       --------------  -----  \n",
      " 0   Name         5878 non-null   object \n",
      " 1   Team         5875 non-null   object \n",
      " 2   W            5878 non-null   int64  \n",
      " 3   L            5878 non-null   int64  \n",
      " 4   ERA          5878 non-null   float64\n",
      " 5   G            5878 non-null   int64  \n",
      " 6   GS           5878 non-null   int64  \n",
      " 7   CG           5878 non-null   int64  \n",
      " 8   ShO          5878 non-null   int64  \n",
      " 9   SV           5878 non-null   int64  \n",
      " 10  BS           5878 non-null   int64  \n",
      " 11  IP           5878 non-null   float64\n",
      " 12  TBF          5878 non-null   int64  \n",
      " 13  H            5878 non-null   int64  \n",
      " 14  R            5878 non-null   int64  \n",
      " 15  ER           5878 non-null   int64  \n",
      " 16  HR           5878 non-null   int64  \n",
      " 17  BB           5878 non-null   int64  \n",
      " 18  IBB          5878 non-null   int64  \n",
      " 19  HBP          5878 non-null   int64  \n",
      " 20  WP           5878 non-null   int64  \n",
      " 21  BK           5878 non-null   int64  \n",
      " 22  SO           5878 non-null   int64  \n",
      " 23  Total Walks  5878 non-null   int64  \n",
      " 24  WHIP         5878 non-null   float64\n",
      " 25  League       5878 non-null   object \n",
      "dtypes: float64(3), int64(20), object(3)\n",
      "memory usage: 1.2+ MB\n"
     ]
    }
   ],
   "source": [
    "Min_Pitch.info()"
   ]
  },
  {
   "cell_type": "code",
   "execution_count": 48,
   "id": "3723d27e",
   "metadata": {},
   "outputs": [
    {
     "data": {
      "text/html": [
       "<div>\n",
       "<style scoped>\n",
       "    .dataframe tbody tr th:only-of-type {\n",
       "        vertical-align: middle;\n",
       "    }\n",
       "\n",
       "    .dataframe tbody tr th {\n",
       "        vertical-align: top;\n",
       "    }\n",
       "\n",
       "    .dataframe thead th {\n",
       "        text-align: right;\n",
       "    }\n",
       "</style>\n",
       "<table border=\"1\" class=\"dataframe\">\n",
       "  <thead>\n",
       "    <tr style=\"text-align: right;\">\n",
       "      <th></th>\n",
       "      <th>Name</th>\n",
       "      <th>Team</th>\n",
       "      <th>W</th>\n",
       "      <th>L</th>\n",
       "      <th>ERA</th>\n",
       "      <th>G</th>\n",
       "      <th>GS</th>\n",
       "      <th>CG</th>\n",
       "      <th>ShO</th>\n",
       "      <th>SV</th>\n",
       "      <th>...</th>\n",
       "      <th>HR</th>\n",
       "      <th>BB</th>\n",
       "      <th>IBB</th>\n",
       "      <th>HBP</th>\n",
       "      <th>WP</th>\n",
       "      <th>BK</th>\n",
       "      <th>SO</th>\n",
       "      <th>Total Walks</th>\n",
       "      <th>WHIP</th>\n",
       "      <th>League</th>\n",
       "    </tr>\n",
       "  </thead>\n",
       "  <tbody>\n",
       "    <tr>\n",
       "      <th>0</th>\n",
       "      <td>Patrick Schuster</td>\n",
       "      <td>ARI</td>\n",
       "      <td>7</td>\n",
       "      <td>4</td>\n",
       "      <td>3.635762</td>\n",
       "      <td>134</td>\n",
       "      <td>0</td>\n",
       "      <td>0</td>\n",
       "      <td>0</td>\n",
       "      <td>8</td>\n",
       "      <td>...</td>\n",
       "      <td>8</td>\n",
       "      <td>63</td>\n",
       "      <td>1</td>\n",
       "      <td>10</td>\n",
       "      <td>12</td>\n",
       "      <td>1</td>\n",
       "      <td>145</td>\n",
       "      <td>64</td>\n",
       "      <td>1.410596</td>\n",
       "      <td>Minor</td>\n",
       "    </tr>\n",
       "    <tr>\n",
       "      <th>1</th>\n",
       "      <td>Keyvius Sampson</td>\n",
       "      <td>CIN</td>\n",
       "      <td>12</td>\n",
       "      <td>18</td>\n",
       "      <td>4.017426</td>\n",
       "      <td>74</td>\n",
       "      <td>44</td>\n",
       "      <td>0</td>\n",
       "      <td>0</td>\n",
       "      <td>0</td>\n",
       "      <td>...</td>\n",
       "      <td>18</td>\n",
       "      <td>138</td>\n",
       "      <td>1</td>\n",
       "      <td>8</td>\n",
       "      <td>14</td>\n",
       "      <td>1</td>\n",
       "      <td>245</td>\n",
       "      <td>139</td>\n",
       "      <td>1.450443</td>\n",
       "      <td>Minor</td>\n",
       "    </tr>\n",
       "    <tr>\n",
       "      <th>2</th>\n",
       "      <td>Ashur Tolliver</td>\n",
       "      <td>BAL</td>\n",
       "      <td>5</td>\n",
       "      <td>3</td>\n",
       "      <td>3.751708</td>\n",
       "      <td>108</td>\n",
       "      <td>2</td>\n",
       "      <td>0</td>\n",
       "      <td>0</td>\n",
       "      <td>3</td>\n",
       "      <td>...</td>\n",
       "      <td>8</td>\n",
       "      <td>80</td>\n",
       "      <td>1</td>\n",
       "      <td>5</td>\n",
       "      <td>12</td>\n",
       "      <td>1</td>\n",
       "      <td>146</td>\n",
       "      <td>81</td>\n",
       "      <td>1.485284</td>\n",
       "      <td>Minor</td>\n",
       "    </tr>\n",
       "    <tr>\n",
       "      <th>3</th>\n",
       "      <td>Johnny Hellweg</td>\n",
       "      <td>MIL</td>\n",
       "      <td>3</td>\n",
       "      <td>17</td>\n",
       "      <td>5.915731</td>\n",
       "      <td>54</td>\n",
       "      <td>22</td>\n",
       "      <td>0</td>\n",
       "      <td>0</td>\n",
       "      <td>11</td>\n",
       "      <td>...</td>\n",
       "      <td>10</td>\n",
       "      <td>85</td>\n",
       "      <td>0</td>\n",
       "      <td>21</td>\n",
       "      <td>21</td>\n",
       "      <td>2</td>\n",
       "      <td>87</td>\n",
       "      <td>85</td>\n",
       "      <td>1.768190</td>\n",
       "      <td>Minor</td>\n",
       "    </tr>\n",
       "    <tr>\n",
       "      <th>4</th>\n",
       "      <td>Ian Krol</td>\n",
       "      <td>DET</td>\n",
       "      <td>10</td>\n",
       "      <td>8</td>\n",
       "      <td>3.831683</td>\n",
       "      <td>177</td>\n",
       "      <td>2</td>\n",
       "      <td>0</td>\n",
       "      <td>0</td>\n",
       "      <td>21</td>\n",
       "      <td>...</td>\n",
       "      <td>18</td>\n",
       "      <td>98</td>\n",
       "      <td>3</td>\n",
       "      <td>13</td>\n",
       "      <td>17</td>\n",
       "      <td>1</td>\n",
       "      <td>234</td>\n",
       "      <td>101</td>\n",
       "      <td>1.495050</td>\n",
       "      <td>Minor</td>\n",
       "    </tr>\n",
       "  </tbody>\n",
       "</table>\n",
       "<p>5 rows × 26 columns</p>\n",
       "</div>"
      ],
      "text/plain": [
       "               Name Team   W   L       ERA    G  GS  CG  ShO  SV  ...  HR  \\\n",
       "0  Patrick Schuster  ARI   7   4  3.635762  134   0   0    0   8  ...   8   \n",
       "1   Keyvius Sampson  CIN  12  18  4.017426   74  44   0    0   0  ...  18   \n",
       "2    Ashur Tolliver  BAL   5   3  3.751708  108   2   0    0   3  ...   8   \n",
       "3    Johnny Hellweg  MIL   3  17  5.915731   54  22   0    0  11  ...  10   \n",
       "4          Ian Krol  DET  10   8  3.831683  177   2   0    0  21  ...  18   \n",
       "\n",
       "    BB  IBB  HBP  WP  BK   SO  Total Walks      WHIP  League  \n",
       "0   63    1   10  12   1  145           64  1.410596   Minor  \n",
       "1  138    1    8  14   1  245          139  1.450443   Minor  \n",
       "2   80    1    5  12   1  146           81  1.485284   Minor  \n",
       "3   85    0   21  21   2   87           85  1.768190   Minor  \n",
       "4   98    3   13  17   1  234          101  1.495050   Minor  \n",
       "\n",
       "[5 rows x 26 columns]"
      ]
     },
     "execution_count": 48,
     "metadata": {},
     "output_type": "execute_result"
    }
   ],
   "source": [
    "Min_Pitch.head()"
   ]
  },
  {
   "cell_type": "markdown",
   "id": "d32747ac",
   "metadata": {},
   "source": [
    "### Creating a categorical column ranking WHIP for each player"
   ]
  },
  {
   "cell_type": "code",
   "execution_count": 49,
   "id": "7d22377b",
   "metadata": {},
   "outputs": [],
   "source": [
    "def whip_ranks(x):\n",
    "    if x < 1.20:\n",
    "        return 'Above Average'\n",
    "    elif x > 1.40:\n",
    "        return 'Below Average'\n",
    "    else: \n",
    "        return 'Average'\n",
    "    \n",
    "Min_Pitch['WHIP Ranks'] = Min_Pitch['WHIP'].apply(whip_ranks)"
   ]
  },
  {
   "cell_type": "code",
   "execution_count": 50,
   "id": "e684f6b3",
   "metadata": {},
   "outputs": [
    {
     "data": {
      "text/plain": [
       "Average          2650\n",
       "Below Average    2272\n",
       "Above Average     956\n",
       "Name: WHIP Ranks, dtype: int64"
      ]
     },
     "execution_count": 50,
     "metadata": {},
     "output_type": "execute_result"
    }
   ],
   "source": [
    "Min_Pitch['WHIP Ranks'].value_counts()"
   ]
  },
  {
   "cell_type": "code",
   "execution_count": 51,
   "id": "2f42569d",
   "metadata": {},
   "outputs": [],
   "source": [
    "# Creating nominal column for WHIP Rank"
   ]
  },
  {
   "cell_type": "code",
   "execution_count": 52,
   "id": "1002ad20",
   "metadata": {},
   "outputs": [
    {
     "data": {
      "text/plain": [
       "0    2650\n",
       "1    2272\n",
       "2     956\n",
       "Name: WHIP_Rank, dtype: int64"
      ]
     },
     "execution_count": 52,
     "metadata": {},
     "output_type": "execute_result"
    }
   ],
   "source": [
    "Min_Pitch[\"WHIP_Rank\"] = Min_Pitch[\"WHIP Ranks\"].astype('category')\n",
    "categories = [\"Average\",\"Below Average\",\"Above Average\"]\n",
    "Min_Pitch[\"WHIP_Rank\"] = Min_Pitch[\"WHIP_Rank\"].cat.reorder_categories(categories)\n",
    "Min_Pitch[\"WHIP_Rank\"] = Min_Pitch[\"WHIP_Rank\"].cat.codes\n",
    "Min_Pitch[\"WHIP_Rank\"].value_counts()"
   ]
  },
  {
   "cell_type": "markdown",
   "id": "2323be22",
   "metadata": {},
   "source": [
    "### Creating a categorical column ranking ERA for each player"
   ]
  },
  {
   "cell_type": "code",
   "execution_count": 53,
   "id": "d94835c8",
   "metadata": {},
   "outputs": [],
   "source": [
    "def era_ranks(x):\n",
    "    if x < 3.40:\n",
    "        return 'Above Average'\n",
    "    elif x > 4.00:\n",
    "        return 'Below Average'\n",
    "    else: \n",
    "        return 'Average'\n",
    "    \n",
    "Min_Pitch['ERA Ranks'] = Min_Pitch['ERA'].apply(era_ranks)"
   ]
  },
  {
   "cell_type": "code",
   "execution_count": 54,
   "id": "2d522972",
   "metadata": {},
   "outputs": [
    {
     "data": {
      "text/plain": [
       "Below Average    2927\n",
       "Average          1494\n",
       "Above Average    1457\n",
       "Name: ERA Ranks, dtype: int64"
      ]
     },
     "execution_count": 54,
     "metadata": {},
     "output_type": "execute_result"
    }
   ],
   "source": [
    "Min_Pitch['ERA Ranks'].value_counts()"
   ]
  },
  {
   "cell_type": "code",
   "execution_count": 55,
   "id": "1551e794",
   "metadata": {},
   "outputs": [],
   "source": [
    "# Creating nominal column for ERA Rank"
   ]
  },
  {
   "cell_type": "code",
   "execution_count": 56,
   "id": "b58a4ff5",
   "metadata": {},
   "outputs": [
    {
     "data": {
      "text/plain": [
       "0    2927\n",
       "1    1494\n",
       "2    1457\n",
       "Name: ERA_Rank, dtype: int64"
      ]
     },
     "execution_count": 56,
     "metadata": {},
     "output_type": "execute_result"
    }
   ],
   "source": [
    "Min_Pitch[\"ERA_Rank\"] = Min_Pitch[\"ERA Ranks\"].astype('category')\n",
    "categories = [\"Below Average\",\"Average\",\"Above Average\"]\n",
    "Min_Pitch[\"ERA_Rank\"] = Min_Pitch[\"ERA_Rank\"].cat.reorder_categories(categories)\n",
    "Min_Pitch[\"ERA_Rank\"] = Min_Pitch[\"ERA_Rank\"].cat.codes\n",
    "Min_Pitch[\"ERA_Rank\"].value_counts()"
   ]
  },
  {
   "cell_type": "code",
   "execution_count": 57,
   "id": "7dc3f16f",
   "metadata": {},
   "outputs": [
    {
     "name": "stdout",
     "output_type": "stream",
     "text": [
      "<class 'pandas.core.frame.DataFrame'>\n",
      "RangeIndex: 5878 entries, 0 to 5877\n",
      "Data columns (total 30 columns):\n",
      " #   Column       Non-Null Count  Dtype  \n",
      "---  ------       --------------  -----  \n",
      " 0   Name         5878 non-null   object \n",
      " 1   Team         5875 non-null   object \n",
      " 2   W            5878 non-null   int64  \n",
      " 3   L            5878 non-null   int64  \n",
      " 4   ERA          5878 non-null   float64\n",
      " 5   G            5878 non-null   int64  \n",
      " 6   GS           5878 non-null   int64  \n",
      " 7   CG           5878 non-null   int64  \n",
      " 8   ShO          5878 non-null   int64  \n",
      " 9   SV           5878 non-null   int64  \n",
      " 10  BS           5878 non-null   int64  \n",
      " 11  IP           5878 non-null   float64\n",
      " 12  TBF          5878 non-null   int64  \n",
      " 13  H            5878 non-null   int64  \n",
      " 14  R            5878 non-null   int64  \n",
      " 15  ER           5878 non-null   int64  \n",
      " 16  HR           5878 non-null   int64  \n",
      " 17  BB           5878 non-null   int64  \n",
      " 18  IBB          5878 non-null   int64  \n",
      " 19  HBP          5878 non-null   int64  \n",
      " 20  WP           5878 non-null   int64  \n",
      " 21  BK           5878 non-null   int64  \n",
      " 22  SO           5878 non-null   int64  \n",
      " 23  Total Walks  5878 non-null   int64  \n",
      " 24  WHIP         5878 non-null   float64\n",
      " 25  League       5878 non-null   object \n",
      " 26  WHIP Ranks   5878 non-null   object \n",
      " 27  WHIP_Rank    5878 non-null   int8   \n",
      " 28  ERA Ranks    5878 non-null   object \n",
      " 29  ERA_Rank     5878 non-null   int8   \n",
      "dtypes: float64(3), int64(20), int8(2), object(5)\n",
      "memory usage: 1.3+ MB\n"
     ]
    }
   ],
   "source": [
    "Min_Pitch.info()"
   ]
  },
  {
   "cell_type": "markdown",
   "id": "9b27a0f3",
   "metadata": {},
   "source": [
    "### Preprocessing Min League"
   ]
  },
  {
   "cell_type": "code",
   "execution_count": 58,
   "id": "6680c5ef",
   "metadata": {},
   "outputs": [
    {
     "data": {
      "image/png": "[encoded data removed]",
      "text/plain": [
       "<Figure size 800x600 with 1 Axes>"
      ]
     },
     "metadata": {},
     "output_type": "display_data"
    }
   ],
   "source": [
    "plt.figure(figsize=(8, 6))\n",
    "sns.regplot(x='ERA', y='WHIP', data=Min_Pitch, line_kws={\"color\":\"orange\"})\n",
    "plt.title('Relationship Between WHIP and ERA')\n",
    "plt.show()"
   ]
  },
  {
   "cell_type": "code",
   "execution_count": 59,
   "id": "e8789102",
   "metadata": {},
   "outputs": [],
   "source": [
    "base_feats = ['W', 'L', 'G','GS','CG','ShO','SV','BS','IP',\n",
    "              'TBF', 'H', 'R', 'BB', 'IBB', 'HBP', 'WP', 'BK', 'SO']"
   ]
  },
  {
   "cell_type": "code",
   "execution_count": 60,
   "id": "79a512d0",
   "metadata": {},
   "outputs": [],
   "source": [
    "X = Min_Pitch[base_feats]\n",
    "y = Min_Pitch['WHIP_Rank']\n",
    "\n",
    "X_train, X_test, y_train, y_test = train_test_split(\n",
    "    X, y, test_size=0.30, random_state=42)"
   ]
  },
  {
   "cell_type": "code",
   "execution_count": 61,
   "id": "d8f4b986",
   "metadata": {},
   "outputs": [],
   "source": [
    "scaler = StandardScaler()\n",
    "\n",
    "scaler.fit(X_train)\n",
    "\n",
    "X_train_scaled = scaler.transform(X_train)\n",
    "X_test_scaled = scaler.transform(X_test)"
   ]
  },
  {
   "cell_type": "code",
   "execution_count": 62,
   "id": "e17e5858",
   "metadata": {},
   "outputs": [
    {
     "data": {
      "text/plain": [
       "0    0.452115\n",
       "1    0.387214\n",
       "2    0.160671\n",
       "Name: WHIP_Rank, dtype: float64"
      ]
     },
     "execution_count": 62,
     "metadata": {},
     "output_type": "execute_result"
    }
   ],
   "source": [
    "y_train.value_counts(normalize=True)"
   ]
  },
  {
   "cell_type": "code",
   "execution_count": 63,
   "id": "9d406a28",
   "metadata": {},
   "outputs": [
    {
     "data": {
      "text/plain": [
       "0    0.447846\n",
       "1    0.384921\n",
       "2    0.167234\n",
       "Name: WHIP_Rank, dtype: float64"
      ]
     },
     "execution_count": 63,
     "metadata": {},
     "output_type": "execute_result"
    }
   ],
   "source": [
    "y_test.value_counts(normalize=True)"
   ]
  },
  {
   "cell_type": "markdown",
   "id": "29288c17",
   "metadata": {},
   "source": [
    "### Logistic Regression Model - WHIP"
   ]
  },
  {
   "cell_type": "code",
   "execution_count": 64,
   "id": "96f20f0a",
   "metadata": {},
   "outputs": [
    {
     "name": "stderr",
     "output_type": "stream",
     "text": [
      "/Users/kellyjara/anaconda3/lib/python3.10/site-packages/sklearn/linear_model/_logistic.py:458: ConvergenceWarning: lbfgs failed to converge (status=1):\n",
      "STOP: TOTAL NO. of ITERATIONS REACHED LIMIT.\n",
      "\n",
      "Increase the number of iterations (max_iter) or scale the data as shown in:\n",
      "    https://scikit-learn.org/stable/modules/preprocessing.html\n",
      "Please also refer to the documentation for alternative solver options:\n",
      "    https://scikit-learn.org/stable/modules/linear_model.html#logistic-regression\n",
      "  n_iter_i = _check_optimize_result(\n"
     ]
    }
   ],
   "source": [
    "Min_WHIP = LogisticRegression(random_state=42)\n",
    "Min_WHIP.fit(X_train_scaled, y_train)\n",
    "preds = Min_WHIP.predict(X_test_scaled)"
   ]
  },
  {
   "cell_type": "code",
   "execution_count": 65,
   "id": "19d4e41a",
   "metadata": {},
   "outputs": [
    {
     "data": {
      "text/plain": [
       "<sklearn.metrics._plot.confusion_matrix.ConfusionMatrixDisplay at 0x7fb08002b220>"
      ]
     },
     "execution_count": 65,
     "metadata": {},
     "output_type": "execute_result"
    },
    {
     "data": {
      "image/png": "[encoded data removed]",
      "text/plain": [
       "<Figure size 640x480 with 2 Axes>"
      ]
     },
     "metadata": {},
     "output_type": "display_data"
    }
   ],
   "source": [
    "Min_Whip_CM =confusion_matrix(y_test,preds);\n",
    "ConfusionMatrixDisplay(Min_Whip_CM).plot()"
   ]
  },
  {
   "cell_type": "code",
   "execution_count": 66,
   "id": "bcae83f0",
   "metadata": {},
   "outputs": [],
   "source": [
    "test_preds = Min_WHIP.predict(X_test_scaled)"
   ]
  },
  {
   "cell_type": "code",
   "execution_count": 67,
   "id": "b1d76d34",
   "metadata": {},
   "outputs": [
    {
     "name": "stdout",
     "output_type": "stream",
     "text": [
      "0.9160997732426304\n",
      "0.9165305702366048\n",
      "0.9160997732426304\n",
      "0.9155308027294188\n"
     ]
    }
   ],
   "source": [
    "accuracy = accuracy_score(y_test, test_preds)\n",
    "print(accuracy)\n",
    "precision = precision_score(y_test, test_preds, average = 'weighted')\n",
    "print(precision)\n",
    "recall = recall_score(y_test, test_preds, average = 'weighted')\n",
    "print(recall)\n",
    "f1 = f1_score(y_test, test_preds, average = 'weighted')\n",
    "print(f1)"
   ]
  },
  {
   "cell_type": "markdown",
   "id": "58ed42f9",
   "metadata": {},
   "source": [
    "### Logistic Regression Model - ERA"
   ]
  },
  {
   "cell_type": "code",
   "execution_count": 68,
   "id": "58b00fe3",
   "metadata": {},
   "outputs": [],
   "source": [
    "X = Min_Pitch[base_feats]\n",
    "y = Min_Pitch['ERA_Rank']\n",
    "\n",
    "X_train, X_test, y_train, y_test = train_test_split(\n",
    "    X, y, test_size=0.30, random_state=42)"
   ]
  },
  {
   "cell_type": "code",
   "execution_count": 69,
   "id": "9ba01a92",
   "metadata": {},
   "outputs": [],
   "source": [
    "scaler = StandardScaler()\n",
    "\n",
    "scaler.fit(X_train)\n",
    "\n",
    "X_train_scaled = scaler.transform(X_train)\n",
    "X_test_scaled = scaler.transform(X_test)"
   ]
  },
  {
   "cell_type": "code",
   "execution_count": 70,
   "id": "888e6e52",
   "metadata": {},
   "outputs": [
    {
     "data": {
      "text/plain": [
       "0    0.501458\n",
       "1    0.253038\n",
       "2    0.245503\n",
       "Name: ERA_Rank, dtype: float64"
      ]
     },
     "execution_count": 70,
     "metadata": {},
     "output_type": "execute_result"
    }
   ],
   "source": [
    "y_train.value_counts(normalize = True)"
   ]
  },
  {
   "cell_type": "code",
   "execution_count": 71,
   "id": "8c78b1f2",
   "metadata": {},
   "outputs": [
    {
     "data": {
      "text/plain": [
       "0    0.489796\n",
       "1    0.256803\n",
       "2    0.253401\n",
       "Name: ERA_Rank, dtype: float64"
      ]
     },
     "execution_count": 71,
     "metadata": {},
     "output_type": "execute_result"
    }
   ],
   "source": [
    "y_test.value_counts(normalize = True)"
   ]
  },
  {
   "cell_type": "code",
   "execution_count": 72,
   "id": "97bbd73a",
   "metadata": {},
   "outputs": [
    {
     "name": "stderr",
     "output_type": "stream",
     "text": [
      "/Users/kellyjara/anaconda3/lib/python3.10/site-packages/sklearn/linear_model/_logistic.py:458: ConvergenceWarning: lbfgs failed to converge (status=1):\n",
      "STOP: TOTAL NO. of ITERATIONS REACHED LIMIT.\n",
      "\n",
      "Increase the number of iterations (max_iter) or scale the data as shown in:\n",
      "    https://scikit-learn.org/stable/modules/preprocessing.html\n",
      "Please also refer to the documentation for alternative solver options:\n",
      "    https://scikit-learn.org/stable/modules/linear_model.html#logistic-regression\n",
      "  n_iter_i = _check_optimize_result(\n"
     ]
    }
   ],
   "source": [
    "Min_ERA = LogisticRegression(random_state=42)\n",
    "Min_ERA.fit(X_train_scaled, y_train)\n",
    "preds =Min_ERA.predict(X_test_scaled)"
   ]
  },
  {
   "cell_type": "code",
   "execution_count": 73,
   "id": "f0f25094",
   "metadata": {},
   "outputs": [
    {
     "data": {
      "text/plain": [
       "<sklearn.metrics._plot.confusion_matrix.ConfusionMatrixDisplay at 0x7fb08002b610>"
      ]
     },
     "execution_count": 73,
     "metadata": {},
     "output_type": "execute_result"
    },
    {
     "data": {
      "image/png": "[encoded data removed]",
      "text/plain": [
       "<Figure size 640x480 with 2 Axes>"
      ]
     },
     "metadata": {},
     "output_type": "display_data"
    }
   ],
   "source": [
    "Min_ERA_CM =confusion_matrix(y_test,preds);\n",
    "ConfusionMatrixDisplay(Min_ERA_CM).plot()"
   ]
  },
  {
   "cell_type": "code",
   "execution_count": 74,
   "id": "003741c8",
   "metadata": {},
   "outputs": [],
   "source": [
    "test_preds = Min_ERA.predict(X_test_scaled)"
   ]
  },
  {
   "cell_type": "code",
   "execution_count": 75,
   "id": "43908257",
   "metadata": {},
   "outputs": [
    {
     "name": "stdout",
     "output_type": "stream",
     "text": [
      "0.8180272108843537\n",
      "0.8111803302084333\n",
      "0.8180272108843537\n",
      "0.811977126396201\n"
     ]
    }
   ],
   "source": [
    "accuracy = accuracy_score(y_test, test_preds)\n",
    "print(accuracy)\n",
    "precision = precision_score(y_test, test_preds, average = 'weighted')\n",
    "print(precision)\n",
    "recall = recall_score(y_test, test_preds, average = 'weighted')\n",
    "print(recall)\n",
    "f1 = f1_score(y_test, test_preds, average = 'weighted')\n",
    "print(f1)"
   ]
  },
  {
   "cell_type": "code",
   "execution_count": null,
   "id": "973889a2",
   "metadata": {},
   "outputs": [],
   "source": []
  }
 ],
 "metadata": {
  "kernelspec": {
   "display_name": "Python 3 (ipykernel)",
   "language": "python",
   "name": "python3"
  },
  "language_info": {
   "codemirror_mode": {
    "name": "ipython",
    "version": 3
   },
   "file_extension": ".py",
   "mimetype": "text/x-python",
   "name": "python",
   "nbconvert_exporter": "python",
   "pygments_lexer": "ipython3",
   "version": "3.10.9"
  }
 },
 "nbformat": 4,
 "nbformat_minor": 5
}
