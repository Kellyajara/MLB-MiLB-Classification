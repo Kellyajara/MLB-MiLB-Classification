{
 "cells": [
  {
   "cell_type": "markdown",
   "id": "2dc1021b",
   "metadata": {},
   "source": [
    "## Imports"
   ]
  },
  {
   "cell_type": "code",
   "execution_count": 1,
   "id": "6712b825",
   "metadata": {},
   "outputs": [],
   "source": [
    "import pandas as pd\n",
    "import numpy as np\n",
    "\n",
    "import warnings\n",
    "warnings.filterwarnings(\"ignore\")"
   ]
  },
  {
   "cell_type": "code",
   "execution_count": 2,
   "id": "6c295786",
   "metadata": {},
   "outputs": [],
   "source": [
    "from sklearn.preprocessing import StandardScaler\n",
    "from sklearn.linear_model import LogisticRegression\n",
    "\n",
    "from sklearn.tree import DecisionTreeClassifier, plot_tree\n",
    "from sklearn.model_selection import train_test_split\n",
    "from sklearn.metrics import accuracy_score, recall_score, precision_score, f1_score\n",
    "from sklearn.metrics import ConfusionMatrixDisplay,RocCurveDisplay\n",
    "from sklearn.metrics import plot_confusion_matrix, plot_roc_curve\n",
    "from sklearn.metrics import confusion_matrix, ConfusionMatrixDisplay\n",
    "from sklearn.metrics import roc_auc_score, roc_curve"
   ]
  },
  {
   "cell_type": "code",
   "execution_count": 3,
   "id": "1b55d945",
   "metadata": {},
   "outputs": [],
   "source": [
    "import matplotlib.pyplot as plt\n",
    "import seaborn as sns"
   ]
  },
  {
   "cell_type": "markdown",
   "id": "536368da",
   "metadata": {},
   "source": [
    "### Importing Pitcher CSV file"
   ]
  },
  {
   "cell_type": "code",
   "execution_count": 4,
   "id": "030c3061",
   "metadata": {},
   "outputs": [
    {
     "data": {
      "text/html": [
       "<div>\n",
       "<style scoped>\n",
       "    .dataframe tbody tr th:only-of-type {\n",
       "        vertical-align: middle;\n",
       "    }\n",
       "\n",
       "    .dataframe tbody tr th {\n",
       "        vertical-align: top;\n",
       "    }\n",
       "\n",
       "    .dataframe thead th {\n",
       "        text-align: right;\n",
       "    }\n",
       "</style>\n",
       "<table border=\"1\" class=\"dataframe\">\n",
       "  <thead>\n",
       "    <tr style=\"text-align: right;\">\n",
       "      <th></th>\n",
       "      <th>Unnamed: 0</th>\n",
       "      <th>Name</th>\n",
       "      <th>League</th>\n",
       "      <th>Pitches</th>\n",
       "      <th>G</th>\n",
       "      <th>W</th>\n",
       "      <th>L</th>\n",
       "      <th>IP</th>\n",
       "      <th>H</th>\n",
       "      <th>R</th>\n",
       "      <th>...</th>\n",
       "      <th>ERA</th>\n",
       "      <th>WHIP</th>\n",
       "      <th>Oppo%</th>\n",
       "      <th>K%</th>\n",
       "      <th>BB%</th>\n",
       "      <th>WHIP Rank</th>\n",
       "      <th>WHIP_Rank</th>\n",
       "      <th>ERA Rank</th>\n",
       "      <th>ERA_Rank</th>\n",
       "      <th>Leagues</th>\n",
       "    </tr>\n",
       "  </thead>\n",
       "  <tbody>\n",
       "    <tr>\n",
       "      <th>0</th>\n",
       "      <td>0</td>\n",
       "      <td>Bartolo Colon</td>\n",
       "      <td>Major</td>\n",
       "      <td>2706</td>\n",
       "      <td>33</td>\n",
       "      <td>14</td>\n",
       "      <td>13</td>\n",
       "      <td>194.2</td>\n",
       "      <td>217</td>\n",
       "      <td>94</td>\n",
       "      <td>...</td>\n",
       "      <td>4.160000</td>\n",
       "      <td>1.240989</td>\n",
       "      <td>30.000000</td>\n",
       "      <td>16.700000</td>\n",
       "      <td>2.900000</td>\n",
       "      <td>Average</td>\n",
       "      <td>2</td>\n",
       "      <td>Poor</td>\n",
       "      <td>0</td>\n",
       "      <td>1</td>\n",
       "    </tr>\n",
       "    <tr>\n",
       "      <th>1</th>\n",
       "      <td>1</td>\n",
       "      <td>A.J. Burnett</td>\n",
       "      <td>Major</td>\n",
       "      <td>2500</td>\n",
       "      <td>26</td>\n",
       "      <td>9</td>\n",
       "      <td>7</td>\n",
       "      <td>164.0</td>\n",
       "      <td>174</td>\n",
       "      <td>64</td>\n",
       "      <td>...</td>\n",
       "      <td>3.180000</td>\n",
       "      <td>1.359756</td>\n",
       "      <td>25.000000</td>\n",
       "      <td>20.500000</td>\n",
       "      <td>7.000000</td>\n",
       "      <td>Below Average</td>\n",
       "      <td>1</td>\n",
       "      <td>Above Average</td>\n",
       "      <td>2</td>\n",
       "      <td>1</td>\n",
       "    </tr>\n",
       "    <tr>\n",
       "      <th>2</th>\n",
       "      <td>2</td>\n",
       "      <td>Tim Hudson</td>\n",
       "      <td>Major</td>\n",
       "      <td>1854</td>\n",
       "      <td>24</td>\n",
       "      <td>8</td>\n",
       "      <td>9</td>\n",
       "      <td>123.2</td>\n",
       "      <td>134</td>\n",
       "      <td>62</td>\n",
       "      <td>...</td>\n",
       "      <td>4.440000</td>\n",
       "      <td>1.387987</td>\n",
       "      <td>22.500000</td>\n",
       "      <td>12.200000</td>\n",
       "      <td>7.000000</td>\n",
       "      <td>Below Average</td>\n",
       "      <td>1</td>\n",
       "      <td>Poor</td>\n",
       "      <td>0</td>\n",
       "      <td>1</td>\n",
       "    </tr>\n",
       "    <tr>\n",
       "      <th>3</th>\n",
       "      <td>3</td>\n",
       "      <td>Mark Buehrle</td>\n",
       "      <td>Major</td>\n",
       "      <td>2829</td>\n",
       "      <td>32</td>\n",
       "      <td>15</td>\n",
       "      <td>8</td>\n",
       "      <td>198.2</td>\n",
       "      <td>214</td>\n",
       "      <td>100</td>\n",
       "      <td>...</td>\n",
       "      <td>3.810000</td>\n",
       "      <td>1.246216</td>\n",
       "      <td>23.400000</td>\n",
       "      <td>11.000000</td>\n",
       "      <td>4.000000</td>\n",
       "      <td>Average</td>\n",
       "      <td>2</td>\n",
       "      <td>Below Average</td>\n",
       "      <td>4</td>\n",
       "      <td>1</td>\n",
       "    </tr>\n",
       "    <tr>\n",
       "      <th>4</th>\n",
       "      <td>4</td>\n",
       "      <td>CC Sabathia</td>\n",
       "      <td>Major</td>\n",
       "      <td>2703</td>\n",
       "      <td>29</td>\n",
       "      <td>6</td>\n",
       "      <td>10</td>\n",
       "      <td>167.1</td>\n",
       "      <td>188</td>\n",
       "      <td>92</td>\n",
       "      <td>...</td>\n",
       "      <td>4.730000</td>\n",
       "      <td>1.424297</td>\n",
       "      <td>20.800000</td>\n",
       "      <td>18.900000</td>\n",
       "      <td>6.900000</td>\n",
       "      <td>Poor</td>\n",
       "      <td>0</td>\n",
       "      <td>Poor</td>\n",
       "      <td>0</td>\n",
       "      <td>1</td>\n",
       "    </tr>\n",
       "    <tr>\n",
       "      <th>...</th>\n",
       "      <td>...</td>\n",
       "      <td>...</td>\n",
       "      <td>...</td>\n",
       "      <td>...</td>\n",
       "      <td>...</td>\n",
       "      <td>...</td>\n",
       "      <td>...</td>\n",
       "      <td>...</td>\n",
       "      <td>...</td>\n",
       "      <td>...</td>\n",
       "      <td>...</td>\n",
       "      <td>...</td>\n",
       "      <td>...</td>\n",
       "      <td>...</td>\n",
       "      <td>...</td>\n",
       "      <td>...</td>\n",
       "      <td>...</td>\n",
       "      <td>...</td>\n",
       "      <td>...</td>\n",
       "      <td>...</td>\n",
       "      <td>...</td>\n",
       "    </tr>\n",
       "    <tr>\n",
       "      <th>6902</th>\n",
       "      <td>5890</td>\n",
       "      <td>Tom de Blok</td>\n",
       "      <td>Minor</td>\n",
       "      <td>4501</td>\n",
       "      <td>64</td>\n",
       "      <td>11</td>\n",
       "      <td>21</td>\n",
       "      <td>294.2</td>\n",
       "      <td>277</td>\n",
       "      <td>139</td>\n",
       "      <td>...</td>\n",
       "      <td>3.909502</td>\n",
       "      <td>1.255656</td>\n",
       "      <td>0.304204</td>\n",
       "      <td>0.187952</td>\n",
       "      <td>0.074699</td>\n",
       "      <td>Average</td>\n",
       "      <td>2</td>\n",
       "      <td>Below Average</td>\n",
       "      <td>4</td>\n",
       "      <td>0</td>\n",
       "    </tr>\n",
       "    <tr>\n",
       "      <th>6903</th>\n",
       "      <td>5891</td>\n",
       "      <td>Adrian Alcantara</td>\n",
       "      <td>Minor</td>\n",
       "      <td>5312</td>\n",
       "      <td>95</td>\n",
       "      <td>22</td>\n",
       "      <td>24</td>\n",
       "      <td>372.0</td>\n",
       "      <td>346</td>\n",
       "      <td>213</td>\n",
       "      <td>...</td>\n",
       "      <td>4.524194</td>\n",
       "      <td>1.327957</td>\n",
       "      <td>0.254335</td>\n",
       "      <td>0.236250</td>\n",
       "      <td>0.092500</td>\n",
       "      <td>Below Average</td>\n",
       "      <td>1</td>\n",
       "      <td>Poor</td>\n",
       "      <td>0</td>\n",
       "      <td>0</td>\n",
       "    </tr>\n",
       "    <tr>\n",
       "      <th>6904</th>\n",
       "      <td>5892</td>\n",
       "      <td>Osvaldo Hernandez</td>\n",
       "      <td>Minor</td>\n",
       "      <td>5612</td>\n",
       "      <td>106</td>\n",
       "      <td>22</td>\n",
       "      <td>23</td>\n",
       "      <td>355.0</td>\n",
       "      <td>364</td>\n",
       "      <td>178</td>\n",
       "      <td>...</td>\n",
       "      <td>3.777465</td>\n",
       "      <td>1.312676</td>\n",
       "      <td>0.285980</td>\n",
       "      <td>0.212121</td>\n",
       "      <td>0.067194</td>\n",
       "      <td>Below Average</td>\n",
       "      <td>1</td>\n",
       "      <td>Below Average</td>\n",
       "      <td>4</td>\n",
       "      <td>0</td>\n",
       "    </tr>\n",
       "    <tr>\n",
       "      <th>6905</th>\n",
       "      <td>5893</td>\n",
       "      <td>Parker Curry</td>\n",
       "      <td>Minor</td>\n",
       "      <td>4162</td>\n",
       "      <td>97</td>\n",
       "      <td>15</td>\n",
       "      <td>20</td>\n",
       "      <td>259.2</td>\n",
       "      <td>256</td>\n",
       "      <td>130</td>\n",
       "      <td>...</td>\n",
       "      <td>3.916560</td>\n",
       "      <td>1.274711</td>\n",
       "      <td>0.286280</td>\n",
       "      <td>0.250896</td>\n",
       "      <td>0.067204</td>\n",
       "      <td>Average</td>\n",
       "      <td>2</td>\n",
       "      <td>Below Average</td>\n",
       "      <td>4</td>\n",
       "      <td>0</td>\n",
       "    </tr>\n",
       "    <tr>\n",
       "      <th>6906</th>\n",
       "      <td>5894</td>\n",
       "      <td>Victor Castaneda</td>\n",
       "      <td>Minor</td>\n",
       "      <td>5256</td>\n",
       "      <td>95</td>\n",
       "      <td>18</td>\n",
       "      <td>22</td>\n",
       "      <td>321.0</td>\n",
       "      <td>313</td>\n",
       "      <td>184</td>\n",
       "      <td>...</td>\n",
       "      <td>4.570094</td>\n",
       "      <td>1.367601</td>\n",
       "      <td>0.302895</td>\n",
       "      <td>0.245690</td>\n",
       "      <td>0.090517</td>\n",
       "      <td>Below Average</td>\n",
       "      <td>1</td>\n",
       "      <td>Poor</td>\n",
       "      <td>0</td>\n",
       "      <td>0</td>\n",
       "    </tr>\n",
       "  </tbody>\n",
       "</table>\n",
       "<p>6907 rows × 27 columns</p>\n",
       "</div>"
      ],
      "text/plain": [
       "      Unnamed: 0               Name League  Pitches    G   W   L     IP    H  \\\n",
       "0              0      Bartolo Colon  Major     2706   33  14  13  194.2  217   \n",
       "1              1       A.J. Burnett  Major     2500   26   9   7  164.0  174   \n",
       "2              2         Tim Hudson  Major     1854   24   8   9  123.2  134   \n",
       "3              3       Mark Buehrle  Major     2829   32  15   8  198.2  214   \n",
       "4              4        CC Sabathia  Major     2703   29   6  10  167.1  188   \n",
       "...          ...                ...    ...      ...  ...  ..  ..    ...  ...   \n",
       "6902        5890        Tom de Blok  Minor     4501   64  11  21  294.2  277   \n",
       "6903        5891   Adrian Alcantara  Minor     5312   95  22  24  372.0  346   \n",
       "6904        5892  Osvaldo Hernandez  Minor     5612  106  22  23  355.0  364   \n",
       "6905        5893       Parker Curry  Minor     4162   97  15  20  259.2  256   \n",
       "6906        5894   Victor Castaneda  Minor     5256   95  18  22  321.0  313   \n",
       "\n",
       "        R  ...       ERA      WHIP      Oppo%         K%       BB%  \\\n",
       "0      94  ...  4.160000  1.240989  30.000000  16.700000  2.900000   \n",
       "1      64  ...  3.180000  1.359756  25.000000  20.500000  7.000000   \n",
       "2      62  ...  4.440000  1.387987  22.500000  12.200000  7.000000   \n",
       "3     100  ...  3.810000  1.246216  23.400000  11.000000  4.000000   \n",
       "4      92  ...  4.730000  1.424297  20.800000  18.900000  6.900000   \n",
       "...   ...  ...       ...       ...        ...        ...       ...   \n",
       "6902  139  ...  3.909502  1.255656   0.304204   0.187952  0.074699   \n",
       "6903  213  ...  4.524194  1.327957   0.254335   0.236250  0.092500   \n",
       "6904  178  ...  3.777465  1.312676   0.285980   0.212121  0.067194   \n",
       "6905  130  ...  3.916560  1.274711   0.286280   0.250896  0.067204   \n",
       "6906  184  ...  4.570094  1.367601   0.302895   0.245690  0.090517   \n",
       "\n",
       "          WHIP Rank  WHIP_Rank       ERA Rank  ERA_Rank  Leagues  \n",
       "0           Average          2           Poor         0        1  \n",
       "1     Below Average          1  Above Average         2        1  \n",
       "2     Below Average          1           Poor         0        1  \n",
       "3           Average          2  Below Average         4        1  \n",
       "4              Poor          0           Poor         0        1  \n",
       "...             ...        ...            ...       ...      ...  \n",
       "6902        Average          2  Below Average         4        0  \n",
       "6903  Below Average          1           Poor         0        0  \n",
       "6904  Below Average          1  Below Average         4        0  \n",
       "6905        Average          2  Below Average         4        0  \n",
       "6906  Below Average          1           Poor         0        0  \n",
       "\n",
       "[6907 rows x 27 columns]"
      ]
     },
     "execution_count": 4,
     "metadata": {},
     "output_type": "execute_result"
    }
   ],
   "source": [
    "Pitchers = pd.read_csv('/Users/kellyjara/Desktop/Project3/Data/Pitchers.csv')\n",
    "Pitchers"
   ]
  },
  {
   "cell_type": "code",
   "execution_count": 5,
   "id": "54d686fe",
   "metadata": {},
   "outputs": [],
   "source": [
    "Pitchers.drop(columns = 'Unnamed: 0',inplace = True)"
   ]
  },
  {
   "cell_type": "code",
   "execution_count": 6,
   "id": "083bee91",
   "metadata": {},
   "outputs": [
    {
     "name": "stdout",
     "output_type": "stream",
     "text": [
      "<class 'pandas.core.frame.DataFrame'>\n",
      "RangeIndex: 6907 entries, 0 to 6906\n",
      "Data columns (total 26 columns):\n",
      " #   Column     Non-Null Count  Dtype  \n",
      "---  ------     --------------  -----  \n",
      " 0   Name       6907 non-null   object \n",
      " 1   League     6907 non-null   object \n",
      " 2   Pitches    6907 non-null   int64  \n",
      " 3   G          6907 non-null   int64  \n",
      " 4   W          6907 non-null   int64  \n",
      " 5   L          6907 non-null   int64  \n",
      " 6   IP         6907 non-null   float64\n",
      " 7   H          6907 non-null   int64  \n",
      " 8   R          6907 non-null   int64  \n",
      " 9   HR         6907 non-null   int64  \n",
      " 10  SO         6907 non-null   int64  \n",
      " 11  BB         6907 non-null   int64  \n",
      " 12  ER         6907 non-null   int64  \n",
      " 13  SV         6907 non-null   int64  \n",
      " 14  BS         6907 non-null   int64  \n",
      " 15  BK         6907 non-null   int64  \n",
      " 16  ERA        6907 non-null   float64\n",
      " 17  WHIP       6907 non-null   float64\n",
      " 18  Oppo%      6907 non-null   float64\n",
      " 19  K%         6907 non-null   float64\n",
      " 20  BB%        6907 non-null   float64\n",
      " 21  WHIP Rank  6907 non-null   object \n",
      " 22  WHIP_Rank  6907 non-null   int64  \n",
      " 23  ERA Rank   6907 non-null   object \n",
      " 24  ERA_Rank   6907 non-null   int64  \n",
      " 25  Leagues    6907 non-null   int64  \n",
      "dtypes: float64(6), int64(16), object(4)\n",
      "memory usage: 1.4+ MB\n"
     ]
    }
   ],
   "source": [
    "Pitchers.info()"
   ]
  },
  {
   "cell_type": "markdown",
   "id": "348af181",
   "metadata": {},
   "source": [
    "## Preprocessing"
   ]
  },
  {
   "cell_type": "markdown",
   "id": "27e62e7d",
   "metadata": {},
   "source": [
    "### Logistic Model 1"
   ]
  },
  {
   "cell_type": "code",
   "execution_count": 7,
   "id": "0fa7119d",
   "metadata": {},
   "outputs": [],
   "source": [
    "#Logistic Model w. a few key features (WHIP, ERA, Games, Wins, Losses, etc)"
   ]
  },
  {
   "cell_type": "code",
   "execution_count": 8,
   "id": "5bc88a8e",
   "metadata": {},
   "outputs": [],
   "source": [
    "base_feats = ['G','W','L','WHIP','ERA', 'IP','Pitches']"
   ]
  },
  {
   "cell_type": "code",
   "execution_count": 9,
   "id": "e105e852",
   "metadata": {},
   "outputs": [],
   "source": [
    "X_base = Pitchers[base_feats]\n",
    "y_base = Pitchers['Leagues']"
   ]
  },
  {
   "cell_type": "code",
   "execution_count": 10,
   "id": "52d58de7",
   "metadata": {},
   "outputs": [],
   "source": [
    "X_train, X_test, y_train, y_test = train_test_split(\n",
    "    X_base, y_base, test_size=0.20, random_state=42)"
   ]
  },
  {
   "cell_type": "code",
   "execution_count": 11,
   "id": "6c4d562c",
   "metadata": {},
   "outputs": [],
   "source": [
    "scaler = StandardScaler()\n",
    "\n",
    "scaler.fit(X_train)\n",
    "\n",
    "X_train_scaled = scaler.transform(X_train)\n",
    "X_test_scaled = scaler.transform(X_test)"
   ]
  },
  {
   "cell_type": "code",
   "execution_count": 12,
   "id": "3dc89131",
   "metadata": {},
   "outputs": [],
   "source": [
    "Base_Model = LogisticRegression(random_state=42)\n",
    "Base_Model.fit(X_train_scaled, y_train)\n",
    "Base_pred = Base_Model.predict(X_test_scaled)"
   ]
  },
  {
   "cell_type": "code",
   "execution_count": 13,
   "id": "0e7643a4",
   "metadata": {},
   "outputs": [
    {
     "name": "stdout",
     "output_type": "stream",
     "text": [
      "Training: 0.9654298642533936\n",
      "Test: 0.9710564399421129\n"
     ]
    }
   ],
   "source": [
    "print('Training:', Base_Model.score(X_train_scaled, y_train))\n",
    "print('Test:', Base_Model.score(X_test_scaled, y_test))"
   ]
  },
  {
   "cell_type": "code",
   "execution_count": 14,
   "id": "7bb31706",
   "metadata": {},
   "outputs": [
    {
     "data": {
      "text/plain": [
       "<sklearn.metrics._plot.confusion_matrix.ConfusionMatrixDisplay at 0x7f7ba1e7fe20>"
      ]
     },
     "execution_count": 14,
     "metadata": {},
     "output_type": "execute_result"
    },
    {
     "data": {
      "image/png": "[encoded data removed]",
      "text/plain": [
       "<Figure size 432x288 with 2 Axes>"
      ]
     },
     "metadata": {
      "needs_background": "light"
     },
     "output_type": "display_data"
    }
   ],
   "source": [
    "Base_CM =confusion_matrix(y_test,Base_pred);\n",
    "ConfusionMatrixDisplay(Base_CM).plot()"
   ]
  },
  {
   "cell_type": "code",
   "execution_count": 15,
   "id": "d8119d34",
   "metadata": {},
   "outputs": [
    {
     "name": "stdout",
     "output_type": "stream",
     "text": [
      "0.9710564399421129\n",
      "0.8967136150234741\n",
      "0.9138755980861244\n",
      "0.90521327014218\n"
     ]
    }
   ],
   "source": [
    "accuracy = accuracy_score(y_test, Base_pred)\n",
    "print(accuracy)\n",
    "precision = precision_score(y_test, Base_pred)\n",
    "print(precision)\n",
    "recall = recall_score(y_test, Base_pred)\n",
    "print(recall)\n",
    "f1 = f1_score(y_test, Base_pred)\n",
    "print(f1)"
   ]
  },
  {
   "cell_type": "code",
   "execution_count": 16,
   "id": "dd2d6f20",
   "metadata": {},
   "outputs": [
    {
     "data": {
      "text/plain": [
       "0.9899289027031657"
      ]
     },
     "execution_count": 16,
     "metadata": {},
     "output_type": "execute_result"
    }
   ],
   "source": [
    "Base_probas = Base_Model.predict_proba(X_test_scaled)[:,1]\n",
    "\n",
    "roc_auc_score(y_test, Base_probas)"
   ]
  },
  {
   "cell_type": "code",
   "execution_count": 17,
   "id": "d29a3172",
   "metadata": {},
   "outputs": [
    {
     "data": {
      "text/plain": [
       "<sklearn.metrics._plot.roc_curve.RocCurveDisplay at 0x7f7ba25213d0>"
      ]
     },
     "execution_count": 17,
     "metadata": {},
     "output_type": "execute_result"
    },
    {
     "data": {
      "image/png": "[encoded data removed]",
      "text/plain": [
       "<Figure size 432x288 with 1 Axes>"
      ]
     },
     "metadata": {
      "needs_background": "light"
     },
     "output_type": "display_data"
    }
   ],
   "source": [
    "plot_roc_curve(Base_Model, X_test_scaled, y_test)"
   ]
  },
  {
   "cell_type": "markdown",
   "id": "1939ed13",
   "metadata": {},
   "source": [
    "### Logistic Model 2"
   ]
  },
  {
   "cell_type": "code",
   "execution_count": 18,
   "id": "f05a1289",
   "metadata": {},
   "outputs": [],
   "source": [
    "# adding more features to the model"
   ]
  },
  {
   "cell_type": "code",
   "execution_count": 19,
   "id": "5ed324c9",
   "metadata": {},
   "outputs": [],
   "source": [
    "feats = ['Pitches','G', 'W','L','IP','H','R','HR','SO','BB','ER','SV',\n",
    "         'BS','BK','ERA','WHIP']"
   ]
  },
  {
   "cell_type": "code",
   "execution_count": 20,
   "id": "9c1a12b8",
   "metadata": {},
   "outputs": [],
   "source": [
    "X = Pitchers[feats]\n",
    "y = Pitchers['Leagues']"
   ]
  },
  {
   "cell_type": "code",
   "execution_count": 21,
   "id": "254df21a",
   "metadata": {},
   "outputs": [],
   "source": [
    "X_train, X_test, y_train, y_test = train_test_split(\n",
    "    X, y, test_size=0.20, random_state=42)"
   ]
  },
  {
   "cell_type": "code",
   "execution_count": 22,
   "id": "56335e5c",
   "metadata": {},
   "outputs": [],
   "source": [
    "scaler = StandardScaler()\n",
    "\n",
    "scaler.fit(X_train)\n",
    "\n",
    "X_train_scaled = scaler.transform(X_train)\n",
    "X_test_scaled = scaler.transform(X_test)"
   ]
  },
  {
   "cell_type": "code",
   "execution_count": 23,
   "id": "077535f9",
   "metadata": {},
   "outputs": [],
   "source": [
    "LR_Model = LogisticRegression(random_state=42)\n",
    "LR_Model.fit(X_train_scaled, y_train)\n",
    "LR_preds = LR_Model.predict(X_test_scaled)"
   ]
  },
  {
   "cell_type": "code",
   "execution_count": 24,
   "id": "3b57cc8d",
   "metadata": {},
   "outputs": [
    {
     "name": "stdout",
     "output_type": "stream",
     "text": [
      "Training: 0.9703167420814479\n",
      "Test: 0.9703328509406657\n"
     ]
    }
   ],
   "source": [
    "print('Training:', LR_Model.score(X_train_scaled, y_train))\n",
    "print('Test:', LR_Model.score(X_test_scaled, y_test))"
   ]
  },
  {
   "cell_type": "code",
   "execution_count": 25,
   "id": "a6338e85",
   "metadata": {},
   "outputs": [
    {
     "data": {
      "text/plain": [
       "<sklearn.metrics._plot.confusion_matrix.ConfusionMatrixDisplay at 0x7f7ba1e93b50>"
      ]
     },
     "execution_count": 25,
     "metadata": {},
     "output_type": "execute_result"
    },
    {
     "data": {
      "image/png": "[encoded data removed]",
      "text/plain": [
       "<Figure size 432x288 with 2 Axes>"
      ]
     },
     "metadata": {
      "needs_background": "light"
     },
     "output_type": "display_data"
    }
   ],
   "source": [
    "LR_CM =confusion_matrix(y_test,LR_preds);\n",
    "ConfusionMatrixDisplay(LR_CM).plot()"
   ]
  },
  {
   "cell_type": "code",
   "execution_count": 26,
   "id": "a3d06f0c",
   "metadata": {},
   "outputs": [
    {
     "name": "stdout",
     "output_type": "stream",
     "text": [
      "0.9703328509406657\n",
      "0.8962264150943396\n",
      "0.9090909090909091\n",
      "0.9026128266033254\n"
     ]
    }
   ],
   "source": [
    "accuracy = accuracy_score(y_test, LR_preds)\n",
    "print(accuracy)\n",
    "precision = precision_score(y_test, LR_preds)\n",
    "print(precision)\n",
    "recall = recall_score(y_test, LR_preds)\n",
    "print(recall)\n",
    "f1 = f1_score(y_test, LR_preds)\n",
    "print(f1)"
   ]
  },
  {
   "cell_type": "code",
   "execution_count": 27,
   "id": "441b8833",
   "metadata": {},
   "outputs": [
    {
     "data": {
      "text/plain": [
       "0.9928005319040452"
      ]
     },
     "execution_count": 27,
     "metadata": {},
     "output_type": "execute_result"
    }
   ],
   "source": [
    "LR_probas = LR_Model.predict_proba(X_test_scaled)[:,1]\n",
    "\n",
    "roc_auc_score(y_test, LR_probas)"
   ]
  },
  {
   "cell_type": "code",
   "execution_count": 28,
   "id": "3e5238eb",
   "metadata": {},
   "outputs": [
    {
     "data": {
      "text/plain": [
       "<sklearn.metrics._plot.roc_curve.RocCurveDisplay at 0x7f7ba21c9b80>"
      ]
     },
     "execution_count": 28,
     "metadata": {},
     "output_type": "execute_result"
    },
    {
     "data": {
      "image/png": "[encoded data removed]",
      "text/plain": [
       "<Figure size 432x288 with 1 Axes>"
      ]
     },
     "metadata": {
      "needs_background": "light"
     },
     "output_type": "display_data"
    }
   ],
   "source": [
    "plot_roc_curve(LR_Model, X_test_scaled, y_test)"
   ]
  },
  {
   "cell_type": "markdown",
   "id": "3a389dc2",
   "metadata": {},
   "source": [
    "### Decission Tree Model 3"
   ]
  },
  {
   "cell_type": "code",
   "execution_count": 29,
   "id": "24497f2b",
   "metadata": {},
   "outputs": [
    {
     "data": {
      "text/plain": [
       "DecisionTreeClassifier(criterion='entropy', max_depth=3, random_state=42)"
      ]
     },
     "execution_count": 29,
     "metadata": {},
     "output_type": "execute_result"
    }
   ],
   "source": [
    "dt = DecisionTreeClassifier(criterion = 'entropy', max_depth = 3, random_state = 42)\n",
    "dt.fit(X_train_scaled, y_train)"
   ]
  },
  {
   "cell_type": "code",
   "execution_count": 30,
   "id": "f72c2946",
   "metadata": {},
   "outputs": [
    {
     "name": "stdout",
     "output_type": "stream",
     "text": [
      "Training: 0.9476923076923077\n",
      "Test: 0.9384949348769899\n"
     ]
    }
   ],
   "source": [
    "print('Training:', dt.score(X_train_scaled, y_train))\n",
    "print('Test:', dt.score(X_test_scaled, y_test))"
   ]
  },
  {
   "cell_type": "code",
   "execution_count": 31,
   "id": "63eaec64",
   "metadata": {},
   "outputs": [
    {
     "data": {
      "image/png": "[encoded data removed]",
      "text/plain": [
       "<Figure size 1440x1440 with 1 Axes>"
      ]
     },
     "metadata": {
      "needs_background": "light"
     },
     "output_type": "display_data"
    }
   ],
   "source": [
    "f, ax = plt.subplots(figsize =(20,20))\n",
    "plot_tree(dt, ax=ax);"
   ]
  },
  {
   "cell_type": "code",
   "execution_count": 32,
   "id": "2cc1d869",
   "metadata": {},
   "outputs": [],
   "source": [
    "dt_preds = dt.predict(X_test_scaled)"
   ]
  },
  {
   "cell_type": "code",
   "execution_count": 33,
   "id": "1c0743d7",
   "metadata": {},
   "outputs": [
    {
     "name": "stdout",
     "output_type": "stream",
     "text": [
      "0.9384949348769899\n",
      "0.7348484848484849\n",
      "0.9282296650717703\n",
      "0.8202959830866808\n"
     ]
    }
   ],
   "source": [
    "accuracy = accuracy_score(y_test, dt_preds)\n",
    "print(accuracy)\n",
    "precision = precision_score(y_test, dt_preds)\n",
    "print(precision)\n",
    "recall = recall_score(y_test, dt_preds)\n",
    "print(recall)\n",
    "f1 = f1_score(y_test, dt_preds)\n",
    "print(f1)"
   ]
  },
  {
   "cell_type": "code",
   "execution_count": 34,
   "id": "e43f4857",
   "metadata": {},
   "outputs": [
    {
     "data": {
      "text/plain": [
       "<sklearn.metrics._plot.confusion_matrix.ConfusionMatrixDisplay at 0x7f7ba2b57760>"
      ]
     },
     "execution_count": 34,
     "metadata": {},
     "output_type": "execute_result"
    },
    {
     "data": {
      "image/png": "[encoded data removed]",
      "text/plain": [
       "<Figure size 432x288 with 2 Axes>"
      ]
     },
     "metadata": {
      "needs_background": "light"
     },
     "output_type": "display_data"
    }
   ],
   "source": [
    "dt_CM =confusion_matrix(y_test,dt_preds);\n",
    "ConfusionMatrixDisplay(dt_CM).plot()"
   ]
  },
  {
   "cell_type": "code",
   "execution_count": 35,
   "id": "74457e49",
   "metadata": {},
   "outputs": [
    {
     "data": {
      "text/plain": [
       "0.9342768103704973"
      ]
     },
     "execution_count": 35,
     "metadata": {},
     "output_type": "execute_result"
    }
   ],
   "source": [
    "roc_auc_score(y_test,dt_preds)"
   ]
  },
  {
   "cell_type": "code",
   "execution_count": 36,
   "id": "1af3fe67",
   "metadata": {},
   "outputs": [
    {
     "data": {
      "text/plain": [
       "0    0.84877\n",
       "1    0.15123\n",
       "Name: Leagues, dtype: float64"
      ]
     },
     "execution_count": 36,
     "metadata": {},
     "output_type": "execute_result"
    }
   ],
   "source": [
    "y_test.value_counts(normalize = True)"
   ]
  },
  {
   "cell_type": "code",
   "execution_count": 37,
   "id": "7b34c7a2",
   "metadata": {},
   "outputs": [
    {
     "data": {
      "text/plain": [
       "<sklearn.metrics._plot.roc_curve.RocCurveDisplay at 0x7f7ba3a53e50>"
      ]
     },
     "execution_count": 37,
     "metadata": {},
     "output_type": "execute_result"
    },
    {
     "data": {
      "image/png": "[encoded data removed]",
      "text/plain": [
       "<Figure size 432x288 with 1 Axes>"
      ]
     },
     "metadata": {
      "needs_background": "light"
     },
     "output_type": "display_data"
    }
   ],
   "source": [
    "fig, ax = plt.subplots()\n",
    "plot_roc_curve(dt, X_test_scaled, y_test, ax=ax)\n",
    "plot_roc_curve(LR_Model, X_test_scaled, y_test, ax=ax)"
   ]
  },
  {
   "cell_type": "code",
   "execution_count": 38,
   "id": "d317e85c",
   "metadata": {},
   "outputs": [],
   "source": [
    "### viewing league class and looking for imbalance"
   ]
  },
  {
   "cell_type": "code",
   "execution_count": 39,
   "id": "cbfb108d",
   "metadata": {},
   "outputs": [
    {
     "data": {
      "text/plain": [
       "<AxesSubplot:xlabel='Leagues', ylabel='count'>"
      ]
     },
     "execution_count": 39,
     "metadata": {},
     "output_type": "execute_result"
    },
    {
     "data": {
      "image/png": "[encoded data removed]",
      "text/plain": [
       "<Figure size 432x288 with 1 Axes>"
      ]
     },
     "metadata": {
      "needs_background": "light"
     },
     "output_type": "display_data"
    }
   ],
   "source": [
    "sns.countplot(Pitchers['Leagues'])"
   ]
  },
  {
   "cell_type": "code",
   "execution_count": 40,
   "id": "4c632519",
   "metadata": {},
   "outputs": [
    {
     "data": {
      "text/plain": [
       "0    5895\n",
       "1    1012\n",
       "Name: Leagues, dtype: int64"
      ]
     },
     "execution_count": 40,
     "metadata": {},
     "output_type": "execute_result"
    }
   ],
   "source": [
    "Pitchers['Leagues'].value_counts()"
   ]
  },
  {
   "cell_type": "markdown",
   "id": "9e72f0dc",
   "metadata": {},
   "source": [
    "### SMOTE - Logistic Regression Model 4"
   ]
  },
  {
   "cell_type": "code",
   "execution_count": 41,
   "id": "623d6d41",
   "metadata": {},
   "outputs": [],
   "source": [
    "# using SMOTE to fix imbalanced issue"
   ]
  },
  {
   "cell_type": "code",
   "execution_count": 42,
   "id": "9cd17f6e",
   "metadata": {},
   "outputs": [],
   "source": [
    "from imblearn.over_sampling import SMOTE"
   ]
  },
  {
   "cell_type": "code",
   "execution_count": 43,
   "id": "b788dd30",
   "metadata": {},
   "outputs": [],
   "source": [
    "sm = SMOTE()\n",
    "X_train_res, y_train_res = sm.fit_sample(X_train, y_train.ravel())"
   ]
  },
  {
   "cell_type": "code",
   "execution_count": 44,
   "id": "fc71972f",
   "metadata": {},
   "outputs": [],
   "source": [
    "sm_model = LogisticRegression()\n",
    "sm_fit = sm_model.fit(X_train_res, y_train_res.ravel())\n",
    "sm_pred = sm_fit.predict(X_test)"
   ]
  },
  {
   "cell_type": "code",
   "execution_count": 45,
   "id": "a4412eb0",
   "metadata": {},
   "outputs": [
    {
     "name": "stdout",
     "output_type": "stream",
     "text": [
      "0.9732272069464544\n",
      "0.8805309734513275\n",
      "0.9521531100478469\n",
      "0.9149425287356322\n"
     ]
    }
   ],
   "source": [
    "accuracy = accuracy_score(y_test, sm_pred)\n",
    "print(accuracy)\n",
    "precision = precision_score(y_test, sm_pred)\n",
    "print(precision)\n",
    "recall = recall_score(y_test, sm_pred)\n",
    "print(recall)\n",
    "f1 = f1_score(y_test, sm_pred)\n",
    "print(f1)"
   ]
  },
  {
   "cell_type": "code",
   "execution_count": 46,
   "id": "d1e93b51",
   "metadata": {},
   "outputs": [
    {
     "data": {
      "text/plain": [
       "0.9645676036172739"
      ]
     },
     "execution_count": 46,
     "metadata": {},
     "output_type": "execute_result"
    }
   ],
   "source": [
    "roc_auc_score(y_test, sm_pred)"
   ]
  },
  {
   "cell_type": "code",
   "execution_count": 47,
   "id": "6eaa303a",
   "metadata": {},
   "outputs": [
    {
     "data": {
      "text/plain": [
       "<sklearn.metrics._plot.roc_curve.RocCurveDisplay at 0x7f7ba38c0760>"
      ]
     },
     "execution_count": 47,
     "metadata": {},
     "output_type": "execute_result"
    },
    {
     "data": {
      "image/png": "[encoded data removed]",
      "text/plain": [
       "<Figure size 432x288 with 1 Axes>"
      ]
     },
     "metadata": {
      "needs_background": "light"
     },
     "output_type": "display_data"
    }
   ],
   "source": [
    "fig, ax = plt.subplots()\n",
    "plot_roc_curve(dt, X_test_scaled, y_test, ax=ax)\n",
    "plot_roc_curve(LR_Model, X_test_scaled, y_test, ax=ax)\n",
    "plot_roc_curve(sm_model, X_test, y_test, ax=ax)"
   ]
  },
  {
   "cell_type": "code",
   "execution_count": 48,
   "id": "61fbd8b1",
   "metadata": {},
   "outputs": [
    {
     "name": "stdout",
     "output_type": "stream",
     "text": [
      "Training: 0.9744811520542143\n",
      "Test: 0.9732272069464544\n"
     ]
    }
   ],
   "source": [
    "print('Training:', sm_model.score(X_train_res, y_train_res))\n",
    "print('Test:', sm_model.score(X_test, y_test))"
   ]
  },
  {
   "cell_type": "code",
   "execution_count": 49,
   "id": "6d25a810",
   "metadata": {},
   "outputs": [
    {
     "data": {
      "text/plain": [
       "<sklearn.metrics._plot.confusion_matrix.ConfusionMatrixDisplay at 0x7f7ba2c8e970>"
      ]
     },
     "execution_count": 49,
     "metadata": {},
     "output_type": "execute_result"
    },
    {
     "data": {
      "image/png": "[encoded data removed]",
      "text/plain": [
       "<Figure size 432x288 with 2 Axes>"
      ]
     },
     "metadata": {
      "needs_background": "light"
     },
     "output_type": "display_data"
    }
   ],
   "source": [
    "dt_CM =confusion_matrix(y_test,sm_pred);\n",
    "ConfusionMatrixDisplay(dt_CM).plot()"
   ]
  },
  {
   "cell_type": "markdown",
   "id": "b1b5fbac",
   "metadata": {},
   "source": [
    "### Cross Validation - Pipeline Model 5"
   ]
  },
  {
   "cell_type": "code",
   "execution_count": 50,
   "id": "7ee576b8",
   "metadata": {},
   "outputs": [],
   "source": [
    "# Adding more imports"
   ]
  },
  {
   "cell_type": "code",
   "execution_count": 51,
   "id": "3f91bda9",
   "metadata": {},
   "outputs": [],
   "source": [
    "from sklearn.model_selection import KFold\n",
    "from sklearn.neighbors import KNeighborsClassifier\n",
    "from sklearn.preprocessing import LabelEncoder\n",
    "from sklearn.impute import SimpleImputer\n",
    "from sklearn.model_selection import GridSearchCV, cross_val_score, RandomizedSearchCV\n",
    "from sklearn.preprocessing import OneHotEncoder, StandardScaler, Normalizer\n",
    "from sklearn.compose import ColumnTransformer"
   ]
  },
  {
   "cell_type": "code",
   "execution_count": 52,
   "id": "d84a204e",
   "metadata": {},
   "outputs": [],
   "source": [
    "from sklearn.pipeline import Pipeline\n",
    "from sklearn import set_config\n",
    "set_config(display = 'diagram')"
   ]
  },
  {
   "cell_type": "code",
   "execution_count": 53,
   "id": "675ca9f3",
   "metadata": {},
   "outputs": [
    {
     "data": {
      "text/html": [
       "<style>div.sk-top-container {color: black;background-color: white;}div.sk-toggleable {background-color: white;}label.sk-toggleable__label {cursor: pointer;display: block;width: 100%;margin-bottom: 0;padding: 0.2em 0.3em;box-sizing: border-box;text-align: center;}div.sk-toggleable__content {max-height: 0;max-width: 0;overflow: hidden;text-align: left;background-color: #f0f8ff;}div.sk-toggleable__content pre {margin: 0.2em;color: black;border-radius: 0.25em;background-color: #f0f8ff;}input.sk-toggleable__control:checked~div.sk-toggleable__content {max-height: 200px;max-width: 100%;overflow: auto;}div.sk-estimator input.sk-toggleable__control:checked~label.sk-toggleable__label {background-color: #d4ebff;}div.sk-label input.sk-toggleable__control:checked~label.sk-toggleable__label {background-color: #d4ebff;}input.sk-hidden--visually {border: 0;clip: rect(1px 1px 1px 1px);clip: rect(1px, 1px, 1px, 1px);height: 1px;margin: -1px;overflow: hidden;padding: 0;position: absolute;width: 1px;}div.sk-estimator {font-family: monospace;background-color: #f0f8ff;margin: 0.25em 0.25em;border: 1px dotted black;border-radius: 0.25em;box-sizing: border-box;}div.sk-estimator:hover {background-color: #d4ebff;}div.sk-parallel-item::after {content: \"\";width: 100%;border-bottom: 1px solid gray;flex-grow: 1;}div.sk-label:hover label.sk-toggleable__label {background-color: #d4ebff;}div.sk-serial::before {content: \"\";position: absolute;border-left: 1px solid gray;box-sizing: border-box;top: 2em;bottom: 0;left: 50%;}div.sk-serial {display: flex;flex-direction: column;align-items: center;background-color: white;}div.sk-item {z-index: 1;}div.sk-parallel {display: flex;align-items: stretch;justify-content: center;background-color: white;}div.sk-parallel-item {display: flex;flex-direction: column;position: relative;background-color: white;}div.sk-parallel-item:first-child::after {align-self: flex-end;width: 50%;}div.sk-parallel-item:last-child::after {align-self: flex-start;width: 50%;}div.sk-parallel-item:only-child::after {width: 0;}div.sk-dashed-wrapped {border: 1px dashed gray;margin: 0.2em;box-sizing: border-box;padding-bottom: 0.1em;background-color: white;position: relative;}div.sk-label label {font-family: monospace;font-weight: bold;background-color: white;display: inline-block;line-height: 1.2em;}div.sk-label-container {position: relative;z-index: 2;text-align: center;}div.sk-container {display: inline-block;position: relative;}</style><div class=\"sk-top-container\"><div class=\"sk-container\"><div class=\"sk-item sk-dashed-wrapped\"><div class=\"sk-label-container\"><div class=\"sk-label sk-toggleable\"><input class=\"sk-toggleable__control sk-hidden--visually\" id=\"fd860a4a-26c4-4950-84a5-06692ab3d7fe\" type=\"checkbox\" ><label class=\"sk-toggleable__label\" for=\"fd860a4a-26c4-4950-84a5-06692ab3d7fe\">Pipeline</label><div class=\"sk-toggleable__content\"><pre>Pipeline(steps=[('imputer', SimpleImputer(strategy='median')),\n",
       "                ('std_scaler', StandardScaler()),\n",
       "                ('rf_clf', DecisionTreeClassifier(random_state=42))])</pre></div></div></div><div class=\"sk-serial\"><div class=\"sk-item\"><div class=\"sk-estimator sk-toggleable\"><input class=\"sk-toggleable__control sk-hidden--visually\" id=\"ee086dd0-c3a7-4742-8e8a-9c62df105536\" type=\"checkbox\" ><label class=\"sk-toggleable__label\" for=\"ee086dd0-c3a7-4742-8e8a-9c62df105536\">SimpleImputer</label><div class=\"sk-toggleable__content\"><pre>SimpleImputer(strategy='median')</pre></div></div></div><div class=\"sk-item\"><div class=\"sk-estimator sk-toggleable\"><input class=\"sk-toggleable__control sk-hidden--visually\" id=\"166f09d8-f2bf-4331-9ebe-5edda4f0242a\" type=\"checkbox\" ><label class=\"sk-toggleable__label\" for=\"166f09d8-f2bf-4331-9ebe-5edda4f0242a\">StandardScaler</label><div class=\"sk-toggleable__content\"><pre>StandardScaler()</pre></div></div></div><div class=\"sk-item\"><div class=\"sk-estimator sk-toggleable\"><input class=\"sk-toggleable__control sk-hidden--visually\" id=\"a9966b00-4a07-45c6-81a3-6d4ed499433e\" type=\"checkbox\" ><label class=\"sk-toggleable__label\" for=\"a9966b00-4a07-45c6-81a3-6d4ed499433e\">DecisionTreeClassifier</label><div class=\"sk-toggleable__content\"><pre>DecisionTreeClassifier(random_state=42)</pre></div></div></div></div></div></div></div>"
      ],
      "text/plain": [
       "Pipeline(steps=[('imputer', SimpleImputer(strategy='median')),\n",
       "                ('std_scaler', StandardScaler()),\n",
       "                ('rf_clf', DecisionTreeClassifier(random_state=42))])"
      ]
     },
     "execution_count": 53,
     "metadata": {},
     "output_type": "execute_result"
    }
   ],
   "source": [
    "steps = [('imputer', SimpleImputer(strategy ='median')), ('std_scaler', StandardScaler()),\n",
    "        ('rf_clf', DecisionTreeClassifier(random_state =42))]\n",
    "\n",
    "pipeline = Pipeline(steps)\n",
    "\n",
    "pipeline"
   ]
  },
  {
   "cell_type": "code",
   "execution_count": 54,
   "id": "6d6a368e",
   "metadata": {},
   "outputs": [],
   "source": [
    "def cross_validation(X_train, y_train, estimator, num_split = 10):\n",
    "\n",
    "    X_train = X_train.values\n",
    "    y_train = y_train.values\n",
    "    \n",
    "    score_train_list = []\n",
    "    score_val_list = []\n",
    "    \n",
    "    for train_index, valid_index in KFold(n_splits = num_split).split(X_train):\n",
    "        \n",
    "        X_train_fold, X_val_fold = X_train[train_index], X_train[valid_index]\n",
    "        y_train_fold, y_val_fold = y_train[train_index], y_train[valid_index]\n",
    "        \n",
    "        estimator.fit(X_train_fold, y_train_fold)\n",
    "        \n",
    "        accuracy_train = estimator.score(X_train_fold, y_train_fold)\n",
    "        accuracy_val = estimator.score(X_val_fold, y_val_fold)\n",
    "        score_train_list.append(accuracy_train)\n",
    "        score_val_list.append(accuracy_val)\n",
    "        \n",
    "        \n",
    "    return {\"train\": np.mean(score_train_list), \n",
    "            'validation': np.mean(score_val_list)}"
   ]
  },
  {
   "cell_type": "code",
   "execution_count": 55,
   "id": "8c7a40f5",
   "metadata": {},
   "outputs": [
    {
     "data": {
      "text/plain": [
       "{'train': 1.0, 'validation': 0.9739379406137798}"
      ]
     },
     "execution_count": 55,
     "metadata": {},
     "output_type": "execute_result"
    }
   ],
   "source": [
    "cv_model = cross_validation(X_train, y_train, pipeline)\n",
    "cv_model"
   ]
  },
  {
   "cell_type": "markdown",
   "id": "53184887",
   "metadata": {},
   "source": [
    "### Grid Search KNN Model 5"
   ]
  },
  {
   "cell_type": "code",
   "execution_count": 56,
   "id": "ae634cd4",
   "metadata": {},
   "outputs": [],
   "source": [
    "# New pipeline"
   ]
  },
  {
   "cell_type": "code",
   "execution_count": 57,
   "id": "a992880f",
   "metadata": {},
   "outputs": [],
   "source": [
    "steps = [('imputer', SimpleImputer(strategy=\"median\")), ('std_scaler', StandardScaler()),\n",
    "        ('knn', KNeighborsClassifier())]\n",
    "\n",
    "model_pipe = Pipeline(steps)"
   ]
  },
  {
   "cell_type": "code",
   "execution_count": 58,
   "id": "b3f412e4",
   "metadata": {},
   "outputs": [],
   "source": [
    "pipe_grid = {'imputer__strategy': [\"mean\", \"median\"],\n",
    "             'knn__n_neighbors': [3, 5, 7, 9, 11, 13, 15, 18],\n",
    "             'knn__p': [1, 2, 3, 4]}\n",
    "\n",
    "gs_pipe = GridSearchCV(estimator=model_pipe, \n",
    "                       param_grid=pipe_grid)"
   ]
  },
  {
   "cell_type": "code",
   "execution_count": 59,
   "id": "a410ba1a",
   "metadata": {},
   "outputs": [],
   "source": [
    "gs_pipe.fit(X_train, y_train);"
   ]
  },
  {
   "cell_type": "code",
   "execution_count": 60,
   "id": "542a8b23",
   "metadata": {},
   "outputs": [
    {
     "data": {
      "text/plain": [
       "{'imputer__strategy': 'mean', 'knn__n_neighbors': 18, 'knn__p': 1}"
      ]
     },
     "execution_count": 60,
     "metadata": {},
     "output_type": "execute_result"
    }
   ],
   "source": [
    "gs_pipe.best_params_"
   ]
  },
  {
   "cell_type": "code",
   "execution_count": 61,
   "id": "166480e2",
   "metadata": {},
   "outputs": [
    {
     "data": {
      "text/plain": [
       "0.9572850678733031"
      ]
     },
     "execution_count": 61,
     "metadata": {},
     "output_type": "execute_result"
    }
   ],
   "source": [
    "gs_pipe.best_score_"
   ]
  },
  {
   "cell_type": "code",
   "execution_count": 62,
   "id": "5783839e",
   "metadata": {},
   "outputs": [
    {
     "data": {
      "text/html": [
       "<style>div.sk-top-container {color: black;background-color: white;}div.sk-toggleable {background-color: white;}label.sk-toggleable__label {cursor: pointer;display: block;width: 100%;margin-bottom: 0;padding: 0.2em 0.3em;box-sizing: border-box;text-align: center;}div.sk-toggleable__content {max-height: 0;max-width: 0;overflow: hidden;text-align: left;background-color: #f0f8ff;}div.sk-toggleable__content pre {margin: 0.2em;color: black;border-radius: 0.25em;background-color: #f0f8ff;}input.sk-toggleable__control:checked~div.sk-toggleable__content {max-height: 200px;max-width: 100%;overflow: auto;}div.sk-estimator input.sk-toggleable__control:checked~label.sk-toggleable__label {background-color: #d4ebff;}div.sk-label input.sk-toggleable__control:checked~label.sk-toggleable__label {background-color: #d4ebff;}input.sk-hidden--visually {border: 0;clip: rect(1px 1px 1px 1px);clip: rect(1px, 1px, 1px, 1px);height: 1px;margin: -1px;overflow: hidden;padding: 0;position: absolute;width: 1px;}div.sk-estimator {font-family: monospace;background-color: #f0f8ff;margin: 0.25em 0.25em;border: 1px dotted black;border-radius: 0.25em;box-sizing: border-box;}div.sk-estimator:hover {background-color: #d4ebff;}div.sk-parallel-item::after {content: \"\";width: 100%;border-bottom: 1px solid gray;flex-grow: 1;}div.sk-label:hover label.sk-toggleable__label {background-color: #d4ebff;}div.sk-serial::before {content: \"\";position: absolute;border-left: 1px solid gray;box-sizing: border-box;top: 2em;bottom: 0;left: 50%;}div.sk-serial {display: flex;flex-direction: column;align-items: center;background-color: white;}div.sk-item {z-index: 1;}div.sk-parallel {display: flex;align-items: stretch;justify-content: center;background-color: white;}div.sk-parallel-item {display: flex;flex-direction: column;position: relative;background-color: white;}div.sk-parallel-item:first-child::after {align-self: flex-end;width: 50%;}div.sk-parallel-item:last-child::after {align-self: flex-start;width: 50%;}div.sk-parallel-item:only-child::after {width: 0;}div.sk-dashed-wrapped {border: 1px dashed gray;margin: 0.2em;box-sizing: border-box;padding-bottom: 0.1em;background-color: white;position: relative;}div.sk-label label {font-family: monospace;font-weight: bold;background-color: white;display: inline-block;line-height: 1.2em;}div.sk-label-container {position: relative;z-index: 2;text-align: center;}div.sk-container {display: inline-block;position: relative;}</style><div class=\"sk-top-container\"><div class=\"sk-container\"><div class=\"sk-item sk-dashed-wrapped\"><div class=\"sk-label-container\"><div class=\"sk-label sk-toggleable\"><input class=\"sk-toggleable__control sk-hidden--visually\" id=\"03826c55-0151-4629-9fd6-4110e1860325\" type=\"checkbox\" ><label class=\"sk-toggleable__label\" for=\"03826c55-0151-4629-9fd6-4110e1860325\">Pipeline</label><div class=\"sk-toggleable__content\"><pre>Pipeline(steps=[('imputer', SimpleImputer()), ('std_scaler', StandardScaler()),\n",
       "                ('knn', KNeighborsClassifier(n_neighbors=18, p=1))])</pre></div></div></div><div class=\"sk-serial\"><div class=\"sk-item\"><div class=\"sk-estimator sk-toggleable\"><input class=\"sk-toggleable__control sk-hidden--visually\" id=\"bd5b7546-2b00-4941-9dd4-c3dedc85391c\" type=\"checkbox\" ><label class=\"sk-toggleable__label\" for=\"bd5b7546-2b00-4941-9dd4-c3dedc85391c\">SimpleImputer</label><div class=\"sk-toggleable__content\"><pre>SimpleImputer()</pre></div></div></div><div class=\"sk-item\"><div class=\"sk-estimator sk-toggleable\"><input class=\"sk-toggleable__control sk-hidden--visually\" id=\"26c53329-0adc-408f-b650-ecb9c6fe3318\" type=\"checkbox\" ><label class=\"sk-toggleable__label\" for=\"26c53329-0adc-408f-b650-ecb9c6fe3318\">StandardScaler</label><div class=\"sk-toggleable__content\"><pre>StandardScaler()</pre></div></div></div><div class=\"sk-item\"><div class=\"sk-estimator sk-toggleable\"><input class=\"sk-toggleable__control sk-hidden--visually\" id=\"c7b9b47c-a85a-4e36-b332-df899ebf77a2\" type=\"checkbox\" ><label class=\"sk-toggleable__label\" for=\"c7b9b47c-a85a-4e36-b332-df899ebf77a2\">KNeighborsClassifier</label><div class=\"sk-toggleable__content\"><pre>KNeighborsClassifier(n_neighbors=18, p=1)</pre></div></div></div></div></div></div></div>"
      ],
      "text/plain": [
       "Pipeline(steps=[('imputer', SimpleImputer()), ('std_scaler', StandardScaler()),\n",
       "                ('knn', KNeighborsClassifier(n_neighbors=18, p=1))])"
      ]
     },
     "execution_count": 62,
     "metadata": {},
     "output_type": "execute_result"
    }
   ],
   "source": [
    "gs_model = gs_pipe.best_estimator_\n",
    "gs_model"
   ]
  },
  {
   "cell_type": "code",
   "execution_count": 63,
   "id": "43a2200c",
   "metadata": {},
   "outputs": [],
   "source": [
    "gs_pred = gs_model.predict(X_test)"
   ]
  },
  {
   "cell_type": "code",
   "execution_count": 64,
   "id": "26c3b0cc",
   "metadata": {},
   "outputs": [
    {
     "data": {
      "text/plain": [
       "<sklearn.metrics._plot.confusion_matrix.ConfusionMatrixDisplay at 0x7f7ba2e89790>"
      ]
     },
     "execution_count": 64,
     "metadata": {},
     "output_type": "execute_result"
    },
    {
     "data": {
      "image/png": "[encoded data removed]",
      "text/plain": [
       "<Figure size 432x288 with 2 Axes>"
      ]
     },
     "metadata": {
      "needs_background": "light"
     },
     "output_type": "display_data"
    }
   ],
   "source": [
    "gs_CM =confusion_matrix(y_test,gs_pred);\n",
    "ConfusionMatrixDisplay(gs_CM).plot()"
   ]
  },
  {
   "cell_type": "code",
   "execution_count": 65,
   "id": "2ecc9c56",
   "metadata": {},
   "outputs": [
    {
     "name": "stdout",
     "output_type": "stream",
     "text": [
      "0.9652677279305355\n",
      "0.8454935622317596\n",
      "0.9425837320574163\n",
      "0.8914027149321266\n"
     ]
    }
   ],
   "source": [
    "accuracy = accuracy_score(y_test, gs_pred)\n",
    "print(accuracy)\n",
    "precision = precision_score(y_test, gs_pred)\n",
    "print(precision)\n",
    "recall = recall_score(y_test, gs_pred)\n",
    "print(recall)\n",
    "f1 = f1_score(y_test, gs_pred)\n",
    "print(f1)"
   ]
  },
  {
   "cell_type": "code",
   "execution_count": 66,
   "id": "c5f4c3a7",
   "metadata": {},
   "outputs": [
    {
     "name": "stdout",
     "output_type": "stream",
     "text": [
      "Training: 0.9632579185520362\n",
      "Test: 0.9652677279305355\n"
     ]
    }
   ],
   "source": [
    "print('Training:', gs_model.score(X_train, y_train))\n",
    "print('Test:', gs_model.score(X_test, y_test))"
   ]
  },
  {
   "cell_type": "code",
   "execution_count": 67,
   "id": "8bca8985",
   "metadata": {},
   "outputs": [
    {
     "data": {
      "text/plain": [
       "0.9559465974865087"
      ]
     },
     "execution_count": 67,
     "metadata": {},
     "output_type": "execute_result"
    }
   ],
   "source": [
    "roc_auc_score(y_test, gs_pred)"
   ]
  },
  {
   "cell_type": "code",
   "execution_count": 68,
   "id": "00317b53",
   "metadata": {},
   "outputs": [
    {
     "data": {
      "text/plain": [
       "<sklearn.metrics._plot.roc_curve.RocCurveDisplay at 0x7f7ba32f4dc0>"
      ]
     },
     "execution_count": 68,
     "metadata": {},
     "output_type": "execute_result"
    },
    {
     "data": {
      "image/png": "[encoded data removed]",
      "text/plain": [
       "<Figure size 432x288 with 1 Axes>"
      ]
     },
     "metadata": {
      "needs_background": "light"
     },
     "output_type": "display_data"
    }
   ],
   "source": [
    "fig, ax = plt.subplots()\n",
    "\n",
    "plot_roc_curve(dt, X_test_scaled, y_test, ax=ax) # model 3\n",
    "\n",
    "plot_roc_curve(sm_model, X_test, y_test, ax=ax) # model 4"
   ]
  },
  {
   "cell_type": "code",
   "execution_count": 69,
   "id": "b94be226",
   "metadata": {},
   "outputs": [
    {
     "data": {
      "text/plain": [
       "<sklearn.metrics._plot.roc_curve.RocCurveDisplay at 0x7f7ba332ad90>"
      ]
     },
     "execution_count": 69,
     "metadata": {},
     "output_type": "execute_result"
    },
    {
     "data": {
      "image/png": "[encoded data removed]",
      "text/plain": [
       "<Figure size 432x288 with 1 Axes>"
      ]
     },
     "metadata": {
      "needs_background": "light"
     },
     "output_type": "display_data"
    }
   ],
   "source": [
    "fig, ax = plt.subplots()\n",
    "\n",
    "plot_roc_curve(LR_Model, X_test_scaled, y_test, ax=ax) # model 2\n",
    "\n",
    "plot_roc_curve(gs_model, X_test, y_test, ax=ax) # model 5"
   ]
  },
  {
   "cell_type": "markdown",
   "id": "03bbd2e6",
   "metadata": {},
   "source": [
    "### Random Forest Model 6"
   ]
  },
  {
   "cell_type": "code",
   "execution_count": 70,
   "id": "9a83e13b",
   "metadata": {},
   "outputs": [],
   "source": [
    "# Adding import for random forest"
   ]
  },
  {
   "cell_type": "code",
   "execution_count": 71,
   "id": "47548045",
   "metadata": {},
   "outputs": [],
   "source": [
    "from sklearn.ensemble import RandomForestClassifier"
   ]
  },
  {
   "cell_type": "code",
   "execution_count": 72,
   "id": "76a68b26",
   "metadata": {},
   "outputs": [],
   "source": [
    "rf_pipe = Pipeline([('scaler', StandardScaler()),\n",
    "                   ('model', RandomForestClassifier(n_estimators = 100, max_depth = 8))])"
   ]
  },
  {
   "cell_type": "code",
   "execution_count": 73,
   "id": "276d7738",
   "metadata": {},
   "outputs": [
    {
     "data": {
      "text/html": [
       "<style>div.sk-top-container {color: black;background-color: white;}div.sk-toggleable {background-color: white;}label.sk-toggleable__label {cursor: pointer;display: block;width: 100%;margin-bottom: 0;padding: 0.2em 0.3em;box-sizing: border-box;text-align: center;}div.sk-toggleable__content {max-height: 0;max-width: 0;overflow: hidden;text-align: left;background-color: #f0f8ff;}div.sk-toggleable__content pre {margin: 0.2em;color: black;border-radius: 0.25em;background-color: #f0f8ff;}input.sk-toggleable__control:checked~div.sk-toggleable__content {max-height: 200px;max-width: 100%;overflow: auto;}div.sk-estimator input.sk-toggleable__control:checked~label.sk-toggleable__label {background-color: #d4ebff;}div.sk-label input.sk-toggleable__control:checked~label.sk-toggleable__label {background-color: #d4ebff;}input.sk-hidden--visually {border: 0;clip: rect(1px 1px 1px 1px);clip: rect(1px, 1px, 1px, 1px);height: 1px;margin: -1px;overflow: hidden;padding: 0;position: absolute;width: 1px;}div.sk-estimator {font-family: monospace;background-color: #f0f8ff;margin: 0.25em 0.25em;border: 1px dotted black;border-radius: 0.25em;box-sizing: border-box;}div.sk-estimator:hover {background-color: #d4ebff;}div.sk-parallel-item::after {content: \"\";width: 100%;border-bottom: 1px solid gray;flex-grow: 1;}div.sk-label:hover label.sk-toggleable__label {background-color: #d4ebff;}div.sk-serial::before {content: \"\";position: absolute;border-left: 1px solid gray;box-sizing: border-box;top: 2em;bottom: 0;left: 50%;}div.sk-serial {display: flex;flex-direction: column;align-items: center;background-color: white;}div.sk-item {z-index: 1;}div.sk-parallel {display: flex;align-items: stretch;justify-content: center;background-color: white;}div.sk-parallel-item {display: flex;flex-direction: column;position: relative;background-color: white;}div.sk-parallel-item:first-child::after {align-self: flex-end;width: 50%;}div.sk-parallel-item:last-child::after {align-self: flex-start;width: 50%;}div.sk-parallel-item:only-child::after {width: 0;}div.sk-dashed-wrapped {border: 1px dashed gray;margin: 0.2em;box-sizing: border-box;padding-bottom: 0.1em;background-color: white;position: relative;}div.sk-label label {font-family: monospace;font-weight: bold;background-color: white;display: inline-block;line-height: 1.2em;}div.sk-label-container {position: relative;z-index: 2;text-align: center;}div.sk-container {display: inline-block;position: relative;}</style><div class=\"sk-top-container\"><div class=\"sk-container\"><div class=\"sk-item sk-dashed-wrapped\"><div class=\"sk-label-container\"><div class=\"sk-label sk-toggleable\"><input class=\"sk-toggleable__control sk-hidden--visually\" id=\"2c08d18a-93c1-44b4-a2dd-1354948629df\" type=\"checkbox\" ><label class=\"sk-toggleable__label\" for=\"2c08d18a-93c1-44b4-a2dd-1354948629df\">Pipeline</label><div class=\"sk-toggleable__content\"><pre>Pipeline(steps=[('scaler', StandardScaler()),\n",
       "                ('model', RandomForestClassifier(max_depth=8))])</pre></div></div></div><div class=\"sk-serial\"><div class=\"sk-item\"><div class=\"sk-estimator sk-toggleable\"><input class=\"sk-toggleable__control sk-hidden--visually\" id=\"b6be7adf-00b0-4778-b0a8-b0c557b3bb26\" type=\"checkbox\" ><label class=\"sk-toggleable__label\" for=\"b6be7adf-00b0-4778-b0a8-b0c557b3bb26\">StandardScaler</label><div class=\"sk-toggleable__content\"><pre>StandardScaler()</pre></div></div></div><div class=\"sk-item\"><div class=\"sk-estimator sk-toggleable\"><input class=\"sk-toggleable__control sk-hidden--visually\" id=\"785b6ac6-a3ea-40ef-ad3b-405bc7162ff8\" type=\"checkbox\" ><label class=\"sk-toggleable__label\" for=\"785b6ac6-a3ea-40ef-ad3b-405bc7162ff8\">RandomForestClassifier</label><div class=\"sk-toggleable__content\"><pre>RandomForestClassifier(max_depth=8)</pre></div></div></div></div></div></div></div>"
      ],
      "text/plain": [
       "Pipeline(steps=[('scaler', StandardScaler()),\n",
       "                ('model', RandomForestClassifier(max_depth=8))])"
      ]
     },
     "execution_count": 73,
     "metadata": {},
     "output_type": "execute_result"
    }
   ],
   "source": [
    "rf_pipe.fit(X_train,y_train)"
   ]
  },
  {
   "cell_type": "code",
   "execution_count": 74,
   "id": "a0ba453e",
   "metadata": {},
   "outputs": [
    {
     "name": "stdout",
     "output_type": "stream",
     "text": [
      "0.9905882352941177\n",
      "0.9790159189580319\n"
     ]
    }
   ],
   "source": [
    "print(rf_pipe.score(X_train,y_train))\n",
    "print(rf_pipe.score(X_test,y_test))"
   ]
  },
  {
   "cell_type": "code",
   "execution_count": 75,
   "id": "8aa8914f",
   "metadata": {},
   "outputs": [],
   "source": [
    "rf_pred = rf_pipe.predict(X_test)"
   ]
  },
  {
   "cell_type": "code",
   "execution_count": 76,
   "id": "241e0524",
   "metadata": {},
   "outputs": [
    {
     "name": "stdout",
     "output_type": "stream",
     "text": [
      "0.9790159189580319\n",
      "0.9368932038834952\n",
      "0.9234449760765551\n",
      "0.9301204819277109\n"
     ]
    }
   ],
   "source": [
    "accuracy = accuracy_score(y_test, rf_pred)\n",
    "print(accuracy)\n",
    "precision = precision_score(y_test, rf_pred)\n",
    "print(precision)\n",
    "recall = recall_score(y_test, rf_pred)\n",
    "print(recall)\n",
    "f1 = f1_score(y_test, rf_pred)\n",
    "print(f1)"
   ]
  },
  {
   "cell_type": "code",
   "execution_count": 77,
   "id": "bf0b8251",
   "metadata": {},
   "outputs": [
    {
     "data": {
      "text/plain": [
       "0.9561811410647054"
      ]
     },
     "execution_count": 77,
     "metadata": {},
     "output_type": "execute_result"
    }
   ],
   "source": [
    "roc_auc_score(y_test, rf_pred)"
   ]
  },
  {
   "cell_type": "code",
   "execution_count": 78,
   "id": "9508ea74",
   "metadata": {},
   "outputs": [
    {
     "data": {
      "text/plain": [
       "<sklearn.metrics._plot.roc_curve.RocCurveDisplay at 0x7f7ba3464490>"
      ]
     },
     "execution_count": 78,
     "metadata": {},
     "output_type": "execute_result"
    },
    {
     "data": {
      "image/png": "[encoded data removed]",
      "text/plain": [
       "<Figure size 432x288 with 1 Axes>"
      ]
     },
     "metadata": {
      "needs_background": "light"
     },
     "output_type": "display_data"
    }
   ],
   "source": [
    "fig, ax = plt.subplots()\n",
    "\n",
    "plot_roc_curve(rf_pipe, X_test, y_test, ax=ax) # model 6\n",
    "\n",
    "plot_roc_curve(dt, X_test_scaled, y_test, ax=ax) # model 2\n",
    "\n",
    "#comparing decision tree model with random forest model"
   ]
  },
  {
   "cell_type": "markdown",
   "id": "8f7dd9fa",
   "metadata": {},
   "source": [
    "### Feature Importance - Best Model (Random Forest)"
   ]
  },
  {
   "cell_type": "code",
   "execution_count": 108,
   "id": "7849a6ab",
   "metadata": {},
   "outputs": [],
   "source": [
    "importance = rf_pipe.steps[1][1].feature_importances_"
   ]
  },
  {
   "cell_type": "code",
   "execution_count": 110,
   "id": "541375af",
   "metadata": {},
   "outputs": [
    {
     "data": {
      "text/html": [
       "<div>\n",
       "<style scoped>\n",
       "    .dataframe tbody tr th:only-of-type {\n",
       "        vertical-align: middle;\n",
       "    }\n",
       "\n",
       "    .dataframe tbody tr th {\n",
       "        vertical-align: top;\n",
       "    }\n",
       "\n",
       "    .dataframe thead th {\n",
       "        text-align: right;\n",
       "    }\n",
       "</style>\n",
       "<table border=\"1\" class=\"dataframe\">\n",
       "  <thead>\n",
       "    <tr style=\"text-align: right;\">\n",
       "      <th></th>\n",
       "      <th>0</th>\n",
       "      <th>1</th>\n",
       "    </tr>\n",
       "  </thead>\n",
       "  <tbody>\n",
       "    <tr>\n",
       "      <th>1</th>\n",
       "      <td>G</td>\n",
       "      <td>0.315788</td>\n",
       "    </tr>\n",
       "    <tr>\n",
       "      <th>7</th>\n",
       "      <td>HR</td>\n",
       "      <td>0.141224</td>\n",
       "    </tr>\n",
       "    <tr>\n",
       "      <th>0</th>\n",
       "      <td>Pitches</td>\n",
       "      <td>0.119626</td>\n",
       "    </tr>\n",
       "    <tr>\n",
       "      <th>12</th>\n",
       "      <td>BS</td>\n",
       "      <td>0.090594</td>\n",
       "    </tr>\n",
       "    <tr>\n",
       "      <th>11</th>\n",
       "      <td>SV</td>\n",
       "      <td>0.068183</td>\n",
       "    </tr>\n",
       "    <tr>\n",
       "      <th>4</th>\n",
       "      <td>IP</td>\n",
       "      <td>0.053922</td>\n",
       "    </tr>\n",
       "    <tr>\n",
       "      <th>9</th>\n",
       "      <td>BB</td>\n",
       "      <td>0.044490</td>\n",
       "    </tr>\n",
       "    <tr>\n",
       "      <th>5</th>\n",
       "      <td>H</td>\n",
       "      <td>0.032991</td>\n",
       "    </tr>\n",
       "    <tr>\n",
       "      <th>6</th>\n",
       "      <td>R</td>\n",
       "      <td>0.032059</td>\n",
       "    </tr>\n",
       "    <tr>\n",
       "      <th>8</th>\n",
       "      <td>SO</td>\n",
       "      <td>0.025440</td>\n",
       "    </tr>\n",
       "    <tr>\n",
       "      <th>10</th>\n",
       "      <td>ER</td>\n",
       "      <td>0.023894</td>\n",
       "    </tr>\n",
       "    <tr>\n",
       "      <th>13</th>\n",
       "      <td>BK</td>\n",
       "      <td>0.023272</td>\n",
       "    </tr>\n",
       "    <tr>\n",
       "      <th>2</th>\n",
       "      <td>W</td>\n",
       "      <td>0.010296</td>\n",
       "    </tr>\n",
       "    <tr>\n",
       "      <th>15</th>\n",
       "      <td>WHIP</td>\n",
       "      <td>0.007539</td>\n",
       "    </tr>\n",
       "    <tr>\n",
       "      <th>14</th>\n",
       "      <td>ERA</td>\n",
       "      <td>0.005955</td>\n",
       "    </tr>\n",
       "    <tr>\n",
       "      <th>3</th>\n",
       "      <td>L</td>\n",
       "      <td>0.004726</td>\n",
       "    </tr>\n",
       "  </tbody>\n",
       "</table>\n",
       "</div>"
      ],
      "text/plain": [
       "          0         1\n",
       "1         G  0.315788\n",
       "7        HR  0.141224\n",
       "0   Pitches  0.119626\n",
       "12       BS  0.090594\n",
       "11       SV  0.068183\n",
       "4        IP  0.053922\n",
       "9        BB  0.044490\n",
       "5         H  0.032991\n",
       "6         R  0.032059\n",
       "8        SO  0.025440\n",
       "10       ER  0.023894\n",
       "13       BK  0.023272\n",
       "2         W  0.010296\n",
       "15     WHIP  0.007539\n",
       "14      ERA  0.005955\n",
       "3         L  0.004726"
      ]
     },
     "execution_count": 110,
     "metadata": {},
     "output_type": "execute_result"
    }
   ],
   "source": [
    "pd.DataFrame(zip(X_train.columns,importance)).sort_values(by = 1, ascending = False)"
   ]
  },
  {
   "cell_type": "code",
   "execution_count": 111,
   "id": "e95faad7",
   "metadata": {},
   "outputs": [
    {
     "data": {
      "text/plain": [
       "array([5.03725434e-02, 3.89089359e-02, 7.04108102e-05, 1.13354619e-02,\n",
       "       3.88470170e-02, 1.01011816e-01, 3.25663948e-02, 1.90627069e-01,\n",
       "       1.93155166e-02, 1.07270037e-02, 9.95321963e-03, 3.29776128e-01,\n",
       "       1.04150504e-01, 5.15133612e-02, 7.34361878e-03, 3.48099926e-03])"
      ]
     },
     "execution_count": 111,
     "metadata": {},
     "output_type": "execute_result"
    }
   ],
   "source": [
    "rf_pipe[1][1].feature_importances_"
   ]
  },
  {
   "cell_type": "code",
   "execution_count": 139,
   "id": "fcb3af41",
   "metadata": {},
   "outputs": [],
   "source": [
    "def plot_feature_importance(importance,names,model_type):\n",
    "\n",
    "#Create arrays from feature importance and feature names\n",
    "    feature_importance = np.array(importance)\n",
    "    feature_names = np.array(names)\n",
    "    \n",
    "    data={'feature_names':feature_names,'feature_importance':feature_importance}\n",
    "    fi_df = pd.DataFrame(data)\n",
    "\n",
    "#Sort the DataFrame in order decreasing feature importance\n",
    "    fi_df.sort_values(by=['feature_importance'], ascending=False,inplace=True)\n",
    "    \n",
    "#Define size of bar plot\n",
    "    plt.figure(figsize=(10,8))\n",
    "#Plot Searborn bar chart\n",
    "    sns.barplot(x=fi_df['feature_importance'], y=fi_df['feature_names'])\n",
    "#Add chart labels\n",
    "    plt.xlabel('FEATURE IMPORTANCE')\n",
    "    plt.ylabel('FEATURE NAMES')"
   ]
  },
  {
   "cell_type": "code",
   "execution_count": 140,
   "id": "92867371",
   "metadata": {},
   "outputs": [
    {
     "data": {
      "image/png": "[encoded data removed]",
      "text/plain": [
       "<Figure size 720x576 with 1 Axes>"
      ]
     },
     "metadata": {
      "needs_background": "light"
     },
     "output_type": "display_data"
    }
   ],
   "source": [
    "plot_feature_importance(rf_pipe[1][1].feature_importances_,X_train.columns,'RANDOM FOREST')"
   ]
  },
  {
   "cell_type": "markdown",
   "id": "543c494c",
   "metadata": {},
   "source": [
    "### Predictive Model"
   ]
  },
  {
   "cell_type": "code",
   "execution_count": 141,
   "id": "2bfb3227",
   "metadata": {},
   "outputs": [
    {
     "data": {
      "text/html": [
       "<div>\n",
       "<style scoped>\n",
       "    .dataframe tbody tr th:only-of-type {\n",
       "        vertical-align: middle;\n",
       "    }\n",
       "\n",
       "    .dataframe tbody tr th {\n",
       "        vertical-align: top;\n",
       "    }\n",
       "\n",
       "    .dataframe thead th {\n",
       "        text-align: right;\n",
       "    }\n",
       "</style>\n",
       "<table border=\"1\" class=\"dataframe\">\n",
       "  <thead>\n",
       "    <tr style=\"text-align: right;\">\n",
       "      <th></th>\n",
       "      <th>Pitches</th>\n",
       "      <th>G</th>\n",
       "      <th>W</th>\n",
       "      <th>L</th>\n",
       "      <th>IP</th>\n",
       "      <th>H</th>\n",
       "      <th>R</th>\n",
       "      <th>HR</th>\n",
       "      <th>SO</th>\n",
       "      <th>BB</th>\n",
       "      <th>ER</th>\n",
       "      <th>SV</th>\n",
       "      <th>BS</th>\n",
       "      <th>BK</th>\n",
       "      <th>ERA</th>\n",
       "      <th>WHIP</th>\n",
       "    </tr>\n",
       "  </thead>\n",
       "  <tbody>\n",
       "    <tr>\n",
       "      <th>3434</th>\n",
       "      <td>3327</td>\n",
       "      <td>71</td>\n",
       "      <td>11</td>\n",
       "      <td>16</td>\n",
       "      <td>239.1</td>\n",
       "      <td>225</td>\n",
       "      <td>158</td>\n",
       "      <td>20</td>\n",
       "      <td>266</td>\n",
       "      <td>116</td>\n",
       "      <td>128</td>\n",
       "      <td>1</td>\n",
       "      <td>3</td>\n",
       "      <td>5</td>\n",
       "      <td>4.813371</td>\n",
       "      <td>1.424791</td>\n",
       "    </tr>\n",
       "    <tr>\n",
       "      <th>1882</th>\n",
       "      <td>7774</td>\n",
       "      <td>110</td>\n",
       "      <td>25</td>\n",
       "      <td>33</td>\n",
       "      <td>484.2</td>\n",
       "      <td>449</td>\n",
       "      <td>203</td>\n",
       "      <td>31</td>\n",
       "      <td>490</td>\n",
       "      <td>175</td>\n",
       "      <td>165</td>\n",
       "      <td>2</td>\n",
       "      <td>2</td>\n",
       "      <td>2</td>\n",
       "      <td>3.063962</td>\n",
       "      <td>1.287483</td>\n",
       "    </tr>\n",
       "    <tr>\n",
       "      <th>5187</th>\n",
       "      <td>1458</td>\n",
       "      <td>40</td>\n",
       "      <td>2</td>\n",
       "      <td>4</td>\n",
       "      <td>117.0</td>\n",
       "      <td>113</td>\n",
       "      <td>37</td>\n",
       "      <td>5</td>\n",
       "      <td>82</td>\n",
       "      <td>34</td>\n",
       "      <td>31</td>\n",
       "      <td>2</td>\n",
       "      <td>1</td>\n",
       "      <td>4</td>\n",
       "      <td>2.384615</td>\n",
       "      <td>1.247863</td>\n",
       "    </tr>\n",
       "    <tr>\n",
       "      <th>969</th>\n",
       "      <td>1462</td>\n",
       "      <td>15</td>\n",
       "      <td>6</td>\n",
       "      <td>6</td>\n",
       "      <td>98.1</td>\n",
       "      <td>90</td>\n",
       "      <td>37</td>\n",
       "      <td>12</td>\n",
       "      <td>96</td>\n",
       "      <td>19</td>\n",
       "      <td>34</td>\n",
       "      <td>0</td>\n",
       "      <td>0</td>\n",
       "      <td>0</td>\n",
       "      <td>3.110000</td>\n",
       "      <td>1.111111</td>\n",
       "    </tr>\n",
       "    <tr>\n",
       "      <th>4511</th>\n",
       "      <td>2063</td>\n",
       "      <td>34</td>\n",
       "      <td>7</td>\n",
       "      <td>8</td>\n",
       "      <td>133.1</td>\n",
       "      <td>112</td>\n",
       "      <td>46</td>\n",
       "      <td>9</td>\n",
       "      <td>163</td>\n",
       "      <td>39</td>\n",
       "      <td>38</td>\n",
       "      <td>0</td>\n",
       "      <td>0</td>\n",
       "      <td>0</td>\n",
       "      <td>2.565000</td>\n",
       "      <td>1.132500</td>\n",
       "    </tr>\n",
       "    <tr>\n",
       "      <th>...</th>\n",
       "      <td>...</td>\n",
       "      <td>...</td>\n",
       "      <td>...</td>\n",
       "      <td>...</td>\n",
       "      <td>...</td>\n",
       "      <td>...</td>\n",
       "      <td>...</td>\n",
       "      <td>...</td>\n",
       "      <td>...</td>\n",
       "      <td>...</td>\n",
       "      <td>...</td>\n",
       "      <td>...</td>\n",
       "      <td>...</td>\n",
       "      <td>...</td>\n",
       "      <td>...</td>\n",
       "      <td>...</td>\n",
       "    </tr>\n",
       "    <tr>\n",
       "      <th>3772</th>\n",
       "      <td>5112</td>\n",
       "      <td>84</td>\n",
       "      <td>8</td>\n",
       "      <td>19</td>\n",
       "      <td>306.0</td>\n",
       "      <td>340</td>\n",
       "      <td>182</td>\n",
       "      <td>51</td>\n",
       "      <td>272</td>\n",
       "      <td>92</td>\n",
       "      <td>161</td>\n",
       "      <td>7</td>\n",
       "      <td>3</td>\n",
       "      <td>2</td>\n",
       "      <td>4.735294</td>\n",
       "      <td>1.408497</td>\n",
       "    </tr>\n",
       "    <tr>\n",
       "      <th>5191</th>\n",
       "      <td>5466</td>\n",
       "      <td>100</td>\n",
       "      <td>17</td>\n",
       "      <td>19</td>\n",
       "      <td>346.1</td>\n",
       "      <td>283</td>\n",
       "      <td>166</td>\n",
       "      <td>26</td>\n",
       "      <td>339</td>\n",
       "      <td>168</td>\n",
       "      <td>140</td>\n",
       "      <td>1</td>\n",
       "      <td>1</td>\n",
       "      <td>2</td>\n",
       "      <td>3.638114</td>\n",
       "      <td>1.302214</td>\n",
       "    </tr>\n",
       "    <tr>\n",
       "      <th>5226</th>\n",
       "      <td>4414</td>\n",
       "      <td>85</td>\n",
       "      <td>16</td>\n",
       "      <td>22</td>\n",
       "      <td>278.1</td>\n",
       "      <td>285</td>\n",
       "      <td>180</td>\n",
       "      <td>20</td>\n",
       "      <td>235</td>\n",
       "      <td>148</td>\n",
       "      <td>149</td>\n",
       "      <td>0</td>\n",
       "      <td>1</td>\n",
       "      <td>4</td>\n",
       "      <td>4.817964</td>\n",
       "      <td>1.555689</td>\n",
       "    </tr>\n",
       "    <tr>\n",
       "      <th>5390</th>\n",
       "      <td>3335</td>\n",
       "      <td>102</td>\n",
       "      <td>18</td>\n",
       "      <td>15</td>\n",
       "      <td>249.1</td>\n",
       "      <td>273</td>\n",
       "      <td>147</td>\n",
       "      <td>17</td>\n",
       "      <td>216</td>\n",
       "      <td>81</td>\n",
       "      <td>123</td>\n",
       "      <td>4</td>\n",
       "      <td>6</td>\n",
       "      <td>3</td>\n",
       "      <td>4.439840</td>\n",
       "      <td>1.399733</td>\n",
       "    </tr>\n",
       "    <tr>\n",
       "      <th>860</th>\n",
       "      <td>2375</td>\n",
       "      <td>27</td>\n",
       "      <td>6</td>\n",
       "      <td>11</td>\n",
       "      <td>137.0</td>\n",
       "      <td>155</td>\n",
       "      <td>91</td>\n",
       "      <td>25</td>\n",
       "      <td>110</td>\n",
       "      <td>58</td>\n",
       "      <td>87</td>\n",
       "      <td>0</td>\n",
       "      <td>0</td>\n",
       "      <td>0</td>\n",
       "      <td>5.720000</td>\n",
       "      <td>1.554745</td>\n",
       "    </tr>\n",
       "  </tbody>\n",
       "</table>\n",
       "<p>5525 rows × 16 columns</p>\n",
       "</div>"
      ],
      "text/plain": [
       "      Pitches    G   W   L     IP    H    R  HR   SO   BB   ER  SV  BS  BK  \\\n",
       "3434     3327   71  11  16  239.1  225  158  20  266  116  128   1   3   5   \n",
       "1882     7774  110  25  33  484.2  449  203  31  490  175  165   2   2   2   \n",
       "5187     1458   40   2   4  117.0  113   37   5   82   34   31   2   1   4   \n",
       "969      1462   15   6   6   98.1   90   37  12   96   19   34   0   0   0   \n",
       "4511     2063   34   7   8  133.1  112   46   9  163   39   38   0   0   0   \n",
       "...       ...  ...  ..  ..    ...  ...  ...  ..  ...  ...  ...  ..  ..  ..   \n",
       "3772     5112   84   8  19  306.0  340  182  51  272   92  161   7   3   2   \n",
       "5191     5466  100  17  19  346.1  283  166  26  339  168  140   1   1   2   \n",
       "5226     4414   85  16  22  278.1  285  180  20  235  148  149   0   1   4   \n",
       "5390     3335  102  18  15  249.1  273  147  17  216   81  123   4   6   3   \n",
       "860      2375   27   6  11  137.0  155   91  25  110   58   87   0   0   0   \n",
       "\n",
       "           ERA      WHIP  \n",
       "3434  4.813371  1.424791  \n",
       "1882  3.063962  1.287483  \n",
       "5187  2.384615  1.247863  \n",
       "969   3.110000  1.111111  \n",
       "4511  2.565000  1.132500  \n",
       "...        ...       ...  \n",
       "3772  4.735294  1.408497  \n",
       "5191  3.638114  1.302214  \n",
       "5226  4.817964  1.555689  \n",
       "5390  4.439840  1.399733  \n",
       "860   5.720000  1.554745  \n",
       "\n",
       "[5525 rows x 16 columns]"
      ]
     },
     "execution_count": 141,
     "metadata": {},
     "output_type": "execute_result"
    }
   ],
   "source": [
    "X_train"
   ]
  },
  {
   "cell_type": "code",
   "execution_count": 143,
   "id": "1cc6a536",
   "metadata": {},
   "outputs": [
    {
     "data": {
      "text/plain": [
       "0    4722\n",
       "1     803\n",
       "Name: Leagues, dtype: int64"
      ]
     },
     "execution_count": 143,
     "metadata": {},
     "output_type": "execute_result"
    }
   ],
   "source": [
    "y_train.value_counts()"
   ]
  },
  {
   "cell_type": "code",
   "execution_count": 144,
   "id": "ff380717",
   "metadata": {},
   "outputs": [
    {
     "data": {
      "text/plain": [
       "array([0, 1, 0, ..., 0, 0, 0])"
      ]
     },
     "execution_count": 144,
     "metadata": {},
     "output_type": "execute_result"
    }
   ],
   "source": [
    "rf_pred"
   ]
  },
  {
   "cell_type": "code",
   "execution_count": 145,
   "id": "0f837515",
   "metadata": {},
   "outputs": [],
   "source": [
    "rf_pred_df = pd.concat([X_test, y_test],axis=1)"
   ]
  },
  {
   "cell_type": "code",
   "execution_count": 148,
   "id": "3124699a",
   "metadata": {},
   "outputs": [
    {
     "data": {
      "text/plain": [
       "(1382, 17)"
      ]
     },
     "execution_count": 148,
     "metadata": {},
     "output_type": "execute_result"
    }
   ],
   "source": [
    "rf_pred_df = rf_pred_df.reset_index().drop('index',1)\n",
    "rf_pred_df.shape"
   ]
  },
  {
   "cell_type": "code",
   "execution_count": 150,
   "id": "1c623b3d",
   "metadata": {},
   "outputs": [],
   "source": [
    "rf_pred_df = pd.concat([rf_pred_df, pd.Series(rf_pred)],1)"
   ]
  },
  {
   "cell_type": "code",
   "execution_count": 153,
   "id": "bfa6f6bd",
   "metadata": {},
   "outputs": [],
   "source": [
    "rf_prediction = rf_pred_df.loc[(rf_pred_df['Leagues'] == 0 )& (rf_pred_df[0] == 1)]"
   ]
  },
  {
   "cell_type": "code",
   "execution_count": 154,
   "id": "b1a93d8e",
   "metadata": {},
   "outputs": [
    {
     "data": {
      "text/html": [
       "<div>\n",
       "<style scoped>\n",
       "    .dataframe tbody tr th:only-of-type {\n",
       "        vertical-align: middle;\n",
       "    }\n",
       "\n",
       "    .dataframe tbody tr th {\n",
       "        vertical-align: top;\n",
       "    }\n",
       "\n",
       "    .dataframe thead th {\n",
       "        text-align: right;\n",
       "    }\n",
       "</style>\n",
       "<table border=\"1\" class=\"dataframe\">\n",
       "  <thead>\n",
       "    <tr style=\"text-align: right;\">\n",
       "      <th></th>\n",
       "      <th>Pitches</th>\n",
       "      <th>G</th>\n",
       "      <th>W</th>\n",
       "      <th>L</th>\n",
       "      <th>IP</th>\n",
       "      <th>H</th>\n",
       "      <th>R</th>\n",
       "      <th>HR</th>\n",
       "      <th>SO</th>\n",
       "      <th>BB</th>\n",
       "      <th>ER</th>\n",
       "      <th>SV</th>\n",
       "      <th>BS</th>\n",
       "      <th>BK</th>\n",
       "      <th>ERA</th>\n",
       "      <th>WHIP</th>\n",
       "      <th>Leagues</th>\n",
       "      <th>0</th>\n",
       "    </tr>\n",
       "  </thead>\n",
       "  <tbody>\n",
       "    <tr>\n",
       "      <th>75</th>\n",
       "      <td>2429</td>\n",
       "      <td>30</td>\n",
       "      <td>7</td>\n",
       "      <td>9</td>\n",
       "      <td>151.2</td>\n",
       "      <td>144</td>\n",
       "      <td>75</td>\n",
       "      <td>18</td>\n",
       "      <td>156</td>\n",
       "      <td>52</td>\n",
       "      <td>71</td>\n",
       "      <td>0</td>\n",
       "      <td>0</td>\n",
       "      <td>0</td>\n",
       "      <td>4.213187</td>\n",
       "      <td>1.292308</td>\n",
       "      <td>0</td>\n",
       "      <td>1</td>\n",
       "    </tr>\n",
       "    <tr>\n",
       "      <th>136</th>\n",
       "      <td>2095</td>\n",
       "      <td>25</td>\n",
       "      <td>6</td>\n",
       "      <td>7</td>\n",
       "      <td>117.2</td>\n",
       "      <td>108</td>\n",
       "      <td>65</td>\n",
       "      <td>23</td>\n",
       "      <td>118</td>\n",
       "      <td>54</td>\n",
       "      <td>61</td>\n",
       "      <td>0</td>\n",
       "      <td>0</td>\n",
       "      <td>0</td>\n",
       "      <td>4.665722</td>\n",
       "      <td>1.376771</td>\n",
       "      <td>0</td>\n",
       "      <td>1</td>\n",
       "    </tr>\n",
       "    <tr>\n",
       "      <th>301</th>\n",
       "      <td>926</td>\n",
       "      <td>13</td>\n",
       "      <td>4</td>\n",
       "      <td>1</td>\n",
       "      <td>60.2</td>\n",
       "      <td>58</td>\n",
       "      <td>23</td>\n",
       "      <td>8</td>\n",
       "      <td>82</td>\n",
       "      <td>13</td>\n",
       "      <td>22</td>\n",
       "      <td>0</td>\n",
       "      <td>0</td>\n",
       "      <td>0</td>\n",
       "      <td>3.263736</td>\n",
       "      <td>1.170330</td>\n",
       "      <td>0</td>\n",
       "      <td>1</td>\n",
       "    </tr>\n",
       "    <tr>\n",
       "      <th>353</th>\n",
       "      <td>2140</td>\n",
       "      <td>28</td>\n",
       "      <td>6</td>\n",
       "      <td>8</td>\n",
       "      <td>125.0</td>\n",
       "      <td>168</td>\n",
       "      <td>92</td>\n",
       "      <td>15</td>\n",
       "      <td>83</td>\n",
       "      <td>42</td>\n",
       "      <td>82</td>\n",
       "      <td>0</td>\n",
       "      <td>0</td>\n",
       "      <td>1</td>\n",
       "      <td>5.904001</td>\n",
       "      <td>1.672000</td>\n",
       "      <td>0</td>\n",
       "      <td>1</td>\n",
       "    </tr>\n",
       "    <tr>\n",
       "      <th>354</th>\n",
       "      <td>2111</td>\n",
       "      <td>27</td>\n",
       "      <td>12</td>\n",
       "      <td>4</td>\n",
       "      <td>136.1</td>\n",
       "      <td>119</td>\n",
       "      <td>58</td>\n",
       "      <td>13</td>\n",
       "      <td>172</td>\n",
       "      <td>43</td>\n",
       "      <td>47</td>\n",
       "      <td>0</td>\n",
       "      <td>0</td>\n",
       "      <td>0</td>\n",
       "      <td>3.102689</td>\n",
       "      <td>1.188264</td>\n",
       "      <td>0</td>\n",
       "      <td>1</td>\n",
       "    </tr>\n",
       "    <tr>\n",
       "      <th>423</th>\n",
       "      <td>2154</td>\n",
       "      <td>34</td>\n",
       "      <td>11</td>\n",
       "      <td>7</td>\n",
       "      <td>144.2</td>\n",
       "      <td>110</td>\n",
       "      <td>47</td>\n",
       "      <td>14</td>\n",
       "      <td>150</td>\n",
       "      <td>38</td>\n",
       "      <td>41</td>\n",
       "      <td>0</td>\n",
       "      <td>0</td>\n",
       "      <td>0</td>\n",
       "      <td>2.550691</td>\n",
       "      <td>1.009217</td>\n",
       "      <td>0</td>\n",
       "      <td>1</td>\n",
       "    </tr>\n",
       "    <tr>\n",
       "      <th>558</th>\n",
       "      <td>1864</td>\n",
       "      <td>28</td>\n",
       "      <td>7</td>\n",
       "      <td>7</td>\n",
       "      <td>119.0</td>\n",
       "      <td>117</td>\n",
       "      <td>60</td>\n",
       "      <td>14</td>\n",
       "      <td>130</td>\n",
       "      <td>35</td>\n",
       "      <td>55</td>\n",
       "      <td>0</td>\n",
       "      <td>0</td>\n",
       "      <td>0</td>\n",
       "      <td>4.159664</td>\n",
       "      <td>1.277311</td>\n",
       "      <td>0</td>\n",
       "      <td>1</td>\n",
       "    </tr>\n",
       "    <tr>\n",
       "      <th>942</th>\n",
       "      <td>2435</td>\n",
       "      <td>28</td>\n",
       "      <td>8</td>\n",
       "      <td>9</td>\n",
       "      <td>151.0</td>\n",
       "      <td>146</td>\n",
       "      <td>81</td>\n",
       "      <td>14</td>\n",
       "      <td>116</td>\n",
       "      <td>69</td>\n",
       "      <td>72</td>\n",
       "      <td>0</td>\n",
       "      <td>0</td>\n",
       "      <td>1</td>\n",
       "      <td>4.291391</td>\n",
       "      <td>1.410596</td>\n",
       "      <td>0</td>\n",
       "      <td>1</td>\n",
       "    </tr>\n",
       "    <tr>\n",
       "      <th>952</th>\n",
       "      <td>2601</td>\n",
       "      <td>34</td>\n",
       "      <td>10</td>\n",
       "      <td>7</td>\n",
       "      <td>159.2</td>\n",
       "      <td>148</td>\n",
       "      <td>86</td>\n",
       "      <td>27</td>\n",
       "      <td>190</td>\n",
       "      <td>50</td>\n",
       "      <td>78</td>\n",
       "      <td>0</td>\n",
       "      <td>0</td>\n",
       "      <td>0</td>\n",
       "      <td>4.396660</td>\n",
       "      <td>1.240084</td>\n",
       "      <td>0</td>\n",
       "      <td>1</td>\n",
       "    </tr>\n",
       "    <tr>\n",
       "      <th>1034</th>\n",
       "      <td>2252</td>\n",
       "      <td>32</td>\n",
       "      <td>9</td>\n",
       "      <td>11</td>\n",
       "      <td>157.1</td>\n",
       "      <td>189</td>\n",
       "      <td>93</td>\n",
       "      <td>15</td>\n",
       "      <td>111</td>\n",
       "      <td>37</td>\n",
       "      <td>70</td>\n",
       "      <td>1</td>\n",
       "      <td>0</td>\n",
       "      <td>0</td>\n",
       "      <td>4.004237</td>\n",
       "      <td>1.436441</td>\n",
       "      <td>0</td>\n",
       "      <td>1</td>\n",
       "    </tr>\n",
       "    <tr>\n",
       "      <th>1147</th>\n",
       "      <td>2121</td>\n",
       "      <td>29</td>\n",
       "      <td>3</td>\n",
       "      <td>10</td>\n",
       "      <td>115.0</td>\n",
       "      <td>127</td>\n",
       "      <td>84</td>\n",
       "      <td>23</td>\n",
       "      <td>129</td>\n",
       "      <td>56</td>\n",
       "      <td>74</td>\n",
       "      <td>0</td>\n",
       "      <td>0</td>\n",
       "      <td>0</td>\n",
       "      <td>5.791304</td>\n",
       "      <td>1.591304</td>\n",
       "      <td>0</td>\n",
       "      <td>1</td>\n",
       "    </tr>\n",
       "    <tr>\n",
       "      <th>1178</th>\n",
       "      <td>2250</td>\n",
       "      <td>27</td>\n",
       "      <td>11</td>\n",
       "      <td>5</td>\n",
       "      <td>140.0</td>\n",
       "      <td>99</td>\n",
       "      <td>37</td>\n",
       "      <td>7</td>\n",
       "      <td>170</td>\n",
       "      <td>33</td>\n",
       "      <td>33</td>\n",
       "      <td>0</td>\n",
       "      <td>0</td>\n",
       "      <td>0</td>\n",
       "      <td>2.121429</td>\n",
       "      <td>0.942857</td>\n",
       "      <td>0</td>\n",
       "      <td>1</td>\n",
       "    </tr>\n",
       "    <tr>\n",
       "      <th>1201</th>\n",
       "      <td>2062</td>\n",
       "      <td>28</td>\n",
       "      <td>7</td>\n",
       "      <td>5</td>\n",
       "      <td>116.0</td>\n",
       "      <td>119</td>\n",
       "      <td>60</td>\n",
       "      <td>18</td>\n",
       "      <td>93</td>\n",
       "      <td>55</td>\n",
       "      <td>55</td>\n",
       "      <td>0</td>\n",
       "      <td>0</td>\n",
       "      <td>2</td>\n",
       "      <td>4.267241</td>\n",
       "      <td>1.474138</td>\n",
       "      <td>0</td>\n",
       "      <td>1</td>\n",
       "    </tr>\n",
       "  </tbody>\n",
       "</table>\n",
       "</div>"
      ],
      "text/plain": [
       "      Pitches   G   W   L     IP    H   R  HR   SO  BB  ER  SV  BS  BK  \\\n",
       "75       2429  30   7   9  151.2  144  75  18  156  52  71   0   0   0   \n",
       "136      2095  25   6   7  117.2  108  65  23  118  54  61   0   0   0   \n",
       "301       926  13   4   1   60.2   58  23   8   82  13  22   0   0   0   \n",
       "353      2140  28   6   8  125.0  168  92  15   83  42  82   0   0   1   \n",
       "354      2111  27  12   4  136.1  119  58  13  172  43  47   0   0   0   \n",
       "423      2154  34  11   7  144.2  110  47  14  150  38  41   0   0   0   \n",
       "558      1864  28   7   7  119.0  117  60  14  130  35  55   0   0   0   \n",
       "942      2435  28   8   9  151.0  146  81  14  116  69  72   0   0   1   \n",
       "952      2601  34  10   7  159.2  148  86  27  190  50  78   0   0   0   \n",
       "1034     2252  32   9  11  157.1  189  93  15  111  37  70   1   0   0   \n",
       "1147     2121  29   3  10  115.0  127  84  23  129  56  74   0   0   0   \n",
       "1178     2250  27  11   5  140.0   99  37   7  170  33  33   0   0   0   \n",
       "1201     2062  28   7   5  116.0  119  60  18   93  55  55   0   0   2   \n",
       "\n",
       "           ERA      WHIP  Leagues  0  \n",
       "75    4.213187  1.292308        0  1  \n",
       "136   4.665722  1.376771        0  1  \n",
       "301   3.263736  1.170330        0  1  \n",
       "353   5.904001  1.672000        0  1  \n",
       "354   3.102689  1.188264        0  1  \n",
       "423   2.550691  1.009217        0  1  \n",
       "558   4.159664  1.277311        0  1  \n",
       "942   4.291391  1.410596        0  1  \n",
       "952   4.396660  1.240084        0  1  \n",
       "1034  4.004237  1.436441        0  1  \n",
       "1147  5.791304  1.591304        0  1  \n",
       "1178  2.121429  0.942857        0  1  \n",
       "1201  4.267241  1.474138        0  1  "
      ]
     },
     "execution_count": 154,
     "metadata": {},
     "output_type": "execute_result"
    }
   ],
   "source": [
    "rf_prediction"
   ]
  },
  {
   "cell_type": "code",
   "execution_count": null,
   "id": "143a3f14",
   "metadata": {},
   "outputs": [],
   "source": []
  }
 ],
 "metadata": {
  "kernelspec": {
   "display_name": "Python (learn-env)",
   "language": "python",
   "name": "learn-env"
  },
  "language_info": {
   "codemirror_mode": {
    "name": "ipython",
    "version": 3
   },
   "file_extension": ".py",
   "mimetype": "text/x-python",
   "name": "python",
   "nbconvert_exporter": "python",
   "pygments_lexer": "ipython3",
   "version": "3.8.5"
  }
 },
 "nbformat": 4,
 "nbformat_minor": 5
}
