{
 "cells": [
  {
   "cell_type": "markdown",
   "id": "2dc1021b",
   "metadata": {},
   "source": [
    "## Imports"
   ]
  },
  {
   "cell_type": "code",
   "execution_count": 1,
   "id": "6712b825",
   "metadata": {},
   "outputs": [],
   "source": [
    "import pandas as pd\n",
    "import numpy as np\n",
    "\n",
    "import warnings\n",
    "warnings.filterwarnings(\"ignore\")"
   ]
  },
  {
   "cell_type": "code",
   "execution_count": 2,
   "id": "6c295786",
   "metadata": {},
   "outputs": [],
   "source": [
    "from sklearn.preprocessing import StandardScaler\n",
    "from sklearn.linear_model import LogisticRegression\n",
    "\n",
    "from sklearn.tree import DecisionTreeClassifier, plot_tree\n",
    "from sklearn.model_selection import train_test_split\n",
    "from sklearn.metrics import accuracy_score, recall_score, precision_score, f1_score\n",
    "from sklearn.metrics import ConfusionMatrixDisplay,RocCurveDisplay\n",
    "from sklearn.metrics import plot_confusion_matrix, plot_roc_curve\n",
    "from sklearn.metrics import confusion_matrix, ConfusionMatrixDisplay\n",
    "from sklearn.metrics import roc_auc_score, roc_curve"
   ]
  },
  {
   "cell_type": "code",
   "execution_count": 3,
   "id": "1b55d945",
   "metadata": {},
   "outputs": [],
   "source": [
    "import matplotlib.pyplot as plt\n",
    "import seaborn as sns"
   ]
  },
  {
   "cell_type": "markdown",
   "id": "536368da",
   "metadata": {},
   "source": [
    "### Importing Pitcher CSV file"
   ]
  },
  {
   "cell_type": "code",
   "execution_count": 4,
   "id": "030c3061",
   "metadata": {},
   "outputs": [
    {
     "data": {
      "text/html": [
       "<div>\n",
       "<style scoped>\n",
       "    .dataframe tbody tr th:only-of-type {\n",
       "        vertical-align: middle;\n",
       "    }\n",
       "\n",
       "    .dataframe tbody tr th {\n",
       "        vertical-align: top;\n",
       "    }\n",
       "\n",
       "    .dataframe thead th {\n",
       "        text-align: right;\n",
       "    }\n",
       "</style>\n",
       "<table border=\"1\" class=\"dataframe\">\n",
       "  <thead>\n",
       "    <tr style=\"text-align: right;\">\n",
       "      <th></th>\n",
       "      <th>Unnamed: 0</th>\n",
       "      <th>Name</th>\n",
       "      <th>League</th>\n",
       "      <th>Pitches</th>\n",
       "      <th>G</th>\n",
       "      <th>W</th>\n",
       "      <th>L</th>\n",
       "      <th>IP</th>\n",
       "      <th>H</th>\n",
       "      <th>R</th>\n",
       "      <th>...</th>\n",
       "      <th>ERA</th>\n",
       "      <th>WHIP</th>\n",
       "      <th>Oppo%</th>\n",
       "      <th>K%</th>\n",
       "      <th>BB%</th>\n",
       "      <th>WHIP Rank</th>\n",
       "      <th>WHIP_Rank</th>\n",
       "      <th>ERA Rank</th>\n",
       "      <th>ERA_Rank</th>\n",
       "      <th>Leagues</th>\n",
       "    </tr>\n",
       "  </thead>\n",
       "  <tbody>\n",
       "    <tr>\n",
       "      <th>0</th>\n",
       "      <td>0</td>\n",
       "      <td>Bartolo Colon</td>\n",
       "      <td>Major</td>\n",
       "      <td>2706</td>\n",
       "      <td>33</td>\n",
       "      <td>14</td>\n",
       "      <td>13</td>\n",
       "      <td>194.2</td>\n",
       "      <td>217</td>\n",
       "      <td>94</td>\n",
       "      <td>...</td>\n",
       "      <td>4.160000</td>\n",
       "      <td>1.240989</td>\n",
       "      <td>30.000000</td>\n",
       "      <td>16.700000</td>\n",
       "      <td>2.900000</td>\n",
       "      <td>Average</td>\n",
       "      <td>2</td>\n",
       "      <td>Poor</td>\n",
       "      <td>0</td>\n",
       "      <td>1</td>\n",
       "    </tr>\n",
       "    <tr>\n",
       "      <th>1</th>\n",
       "      <td>1</td>\n",
       "      <td>A.J. Burnett</td>\n",
       "      <td>Major</td>\n",
       "      <td>2500</td>\n",
       "      <td>26</td>\n",
       "      <td>9</td>\n",
       "      <td>7</td>\n",
       "      <td>164.0</td>\n",
       "      <td>174</td>\n",
       "      <td>64</td>\n",
       "      <td>...</td>\n",
       "      <td>3.180000</td>\n",
       "      <td>1.359756</td>\n",
       "      <td>25.000000</td>\n",
       "      <td>20.500000</td>\n",
       "      <td>7.000000</td>\n",
       "      <td>Below Average</td>\n",
       "      <td>1</td>\n",
       "      <td>Above Average</td>\n",
       "      <td>2</td>\n",
       "      <td>1</td>\n",
       "    </tr>\n",
       "    <tr>\n",
       "      <th>2</th>\n",
       "      <td>2</td>\n",
       "      <td>Tim Hudson</td>\n",
       "      <td>Major</td>\n",
       "      <td>1854</td>\n",
       "      <td>24</td>\n",
       "      <td>8</td>\n",
       "      <td>9</td>\n",
       "      <td>123.2</td>\n",
       "      <td>134</td>\n",
       "      <td>62</td>\n",
       "      <td>...</td>\n",
       "      <td>4.440000</td>\n",
       "      <td>1.387987</td>\n",
       "      <td>22.500000</td>\n",
       "      <td>12.200000</td>\n",
       "      <td>7.000000</td>\n",
       "      <td>Below Average</td>\n",
       "      <td>1</td>\n",
       "      <td>Poor</td>\n",
       "      <td>0</td>\n",
       "      <td>1</td>\n",
       "    </tr>\n",
       "    <tr>\n",
       "      <th>3</th>\n",
       "      <td>3</td>\n",
       "      <td>Mark Buehrle</td>\n",
       "      <td>Major</td>\n",
       "      <td>2829</td>\n",
       "      <td>32</td>\n",
       "      <td>15</td>\n",
       "      <td>8</td>\n",
       "      <td>198.2</td>\n",
       "      <td>214</td>\n",
       "      <td>100</td>\n",
       "      <td>...</td>\n",
       "      <td>3.810000</td>\n",
       "      <td>1.246216</td>\n",
       "      <td>23.400000</td>\n",
       "      <td>11.000000</td>\n",
       "      <td>4.000000</td>\n",
       "      <td>Average</td>\n",
       "      <td>2</td>\n",
       "      <td>Below Average</td>\n",
       "      <td>4</td>\n",
       "      <td>1</td>\n",
       "    </tr>\n",
       "    <tr>\n",
       "      <th>4</th>\n",
       "      <td>4</td>\n",
       "      <td>CC Sabathia</td>\n",
       "      <td>Major</td>\n",
       "      <td>2703</td>\n",
       "      <td>29</td>\n",
       "      <td>6</td>\n",
       "      <td>10</td>\n",
       "      <td>167.1</td>\n",
       "      <td>188</td>\n",
       "      <td>92</td>\n",
       "      <td>...</td>\n",
       "      <td>4.730000</td>\n",
       "      <td>1.424297</td>\n",
       "      <td>20.800000</td>\n",
       "      <td>18.900000</td>\n",
       "      <td>6.900000</td>\n",
       "      <td>Poor</td>\n",
       "      <td>0</td>\n",
       "      <td>Poor</td>\n",
       "      <td>0</td>\n",
       "      <td>1</td>\n",
       "    </tr>\n",
       "    <tr>\n",
       "      <th>...</th>\n",
       "      <td>...</td>\n",
       "      <td>...</td>\n",
       "      <td>...</td>\n",
       "      <td>...</td>\n",
       "      <td>...</td>\n",
       "      <td>...</td>\n",
       "      <td>...</td>\n",
       "      <td>...</td>\n",
       "      <td>...</td>\n",
       "      <td>...</td>\n",
       "      <td>...</td>\n",
       "      <td>...</td>\n",
       "      <td>...</td>\n",
       "      <td>...</td>\n",
       "      <td>...</td>\n",
       "      <td>...</td>\n",
       "      <td>...</td>\n",
       "      <td>...</td>\n",
       "      <td>...</td>\n",
       "      <td>...</td>\n",
       "      <td>...</td>\n",
       "    </tr>\n",
       "    <tr>\n",
       "      <th>6902</th>\n",
       "      <td>5890</td>\n",
       "      <td>Tom de Blok</td>\n",
       "      <td>Minor</td>\n",
       "      <td>4501</td>\n",
       "      <td>64</td>\n",
       "      <td>11</td>\n",
       "      <td>21</td>\n",
       "      <td>294.2</td>\n",
       "      <td>277</td>\n",
       "      <td>139</td>\n",
       "      <td>...</td>\n",
       "      <td>3.909502</td>\n",
       "      <td>1.255656</td>\n",
       "      <td>0.304204</td>\n",
       "      <td>0.187952</td>\n",
       "      <td>0.074699</td>\n",
       "      <td>Average</td>\n",
       "      <td>2</td>\n",
       "      <td>Below Average</td>\n",
       "      <td>4</td>\n",
       "      <td>0</td>\n",
       "    </tr>\n",
       "    <tr>\n",
       "      <th>6903</th>\n",
       "      <td>5891</td>\n",
       "      <td>Adrian Alcantara</td>\n",
       "      <td>Minor</td>\n",
       "      <td>5312</td>\n",
       "      <td>95</td>\n",
       "      <td>22</td>\n",
       "      <td>24</td>\n",
       "      <td>372.0</td>\n",
       "      <td>346</td>\n",
       "      <td>213</td>\n",
       "      <td>...</td>\n",
       "      <td>4.524194</td>\n",
       "      <td>1.327957</td>\n",
       "      <td>0.254335</td>\n",
       "      <td>0.236250</td>\n",
       "      <td>0.092500</td>\n",
       "      <td>Below Average</td>\n",
       "      <td>1</td>\n",
       "      <td>Poor</td>\n",
       "      <td>0</td>\n",
       "      <td>0</td>\n",
       "    </tr>\n",
       "    <tr>\n",
       "      <th>6904</th>\n",
       "      <td>5892</td>\n",
       "      <td>Osvaldo Hernandez</td>\n",
       "      <td>Minor</td>\n",
       "      <td>5612</td>\n",
       "      <td>106</td>\n",
       "      <td>22</td>\n",
       "      <td>23</td>\n",
       "      <td>355.0</td>\n",
       "      <td>364</td>\n",
       "      <td>178</td>\n",
       "      <td>...</td>\n",
       "      <td>3.777465</td>\n",
       "      <td>1.312676</td>\n",
       "      <td>0.285980</td>\n",
       "      <td>0.212121</td>\n",
       "      <td>0.067194</td>\n",
       "      <td>Below Average</td>\n",
       "      <td>1</td>\n",
       "      <td>Below Average</td>\n",
       "      <td>4</td>\n",
       "      <td>0</td>\n",
       "    </tr>\n",
       "    <tr>\n",
       "      <th>6905</th>\n",
       "      <td>5893</td>\n",
       "      <td>Parker Curry</td>\n",
       "      <td>Minor</td>\n",
       "      <td>4162</td>\n",
       "      <td>97</td>\n",
       "      <td>15</td>\n",
       "      <td>20</td>\n",
       "      <td>259.2</td>\n",
       "      <td>256</td>\n",
       "      <td>130</td>\n",
       "      <td>...</td>\n",
       "      <td>3.916560</td>\n",
       "      <td>1.274711</td>\n",
       "      <td>0.286280</td>\n",
       "      <td>0.250896</td>\n",
       "      <td>0.067204</td>\n",
       "      <td>Average</td>\n",
       "      <td>2</td>\n",
       "      <td>Below Average</td>\n",
       "      <td>4</td>\n",
       "      <td>0</td>\n",
       "    </tr>\n",
       "    <tr>\n",
       "      <th>6906</th>\n",
       "      <td>5894</td>\n",
       "      <td>Victor Castaneda</td>\n",
       "      <td>Minor</td>\n",
       "      <td>5256</td>\n",
       "      <td>95</td>\n",
       "      <td>18</td>\n",
       "      <td>22</td>\n",
       "      <td>321.0</td>\n",
       "      <td>313</td>\n",
       "      <td>184</td>\n",
       "      <td>...</td>\n",
       "      <td>4.570094</td>\n",
       "      <td>1.367601</td>\n",
       "      <td>0.302895</td>\n",
       "      <td>0.245690</td>\n",
       "      <td>0.090517</td>\n",
       "      <td>Below Average</td>\n",
       "      <td>1</td>\n",
       "      <td>Poor</td>\n",
       "      <td>0</td>\n",
       "      <td>0</td>\n",
       "    </tr>\n",
       "  </tbody>\n",
       "</table>\n",
       "<p>6907 rows × 27 columns</p>\n",
       "</div>"
      ],
      "text/plain": [
       "      Unnamed: 0               Name League  Pitches    G   W   L     IP    H  \\\n",
       "0              0      Bartolo Colon  Major     2706   33  14  13  194.2  217   \n",
       "1              1       A.J. Burnett  Major     2500   26   9   7  164.0  174   \n",
       "2              2         Tim Hudson  Major     1854   24   8   9  123.2  134   \n",
       "3              3       Mark Buehrle  Major     2829   32  15   8  198.2  214   \n",
       "4              4        CC Sabathia  Major     2703   29   6  10  167.1  188   \n",
       "...          ...                ...    ...      ...  ...  ..  ..    ...  ...   \n",
       "6902        5890        Tom de Blok  Minor     4501   64  11  21  294.2  277   \n",
       "6903        5891   Adrian Alcantara  Minor     5312   95  22  24  372.0  346   \n",
       "6904        5892  Osvaldo Hernandez  Minor     5612  106  22  23  355.0  364   \n",
       "6905        5893       Parker Curry  Minor     4162   97  15  20  259.2  256   \n",
       "6906        5894   Victor Castaneda  Minor     5256   95  18  22  321.0  313   \n",
       "\n",
       "        R  ...       ERA      WHIP      Oppo%         K%       BB%  \\\n",
       "0      94  ...  4.160000  1.240989  30.000000  16.700000  2.900000   \n",
       "1      64  ...  3.180000  1.359756  25.000000  20.500000  7.000000   \n",
       "2      62  ...  4.440000  1.387987  22.500000  12.200000  7.000000   \n",
       "3     100  ...  3.810000  1.246216  23.400000  11.000000  4.000000   \n",
       "4      92  ...  4.730000  1.424297  20.800000  18.900000  6.900000   \n",
       "...   ...  ...       ...       ...        ...        ...       ...   \n",
       "6902  139  ...  3.909502  1.255656   0.304204   0.187952  0.074699   \n",
       "6903  213  ...  4.524194  1.327957   0.254335   0.236250  0.092500   \n",
       "6904  178  ...  3.777465  1.312676   0.285980   0.212121  0.067194   \n",
       "6905  130  ...  3.916560  1.274711   0.286280   0.250896  0.067204   \n",
       "6906  184  ...  4.570094  1.367601   0.302895   0.245690  0.090517   \n",
       "\n",
       "          WHIP Rank  WHIP_Rank       ERA Rank  ERA_Rank  Leagues  \n",
       "0           Average          2           Poor         0        1  \n",
       "1     Below Average          1  Above Average         2        1  \n",
       "2     Below Average          1           Poor         0        1  \n",
       "3           Average          2  Below Average         4        1  \n",
       "4              Poor          0           Poor         0        1  \n",
       "...             ...        ...            ...       ...      ...  \n",
       "6902        Average          2  Below Average         4        0  \n",
       "6903  Below Average          1           Poor         0        0  \n",
       "6904  Below Average          1  Below Average         4        0  \n",
       "6905        Average          2  Below Average         4        0  \n",
       "6906  Below Average          1           Poor         0        0  \n",
       "\n",
       "[6907 rows x 27 columns]"
      ]
     },
     "execution_count": 4,
     "metadata": {},
     "output_type": "execute_result"
    }
   ],
   "source": [
    "Pitchers = pd.read_csv('/Users/kellyjara/Desktop/Project3/Data/Pitchers.csv')\n",
    "Pitchers"
   ]
  },
  {
   "cell_type": "code",
   "execution_count": 5,
   "id": "54d686fe",
   "metadata": {},
   "outputs": [],
   "source": [
    "Pitchers.drop(columns = 'Unnamed: 0',inplace = True)"
   ]
  },
  {
   "cell_type": "code",
   "execution_count": 6,
   "id": "083bee91",
   "metadata": {},
   "outputs": [
    {
     "name": "stdout",
     "output_type": "stream",
     "text": [
      "<class 'pandas.core.frame.DataFrame'>\n",
      "RangeIndex: 6907 entries, 0 to 6906\n",
      "Data columns (total 26 columns):\n",
      " #   Column     Non-Null Count  Dtype  \n",
      "---  ------     --------------  -----  \n",
      " 0   Name       6907 non-null   object \n",
      " 1   League     6907 non-null   object \n",
      " 2   Pitches    6907 non-null   int64  \n",
      " 3   G          6907 non-null   int64  \n",
      " 4   W          6907 non-null   int64  \n",
      " 5   L          6907 non-null   int64  \n",
      " 6   IP         6907 non-null   float64\n",
      " 7   H          6907 non-null   int64  \n",
      " 8   R          6907 non-null   int64  \n",
      " 9   HR         6907 non-null   int64  \n",
      " 10  SO         6907 non-null   int64  \n",
      " 11  BB         6907 non-null   int64  \n",
      " 12  ER         6907 non-null   int64  \n",
      " 13  SV         6907 non-null   int64  \n",
      " 14  BS         6907 non-null   int64  \n",
      " 15  BK         6907 non-null   int64  \n",
      " 16  ERA        6907 non-null   float64\n",
      " 17  WHIP       6907 non-null   float64\n",
      " 18  Oppo%      6907 non-null   float64\n",
      " 19  K%         6907 non-null   float64\n",
      " 20  BB%        6907 non-null   float64\n",
      " 21  WHIP Rank  6907 non-null   object \n",
      " 22  WHIP_Rank  6907 non-null   int64  \n",
      " 23  ERA Rank   6907 non-null   object \n",
      " 24  ERA_Rank   6907 non-null   int64  \n",
      " 25  Leagues    6907 non-null   int64  \n",
      "dtypes: float64(6), int64(16), object(4)\n",
      "memory usage: 1.4+ MB\n"
     ]
    }
   ],
   "source": [
    "Pitchers.info()"
   ]
  },
  {
   "cell_type": "markdown",
   "id": "348af181",
   "metadata": {},
   "source": [
    "## Preprocessing"
   ]
  },
  {
   "cell_type": "markdown",
   "id": "1939ed13",
   "metadata": {},
   "source": [
    "### Logistic Model"
   ]
  },
  {
   "cell_type": "code",
   "execution_count": 7,
   "id": "5ed324c9",
   "metadata": {},
   "outputs": [],
   "source": [
    "feats = ['Pitches','G', 'W','L','IP','H','R','HR','SO','BB','ER','SV',\n",
    "         'BS','BK','ERA','WHIP']"
   ]
  },
  {
   "cell_type": "code",
   "execution_count": 8,
   "id": "9c1a12b8",
   "metadata": {},
   "outputs": [],
   "source": [
    "X = Pitchers[feats]\n",
    "y = Pitchers['Leagues']"
   ]
  },
  {
   "cell_type": "code",
   "execution_count": 9,
   "id": "254df21a",
   "metadata": {},
   "outputs": [],
   "source": [
    "X_train, X_test, y_train, y_test = train_test_split(\n",
    "    X, y, test_size=0.20, random_state=42)"
   ]
  },
  {
   "cell_type": "code",
   "execution_count": 10,
   "id": "56335e5c",
   "metadata": {},
   "outputs": [],
   "source": [
    "scaler = StandardScaler()\n",
    "\n",
    "scaler.fit(X_train)\n",
    "\n",
    "X_train_scaled = scaler.transform(X_train)\n",
    "X_test_scaled = scaler.transform(X_test)"
   ]
  },
  {
   "cell_type": "code",
   "execution_count": 11,
   "id": "077535f9",
   "metadata": {},
   "outputs": [],
   "source": [
    "LR_Model = LogisticRegression(random_state=42)\n",
    "LR_Model.fit(X_train_scaled, y_train)\n",
    "LR_preds = LR_Model.predict(X_test_scaled)"
   ]
  },
  {
   "cell_type": "code",
   "execution_count": 12,
   "id": "3b57cc8d",
   "metadata": {},
   "outputs": [
    {
     "name": "stdout",
     "output_type": "stream",
     "text": [
      "Training: 0.9703167420814479\n",
      "Test: 0.9703328509406657\n"
     ]
    }
   ],
   "source": [
    "print('Training:', LR_Model.score(X_train_scaled, y_train))\n",
    "print('Test:', LR_Model.score(X_test_scaled, y_test))"
   ]
  },
  {
   "cell_type": "code",
   "execution_count": 13,
   "id": "a6338e85",
   "metadata": {},
   "outputs": [
    {
     "data": {
      "text/plain": [
       "<sklearn.metrics._plot.confusion_matrix.ConfusionMatrixDisplay at 0x7f86a85fe7f0>"
      ]
     },
     "execution_count": 13,
     "metadata": {},
     "output_type": "execute_result"
    },
    {
     "data": {
      "image/png": "[encoded data removed]",
      "text/plain": [
       "<Figure size 432x288 with 2 Axes>"
      ]
     },
     "metadata": {
      "needs_background": "light"
     },
     "output_type": "display_data"
    }
   ],
   "source": [
    "LR_CM =confusion_matrix(y_test,LR_preds);\n",
    "ConfusionMatrixDisplay(LR_CM).plot()"
   ]
  },
  {
   "cell_type": "code",
   "execution_count": 14,
   "id": "a3d06f0c",
   "metadata": {},
   "outputs": [
    {
     "name": "stdout",
     "output_type": "stream",
     "text": [
      "0.9703328509406657\n",
      "0.8962264150943396\n",
      "0.9090909090909091\n",
      "0.9026128266033254\n"
     ]
    }
   ],
   "source": [
    "accuracy = accuracy_score(y_test, LR_preds)\n",
    "print(accuracy)\n",
    "precision = precision_score(y_test, LR_preds)\n",
    "print(precision)\n",
    "recall = recall_score(y_test, LR_preds)\n",
    "print(recall)\n",
    "f1 = f1_score(y_test, LR_preds)\n",
    "print(f1)"
   ]
  },
  {
   "cell_type": "code",
   "execution_count": 15,
   "id": "441b8833",
   "metadata": {},
   "outputs": [
    {
     "data": {
      "text/plain": [
       "0.9928005319040452"
      ]
     },
     "execution_count": 15,
     "metadata": {},
     "output_type": "execute_result"
    }
   ],
   "source": [
    "LR_probas = LR_Model.predict_proba(X_test_scaled)[:,1]\n",
    "\n",
    "roc_auc_score(y_test, LR_probas)"
   ]
  },
  {
   "cell_type": "code",
   "execution_count": 16,
   "id": "3e5238eb",
   "metadata": {},
   "outputs": [
    {
     "data": {
      "text/plain": [
       "<sklearn.metrics._plot.roc_curve.RocCurveDisplay at 0x7f86ac9e0f40>"
      ]
     },
     "execution_count": 16,
     "metadata": {},
     "output_type": "execute_result"
    },
    {
     "data": {
      "image/png": "[encoded data removed]",
      "text/plain": [
       "<Figure size 432x288 with 1 Axes>"
      ]
     },
     "metadata": {
      "needs_background": "light"
     },
     "output_type": "display_data"
    }
   ],
   "source": [
    "plot_roc_curve(LR_Model, X_test_scaled, y_test)"
   ]
  },
  {
   "cell_type": "markdown",
   "id": "3a389dc2",
   "metadata": {},
   "source": [
    "### Decission Tree Model"
   ]
  },
  {
   "cell_type": "code",
   "execution_count": 17,
   "id": "24497f2b",
   "metadata": {},
   "outputs": [
    {
     "data": {
      "text/plain": [
       "DecisionTreeClassifier(criterion='entropy', max_depth=3, random_state=42)"
      ]
     },
     "execution_count": 17,
     "metadata": {},
     "output_type": "execute_result"
    }
   ],
   "source": [
    "dt = DecisionTreeClassifier(criterion = 'entropy', max_depth = 3, random_state = 42)\n",
    "dt.fit(X_train_scaled, y_train)"
   ]
  },
  {
   "cell_type": "code",
   "execution_count": 18,
   "id": "f72c2946",
   "metadata": {},
   "outputs": [
    {
     "name": "stdout",
     "output_type": "stream",
     "text": [
      "Training: 0.9476923076923077\n",
      "Test: 0.9384949348769899\n"
     ]
    }
   ],
   "source": [
    "print('Training:', dt.score(X_train_scaled, y_train))\n",
    "print('Test:', dt.score(X_test_scaled, y_test))"
   ]
  },
  {
   "cell_type": "code",
   "execution_count": 19,
   "id": "63eaec64",
   "metadata": {},
   "outputs": [
    {
     "data": {
      "image/png": "[encoded data removed]",
      "text/plain": [
       "<Figure size 1440x1440 with 1 Axes>"
      ]
     },
     "metadata": {
      "needs_background": "light"
     },
     "output_type": "display_data"
    }
   ],
   "source": [
    "f, ax = plt.subplots(figsize =(20,20))\n",
    "plot_tree(dt, ax=ax);"
   ]
  },
  {
   "cell_type": "code",
   "execution_count": 20,
   "id": "2cc1d869",
   "metadata": {},
   "outputs": [],
   "source": [
    "dt_preds = dt.predict(X_test_scaled)"
   ]
  },
  {
   "cell_type": "code",
   "execution_count": 21,
   "id": "1c0743d7",
   "metadata": {},
   "outputs": [
    {
     "name": "stdout",
     "output_type": "stream",
     "text": [
      "0.9384949348769899\n",
      "0.7348484848484849\n",
      "0.9282296650717703\n",
      "0.8202959830866808\n"
     ]
    }
   ],
   "source": [
    "accuracy = accuracy_score(y_test, dt_preds)\n",
    "print(accuracy)\n",
    "precision = precision_score(y_test, dt_preds)\n",
    "print(precision)\n",
    "recall = recall_score(y_test, dt_preds)\n",
    "print(recall)\n",
    "f1 = f1_score(y_test, dt_preds)\n",
    "print(f1)"
   ]
  },
  {
   "cell_type": "code",
   "execution_count": 22,
   "id": "e43f4857",
   "metadata": {},
   "outputs": [
    {
     "data": {
      "text/plain": [
       "<sklearn.metrics._plot.confusion_matrix.ConfusionMatrixDisplay at 0x7f86ad9550a0>"
      ]
     },
     "execution_count": 22,
     "metadata": {},
     "output_type": "execute_result"
    },
    {
     "data": {
      "image/png": "[encoded data removed]",
      "text/plain": [
       "<Figure size 432x288 with 2 Axes>"
      ]
     },
     "metadata": {
      "needs_background": "light"
     },
     "output_type": "display_data"
    }
   ],
   "source": [
    "dt_CM =confusion_matrix(y_test,dt_preds);\n",
    "ConfusionMatrixDisplay(dt_CM).plot()"
   ]
  },
  {
   "cell_type": "code",
   "execution_count": 23,
   "id": "74457e49",
   "metadata": {},
   "outputs": [
    {
     "data": {
      "text/plain": [
       "0.9342768103704973"
      ]
     },
     "execution_count": 23,
     "metadata": {},
     "output_type": "execute_result"
    }
   ],
   "source": [
    "roc_auc_score(y_test,dt_preds)"
   ]
  },
  {
   "cell_type": "code",
   "execution_count": 24,
   "id": "1af3fe67",
   "metadata": {},
   "outputs": [
    {
     "data": {
      "text/plain": [
       "0    0.84877\n",
       "1    0.15123\n",
       "Name: Leagues, dtype: float64"
      ]
     },
     "execution_count": 24,
     "metadata": {},
     "output_type": "execute_result"
    }
   ],
   "source": [
    "y_test.value_counts(normalize = True)"
   ]
  },
  {
   "cell_type": "code",
   "execution_count": 25,
   "id": "7b34c7a2",
   "metadata": {},
   "outputs": [
    {
     "data": {
      "text/plain": [
       "<sklearn.metrics._plot.roc_curve.RocCurveDisplay at 0x7f86ae25f370>"
      ]
     },
     "execution_count": 25,
     "metadata": {},
     "output_type": "execute_result"
    },
    {
     "data": {
      "image/png": "[encoded data removed]",
      "text/plain": [
       "<Figure size 432x288 with 1 Axes>"
      ]
     },
     "metadata": {
      "needs_background": "light"
     },
     "output_type": "display_data"
    }
   ],
   "source": [
    "fig, ax = plt.subplots()\n",
    "plot_roc_curve(dt, X_test_scaled, y_test, ax=ax)\n",
    "plot_roc_curve(LR_Model, X_test_scaled, y_test, ax=ax)"
   ]
  },
  {
   "cell_type": "code",
   "execution_count": 26,
   "id": "d317e85c",
   "metadata": {},
   "outputs": [],
   "source": [
    "### viewing league class and looking for imbalance"
   ]
  },
  {
   "cell_type": "code",
   "execution_count": 27,
   "id": "cbfb108d",
   "metadata": {},
   "outputs": [
    {
     "data": {
      "text/plain": [
       "<AxesSubplot:xlabel='Leagues', ylabel='count'>"
      ]
     },
     "execution_count": 27,
     "metadata": {},
     "output_type": "execute_result"
    },
    {
     "data": {
      "image/png": "[encoded data removed]",
      "text/plain": [
       "<Figure size 432x288 with 1 Axes>"
      ]
     },
     "metadata": {
      "needs_background": "light"
     },
     "output_type": "display_data"
    }
   ],
   "source": [
    "sns.countplot(Pitchers['Leagues'])"
   ]
  },
  {
   "cell_type": "code",
   "execution_count": 28,
   "id": "4c632519",
   "metadata": {},
   "outputs": [
    {
     "data": {
      "text/plain": [
       "0    5895\n",
       "1    1012\n",
       "Name: Leagues, dtype: int64"
      ]
     },
     "execution_count": 28,
     "metadata": {},
     "output_type": "execute_result"
    }
   ],
   "source": [
    "Pitchers['Leagues'].value_counts()"
   ]
  },
  {
   "cell_type": "code",
   "execution_count": 29,
   "id": "646b3a5f",
   "metadata": {},
   "outputs": [],
   "source": [
    "# based on baseline models and plot above... Data is imbalanced"
   ]
  },
  {
   "cell_type": "code",
   "execution_count": 30,
   "id": "acac896a",
   "metadata": {},
   "outputs": [],
   "source": [
    "from imblearn.over_sampling import SMOTE"
   ]
  },
  {
   "cell_type": "code",
   "execution_count": 31,
   "id": "a236026a",
   "metadata": {},
   "outputs": [],
   "source": [
    "sm = SMOTE()\n",
    "X_train_res, y_train_res = sm.fit_sample(X_train, y_train.ravel())"
   ]
  },
  {
   "cell_type": "code",
   "execution_count": 32,
   "id": "9b6cf285",
   "metadata": {},
   "outputs": [],
   "source": [
    "sm_model = LogisticRegression()\n",
    "sm_fit = sm_model.fit(X_train_res, y_train_res.ravel())\n",
    "sm_pred = sm_fit.predict(X_test)"
   ]
  },
  {
   "cell_type": "code",
   "execution_count": 33,
   "id": "d1df3915",
   "metadata": {
    "scrolled": true
   },
   "outputs": [
    {
     "name": "stdout",
     "output_type": "stream",
     "text": [
      "0.9732272069464544\n",
      "0.8805309734513275\n",
      "0.9521531100478469\n",
      "0.9149425287356322\n"
     ]
    }
   ],
   "source": [
    "accuracy = accuracy_score(y_test, sm_pred)\n",
    "print(accuracy)\n",
    "precision = precision_score(y_test, sm_pred)\n",
    "print(precision)\n",
    "recall = recall_score(y_test, sm_pred)\n",
    "print(recall)\n",
    "f1 = f1_score(y_test, sm_pred)\n",
    "print(f1)"
   ]
  },
  {
   "cell_type": "code",
   "execution_count": 34,
   "id": "6fec3492",
   "metadata": {},
   "outputs": [
    {
     "data": {
      "text/plain": [
       "0.9645676036172739"
      ]
     },
     "execution_count": 34,
     "metadata": {},
     "output_type": "execute_result"
    }
   ],
   "source": [
    "roc_auc_score(y_test, sm_pred)"
   ]
  },
  {
   "cell_type": "code",
   "execution_count": 35,
   "id": "6dabac04",
   "metadata": {},
   "outputs": [
    {
     "data": {
      "text/plain": [
       "<sklearn.metrics._plot.roc_curve.RocCurveDisplay at 0x7f86af25a100>"
      ]
     },
     "execution_count": 35,
     "metadata": {},
     "output_type": "execute_result"
    },
    {
     "data": {
      "image/png": "[encoded data removed]",
      "text/plain": [
       "<Figure size 432x288 with 1 Axes>"
      ]
     },
     "metadata": {
      "needs_background": "light"
     },
     "output_type": "display_data"
    }
   ],
   "source": [
    "fig, ax = plt.subplots()\n",
    "plot_roc_curve(dt, X_test_scaled, y_test, ax=ax)\n",
    "plot_roc_curve(LR_Model, X_test_scaled, y_test, ax=ax)\n",
    "plot_roc_curve(sm_model, X_test, y_test, ax=ax)"
   ]
  },
  {
   "cell_type": "code",
   "execution_count": 36,
   "id": "1b998407",
   "metadata": {},
   "outputs": [
    {
     "name": "stdout",
     "output_type": "stream",
     "text": [
      "Training: 0.977445997458704\n",
      "Test: 0.9732272069464544\n"
     ]
    }
   ],
   "source": [
    "print('Training:', sm_model.score(X_train_res, y_train_res))\n",
    "print('Test:', sm_model.score(X_test, y_test))"
   ]
  },
  {
   "cell_type": "code",
   "execution_count": 37,
   "id": "ec1cbfd9",
   "metadata": {},
   "outputs": [
    {
     "data": {
      "text/plain": [
       "<sklearn.metrics._plot.confusion_matrix.ConfusionMatrixDisplay at 0x7f86af25a940>"
      ]
     },
     "execution_count": 37,
     "metadata": {},
     "output_type": "execute_result"
    },
    {
     "data": {
      "image/png": "[encoded data removed]",
      "text/plain": [
       "<Figure size 432x288 with 2 Axes>"
      ]
     },
     "metadata": {
      "needs_background": "light"
     },
     "output_type": "display_data"
    }
   ],
   "source": [
    "dt_CM =confusion_matrix(y_test,sm_pred);\n",
    "ConfusionMatrixDisplay(dt_CM).plot()"
   ]
  },
  {
   "cell_type": "markdown",
   "id": "b1b5fbac",
   "metadata": {},
   "source": [
    "### Cross Validation - Pipeline Model 4"
   ]
  },
  {
   "cell_type": "code",
   "execution_count": 38,
   "id": "7ee576b8",
   "metadata": {},
   "outputs": [],
   "source": [
    "# Adding more imports"
   ]
  },
  {
   "cell_type": "code",
   "execution_count": 39,
   "id": "3f91bda9",
   "metadata": {},
   "outputs": [],
   "source": [
    "from sklearn.model_selection import KFold\n",
    "from sklearn.neighbors import KNeighborsClassifier\n",
    "from sklearn.preprocessing import LabelEncoder\n",
    "from sklearn.impute import SimpleImputer\n",
    "from sklearn.model_selection import GridSearchCV, cross_val_score, RandomizedSearchCV\n",
    "from sklearn.preprocessing import OneHotEncoder, StandardScaler, Normalizer\n",
    "from sklearn.compose import ColumnTransformer"
   ]
  },
  {
   "cell_type": "code",
   "execution_count": 40,
   "id": "d84a204e",
   "metadata": {},
   "outputs": [],
   "source": [
    "from sklearn.pipeline import Pipeline\n",
    "from sklearn import set_config\n",
    "set_config(display = 'diagram')"
   ]
  },
  {
   "cell_type": "markdown",
   "id": "53184887",
   "metadata": {},
   "source": [
    "### Grid Search KNN Model 5"
   ]
  },
  {
   "cell_type": "code",
   "execution_count": 41,
   "id": "ae634cd4",
   "metadata": {},
   "outputs": [],
   "source": [
    "# New pipeline"
   ]
  },
  {
   "cell_type": "code",
   "execution_count": 42,
   "id": "a992880f",
   "metadata": {},
   "outputs": [],
   "source": [
    "steps = [('imputer', SimpleImputer(strategy=\"median\")), ('std_scaler', StandardScaler()),\n",
    "        ('knn', KNeighborsClassifier())]\n",
    "\n",
    "model_pipe = Pipeline(steps)"
   ]
  },
  {
   "cell_type": "code",
   "execution_count": 43,
   "id": "b3f412e4",
   "metadata": {},
   "outputs": [],
   "source": [
    "pipe_grid = {'imputer__strategy': [\"mean\", \"median\"],\n",
    "             'knn__n_neighbors': [3, 5, 7, 9, 11, 13, 15, 18],\n",
    "             'knn__p': [1, 2, 3, 4]}\n",
    "\n",
    "gs_pipe = GridSearchCV(estimator=model_pipe, \n",
    "                       param_grid=pipe_grid)"
   ]
  },
  {
   "cell_type": "code",
   "execution_count": 44,
   "id": "a410ba1a",
   "metadata": {},
   "outputs": [],
   "source": [
    "gs_pipe.fit(X_train, y_train);"
   ]
  },
  {
   "cell_type": "code",
   "execution_count": 45,
   "id": "542a8b23",
   "metadata": {},
   "outputs": [
    {
     "data": {
      "text/plain": [
       "{'imputer__strategy': 'mean', 'knn__n_neighbors': 18, 'knn__p': 1}"
      ]
     },
     "execution_count": 45,
     "metadata": {},
     "output_type": "execute_result"
    }
   ],
   "source": [
    "gs_pipe.best_params_"
   ]
  },
  {
   "cell_type": "code",
   "execution_count": 46,
   "id": "166480e2",
   "metadata": {},
   "outputs": [
    {
     "data": {
      "text/plain": [
       "0.9572850678733031"
      ]
     },
     "execution_count": 46,
     "metadata": {},
     "output_type": "execute_result"
    }
   ],
   "source": [
    "gs_pipe.best_score_"
   ]
  },
  {
   "cell_type": "code",
   "execution_count": 47,
   "id": "5783839e",
   "metadata": {},
   "outputs": [
    {
     "data": {
      "text/html": [
       "<style>div.sk-top-container {color: black;background-color: white;}div.sk-toggleable {background-color: white;}label.sk-toggleable__label {cursor: pointer;display: block;width: 100%;margin-bottom: 0;padding: 0.2em 0.3em;box-sizing: border-box;text-align: center;}div.sk-toggleable__content {max-height: 0;max-width: 0;overflow: hidden;text-align: left;background-color: #f0f8ff;}div.sk-toggleable__content pre {margin: 0.2em;color: black;border-radius: 0.25em;background-color: #f0f8ff;}input.sk-toggleable__control:checked~div.sk-toggleable__content {max-height: 200px;max-width: 100%;overflow: auto;}div.sk-estimator input.sk-toggleable__control:checked~label.sk-toggleable__label {background-color: #d4ebff;}div.sk-label input.sk-toggleable__control:checked~label.sk-toggleable__label {background-color: #d4ebff;}input.sk-hidden--visually {border: 0;clip: rect(1px 1px 1px 1px);clip: rect(1px, 1px, 1px, 1px);height: 1px;margin: -1px;overflow: hidden;padding: 0;position: absolute;width: 1px;}div.sk-estimator {font-family: monospace;background-color: #f0f8ff;margin: 0.25em 0.25em;border: 1px dotted black;border-radius: 0.25em;box-sizing: border-box;}div.sk-estimator:hover {background-color: #d4ebff;}div.sk-parallel-item::after {content: \"\";width: 100%;border-bottom: 1px solid gray;flex-grow: 1;}div.sk-label:hover label.sk-toggleable__label {background-color: #d4ebff;}div.sk-serial::before {content: \"\";position: absolute;border-left: 1px solid gray;box-sizing: border-box;top: 2em;bottom: 0;left: 50%;}div.sk-serial {display: flex;flex-direction: column;align-items: center;background-color: white;}div.sk-item {z-index: 1;}div.sk-parallel {display: flex;align-items: stretch;justify-content: center;background-color: white;}div.sk-parallel-item {display: flex;flex-direction: column;position: relative;background-color: white;}div.sk-parallel-item:first-child::after {align-self: flex-end;width: 50%;}div.sk-parallel-item:last-child::after {align-self: flex-start;width: 50%;}div.sk-parallel-item:only-child::after {width: 0;}div.sk-dashed-wrapped {border: 1px dashed gray;margin: 0.2em;box-sizing: border-box;padding-bottom: 0.1em;background-color: white;position: relative;}div.sk-label label {font-family: monospace;font-weight: bold;background-color: white;display: inline-block;line-height: 1.2em;}div.sk-label-container {position: relative;z-index: 2;text-align: center;}div.sk-container {display: inline-block;position: relative;}</style><div class=\"sk-top-container\"><div class=\"sk-container\"><div class=\"sk-item sk-dashed-wrapped\"><div class=\"sk-label-container\"><div class=\"sk-label sk-toggleable\"><input class=\"sk-toggleable__control sk-hidden--visually\" id=\"06cb7656-c886-4223-9a30-653afe259652\" type=\"checkbox\" ><label class=\"sk-toggleable__label\" for=\"06cb7656-c886-4223-9a30-653afe259652\">Pipeline</label><div class=\"sk-toggleable__content\"><pre>Pipeline(steps=[('imputer', SimpleImputer()), ('std_scaler', StandardScaler()),\n",
       "                ('knn', KNeighborsClassifier(n_neighbors=18, p=1))])</pre></div></div></div><div class=\"sk-serial\"><div class=\"sk-item\"><div class=\"sk-estimator sk-toggleable\"><input class=\"sk-toggleable__control sk-hidden--visually\" id=\"1e5e0ea3-d5df-45ee-b33b-fc31d0f0bbd9\" type=\"checkbox\" ><label class=\"sk-toggleable__label\" for=\"1e5e0ea3-d5df-45ee-b33b-fc31d0f0bbd9\">SimpleImputer</label><div class=\"sk-toggleable__content\"><pre>SimpleImputer()</pre></div></div></div><div class=\"sk-item\"><div class=\"sk-estimator sk-toggleable\"><input class=\"sk-toggleable__control sk-hidden--visually\" id=\"ae4f8566-97a0-49a2-8d3e-5ca8531f9bb3\" type=\"checkbox\" ><label class=\"sk-toggleable__label\" for=\"ae4f8566-97a0-49a2-8d3e-5ca8531f9bb3\">StandardScaler</label><div class=\"sk-toggleable__content\"><pre>StandardScaler()</pre></div></div></div><div class=\"sk-item\"><div class=\"sk-estimator sk-toggleable\"><input class=\"sk-toggleable__control sk-hidden--visually\" id=\"f37b1de7-967e-4024-a7da-cb05c9cbdccc\" type=\"checkbox\" ><label class=\"sk-toggleable__label\" for=\"f37b1de7-967e-4024-a7da-cb05c9cbdccc\">KNeighborsClassifier</label><div class=\"sk-toggleable__content\"><pre>KNeighborsClassifier(n_neighbors=18, p=1)</pre></div></div></div></div></div></div></div>"
      ],
      "text/plain": [
       "Pipeline(steps=[('imputer', SimpleImputer()), ('std_scaler', StandardScaler()),\n",
       "                ('knn', KNeighborsClassifier(n_neighbors=18, p=1))])"
      ]
     },
     "execution_count": 47,
     "metadata": {},
     "output_type": "execute_result"
    }
   ],
   "source": [
    "gs_model = gs_pipe.best_estimator_\n",
    "gs_model"
   ]
  },
  {
   "cell_type": "code",
   "execution_count": 48,
   "id": "43a2200c",
   "metadata": {},
   "outputs": [],
   "source": [
    "gs_pred = gs_model.predict(X_test)"
   ]
  },
  {
   "cell_type": "code",
   "execution_count": 49,
   "id": "26c3b0cc",
   "metadata": {},
   "outputs": [
    {
     "data": {
      "text/plain": [
       "<sklearn.metrics._plot.confusion_matrix.ConfusionMatrixDisplay at 0x7f86ada52b50>"
      ]
     },
     "execution_count": 49,
     "metadata": {},
     "output_type": "execute_result"
    },
    {
     "data": {
      "image/png": "[encoded data removed]",
      "text/plain": [
       "<Figure size 432x288 with 2 Axes>"
      ]
     },
     "metadata": {
      "needs_background": "light"
     },
     "output_type": "display_data"
    }
   ],
   "source": [
    "gs_CM =confusion_matrix(y_test,gs_pred);\n",
    "ConfusionMatrixDisplay(gs_CM).plot()"
   ]
  },
  {
   "cell_type": "code",
   "execution_count": 50,
   "id": "2ecc9c56",
   "metadata": {},
   "outputs": [
    {
     "name": "stdout",
     "output_type": "stream",
     "text": [
      "0.9652677279305355\n",
      "0.8454935622317596\n",
      "0.9425837320574163\n",
      "0.8914027149321266\n"
     ]
    }
   ],
   "source": [
    "accuracy = accuracy_score(y_test, gs_pred)\n",
    "print(accuracy)\n",
    "precision = precision_score(y_test, gs_pred)\n",
    "print(precision)\n",
    "recall = recall_score(y_test, gs_pred)\n",
    "print(recall)\n",
    "f1 = f1_score(y_test, gs_pred)\n",
    "print(f1)"
   ]
  },
  {
   "cell_type": "code",
   "execution_count": 51,
   "id": "c5f4c3a7",
   "metadata": {},
   "outputs": [
    {
     "name": "stdout",
     "output_type": "stream",
     "text": [
      "Training: 0.9632579185520362\n",
      "Test: 0.9652677279305355\n"
     ]
    }
   ],
   "source": [
    "print('Training:', gs_model.score(X_train, y_train))\n",
    "print('Test:', gs_model.score(X_test, y_test))"
   ]
  },
  {
   "cell_type": "code",
   "execution_count": 52,
   "id": "8bca8985",
   "metadata": {},
   "outputs": [
    {
     "data": {
      "text/plain": [
       "0.9559465974865087"
      ]
     },
     "execution_count": 52,
     "metadata": {},
     "output_type": "execute_result"
    }
   ],
   "source": [
    "roc_auc_score(y_test, gs_pred)"
   ]
  },
  {
   "cell_type": "code",
   "execution_count": 53,
   "id": "b94be226",
   "metadata": {},
   "outputs": [
    {
     "data": {
      "text/plain": [
       "<sklearn.metrics._plot.roc_curve.RocCurveDisplay at 0x7f86ade762e0>"
      ]
     },
     "execution_count": 53,
     "metadata": {},
     "output_type": "execute_result"
    },
    {
     "data": {
      "image/png": "[encoded data removed]",
      "text/plain": [
       "<Figure size 432x288 with 1 Axes>"
      ]
     },
     "metadata": {
      "needs_background": "light"
     },
     "output_type": "display_data"
    }
   ],
   "source": [
    "fig, ax = plt.subplots()\n",
    "\n",
    "plot_roc_curve(LR_Model, X_test_scaled, y_test, ax=ax) # model 2\n",
    "\n",
    "plot_roc_curve(gs_model, X_test, y_test, ax=ax) # model 5"
   ]
  },
  {
   "cell_type": "markdown",
   "id": "03bbd2e6",
   "metadata": {},
   "source": [
    "### Random Forest Model 6"
   ]
  },
  {
   "cell_type": "code",
   "execution_count": 54,
   "id": "9a83e13b",
   "metadata": {},
   "outputs": [],
   "source": [
    "# Adding import for random forest"
   ]
  },
  {
   "cell_type": "code",
   "execution_count": 55,
   "id": "47548045",
   "metadata": {},
   "outputs": [],
   "source": [
    "from sklearn.ensemble import RandomForestClassifier"
   ]
  },
  {
   "cell_type": "code",
   "execution_count": 56,
   "id": "76a68b26",
   "metadata": {},
   "outputs": [],
   "source": [
    "rf_pipe = Pipeline([('scaler', StandardScaler()),\n",
    "                   ('model', RandomForestClassifier(n_estimators = 100, max_depth = 8))])"
   ]
  },
  {
   "cell_type": "code",
   "execution_count": 57,
   "id": "276d7738",
   "metadata": {},
   "outputs": [
    {
     "data": {
      "text/html": [
       "<style>div.sk-top-container {color: black;background-color: white;}div.sk-toggleable {background-color: white;}label.sk-toggleable__label {cursor: pointer;display: block;width: 100%;margin-bottom: 0;padding: 0.2em 0.3em;box-sizing: border-box;text-align: center;}div.sk-toggleable__content {max-height: 0;max-width: 0;overflow: hidden;text-align: left;background-color: #f0f8ff;}div.sk-toggleable__content pre {margin: 0.2em;color: black;border-radius: 0.25em;background-color: #f0f8ff;}input.sk-toggleable__control:checked~div.sk-toggleable__content {max-height: 200px;max-width: 100%;overflow: auto;}div.sk-estimator input.sk-toggleable__control:checked~label.sk-toggleable__label {background-color: #d4ebff;}div.sk-label input.sk-toggleable__control:checked~label.sk-toggleable__label {background-color: #d4ebff;}input.sk-hidden--visually {border: 0;clip: rect(1px 1px 1px 1px);clip: rect(1px, 1px, 1px, 1px);height: 1px;margin: -1px;overflow: hidden;padding: 0;position: absolute;width: 1px;}div.sk-estimator {font-family: monospace;background-color: #f0f8ff;margin: 0.25em 0.25em;border: 1px dotted black;border-radius: 0.25em;box-sizing: border-box;}div.sk-estimator:hover {background-color: #d4ebff;}div.sk-parallel-item::after {content: \"\";width: 100%;border-bottom: 1px solid gray;flex-grow: 1;}div.sk-label:hover label.sk-toggleable__label {background-color: #d4ebff;}div.sk-serial::before {content: \"\";position: absolute;border-left: 1px solid gray;box-sizing: border-box;top: 2em;bottom: 0;left: 50%;}div.sk-serial {display: flex;flex-direction: column;align-items: center;background-color: white;}div.sk-item {z-index: 1;}div.sk-parallel {display: flex;align-items: stretch;justify-content: center;background-color: white;}div.sk-parallel-item {display: flex;flex-direction: column;position: relative;background-color: white;}div.sk-parallel-item:first-child::after {align-self: flex-end;width: 50%;}div.sk-parallel-item:last-child::after {align-self: flex-start;width: 50%;}div.sk-parallel-item:only-child::after {width: 0;}div.sk-dashed-wrapped {border: 1px dashed gray;margin: 0.2em;box-sizing: border-box;padding-bottom: 0.1em;background-color: white;position: relative;}div.sk-label label {font-family: monospace;font-weight: bold;background-color: white;display: inline-block;line-height: 1.2em;}div.sk-label-container {position: relative;z-index: 2;text-align: center;}div.sk-container {display: inline-block;position: relative;}</style><div class=\"sk-top-container\"><div class=\"sk-container\"><div class=\"sk-item sk-dashed-wrapped\"><div class=\"sk-label-container\"><div class=\"sk-label sk-toggleable\"><input class=\"sk-toggleable__control sk-hidden--visually\" id=\"fbc6cceb-aee5-4316-89a2-6ae6f1aa785a\" type=\"checkbox\" ><label class=\"sk-toggleable__label\" for=\"fbc6cceb-aee5-4316-89a2-6ae6f1aa785a\">Pipeline</label><div class=\"sk-toggleable__content\"><pre>Pipeline(steps=[('scaler', StandardScaler()),\n",
       "                ('model', RandomForestClassifier(max_depth=8))])</pre></div></div></div><div class=\"sk-serial\"><div class=\"sk-item\"><div class=\"sk-estimator sk-toggleable\"><input class=\"sk-toggleable__control sk-hidden--visually\" id=\"1834790e-d1ae-4046-819d-0682faea8dd9\" type=\"checkbox\" ><label class=\"sk-toggleable__label\" for=\"1834790e-d1ae-4046-819d-0682faea8dd9\">StandardScaler</label><div class=\"sk-toggleable__content\"><pre>StandardScaler()</pre></div></div></div><div class=\"sk-item\"><div class=\"sk-estimator sk-toggleable\"><input class=\"sk-toggleable__control sk-hidden--visually\" id=\"f9715049-0708-44ff-a251-afa56e7e3b9d\" type=\"checkbox\" ><label class=\"sk-toggleable__label\" for=\"f9715049-0708-44ff-a251-afa56e7e3b9d\">RandomForestClassifier</label><div class=\"sk-toggleable__content\"><pre>RandomForestClassifier(max_depth=8)</pre></div></div></div></div></div></div></div>"
      ],
      "text/plain": [
       "Pipeline(steps=[('scaler', StandardScaler()),\n",
       "                ('model', RandomForestClassifier(max_depth=8))])"
      ]
     },
     "execution_count": 57,
     "metadata": {},
     "output_type": "execute_result"
    }
   ],
   "source": [
    "rf_pipe.fit(X_train,y_train)"
   ]
  },
  {
   "cell_type": "code",
   "execution_count": 58,
   "id": "a0ba453e",
   "metadata": {},
   "outputs": [
    {
     "name": "stdout",
     "output_type": "stream",
     "text": [
      "0.9913122171945702\n",
      "0.9790159189580319\n"
     ]
    }
   ],
   "source": [
    "print(rf_pipe.score(X_train,y_train))\n",
    "print(rf_pipe.score(X_test,y_test))"
   ]
  },
  {
   "cell_type": "code",
   "execution_count": 59,
   "id": "8aa8914f",
   "metadata": {},
   "outputs": [],
   "source": [
    "rf_pred = rf_pipe.predict(X_test)"
   ]
  },
  {
   "cell_type": "code",
   "execution_count": 95,
   "id": "47ec3657",
   "metadata": {},
   "outputs": [
    {
     "data": {
      "text/plain": [
       "<sklearn.metrics._plot.confusion_matrix.ConfusionMatrixDisplay at 0x7f86ad806d00>"
      ]
     },
     "execution_count": 95,
     "metadata": {},
     "output_type": "execute_result"
    },
    {
     "data": {
      "image/png": "[encoded data removed]",
      "text/plain": [
       "<Figure size 432x288 with 2 Axes>"
      ]
     },
     "metadata": {
      "needs_background": "light"
     },
     "output_type": "display_data"
    }
   ],
   "source": [
    "rf_CM =confusion_matrix(y_test,rf_pred);\n",
    "ConfusionMatrixDisplay(rf_CM).plot()"
   ]
  },
  {
   "cell_type": "code",
   "execution_count": 60,
   "id": "241e0524",
   "metadata": {},
   "outputs": [
    {
     "name": "stdout",
     "output_type": "stream",
     "text": [
      "0.9790159189580319\n",
      "0.9368932038834952\n",
      "0.9234449760765551\n",
      "0.9301204819277109\n"
     ]
    }
   ],
   "source": [
    "accuracy = accuracy_score(y_test, rf_pred)\n",
    "print(accuracy)\n",
    "precision = precision_score(y_test, rf_pred)\n",
    "print(precision)\n",
    "recall = recall_score(y_test, rf_pred)\n",
    "print(recall)\n",
    "f1 = f1_score(y_test, rf_pred)\n",
    "print(f1)"
   ]
  },
  {
   "cell_type": "code",
   "execution_count": 61,
   "id": "bf0b8251",
   "metadata": {},
   "outputs": [
    {
     "data": {
      "text/plain": [
       "0.9561811410647054"
      ]
     },
     "execution_count": 61,
     "metadata": {},
     "output_type": "execute_result"
    }
   ],
   "source": [
    "roc_auc_score(y_test, rf_pred)"
   ]
  },
  {
   "cell_type": "code",
   "execution_count": 97,
   "id": "9508ea74",
   "metadata": {},
   "outputs": [
    {
     "data": {
      "text/plain": [
       "<sklearn.metrics._plot.roc_curve.RocCurveDisplay at 0x7f86af45a550>"
      ]
     },
     "execution_count": 97,
     "metadata": {},
     "output_type": "execute_result"
    },
    {
     "data": {
      "image/png": "[encoded data removed]",
      "text/plain": [
       "<Figure size 432x288 with 1 Axes>"
      ]
     },
     "metadata": {
      "needs_background": "light"
     },
     "output_type": "display_data"
    }
   ],
   "source": [
    "fig, ax = plt.subplots()\n",
    "\n",
    "plot_roc_curve(rf_pipe, X_test, y_test, ax=ax) # model 6\n",
    "\n",
    "plot_roc_curve(dt, X_test_scaled, y_test, ax=ax) # model 2\n",
    "\n",
    "#comparing decision tree model with random forest model\n"
   ]
  },
  {
   "cell_type": "markdown",
   "id": "8f7dd9fa",
   "metadata": {},
   "source": [
    "### Feature Importance - Best Model (Random Forest)"
   ]
  },
  {
   "cell_type": "code",
   "execution_count": 63,
   "id": "7849a6ab",
   "metadata": {},
   "outputs": [],
   "source": [
    "importance = rf_pipe['model'].feature_importances_"
   ]
  },
  {
   "cell_type": "code",
   "execution_count": 64,
   "id": "541375af",
   "metadata": {},
   "outputs": [
    {
     "data": {
      "text/html": [
       "<div>\n",
       "<style scoped>\n",
       "    .dataframe tbody tr th:only-of-type {\n",
       "        vertical-align: middle;\n",
       "    }\n",
       "\n",
       "    .dataframe tbody tr th {\n",
       "        vertical-align: top;\n",
       "    }\n",
       "\n",
       "    .dataframe thead th {\n",
       "        text-align: right;\n",
       "    }\n",
       "</style>\n",
       "<table border=\"1\" class=\"dataframe\">\n",
       "  <thead>\n",
       "    <tr style=\"text-align: right;\">\n",
       "      <th></th>\n",
       "      <th>0</th>\n",
       "      <th>1</th>\n",
       "    </tr>\n",
       "  </thead>\n",
       "  <tbody>\n",
       "    <tr>\n",
       "      <th>1</th>\n",
       "      <td>G</td>\n",
       "      <td>0.266547</td>\n",
       "    </tr>\n",
       "    <tr>\n",
       "      <th>7</th>\n",
       "      <td>HR</td>\n",
       "      <td>0.143502</td>\n",
       "    </tr>\n",
       "    <tr>\n",
       "      <th>12</th>\n",
       "      <td>BS</td>\n",
       "      <td>0.119614</td>\n",
       "    </tr>\n",
       "    <tr>\n",
       "      <th>0</th>\n",
       "      <td>Pitches</td>\n",
       "      <td>0.102165</td>\n",
       "    </tr>\n",
       "    <tr>\n",
       "      <th>11</th>\n",
       "      <td>SV</td>\n",
       "      <td>0.102052</td>\n",
       "    </tr>\n",
       "    <tr>\n",
       "      <th>9</th>\n",
       "      <td>BB</td>\n",
       "      <td>0.043731</td>\n",
       "    </tr>\n",
       "    <tr>\n",
       "      <th>4</th>\n",
       "      <td>IP</td>\n",
       "      <td>0.042312</td>\n",
       "    </tr>\n",
       "    <tr>\n",
       "      <th>13</th>\n",
       "      <td>BK</td>\n",
       "      <td>0.037550</td>\n",
       "    </tr>\n",
       "    <tr>\n",
       "      <th>5</th>\n",
       "      <td>H</td>\n",
       "      <td>0.032661</td>\n",
       "    </tr>\n",
       "    <tr>\n",
       "      <th>6</th>\n",
       "      <td>R</td>\n",
       "      <td>0.029148</td>\n",
       "    </tr>\n",
       "    <tr>\n",
       "      <th>10</th>\n",
       "      <td>ER</td>\n",
       "      <td>0.024969</td>\n",
       "    </tr>\n",
       "    <tr>\n",
       "      <th>8</th>\n",
       "      <td>SO</td>\n",
       "      <td>0.022962</td>\n",
       "    </tr>\n",
       "    <tr>\n",
       "      <th>2</th>\n",
       "      <td>W</td>\n",
       "      <td>0.014409</td>\n",
       "    </tr>\n",
       "    <tr>\n",
       "      <th>15</th>\n",
       "      <td>WHIP</td>\n",
       "      <td>0.007230</td>\n",
       "    </tr>\n",
       "    <tr>\n",
       "      <th>14</th>\n",
       "      <td>ERA</td>\n",
       "      <td>0.006450</td>\n",
       "    </tr>\n",
       "    <tr>\n",
       "      <th>3</th>\n",
       "      <td>L</td>\n",
       "      <td>0.004698</td>\n",
       "    </tr>\n",
       "  </tbody>\n",
       "</table>\n",
       "</div>"
      ],
      "text/plain": [
       "          0         1\n",
       "1         G  0.266547\n",
       "7        HR  0.143502\n",
       "12       BS  0.119614\n",
       "0   Pitches  0.102165\n",
       "11       SV  0.102052\n",
       "9        BB  0.043731\n",
       "4        IP  0.042312\n",
       "13       BK  0.037550\n",
       "5         H  0.032661\n",
       "6         R  0.029148\n",
       "10       ER  0.024969\n",
       "8        SO  0.022962\n",
       "2         W  0.014409\n",
       "15     WHIP  0.007230\n",
       "14      ERA  0.006450\n",
       "3         L  0.004698"
      ]
     },
     "execution_count": 64,
     "metadata": {},
     "output_type": "execute_result"
    }
   ],
   "source": [
    "pd.DataFrame(zip(X_train.columns, importance)).sort_values(by = 1, ascending = False)"
   ]
  },
  {
   "cell_type": "code",
   "execution_count": 65,
   "id": "e95faad7",
   "metadata": {},
   "outputs": [
    {
     "data": {
      "text/plain": [
       "array([0.10216512, 0.26654661, 0.01440885, 0.00469763, 0.04231193,\n",
       "       0.03266113, 0.02914766, 0.14350244, 0.02296183, 0.04373079,\n",
       "       0.0249695 , 0.10205161, 0.1196142 , 0.03755045, 0.00645015,\n",
       "       0.0072301 ])"
      ]
     },
     "execution_count": 65,
     "metadata": {},
     "output_type": "execute_result"
    }
   ],
   "source": [
    "rf_pipe['model'].feature_importances_"
   ]
  },
  {
   "cell_type": "code",
   "execution_count": 66,
   "id": "fcb3af41",
   "metadata": {},
   "outputs": [],
   "source": [
    "def plot_feature_importance(importance,names,model_type):\n",
    "\n",
    "#Create arrays from feature importance and feature names\n",
    "    feature_importance = np.array(importance)\n",
    "    feature_names = np.array(names)\n",
    "    \n",
    "    data={'feature_names':feature_names,'feature_importance':feature_importance}\n",
    "    fi_df = pd.DataFrame(data)\n",
    "\n",
    "#Sort the DataFrame in order decreasing feature importance\n",
    "    fi_df.sort_values(by=['feature_importance'], ascending=False,inplace=True)\n",
    "    \n",
    "#Define size of bar plot\n",
    "    plt.figure(figsize=(15,10))\n",
    "#Plot Searborn bar chart\n",
    "    sns.barplot(x=fi_df['feature_importance'], y=fi_df['feature_names'])\n",
    "#Add chart labels\n",
    "    plt.xlabel('FEATURE IMPORTANCE')\n",
    "    plt.ylabel('FEATURE NAMES')"
   ]
  },
  {
   "cell_type": "code",
   "execution_count": 67,
   "id": "92867371",
   "metadata": {},
   "outputs": [
    {
     "data": {
      "image/png": "[encoded data removed]",
      "text/plain": [
       "<Figure size 1080x720 with 1 Axes>"
      ]
     },
     "metadata": {
      "needs_background": "light"
     },
     "output_type": "display_data"
    }
   ],
   "source": [
    "plot_feature_importance(rf_pipe['model'].feature_importances_, X_train.columns,'RANDOM FOREST')"
   ]
  },
  {
   "cell_type": "markdown",
   "id": "543c494c",
   "metadata": {},
   "source": [
    "### Predictive Model"
   ]
  },
  {
   "cell_type": "code",
   "execution_count": 68,
   "id": "989c9847",
   "metadata": {},
   "outputs": [],
   "source": [
    "Pitchers[feats]\n",
    "names = Pitchers['Name']\n",
    "target = Pitchers['League']"
   ]
  },
  {
   "cell_type": "code",
   "execution_count": 69,
   "id": "570edd5e",
   "metadata": {},
   "outputs": [],
   "source": [
    "full_preds = rf_pipe.predict(Pitchers[feats])"
   ]
  },
  {
   "cell_type": "code",
   "execution_count": 70,
   "id": "8c252d96",
   "metadata": {},
   "outputs": [],
   "source": [
    "preds_df = pd.concat([Pitchers, pd.Series(full_preds)],1).rename(columns = {0: 'preds'})"
   ]
  },
  {
   "cell_type": "code",
   "execution_count": 71,
   "id": "7177eb01",
   "metadata": {},
   "outputs": [
    {
     "data": {
      "text/html": [
       "<div>\n",
       "<style scoped>\n",
       "    .dataframe tbody tr th:only-of-type {\n",
       "        vertical-align: middle;\n",
       "    }\n",
       "\n",
       "    .dataframe tbody tr th {\n",
       "        vertical-align: top;\n",
       "    }\n",
       "\n",
       "    .dataframe thead th {\n",
       "        text-align: right;\n",
       "    }\n",
       "</style>\n",
       "<table border=\"1\" class=\"dataframe\">\n",
       "  <thead>\n",
       "    <tr style=\"text-align: right;\">\n",
       "      <th></th>\n",
       "      <th>Name</th>\n",
       "      <th>League</th>\n",
       "      <th>Pitches</th>\n",
       "      <th>G</th>\n",
       "      <th>W</th>\n",
       "      <th>L</th>\n",
       "      <th>IP</th>\n",
       "      <th>H</th>\n",
       "      <th>R</th>\n",
       "      <th>HR</th>\n",
       "      <th>...</th>\n",
       "      <th>WHIP</th>\n",
       "      <th>Oppo%</th>\n",
       "      <th>K%</th>\n",
       "      <th>BB%</th>\n",
       "      <th>WHIP Rank</th>\n",
       "      <th>WHIP_Rank</th>\n",
       "      <th>ERA Rank</th>\n",
       "      <th>ERA_Rank</th>\n",
       "      <th>Leagues</th>\n",
       "      <th>preds</th>\n",
       "    </tr>\n",
       "  </thead>\n",
       "  <tbody>\n",
       "    <tr>\n",
       "      <th>1054</th>\n",
       "      <td>Mike Foltynewicz</td>\n",
       "      <td>Minor</td>\n",
       "      <td>2217</td>\n",
       "      <td>25</td>\n",
       "      <td>7</td>\n",
       "      <td>9</td>\n",
       "      <td>135.0</td>\n",
       "      <td>114</td>\n",
       "      <td>59</td>\n",
       "      <td>8</td>\n",
       "      <td>...</td>\n",
       "      <td>1.266667</td>\n",
       "      <td>0.326087</td>\n",
       "      <td>0.236234</td>\n",
       "      <td>0.101243</td>\n",
       "      <td>Average</td>\n",
       "      <td>2</td>\n",
       "      <td>Above Average</td>\n",
       "      <td>2</td>\n",
       "      <td>0</td>\n",
       "      <td>1</td>\n",
       "    </tr>\n",
       "    <tr>\n",
       "      <th>1169</th>\n",
       "      <td>Nick Martinez</td>\n",
       "      <td>Minor</td>\n",
       "      <td>2637</td>\n",
       "      <td>32</td>\n",
       "      <td>12</td>\n",
       "      <td>7</td>\n",
       "      <td>173.2</td>\n",
       "      <td>172</td>\n",
       "      <td>70</td>\n",
       "      <td>12</td>\n",
       "      <td>...</td>\n",
       "      <td>1.174664</td>\n",
       "      <td>0.258123</td>\n",
       "      <td>0.161517</td>\n",
       "      <td>0.044944</td>\n",
       "      <td>Above Average</td>\n",
       "      <td>3</td>\n",
       "      <td>Above Average</td>\n",
       "      <td>2</td>\n",
       "      <td>0</td>\n",
       "      <td>1</td>\n",
       "    </tr>\n",
       "    <tr>\n",
       "      <th>1209</th>\n",
       "      <td>Eduardo Rodriguez</td>\n",
       "      <td>Minor</td>\n",
       "      <td>1971</td>\n",
       "      <td>24</td>\n",
       "      <td>5</td>\n",
       "      <td>9</td>\n",
       "      <td>125.2</td>\n",
       "      <td>112</td>\n",
       "      <td>50</td>\n",
       "      <td>9</td>\n",
       "      <td>...</td>\n",
       "      <td>1.098143</td>\n",
       "      <td>0.336207</td>\n",
       "      <td>0.253465</td>\n",
       "      <td>0.051485</td>\n",
       "      <td>Excellent</td>\n",
       "      <td>4</td>\n",
       "      <td>Excellent</td>\n",
       "      <td>3</td>\n",
       "      <td>0</td>\n",
       "      <td>1</td>\n",
       "    </tr>\n",
       "    <tr>\n",
       "      <th>1217</th>\n",
       "      <td>Michael Fulmer</td>\n",
       "      <td>Minor</td>\n",
       "      <td>2263</td>\n",
       "      <td>29</td>\n",
       "      <td>11</td>\n",
       "      <td>4</td>\n",
       "      <td>148.1</td>\n",
       "      <td>122</td>\n",
       "      <td>46</td>\n",
       "      <td>11</td>\n",
       "      <td>...</td>\n",
       "      <td>1.071910</td>\n",
       "      <td>0.332494</td>\n",
       "      <td>0.264310</td>\n",
       "      <td>0.062290</td>\n",
       "      <td>Excellent</td>\n",
       "      <td>4</td>\n",
       "      <td>Excellent</td>\n",
       "      <td>3</td>\n",
       "      <td>0</td>\n",
       "      <td>1</td>\n",
       "    </tr>\n",
       "    <tr>\n",
       "      <th>1295</th>\n",
       "      <td>Jason Lane</td>\n",
       "      <td>Minor</td>\n",
       "      <td>2564</td>\n",
       "      <td>28</td>\n",
       "      <td>10</td>\n",
       "      <td>10</td>\n",
       "      <td>164.0</td>\n",
       "      <td>212</td>\n",
       "      <td>117</td>\n",
       "      <td>27</td>\n",
       "      <td>...</td>\n",
       "      <td>1.579268</td>\n",
       "      <td>0.251603</td>\n",
       "      <td>0.095430</td>\n",
       "      <td>0.063172</td>\n",
       "      <td>Poor</td>\n",
       "      <td>0</td>\n",
       "      <td>Poor</td>\n",
       "      <td>0</td>\n",
       "      <td>0</td>\n",
       "      <td>1</td>\n",
       "    </tr>\n",
       "    <tr>\n",
       "      <th>1449</th>\n",
       "      <td>Marco Gonzales</td>\n",
       "      <td>Minor</td>\n",
       "      <td>2629</td>\n",
       "      <td>32</td>\n",
       "      <td>9</td>\n",
       "      <td>9</td>\n",
       "      <td>167.0</td>\n",
       "      <td>166</td>\n",
       "      <td>79</td>\n",
       "      <td>17</td>\n",
       "      <td>...</td>\n",
       "      <td>1.269461</td>\n",
       "      <td>0.290448</td>\n",
       "      <td>0.191429</td>\n",
       "      <td>0.065714</td>\n",
       "      <td>Average</td>\n",
       "      <td>2</td>\n",
       "      <td>Below Average</td>\n",
       "      <td>4</td>\n",
       "      <td>0</td>\n",
       "      <td>1</td>\n",
       "    </tr>\n",
       "    <tr>\n",
       "      <th>1483</th>\n",
       "      <td>Sean Manaea</td>\n",
       "      <td>Minor</td>\n",
       "      <td>2111</td>\n",
       "      <td>27</td>\n",
       "      <td>12</td>\n",
       "      <td>4</td>\n",
       "      <td>136.1</td>\n",
       "      <td>119</td>\n",
       "      <td>58</td>\n",
       "      <td>13</td>\n",
       "      <td>...</td>\n",
       "      <td>1.188264</td>\n",
       "      <td>0.347953</td>\n",
       "      <td>0.306050</td>\n",
       "      <td>0.076512</td>\n",
       "      <td>Above Average</td>\n",
       "      <td>3</td>\n",
       "      <td>Above Average</td>\n",
       "      <td>2</td>\n",
       "      <td>0</td>\n",
       "      <td>1</td>\n",
       "    </tr>\n",
       "    <tr>\n",
       "      <th>2091</th>\n",
       "      <td>Logan Gilbert</td>\n",
       "      <td>Minor</td>\n",
       "      <td>2250</td>\n",
       "      <td>27</td>\n",
       "      <td>11</td>\n",
       "      <td>5</td>\n",
       "      <td>140.0</td>\n",
       "      <td>99</td>\n",
       "      <td>37</td>\n",
       "      <td>7</td>\n",
       "      <td>...</td>\n",
       "      <td>0.942857</td>\n",
       "      <td>0.303030</td>\n",
       "      <td>0.315399</td>\n",
       "      <td>0.061224</td>\n",
       "      <td>Excellent</td>\n",
       "      <td>4</td>\n",
       "      <td>Excellent</td>\n",
       "      <td>3</td>\n",
       "      <td>0</td>\n",
       "      <td>1</td>\n",
       "    </tr>\n",
       "    <tr>\n",
       "      <th>2176</th>\n",
       "      <td>Brady Singer</td>\n",
       "      <td>Minor</td>\n",
       "      <td>2667</td>\n",
       "      <td>31</td>\n",
       "      <td>13</td>\n",
       "      <td>7</td>\n",
       "      <td>166.2</td>\n",
       "      <td>153</td>\n",
       "      <td>75</td>\n",
       "      <td>13</td>\n",
       "      <td>...</td>\n",
       "      <td>1.182000</td>\n",
       "      <td>0.350105</td>\n",
       "      <td>0.219158</td>\n",
       "      <td>0.063861</td>\n",
       "      <td>Above Average</td>\n",
       "      <td>3</td>\n",
       "      <td>Above Average</td>\n",
       "      <td>2</td>\n",
       "      <td>0</td>\n",
       "      <td>1</td>\n",
       "    </tr>\n",
       "    <tr>\n",
       "      <th>2247</th>\n",
       "      <td>Tanner Bibee</td>\n",
       "      <td>Minor</td>\n",
       "      <td>2257</td>\n",
       "      <td>28</td>\n",
       "      <td>10</td>\n",
       "      <td>2</td>\n",
       "      <td>148.0</td>\n",
       "      <td>109</td>\n",
       "      <td>42</td>\n",
       "      <td>12</td>\n",
       "      <td>...</td>\n",
       "      <td>0.972973</td>\n",
       "      <td>0.343750</td>\n",
       "      <td>0.322357</td>\n",
       "      <td>0.060659</td>\n",
       "      <td>Excellent</td>\n",
       "      <td>4</td>\n",
       "      <td>Excellent</td>\n",
       "      <td>3</td>\n",
       "      <td>0</td>\n",
       "      <td>1</td>\n",
       "    </tr>\n",
       "    <tr>\n",
       "      <th>2251</th>\n",
       "      <td>Ervin Santana</td>\n",
       "      <td>Minor</td>\n",
       "      <td>2090</td>\n",
       "      <td>28</td>\n",
       "      <td>8</td>\n",
       "      <td>9</td>\n",
       "      <td>144.2</td>\n",
       "      <td>148</td>\n",
       "      <td>76</td>\n",
       "      <td>21</td>\n",
       "      <td>...</td>\n",
       "      <td>1.327189</td>\n",
       "      <td>0.272340</td>\n",
       "      <td>0.158576</td>\n",
       "      <td>0.071197</td>\n",
       "      <td>Below Average</td>\n",
       "      <td>1</td>\n",
       "      <td>Poor</td>\n",
       "      <td>0</td>\n",
       "      <td>0</td>\n",
       "      <td>1</td>\n",
       "    </tr>\n",
       "    <tr>\n",
       "      <th>2256</th>\n",
       "      <td>Hector Noesi</td>\n",
       "      <td>Minor</td>\n",
       "      <td>3006</td>\n",
       "      <td>32</td>\n",
       "      <td>15</td>\n",
       "      <td>8</td>\n",
       "      <td>190.0</td>\n",
       "      <td>158</td>\n",
       "      <td>79</td>\n",
       "      <td>34</td>\n",
       "      <td>...</td>\n",
       "      <td>1.073684</td>\n",
       "      <td>0.333977</td>\n",
       "      <td>0.249012</td>\n",
       "      <td>0.060606</td>\n",
       "      <td>Excellent</td>\n",
       "      <td>4</td>\n",
       "      <td>Average</td>\n",
       "      <td>1</td>\n",
       "      <td>0</td>\n",
       "      <td>1</td>\n",
       "    </tr>\n",
       "    <tr>\n",
       "      <th>2262</th>\n",
       "      <td>Kyle Davies</td>\n",
       "      <td>Minor</td>\n",
       "      <td>2515</td>\n",
       "      <td>27</td>\n",
       "      <td>11</td>\n",
       "      <td>8</td>\n",
       "      <td>152.2</td>\n",
       "      <td>155</td>\n",
       "      <td>61</td>\n",
       "      <td>8</td>\n",
       "      <td>...</td>\n",
       "      <td>1.257642</td>\n",
       "      <td>0.327236</td>\n",
       "      <td>0.156398</td>\n",
       "      <td>0.058452</td>\n",
       "      <td>Average</td>\n",
       "      <td>2</td>\n",
       "      <td>Above Average</td>\n",
       "      <td>2</td>\n",
       "      <td>0</td>\n",
       "      <td>1</td>\n",
       "    </tr>\n",
       "    <tr>\n",
       "      <th>2271</th>\n",
       "      <td>Hector Santiago</td>\n",
       "      <td>Minor</td>\n",
       "      <td>2095</td>\n",
       "      <td>25</td>\n",
       "      <td>6</td>\n",
       "      <td>7</td>\n",
       "      <td>117.2</td>\n",
       "      <td>108</td>\n",
       "      <td>65</td>\n",
       "      <td>23</td>\n",
       "      <td>...</td>\n",
       "      <td>1.376771</td>\n",
       "      <td>0.356287</td>\n",
       "      <td>0.232742</td>\n",
       "      <td>0.106509</td>\n",
       "      <td>Below Average</td>\n",
       "      <td>1</td>\n",
       "      <td>Poor</td>\n",
       "      <td>0</td>\n",
       "      <td>0</td>\n",
       "      <td>1</td>\n",
       "    </tr>\n",
       "    <tr>\n",
       "      <th>2277</th>\n",
       "      <td>Brad Mills</td>\n",
       "      <td>Minor</td>\n",
       "      <td>2882</td>\n",
       "      <td>33</td>\n",
       "      <td>8</td>\n",
       "      <td>15</td>\n",
       "      <td>181.2</td>\n",
       "      <td>182</td>\n",
       "      <td>100</td>\n",
       "      <td>20</td>\n",
       "      <td>...</td>\n",
       "      <td>1.425688</td>\n",
       "      <td>0.292254</td>\n",
       "      <td>0.164295</td>\n",
       "      <td>0.099612</td>\n",
       "      <td>Poor</td>\n",
       "      <td>0</td>\n",
       "      <td>Poor</td>\n",
       "      <td>0</td>\n",
       "      <td>0</td>\n",
       "      <td>1</td>\n",
       "    </tr>\n",
       "    <tr>\n",
       "      <th>2299</th>\n",
       "      <td>Jair Jurrjens</td>\n",
       "      <td>Minor</td>\n",
       "      <td>2140</td>\n",
       "      <td>28</td>\n",
       "      <td>6</td>\n",
       "      <td>8</td>\n",
       "      <td>125.0</td>\n",
       "      <td>168</td>\n",
       "      <td>92</td>\n",
       "      <td>15</td>\n",
       "      <td>...</td>\n",
       "      <td>1.672000</td>\n",
       "      <td>0.321348</td>\n",
       "      <td>0.145359</td>\n",
       "      <td>0.071804</td>\n",
       "      <td>Poor</td>\n",
       "      <td>0</td>\n",
       "      <td>Poor</td>\n",
       "      <td>0</td>\n",
       "      <td>0</td>\n",
       "      <td>1</td>\n",
       "    </tr>\n",
       "    <tr>\n",
       "      <th>2324</th>\n",
       "      <td>Yohan Pino</td>\n",
       "      <td>Minor</td>\n",
       "      <td>1873</td>\n",
       "      <td>29</td>\n",
       "      <td>7</td>\n",
       "      <td>9</td>\n",
       "      <td>120.2</td>\n",
       "      <td>127</td>\n",
       "      <td>62</td>\n",
       "      <td>20</td>\n",
       "      <td>...</td>\n",
       "      <td>1.276243</td>\n",
       "      <td>0.270777</td>\n",
       "      <td>0.203187</td>\n",
       "      <td>0.053785</td>\n",
       "      <td>Average</td>\n",
       "      <td>2</td>\n",
       "      <td>Poor</td>\n",
       "      <td>0</td>\n",
       "      <td>0</td>\n",
       "      <td>1</td>\n",
       "    </tr>\n",
       "    <tr>\n",
       "      <th>2330</th>\n",
       "      <td>Dillon Gee</td>\n",
       "      <td>Minor</td>\n",
       "      <td>2833</td>\n",
       "      <td>32</td>\n",
       "      <td>14</td>\n",
       "      <td>10</td>\n",
       "      <td>189.0</td>\n",
       "      <td>200</td>\n",
       "      <td>88</td>\n",
       "      <td>13</td>\n",
       "      <td>...</td>\n",
       "      <td>1.253968</td>\n",
       "      <td>0.336093</td>\n",
       "      <td>0.183648</td>\n",
       "      <td>0.046541</td>\n",
       "      <td>Average</td>\n",
       "      <td>2</td>\n",
       "      <td>Below Average</td>\n",
       "      <td>4</td>\n",
       "      <td>0</td>\n",
       "      <td>1</td>\n",
       "    </tr>\n",
       "    <tr>\n",
       "      <th>2359</th>\n",
       "      <td>Homer Bailey</td>\n",
       "      <td>Minor</td>\n",
       "      <td>2439</td>\n",
       "      <td>34</td>\n",
       "      <td>8</td>\n",
       "      <td>14</td>\n",
       "      <td>144.0</td>\n",
       "      <td>170</td>\n",
       "      <td>96</td>\n",
       "      <td>19</td>\n",
       "      <td>...</td>\n",
       "      <td>1.520833</td>\n",
       "      <td>0.329718</td>\n",
       "      <td>0.202454</td>\n",
       "      <td>0.075153</td>\n",
       "      <td>Poor</td>\n",
       "      <td>0</td>\n",
       "      <td>Poor</td>\n",
       "      <td>0</td>\n",
       "      <td>0</td>\n",
       "      <td>1</td>\n",
       "    </tr>\n",
       "    <tr>\n",
       "      <th>2391</th>\n",
       "      <td>Mike Belfiore</td>\n",
       "      <td>Minor</td>\n",
       "      <td>2163</td>\n",
       "      <td>25</td>\n",
       "      <td>5</td>\n",
       "      <td>12</td>\n",
       "      <td>135.1</td>\n",
       "      <td>153</td>\n",
       "      <td>85</td>\n",
       "      <td>15</td>\n",
       "      <td>...</td>\n",
       "      <td>1.522168</td>\n",
       "      <td>0.280435</td>\n",
       "      <td>0.135987</td>\n",
       "      <td>0.087894</td>\n",
       "      <td>Poor</td>\n",
       "      <td>0</td>\n",
       "      <td>Poor</td>\n",
       "      <td>0</td>\n",
       "      <td>0</td>\n",
       "      <td>1</td>\n",
       "    </tr>\n",
       "    <tr>\n",
       "      <th>2395</th>\n",
       "      <td>Barry Zito</td>\n",
       "      <td>Minor</td>\n",
       "      <td>2289</td>\n",
       "      <td>24</td>\n",
       "      <td>8</td>\n",
       "      <td>7</td>\n",
       "      <td>138.0</td>\n",
       "      <td>121</td>\n",
       "      <td>66</td>\n",
       "      <td>10</td>\n",
       "      <td>...</td>\n",
       "      <td>1.311594</td>\n",
       "      <td>0.272517</td>\n",
       "      <td>0.154237</td>\n",
       "      <td>0.101695</td>\n",
       "      <td>Below Average</td>\n",
       "      <td>1</td>\n",
       "      <td>Average</td>\n",
       "      <td>1</td>\n",
       "      <td>0</td>\n",
       "      <td>1</td>\n",
       "    </tr>\n",
       "    <tr>\n",
       "      <th>2691</th>\n",
       "      <td>Kyle Von Ruden</td>\n",
       "      <td>Minor</td>\n",
       "      <td>1069</td>\n",
       "      <td>15</td>\n",
       "      <td>4</td>\n",
       "      <td>4</td>\n",
       "      <td>86.1</td>\n",
       "      <td>95</td>\n",
       "      <td>57</td>\n",
       "      <td>8</td>\n",
       "      <td>...</td>\n",
       "      <td>1.297297</td>\n",
       "      <td>0.351536</td>\n",
       "      <td>0.168449</td>\n",
       "      <td>0.045455</td>\n",
       "      <td>Average</td>\n",
       "      <td>2</td>\n",
       "      <td>Poor</td>\n",
       "      <td>0</td>\n",
       "      <td>0</td>\n",
       "      <td>1</td>\n",
       "    </tr>\n",
       "    <tr>\n",
       "      <th>3535</th>\n",
       "      <td>Shumpei Yoshikawa</td>\n",
       "      <td>Minor</td>\n",
       "      <td>2152</td>\n",
       "      <td>31</td>\n",
       "      <td>5</td>\n",
       "      <td>8</td>\n",
       "      <td>125.0</td>\n",
       "      <td>129</td>\n",
       "      <td>79</td>\n",
       "      <td>18</td>\n",
       "      <td>...</td>\n",
       "      <td>1.296000</td>\n",
       "      <td>0.266082</td>\n",
       "      <td>0.285981</td>\n",
       "      <td>0.061682</td>\n",
       "      <td>Average</td>\n",
       "      <td>2</td>\n",
       "      <td>Poor</td>\n",
       "      <td>0</td>\n",
       "      <td>0</td>\n",
       "      <td>1</td>\n",
       "    </tr>\n",
       "    <tr>\n",
       "      <th>3711</th>\n",
       "      <td>Jason Morgan</td>\n",
       "      <td>Minor</td>\n",
       "      <td>1015</td>\n",
       "      <td>14</td>\n",
       "      <td>3</td>\n",
       "      <td>6</td>\n",
       "      <td>75.0</td>\n",
       "      <td>83</td>\n",
       "      <td>52</td>\n",
       "      <td>10</td>\n",
       "      <td>...</td>\n",
       "      <td>1.373333</td>\n",
       "      <td>0.252874</td>\n",
       "      <td>0.103448</td>\n",
       "      <td>0.062696</td>\n",
       "      <td>Below Average</td>\n",
       "      <td>1</td>\n",
       "      <td>Poor</td>\n",
       "      <td>0</td>\n",
       "      <td>0</td>\n",
       "      <td>1</td>\n",
       "    </tr>\n",
       "    <tr>\n",
       "      <th>4094</th>\n",
       "      <td>Grant Judkins</td>\n",
       "      <td>Minor</td>\n",
       "      <td>2121</td>\n",
       "      <td>29</td>\n",
       "      <td>3</td>\n",
       "      <td>10</td>\n",
       "      <td>115.0</td>\n",
       "      <td>127</td>\n",
       "      <td>84</td>\n",
       "      <td>23</td>\n",
       "      <td>...</td>\n",
       "      <td>1.591304</td>\n",
       "      <td>0.292899</td>\n",
       "      <td>0.242938</td>\n",
       "      <td>0.105461</td>\n",
       "      <td>Poor</td>\n",
       "      <td>0</td>\n",
       "      <td>Poor</td>\n",
       "      <td>0</td>\n",
       "      <td>0</td>\n",
       "      <td>1</td>\n",
       "    </tr>\n",
       "    <tr>\n",
       "      <th>4459</th>\n",
       "      <td>Garrett Hawkins</td>\n",
       "      <td>Minor</td>\n",
       "      <td>2064</td>\n",
       "      <td>32</td>\n",
       "      <td>8</td>\n",
       "      <td>11</td>\n",
       "      <td>123.1</td>\n",
       "      <td>127</td>\n",
       "      <td>71</td>\n",
       "      <td>18</td>\n",
       "      <td>...</td>\n",
       "      <td>1.337838</td>\n",
       "      <td>0.287462</td>\n",
       "      <td>0.306238</td>\n",
       "      <td>0.071834</td>\n",
       "      <td>Below Average</td>\n",
       "      <td>1</td>\n",
       "      <td>Poor</td>\n",
       "      <td>0</td>\n",
       "      <td>0</td>\n",
       "      <td>1</td>\n",
       "    </tr>\n",
       "    <tr>\n",
       "      <th>4462</th>\n",
       "      <td>Ky Bush</td>\n",
       "      <td>Minor</td>\n",
       "      <td>1864</td>\n",
       "      <td>28</td>\n",
       "      <td>7</td>\n",
       "      <td>7</td>\n",
       "      <td>119.0</td>\n",
       "      <td>117</td>\n",
       "      <td>60</td>\n",
       "      <td>14</td>\n",
       "      <td>...</td>\n",
       "      <td>1.277311</td>\n",
       "      <td>0.304478</td>\n",
       "      <td>0.257426</td>\n",
       "      <td>0.069307</td>\n",
       "      <td>Average</td>\n",
       "      <td>2</td>\n",
       "      <td>Poor</td>\n",
       "      <td>0</td>\n",
       "      <td>0</td>\n",
       "      <td>1</td>\n",
       "    </tr>\n",
       "    <tr>\n",
       "      <th>4508</th>\n",
       "      <td>Mason Erla</td>\n",
       "      <td>Minor</td>\n",
       "      <td>2249</td>\n",
       "      <td>31</td>\n",
       "      <td>7</td>\n",
       "      <td>13</td>\n",
       "      <td>137.2</td>\n",
       "      <td>157</td>\n",
       "      <td>99</td>\n",
       "      <td>19</td>\n",
       "      <td>...</td>\n",
       "      <td>1.496368</td>\n",
       "      <td>0.294118</td>\n",
       "      <td>0.186579</td>\n",
       "      <td>0.080196</td>\n",
       "      <td>Poor</td>\n",
       "      <td>0</td>\n",
       "      <td>Poor</td>\n",
       "      <td>0</td>\n",
       "      <td>0</td>\n",
       "      <td>1</td>\n",
       "    </tr>\n",
       "    <tr>\n",
       "      <th>4514</th>\n",
       "      <td>Scott Randall</td>\n",
       "      <td>Minor</td>\n",
       "      <td>1984</td>\n",
       "      <td>26</td>\n",
       "      <td>8</td>\n",
       "      <td>7</td>\n",
       "      <td>127.1</td>\n",
       "      <td>109</td>\n",
       "      <td>47</td>\n",
       "      <td>14</td>\n",
       "      <td>...</td>\n",
       "      <td>1.083770</td>\n",
       "      <td>0.354108</td>\n",
       "      <td>0.246602</td>\n",
       "      <td>0.056311</td>\n",
       "      <td>Excellent</td>\n",
       "      <td>4</td>\n",
       "      <td>Above Average</td>\n",
       "      <td>2</td>\n",
       "      <td>0</td>\n",
       "      <td>1</td>\n",
       "    </tr>\n",
       "    <tr>\n",
       "      <th>4549</th>\n",
       "      <td>Pierson Ohl</td>\n",
       "      <td>Minor</td>\n",
       "      <td>2083</td>\n",
       "      <td>31</td>\n",
       "      <td>8</td>\n",
       "      <td>12</td>\n",
       "      <td>144.1</td>\n",
       "      <td>162</td>\n",
       "      <td>77</td>\n",
       "      <td>15</td>\n",
       "      <td>...</td>\n",
       "      <td>1.247113</td>\n",
       "      <td>0.284038</td>\n",
       "      <td>0.252492</td>\n",
       "      <td>0.029900</td>\n",
       "      <td>Average</td>\n",
       "      <td>2</td>\n",
       "      <td>Poor</td>\n",
       "      <td>0</td>\n",
       "      <td>0</td>\n",
       "      <td>1</td>\n",
       "    </tr>\n",
       "    <tr>\n",
       "      <th>4553</th>\n",
       "      <td>Blake Beers</td>\n",
       "      <td>Minor</td>\n",
       "      <td>2429</td>\n",
       "      <td>30</td>\n",
       "      <td>7</td>\n",
       "      <td>9</td>\n",
       "      <td>151.2</td>\n",
       "      <td>144</td>\n",
       "      <td>75</td>\n",
       "      <td>18</td>\n",
       "      <td>...</td>\n",
       "      <td>1.292308</td>\n",
       "      <td>0.343458</td>\n",
       "      <td>0.240000</td>\n",
       "      <td>0.080000</td>\n",
       "      <td>Average</td>\n",
       "      <td>2</td>\n",
       "      <td>Poor</td>\n",
       "      <td>0</td>\n",
       "      <td>0</td>\n",
       "      <td>1</td>\n",
       "    </tr>\n",
       "    <tr>\n",
       "      <th>4555</th>\n",
       "      <td>Jose Cabrera</td>\n",
       "      <td>Minor</td>\n",
       "      <td>1722</td>\n",
       "      <td>26</td>\n",
       "      <td>7</td>\n",
       "      <td>12</td>\n",
       "      <td>126.0</td>\n",
       "      <td>133</td>\n",
       "      <td>85</td>\n",
       "      <td>19</td>\n",
       "      <td>...</td>\n",
       "      <td>1.380952</td>\n",
       "      <td>0.298201</td>\n",
       "      <td>0.202166</td>\n",
       "      <td>0.074007</td>\n",
       "      <td>Below Average</td>\n",
       "      <td>1</td>\n",
       "      <td>Poor</td>\n",
       "      <td>0</td>\n",
       "      <td>0</td>\n",
       "      <td>1</td>\n",
       "    </tr>\n",
       "    <tr>\n",
       "      <th>4561</th>\n",
       "      <td>Rodney Boone</td>\n",
       "      <td>Minor</td>\n",
       "      <td>2601</td>\n",
       "      <td>34</td>\n",
       "      <td>10</td>\n",
       "      <td>7</td>\n",
       "      <td>159.2</td>\n",
       "      <td>148</td>\n",
       "      <td>86</td>\n",
       "      <td>27</td>\n",
       "      <td>...</td>\n",
       "      <td>1.240084</td>\n",
       "      <td>0.254079</td>\n",
       "      <td>0.283159</td>\n",
       "      <td>0.074516</td>\n",
       "      <td>Average</td>\n",
       "      <td>2</td>\n",
       "      <td>Poor</td>\n",
       "      <td>0</td>\n",
       "      <td>0</td>\n",
       "      <td>1</td>\n",
       "    </tr>\n",
       "    <tr>\n",
       "      <th>4566</th>\n",
       "      <td>Tommy Mace</td>\n",
       "      <td>Minor</td>\n",
       "      <td>2384</td>\n",
       "      <td>34</td>\n",
       "      <td>3</td>\n",
       "      <td>8</td>\n",
       "      <td>145.2</td>\n",
       "      <td>136</td>\n",
       "      <td>80</td>\n",
       "      <td>20</td>\n",
       "      <td>...</td>\n",
       "      <td>1.359268</td>\n",
       "      <td>0.338061</td>\n",
       "      <td>0.213483</td>\n",
       "      <td>0.099518</td>\n",
       "      <td>Below Average</td>\n",
       "      <td>1</td>\n",
       "      <td>Poor</td>\n",
       "      <td>0</td>\n",
       "      <td>0</td>\n",
       "      <td>1</td>\n",
       "    </tr>\n",
       "    <tr>\n",
       "      <th>4575</th>\n",
       "      <td>Richard Fitts</td>\n",
       "      <td>Minor</td>\n",
       "      <td>2689</td>\n",
       "      <td>34</td>\n",
       "      <td>10</td>\n",
       "      <td>13</td>\n",
       "      <td>177.1</td>\n",
       "      <td>156</td>\n",
       "      <td>81</td>\n",
       "      <td>24</td>\n",
       "      <td>...</td>\n",
       "      <td>1.077068</td>\n",
       "      <td>0.377682</td>\n",
       "      <td>0.283333</td>\n",
       "      <td>0.048611</td>\n",
       "      <td>Excellent</td>\n",
       "      <td>4</td>\n",
       "      <td>Below Average</td>\n",
       "      <td>4</td>\n",
       "      <td>0</td>\n",
       "      <td>1</td>\n",
       "    </tr>\n",
       "    <tr>\n",
       "      <th>4648</th>\n",
       "      <td>Isaac Coffey</td>\n",
       "      <td>Minor</td>\n",
       "      <td>891</td>\n",
       "      <td>13</td>\n",
       "      <td>4</td>\n",
       "      <td>2</td>\n",
       "      <td>62.0</td>\n",
       "      <td>53</td>\n",
       "      <td>25</td>\n",
       "      <td>11</td>\n",
       "      <td>...</td>\n",
       "      <td>1.048387</td>\n",
       "      <td>0.276316</td>\n",
       "      <td>0.333333</td>\n",
       "      <td>0.048193</td>\n",
       "      <td>Excellent</td>\n",
       "      <td>4</td>\n",
       "      <td>Above Average</td>\n",
       "      <td>2</td>\n",
       "      <td>0</td>\n",
       "      <td>1</td>\n",
       "    </tr>\n",
       "    <tr>\n",
       "      <th>4653</th>\n",
       "      <td>David Sandlin</td>\n",
       "      <td>Minor</td>\n",
       "      <td>926</td>\n",
       "      <td>13</td>\n",
       "      <td>4</td>\n",
       "      <td>1</td>\n",
       "      <td>60.2</td>\n",
       "      <td>58</td>\n",
       "      <td>23</td>\n",
       "      <td>8</td>\n",
       "      <td>...</td>\n",
       "      <td>1.170330</td>\n",
       "      <td>0.364865</td>\n",
       "      <td>0.337449</td>\n",
       "      <td>0.053498</td>\n",
       "      <td>Above Average</td>\n",
       "      <td>3</td>\n",
       "      <td>Above Average</td>\n",
       "      <td>2</td>\n",
       "      <td>0</td>\n",
       "      <td>1</td>\n",
       "    </tr>\n",
       "    <tr>\n",
       "      <th>4658</th>\n",
       "      <td>Tyler Schweitzer</td>\n",
       "      <td>Minor</td>\n",
       "      <td>809</td>\n",
       "      <td>10</td>\n",
       "      <td>5</td>\n",
       "      <td>2</td>\n",
       "      <td>52.1</td>\n",
       "      <td>47</td>\n",
       "      <td>24</td>\n",
       "      <td>5</td>\n",
       "      <td>...</td>\n",
       "      <td>1.203822</td>\n",
       "      <td>0.377622</td>\n",
       "      <td>0.276018</td>\n",
       "      <td>0.072398</td>\n",
       "      <td>Average</td>\n",
       "      <td>2</td>\n",
       "      <td>Below Average</td>\n",
       "      <td>4</td>\n",
       "      <td>0</td>\n",
       "      <td>1</td>\n",
       "    </tr>\n",
       "    <tr>\n",
       "      <th>4663</th>\n",
       "      <td>Thomas Harrington</td>\n",
       "      <td>Minor</td>\n",
       "      <td>858</td>\n",
       "      <td>12</td>\n",
       "      <td>4</td>\n",
       "      <td>2</td>\n",
       "      <td>55.2</td>\n",
       "      <td>52</td>\n",
       "      <td>23</td>\n",
       "      <td>6</td>\n",
       "      <td>...</td>\n",
       "      <td>1.221557</td>\n",
       "      <td>0.335616</td>\n",
       "      <td>0.271111</td>\n",
       "      <td>0.071111</td>\n",
       "      <td>Average</td>\n",
       "      <td>2</td>\n",
       "      <td>Above Average</td>\n",
       "      <td>2</td>\n",
       "      <td>0</td>\n",
       "      <td>1</td>\n",
       "    </tr>\n",
       "    <tr>\n",
       "      <th>4664</th>\n",
       "      <td>Pete Hansen</td>\n",
       "      <td>Minor</td>\n",
       "      <td>849</td>\n",
       "      <td>12</td>\n",
       "      <td>5</td>\n",
       "      <td>1</td>\n",
       "      <td>54.1</td>\n",
       "      <td>49</td>\n",
       "      <td>20</td>\n",
       "      <td>7</td>\n",
       "      <td>...</td>\n",
       "      <td>1.269939</td>\n",
       "      <td>0.285714</td>\n",
       "      <td>0.277056</td>\n",
       "      <td>0.086580</td>\n",
       "      <td>Average</td>\n",
       "      <td>2</td>\n",
       "      <td>Above Average</td>\n",
       "      <td>2</td>\n",
       "      <td>0</td>\n",
       "      <td>1</td>\n",
       "    </tr>\n",
       "    <tr>\n",
       "      <th>4670</th>\n",
       "      <td>Reid VanScoter</td>\n",
       "      <td>Minor</td>\n",
       "      <td>1170</td>\n",
       "      <td>13</td>\n",
       "      <td>7</td>\n",
       "      <td>2</td>\n",
       "      <td>73.2</td>\n",
       "      <td>63</td>\n",
       "      <td>30</td>\n",
       "      <td>3</td>\n",
       "      <td>...</td>\n",
       "      <td>1.167421</td>\n",
       "      <td>0.355450</td>\n",
       "      <td>0.234528</td>\n",
       "      <td>0.074919</td>\n",
       "      <td>Above Average</td>\n",
       "      <td>3</td>\n",
       "      <td>Above Average</td>\n",
       "      <td>2</td>\n",
       "      <td>0</td>\n",
       "      <td>1</td>\n",
       "    </tr>\n",
       "    <tr>\n",
       "      <th>4671</th>\n",
       "      <td>Tyler Cleveland</td>\n",
       "      <td>Minor</td>\n",
       "      <td>969</td>\n",
       "      <td>12</td>\n",
       "      <td>4</td>\n",
       "      <td>4</td>\n",
       "      <td>58.1</td>\n",
       "      <td>69</td>\n",
       "      <td>35</td>\n",
       "      <td>7</td>\n",
       "      <td>...</td>\n",
       "      <td>1.440000</td>\n",
       "      <td>0.284946</td>\n",
       "      <td>0.200000</td>\n",
       "      <td>0.057692</td>\n",
       "      <td>Poor</td>\n",
       "      <td>0</td>\n",
       "      <td>Poor</td>\n",
       "      <td>0</td>\n",
       "      <td>0</td>\n",
       "      <td>1</td>\n",
       "    </tr>\n",
       "    <tr>\n",
       "      <th>4733</th>\n",
       "      <td>Cory Riordan</td>\n",
       "      <td>Minor</td>\n",
       "      <td>2281</td>\n",
       "      <td>27</td>\n",
       "      <td>6</td>\n",
       "      <td>10</td>\n",
       "      <td>153.2</td>\n",
       "      <td>185</td>\n",
       "      <td>88</td>\n",
       "      <td>18</td>\n",
       "      <td>...</td>\n",
       "      <td>1.399132</td>\n",
       "      <td>0.329114</td>\n",
       "      <td>0.173579</td>\n",
       "      <td>0.046083</td>\n",
       "      <td>Below Average</td>\n",
       "      <td>1</td>\n",
       "      <td>Poor</td>\n",
       "      <td>0</td>\n",
       "      <td>0</td>\n",
       "      <td>1</td>\n",
       "    </tr>\n",
       "    <tr>\n",
       "      <th>4736</th>\n",
       "      <td>Greg Peavey</td>\n",
       "      <td>Minor</td>\n",
       "      <td>2405</td>\n",
       "      <td>27</td>\n",
       "      <td>8</td>\n",
       "      <td>12</td>\n",
       "      <td>147.0</td>\n",
       "      <td>160</td>\n",
       "      <td>95</td>\n",
       "      <td>16</td>\n",
       "      <td>...</td>\n",
       "      <td>1.353742</td>\n",
       "      <td>0.297030</td>\n",
       "      <td>0.134585</td>\n",
       "      <td>0.061033</td>\n",
       "      <td>Below Average</td>\n",
       "      <td>1</td>\n",
       "      <td>Poor</td>\n",
       "      <td>0</td>\n",
       "      <td>0</td>\n",
       "      <td>1</td>\n",
       "    </tr>\n",
       "    <tr>\n",
       "      <th>4742</th>\n",
       "      <td>Luis Leroy Cruz</td>\n",
       "      <td>Minor</td>\n",
       "      <td>2062</td>\n",
       "      <td>28</td>\n",
       "      <td>7</td>\n",
       "      <td>5</td>\n",
       "      <td>116.0</td>\n",
       "      <td>119</td>\n",
       "      <td>60</td>\n",
       "      <td>18</td>\n",
       "      <td>...</td>\n",
       "      <td>1.474138</td>\n",
       "      <td>0.327778</td>\n",
       "      <td>0.182353</td>\n",
       "      <td>0.101961</td>\n",
       "      <td>Poor</td>\n",
       "      <td>0</td>\n",
       "      <td>Poor</td>\n",
       "      <td>0</td>\n",
       "      <td>0</td>\n",
       "      <td>1</td>\n",
       "    </tr>\n",
       "    <tr>\n",
       "      <th>4756</th>\n",
       "      <td>James Needy</td>\n",
       "      <td>Minor</td>\n",
       "      <td>2765</td>\n",
       "      <td>33</td>\n",
       "      <td>14</td>\n",
       "      <td>9</td>\n",
       "      <td>176.2</td>\n",
       "      <td>182</td>\n",
       "      <td>100</td>\n",
       "      <td>15</td>\n",
       "      <td>...</td>\n",
       "      <td>1.375472</td>\n",
       "      <td>0.306422</td>\n",
       "      <td>0.183511</td>\n",
       "      <td>0.081117</td>\n",
       "      <td>Below Average</td>\n",
       "      <td>1</td>\n",
       "      <td>Poor</td>\n",
       "      <td>0</td>\n",
       "      <td>0</td>\n",
       "      <td>1</td>\n",
       "    </tr>\n",
       "    <tr>\n",
       "      <th>4765</th>\n",
       "      <td>Nate Long</td>\n",
       "      <td>Minor</td>\n",
       "      <td>2435</td>\n",
       "      <td>28</td>\n",
       "      <td>8</td>\n",
       "      <td>9</td>\n",
       "      <td>151.0</td>\n",
       "      <td>146</td>\n",
       "      <td>81</td>\n",
       "      <td>14</td>\n",
       "      <td>...</td>\n",
       "      <td>1.410596</td>\n",
       "      <td>0.221277</td>\n",
       "      <td>0.176292</td>\n",
       "      <td>0.101824</td>\n",
       "      <td>Poor</td>\n",
       "      <td>0</td>\n",
       "      <td>Poor</td>\n",
       "      <td>0</td>\n",
       "      <td>0</td>\n",
       "      <td>1</td>\n",
       "    </tr>\n",
       "    <tr>\n",
       "      <th>4811</th>\n",
       "      <td>Gabriel Arias</td>\n",
       "      <td>Minor</td>\n",
       "      <td>2001</td>\n",
       "      <td>26</td>\n",
       "      <td>11</td>\n",
       "      <td>6</td>\n",
       "      <td>134.0</td>\n",
       "      <td>143</td>\n",
       "      <td>76</td>\n",
       "      <td>15</td>\n",
       "      <td>...</td>\n",
       "      <td>1.343284</td>\n",
       "      <td>0.314351</td>\n",
       "      <td>0.152900</td>\n",
       "      <td>0.065026</td>\n",
       "      <td>Below Average</td>\n",
       "      <td>1</td>\n",
       "      <td>Poor</td>\n",
       "      <td>0</td>\n",
       "      <td>0</td>\n",
       "      <td>1</td>\n",
       "    </tr>\n",
       "    <tr>\n",
       "      <th>4864</th>\n",
       "      <td>Tyler Vail</td>\n",
       "      <td>Minor</td>\n",
       "      <td>1164</td>\n",
       "      <td>14</td>\n",
       "      <td>3</td>\n",
       "      <td>7</td>\n",
       "      <td>72.0</td>\n",
       "      <td>89</td>\n",
       "      <td>57</td>\n",
       "      <td>10</td>\n",
       "      <td>...</td>\n",
       "      <td>1.611111</td>\n",
       "      <td>0.314894</td>\n",
       "      <td>0.198795</td>\n",
       "      <td>0.081325</td>\n",
       "      <td>Poor</td>\n",
       "      <td>0</td>\n",
       "      <td>Poor</td>\n",
       "      <td>0</td>\n",
       "      <td>0</td>\n",
       "      <td>1</td>\n",
       "    </tr>\n",
       "    <tr>\n",
       "      <th>5001</th>\n",
       "      <td>Andy Ferguson</td>\n",
       "      <td>Minor</td>\n",
       "      <td>2154</td>\n",
       "      <td>34</td>\n",
       "      <td>11</td>\n",
       "      <td>7</td>\n",
       "      <td>144.2</td>\n",
       "      <td>110</td>\n",
       "      <td>47</td>\n",
       "      <td>14</td>\n",
       "      <td>...</td>\n",
       "      <td>1.009217</td>\n",
       "      <td>0.305483</td>\n",
       "      <td>0.262238</td>\n",
       "      <td>0.062937</td>\n",
       "      <td>Excellent</td>\n",
       "      <td>4</td>\n",
       "      <td>Excellent</td>\n",
       "      <td>3</td>\n",
       "      <td>0</td>\n",
       "      <td>1</td>\n",
       "    </tr>\n",
       "    <tr>\n",
       "      <th>5202</th>\n",
       "      <td>Zach Petrick</td>\n",
       "      <td>Minor</td>\n",
       "      <td>2457</td>\n",
       "      <td>28</td>\n",
       "      <td>7</td>\n",
       "      <td>7</td>\n",
       "      <td>157.1</td>\n",
       "      <td>181</td>\n",
       "      <td>88</td>\n",
       "      <td>14</td>\n",
       "      <td>...</td>\n",
       "      <td>1.334746</td>\n",
       "      <td>0.325095</td>\n",
       "      <td>0.167905</td>\n",
       "      <td>0.043091</td>\n",
       "      <td>Below Average</td>\n",
       "      <td>1</td>\n",
       "      <td>Poor</td>\n",
       "      <td>0</td>\n",
       "      <td>0</td>\n",
       "      <td>1</td>\n",
       "    </tr>\n",
       "    <tr>\n",
       "      <th>5249</th>\n",
       "      <td>Brandon Sinnery</td>\n",
       "      <td>Minor</td>\n",
       "      <td>2085</td>\n",
       "      <td>27</td>\n",
       "      <td>9</td>\n",
       "      <td>7</td>\n",
       "      <td>153.2</td>\n",
       "      <td>165</td>\n",
       "      <td>80</td>\n",
       "      <td>17</td>\n",
       "      <td>...</td>\n",
       "      <td>1.334056</td>\n",
       "      <td>0.298828</td>\n",
       "      <td>0.139104</td>\n",
       "      <td>0.061824</td>\n",
       "      <td>Below Average</td>\n",
       "      <td>1</td>\n",
       "      <td>Poor</td>\n",
       "      <td>0</td>\n",
       "      <td>0</td>\n",
       "      <td>1</td>\n",
       "    </tr>\n",
       "    <tr>\n",
       "      <th>5395</th>\n",
       "      <td>Junior Mendez</td>\n",
       "      <td>Minor</td>\n",
       "      <td>1273</td>\n",
       "      <td>28</td>\n",
       "      <td>5</td>\n",
       "      <td>11</td>\n",
       "      <td>135.2</td>\n",
       "      <td>158</td>\n",
       "      <td>96</td>\n",
       "      <td>18</td>\n",
       "      <td>...</td>\n",
       "      <td>1.592138</td>\n",
       "      <td>0.241525</td>\n",
       "      <td>0.120718</td>\n",
       "      <td>0.094617</td>\n",
       "      <td>Poor</td>\n",
       "      <td>0</td>\n",
       "      <td>Poor</td>\n",
       "      <td>0</td>\n",
       "      <td>0</td>\n",
       "      <td>1</td>\n",
       "    </tr>\n",
       "    <tr>\n",
       "      <th>5402</th>\n",
       "      <td>Sam Tewes</td>\n",
       "      <td>Minor</td>\n",
       "      <td>2252</td>\n",
       "      <td>32</td>\n",
       "      <td>9</td>\n",
       "      <td>11</td>\n",
       "      <td>157.1</td>\n",
       "      <td>189</td>\n",
       "      <td>93</td>\n",
       "      <td>15</td>\n",
       "      <td>...</td>\n",
       "      <td>1.436441</td>\n",
       "      <td>0.284369</td>\n",
       "      <td>0.160637</td>\n",
       "      <td>0.053546</td>\n",
       "      <td>Poor</td>\n",
       "      <td>0</td>\n",
       "      <td>Poor</td>\n",
       "      <td>0</td>\n",
       "      <td>0</td>\n",
       "      <td>1</td>\n",
       "    </tr>\n",
       "    <tr>\n",
       "      <th>6868</th>\n",
       "      <td>Alex Gouin</td>\n",
       "      <td>Minor</td>\n",
       "      <td>939</td>\n",
       "      <td>11</td>\n",
       "      <td>3</td>\n",
       "      <td>6</td>\n",
       "      <td>65.2</td>\n",
       "      <td>79</td>\n",
       "      <td>40</td>\n",
       "      <td>9</td>\n",
       "      <td>...</td>\n",
       "      <td>1.385787</td>\n",
       "      <td>0.272727</td>\n",
       "      <td>0.204301</td>\n",
       "      <td>0.043011</td>\n",
       "      <td>Below Average</td>\n",
       "      <td>1</td>\n",
       "      <td>Poor</td>\n",
       "      <td>0</td>\n",
       "      <td>0</td>\n",
       "      <td>1</td>\n",
       "    </tr>\n",
       "  </tbody>\n",
       "</table>\n",
       "<p>55 rows × 27 columns</p>\n",
       "</div>"
      ],
      "text/plain": [
       "                   Name League  Pitches   G   W   L     IP    H    R  HR  ...  \\\n",
       "1054   Mike Foltynewicz  Minor     2217  25   7   9  135.0  114   59   8  ...   \n",
       "1169      Nick Martinez  Minor     2637  32  12   7  173.2  172   70  12  ...   \n",
       "1209  Eduardo Rodriguez  Minor     1971  24   5   9  125.2  112   50   9  ...   \n",
       "1217     Michael Fulmer  Minor     2263  29  11   4  148.1  122   46  11  ...   \n",
       "1295         Jason Lane  Minor     2564  28  10  10  164.0  212  117  27  ...   \n",
       "1449     Marco Gonzales  Minor     2629  32   9   9  167.0  166   79  17  ...   \n",
       "1483        Sean Manaea  Minor     2111  27  12   4  136.1  119   58  13  ...   \n",
       "2091      Logan Gilbert  Minor     2250  27  11   5  140.0   99   37   7  ...   \n",
       "2176       Brady Singer  Minor     2667  31  13   7  166.2  153   75  13  ...   \n",
       "2247       Tanner Bibee  Minor     2257  28  10   2  148.0  109   42  12  ...   \n",
       "2251      Ervin Santana  Minor     2090  28   8   9  144.2  148   76  21  ...   \n",
       "2256       Hector Noesi  Minor     3006  32  15   8  190.0  158   79  34  ...   \n",
       "2262        Kyle Davies  Minor     2515  27  11   8  152.2  155   61   8  ...   \n",
       "2271    Hector Santiago  Minor     2095  25   6   7  117.2  108   65  23  ...   \n",
       "2277         Brad Mills  Minor     2882  33   8  15  181.2  182  100  20  ...   \n",
       "2299      Jair Jurrjens  Minor     2140  28   6   8  125.0  168   92  15  ...   \n",
       "2324         Yohan Pino  Minor     1873  29   7   9  120.2  127   62  20  ...   \n",
       "2330         Dillon Gee  Minor     2833  32  14  10  189.0  200   88  13  ...   \n",
       "2359       Homer Bailey  Minor     2439  34   8  14  144.0  170   96  19  ...   \n",
       "2391      Mike Belfiore  Minor     2163  25   5  12  135.1  153   85  15  ...   \n",
       "2395         Barry Zito  Minor     2289  24   8   7  138.0  121   66  10  ...   \n",
       "2691     Kyle Von Ruden  Minor     1069  15   4   4   86.1   95   57   8  ...   \n",
       "3535  Shumpei Yoshikawa  Minor     2152  31   5   8  125.0  129   79  18  ...   \n",
       "3711       Jason Morgan  Minor     1015  14   3   6   75.0   83   52  10  ...   \n",
       "4094      Grant Judkins  Minor     2121  29   3  10  115.0  127   84  23  ...   \n",
       "4459    Garrett Hawkins  Minor     2064  32   8  11  123.1  127   71  18  ...   \n",
       "4462            Ky Bush  Minor     1864  28   7   7  119.0  117   60  14  ...   \n",
       "4508         Mason Erla  Minor     2249  31   7  13  137.2  157   99  19  ...   \n",
       "4514      Scott Randall  Minor     1984  26   8   7  127.1  109   47  14  ...   \n",
       "4549        Pierson Ohl  Minor     2083  31   8  12  144.1  162   77  15  ...   \n",
       "4553        Blake Beers  Minor     2429  30   7   9  151.2  144   75  18  ...   \n",
       "4555       Jose Cabrera  Minor     1722  26   7  12  126.0  133   85  19  ...   \n",
       "4561       Rodney Boone  Minor     2601  34  10   7  159.2  148   86  27  ...   \n",
       "4566         Tommy Mace  Minor     2384  34   3   8  145.2  136   80  20  ...   \n",
       "4575      Richard Fitts  Minor     2689  34  10  13  177.1  156   81  24  ...   \n",
       "4648       Isaac Coffey  Minor      891  13   4   2   62.0   53   25  11  ...   \n",
       "4653      David Sandlin  Minor      926  13   4   1   60.2   58   23   8  ...   \n",
       "4658   Tyler Schweitzer  Minor      809  10   5   2   52.1   47   24   5  ...   \n",
       "4663  Thomas Harrington  Minor      858  12   4   2   55.2   52   23   6  ...   \n",
       "4664        Pete Hansen  Minor      849  12   5   1   54.1   49   20   7  ...   \n",
       "4670     Reid VanScoter  Minor     1170  13   7   2   73.2   63   30   3  ...   \n",
       "4671    Tyler Cleveland  Minor      969  12   4   4   58.1   69   35   7  ...   \n",
       "4733       Cory Riordan  Minor     2281  27   6  10  153.2  185   88  18  ...   \n",
       "4736        Greg Peavey  Minor     2405  27   8  12  147.0  160   95  16  ...   \n",
       "4742    Luis Leroy Cruz  Minor     2062  28   7   5  116.0  119   60  18  ...   \n",
       "4756        James Needy  Minor     2765  33  14   9  176.2  182  100  15  ...   \n",
       "4765          Nate Long  Minor     2435  28   8   9  151.0  146   81  14  ...   \n",
       "4811      Gabriel Arias  Minor     2001  26  11   6  134.0  143   76  15  ...   \n",
       "4864         Tyler Vail  Minor     1164  14   3   7   72.0   89   57  10  ...   \n",
       "5001      Andy Ferguson  Minor     2154  34  11   7  144.2  110   47  14  ...   \n",
       "5202       Zach Petrick  Minor     2457  28   7   7  157.1  181   88  14  ...   \n",
       "5249    Brandon Sinnery  Minor     2085  27   9   7  153.2  165   80  17  ...   \n",
       "5395      Junior Mendez  Minor     1273  28   5  11  135.2  158   96  18  ...   \n",
       "5402          Sam Tewes  Minor     2252  32   9  11  157.1  189   93  15  ...   \n",
       "6868         Alex Gouin  Minor      939  11   3   6   65.2   79   40   9  ...   \n",
       "\n",
       "          WHIP     Oppo%        K%       BB%      WHIP Rank  WHIP_Rank  \\\n",
       "1054  1.266667  0.326087  0.236234  0.101243        Average          2   \n",
       "1169  1.174664  0.258123  0.161517  0.044944  Above Average          3   \n",
       "1209  1.098143  0.336207  0.253465  0.051485      Excellent          4   \n",
       "1217  1.071910  0.332494  0.264310  0.062290      Excellent          4   \n",
       "1295  1.579268  0.251603  0.095430  0.063172           Poor          0   \n",
       "1449  1.269461  0.290448  0.191429  0.065714        Average          2   \n",
       "1483  1.188264  0.347953  0.306050  0.076512  Above Average          3   \n",
       "2091  0.942857  0.303030  0.315399  0.061224      Excellent          4   \n",
       "2176  1.182000  0.350105  0.219158  0.063861  Above Average          3   \n",
       "2247  0.972973  0.343750  0.322357  0.060659      Excellent          4   \n",
       "2251  1.327189  0.272340  0.158576  0.071197  Below Average          1   \n",
       "2256  1.073684  0.333977  0.249012  0.060606      Excellent          4   \n",
       "2262  1.257642  0.327236  0.156398  0.058452        Average          2   \n",
       "2271  1.376771  0.356287  0.232742  0.106509  Below Average          1   \n",
       "2277  1.425688  0.292254  0.164295  0.099612           Poor          0   \n",
       "2299  1.672000  0.321348  0.145359  0.071804           Poor          0   \n",
       "2324  1.276243  0.270777  0.203187  0.053785        Average          2   \n",
       "2330  1.253968  0.336093  0.183648  0.046541        Average          2   \n",
       "2359  1.520833  0.329718  0.202454  0.075153           Poor          0   \n",
       "2391  1.522168  0.280435  0.135987  0.087894           Poor          0   \n",
       "2395  1.311594  0.272517  0.154237  0.101695  Below Average          1   \n",
       "2691  1.297297  0.351536  0.168449  0.045455        Average          2   \n",
       "3535  1.296000  0.266082  0.285981  0.061682        Average          2   \n",
       "3711  1.373333  0.252874  0.103448  0.062696  Below Average          1   \n",
       "4094  1.591304  0.292899  0.242938  0.105461           Poor          0   \n",
       "4459  1.337838  0.287462  0.306238  0.071834  Below Average          1   \n",
       "4462  1.277311  0.304478  0.257426  0.069307        Average          2   \n",
       "4508  1.496368  0.294118  0.186579  0.080196           Poor          0   \n",
       "4514  1.083770  0.354108  0.246602  0.056311      Excellent          4   \n",
       "4549  1.247113  0.284038  0.252492  0.029900        Average          2   \n",
       "4553  1.292308  0.343458  0.240000  0.080000        Average          2   \n",
       "4555  1.380952  0.298201  0.202166  0.074007  Below Average          1   \n",
       "4561  1.240084  0.254079  0.283159  0.074516        Average          2   \n",
       "4566  1.359268  0.338061  0.213483  0.099518  Below Average          1   \n",
       "4575  1.077068  0.377682  0.283333  0.048611      Excellent          4   \n",
       "4648  1.048387  0.276316  0.333333  0.048193      Excellent          4   \n",
       "4653  1.170330  0.364865  0.337449  0.053498  Above Average          3   \n",
       "4658  1.203822  0.377622  0.276018  0.072398        Average          2   \n",
       "4663  1.221557  0.335616  0.271111  0.071111        Average          2   \n",
       "4664  1.269939  0.285714  0.277056  0.086580        Average          2   \n",
       "4670  1.167421  0.355450  0.234528  0.074919  Above Average          3   \n",
       "4671  1.440000  0.284946  0.200000  0.057692           Poor          0   \n",
       "4733  1.399132  0.329114  0.173579  0.046083  Below Average          1   \n",
       "4736  1.353742  0.297030  0.134585  0.061033  Below Average          1   \n",
       "4742  1.474138  0.327778  0.182353  0.101961           Poor          0   \n",
       "4756  1.375472  0.306422  0.183511  0.081117  Below Average          1   \n",
       "4765  1.410596  0.221277  0.176292  0.101824           Poor          0   \n",
       "4811  1.343284  0.314351  0.152900  0.065026  Below Average          1   \n",
       "4864  1.611111  0.314894  0.198795  0.081325           Poor          0   \n",
       "5001  1.009217  0.305483  0.262238  0.062937      Excellent          4   \n",
       "5202  1.334746  0.325095  0.167905  0.043091  Below Average          1   \n",
       "5249  1.334056  0.298828  0.139104  0.061824  Below Average          1   \n",
       "5395  1.592138  0.241525  0.120718  0.094617           Poor          0   \n",
       "5402  1.436441  0.284369  0.160637  0.053546           Poor          0   \n",
       "6868  1.385787  0.272727  0.204301  0.043011  Below Average          1   \n",
       "\n",
       "           ERA Rank  ERA_Rank  Leagues  preds  \n",
       "1054  Above Average         2        0      1  \n",
       "1169  Above Average         2        0      1  \n",
       "1209      Excellent         3        0      1  \n",
       "1217      Excellent         3        0      1  \n",
       "1295           Poor         0        0      1  \n",
       "1449  Below Average         4        0      1  \n",
       "1483  Above Average         2        0      1  \n",
       "2091      Excellent         3        0      1  \n",
       "2176  Above Average         2        0      1  \n",
       "2247      Excellent         3        0      1  \n",
       "2251           Poor         0        0      1  \n",
       "2256        Average         1        0      1  \n",
       "2262  Above Average         2        0      1  \n",
       "2271           Poor         0        0      1  \n",
       "2277           Poor         0        0      1  \n",
       "2299           Poor         0        0      1  \n",
       "2324           Poor         0        0      1  \n",
       "2330  Below Average         4        0      1  \n",
       "2359           Poor         0        0      1  \n",
       "2391           Poor         0        0      1  \n",
       "2395        Average         1        0      1  \n",
       "2691           Poor         0        0      1  \n",
       "3535           Poor         0        0      1  \n",
       "3711           Poor         0        0      1  \n",
       "4094           Poor         0        0      1  \n",
       "4459           Poor         0        0      1  \n",
       "4462           Poor         0        0      1  \n",
       "4508           Poor         0        0      1  \n",
       "4514  Above Average         2        0      1  \n",
       "4549           Poor         0        0      1  \n",
       "4553           Poor         0        0      1  \n",
       "4555           Poor         0        0      1  \n",
       "4561           Poor         0        0      1  \n",
       "4566           Poor         0        0      1  \n",
       "4575  Below Average         4        0      1  \n",
       "4648  Above Average         2        0      1  \n",
       "4653  Above Average         2        0      1  \n",
       "4658  Below Average         4        0      1  \n",
       "4663  Above Average         2        0      1  \n",
       "4664  Above Average         2        0      1  \n",
       "4670  Above Average         2        0      1  \n",
       "4671           Poor         0        0      1  \n",
       "4733           Poor         0        0      1  \n",
       "4736           Poor         0        0      1  \n",
       "4742           Poor         0        0      1  \n",
       "4756           Poor         0        0      1  \n",
       "4765           Poor         0        0      1  \n",
       "4811           Poor         0        0      1  \n",
       "4864           Poor         0        0      1  \n",
       "5001      Excellent         3        0      1  \n",
       "5202           Poor         0        0      1  \n",
       "5249           Poor         0        0      1  \n",
       "5395           Poor         0        0      1  \n",
       "5402           Poor         0        0      1  \n",
       "6868           Poor         0        0      1  \n",
       "\n",
       "[55 rows x 27 columns]"
      ]
     },
     "execution_count": 71,
     "metadata": {},
     "output_type": "execute_result"
    }
   ],
   "source": [
    "Model = preds_df.loc[(preds_df['Leagues'] == 0) & (preds_df['preds'] ==1)]\n",
    "Model"
   ]
  },
  {
   "cell_type": "code",
   "execution_count": 72,
   "id": "dee4bbb5",
   "metadata": {},
   "outputs": [
    {
     "data": {
      "text/plain": [
       "Poor             33\n",
       "Above Average    11\n",
       "Excellent         5\n",
       "Below Average     4\n",
       "Average           2\n",
       "Name: ERA Rank, dtype: int64"
      ]
     },
     "execution_count": 72,
     "metadata": {},
     "output_type": "execute_result"
    }
   ],
   "source": [
    "Model['ERA Rank'].value_counts()"
   ]
  },
  {
   "cell_type": "code",
   "execution_count": 73,
   "id": "f1e238bd",
   "metadata": {},
   "outputs": [
    {
     "data": {
      "text/plain": [
       "Below Average    14\n",
       "Average          14\n",
       "Poor             13\n",
       "Excellent         9\n",
       "Above Average     5\n",
       "Name: WHIP Rank, dtype: int64"
      ]
     },
     "execution_count": 73,
     "metadata": {},
     "output_type": "execute_result"
    }
   ],
   "source": [
    "Model['WHIP Rank'].value_counts()"
   ]
  },
  {
   "cell_type": "code",
   "execution_count": 74,
   "id": "fb021992",
   "metadata": {},
   "outputs": [],
   "source": [
    "# creating df with top 5 minor league players that should be in the MLB"
   ]
  },
  {
   "cell_type": "code",
   "execution_count": 75,
   "id": "a62b5e76",
   "metadata": {},
   "outputs": [
    {
     "data": {
      "text/html": [
       "<div>\n",
       "<style scoped>\n",
       "    .dataframe tbody tr th:only-of-type {\n",
       "        vertical-align: middle;\n",
       "    }\n",
       "\n",
       "    .dataframe tbody tr th {\n",
       "        vertical-align: top;\n",
       "    }\n",
       "\n",
       "    .dataframe thead th {\n",
       "        text-align: right;\n",
       "    }\n",
       "</style>\n",
       "<table border=\"1\" class=\"dataframe\">\n",
       "  <thead>\n",
       "    <tr style=\"text-align: right;\">\n",
       "      <th></th>\n",
       "      <th>Name</th>\n",
       "      <th>League</th>\n",
       "      <th>Pitches</th>\n",
       "      <th>G</th>\n",
       "      <th>W</th>\n",
       "      <th>L</th>\n",
       "      <th>IP</th>\n",
       "      <th>H</th>\n",
       "      <th>R</th>\n",
       "      <th>HR</th>\n",
       "      <th>...</th>\n",
       "      <th>WHIP</th>\n",
       "      <th>Oppo%</th>\n",
       "      <th>K%</th>\n",
       "      <th>BB%</th>\n",
       "      <th>WHIP Rank</th>\n",
       "      <th>WHIP_Rank</th>\n",
       "      <th>ERA Rank</th>\n",
       "      <th>ERA_Rank</th>\n",
       "      <th>Leagues</th>\n",
       "      <th>preds</th>\n",
       "    </tr>\n",
       "  </thead>\n",
       "  <tbody>\n",
       "    <tr>\n",
       "      <th>1209</th>\n",
       "      <td>Eduardo Rodriguez</td>\n",
       "      <td>Minor</td>\n",
       "      <td>1971</td>\n",
       "      <td>24</td>\n",
       "      <td>5</td>\n",
       "      <td>9</td>\n",
       "      <td>125.2</td>\n",
       "      <td>112</td>\n",
       "      <td>50</td>\n",
       "      <td>9</td>\n",
       "      <td>...</td>\n",
       "      <td>1.098143</td>\n",
       "      <td>0.336207</td>\n",
       "      <td>0.253465</td>\n",
       "      <td>0.051485</td>\n",
       "      <td>Excellent</td>\n",
       "      <td>4</td>\n",
       "      <td>Excellent</td>\n",
       "      <td>3</td>\n",
       "      <td>0</td>\n",
       "      <td>1</td>\n",
       "    </tr>\n",
       "    <tr>\n",
       "      <th>1217</th>\n",
       "      <td>Michael Fulmer</td>\n",
       "      <td>Minor</td>\n",
       "      <td>2263</td>\n",
       "      <td>29</td>\n",
       "      <td>11</td>\n",
       "      <td>4</td>\n",
       "      <td>148.1</td>\n",
       "      <td>122</td>\n",
       "      <td>46</td>\n",
       "      <td>11</td>\n",
       "      <td>...</td>\n",
       "      <td>1.071910</td>\n",
       "      <td>0.332494</td>\n",
       "      <td>0.264310</td>\n",
       "      <td>0.062290</td>\n",
       "      <td>Excellent</td>\n",
       "      <td>4</td>\n",
       "      <td>Excellent</td>\n",
       "      <td>3</td>\n",
       "      <td>0</td>\n",
       "      <td>1</td>\n",
       "    </tr>\n",
       "    <tr>\n",
       "      <th>2091</th>\n",
       "      <td>Logan Gilbert</td>\n",
       "      <td>Minor</td>\n",
       "      <td>2250</td>\n",
       "      <td>27</td>\n",
       "      <td>11</td>\n",
       "      <td>5</td>\n",
       "      <td>140.0</td>\n",
       "      <td>99</td>\n",
       "      <td>37</td>\n",
       "      <td>7</td>\n",
       "      <td>...</td>\n",
       "      <td>0.942857</td>\n",
       "      <td>0.303030</td>\n",
       "      <td>0.315399</td>\n",
       "      <td>0.061224</td>\n",
       "      <td>Excellent</td>\n",
       "      <td>4</td>\n",
       "      <td>Excellent</td>\n",
       "      <td>3</td>\n",
       "      <td>0</td>\n",
       "      <td>1</td>\n",
       "    </tr>\n",
       "    <tr>\n",
       "      <th>2247</th>\n",
       "      <td>Tanner Bibee</td>\n",
       "      <td>Minor</td>\n",
       "      <td>2257</td>\n",
       "      <td>28</td>\n",
       "      <td>10</td>\n",
       "      <td>2</td>\n",
       "      <td>148.0</td>\n",
       "      <td>109</td>\n",
       "      <td>42</td>\n",
       "      <td>12</td>\n",
       "      <td>...</td>\n",
       "      <td>0.972973</td>\n",
       "      <td>0.343750</td>\n",
       "      <td>0.322357</td>\n",
       "      <td>0.060659</td>\n",
       "      <td>Excellent</td>\n",
       "      <td>4</td>\n",
       "      <td>Excellent</td>\n",
       "      <td>3</td>\n",
       "      <td>0</td>\n",
       "      <td>1</td>\n",
       "    </tr>\n",
       "    <tr>\n",
       "      <th>5001</th>\n",
       "      <td>Andy Ferguson</td>\n",
       "      <td>Minor</td>\n",
       "      <td>2154</td>\n",
       "      <td>34</td>\n",
       "      <td>11</td>\n",
       "      <td>7</td>\n",
       "      <td>144.2</td>\n",
       "      <td>110</td>\n",
       "      <td>47</td>\n",
       "      <td>14</td>\n",
       "      <td>...</td>\n",
       "      <td>1.009217</td>\n",
       "      <td>0.305483</td>\n",
       "      <td>0.262238</td>\n",
       "      <td>0.062937</td>\n",
       "      <td>Excellent</td>\n",
       "      <td>4</td>\n",
       "      <td>Excellent</td>\n",
       "      <td>3</td>\n",
       "      <td>0</td>\n",
       "      <td>1</td>\n",
       "    </tr>\n",
       "  </tbody>\n",
       "</table>\n",
       "<p>5 rows × 27 columns</p>\n",
       "</div>"
      ],
      "text/plain": [
       "                   Name League  Pitches   G   W  L     IP    H   R  HR  ...  \\\n",
       "1209  Eduardo Rodriguez  Minor     1971  24   5  9  125.2  112  50   9  ...   \n",
       "1217     Michael Fulmer  Minor     2263  29  11  4  148.1  122  46  11  ...   \n",
       "2091      Logan Gilbert  Minor     2250  27  11  5  140.0   99  37   7  ...   \n",
       "2247       Tanner Bibee  Minor     2257  28  10  2  148.0  109  42  12  ...   \n",
       "5001      Andy Ferguson  Minor     2154  34  11  7  144.2  110  47  14  ...   \n",
       "\n",
       "          WHIP     Oppo%        K%       BB%  WHIP Rank  WHIP_Rank   ERA Rank  \\\n",
       "1209  1.098143  0.336207  0.253465  0.051485  Excellent          4  Excellent   \n",
       "1217  1.071910  0.332494  0.264310  0.062290  Excellent          4  Excellent   \n",
       "2091  0.942857  0.303030  0.315399  0.061224  Excellent          4  Excellent   \n",
       "2247  0.972973  0.343750  0.322357  0.060659  Excellent          4  Excellent   \n",
       "5001  1.009217  0.305483  0.262238  0.062937  Excellent          4  Excellent   \n",
       "\n",
       "      ERA_Rank  Leagues  preds  \n",
       "1209         3        0      1  \n",
       "1217         3        0      1  \n",
       "2091         3        0      1  \n",
       "2247         3        0      1  \n",
       "5001         3        0      1  \n",
       "\n",
       "[5 rows x 27 columns]"
      ]
     },
     "execution_count": 75,
     "metadata": {},
     "output_type": "execute_result"
    }
   ],
   "source": [
    "Top_5 = Model.loc[(Model['WHIP Rank'] == 'Excellent') & (Model['ERA Rank'] == 'Excellent')]\n",
    "Top_5"
   ]
  },
  {
   "cell_type": "code",
   "execution_count": 76,
   "id": "86395e18",
   "metadata": {},
   "outputs": [
    {
     "data": {
      "image/png": "[encoded data removed]",
      "text/plain": [
       "<Figure size 360x360 with 1 Axes>"
      ]
     },
     "metadata": {
      "needs_background": "light"
     },
     "output_type": "display_data"
    }
   ],
   "source": [
    "plt.figure(figsize=(5,5))\n",
    "\n",
    "ax = sns.barplot(data = Top_5, x = 'K%', y = 'G',hue ='Name', ci=None, \n",
    "                palette = 'Reds')\n",
    "\n",
    "\n",
    "ax.set_title('Top 5')\n",
    "ax.set_xlabel('Stikeout Rate')\n",
    "ax.set_ylabel('Games')\n",
    "\n",
    "plt.legend(loc='upper right', bbox_to_anchor = (1.5,1))\n",
    "\n",
    "plt.xticks(rotation=45, ha='right')\n",
    "\n",
    "plt.show()"
   ]
  },
  {
   "cell_type": "code",
   "execution_count": 77,
   "id": "01fa9c5d",
   "metadata": {},
   "outputs": [
    {
     "data": {
      "image/png": "[encoded data removed]",
      "text/plain": [
       "<Figure size 360x360 with 1 Axes>"
      ]
     },
     "metadata": {
      "needs_background": "light"
     },
     "output_type": "display_data"
    }
   ],
   "source": [
    "plt.figure(figsize=(5,5))\n",
    "\n",
    "ax = sns.barplot(data = Top_5, x = 'BB', y = 'G',hue ='Name', ci=None, \n",
    "                palette = 'Reds')\n",
    "\n",
    "\n",
    "ax.set_title('Top 5')\n",
    "ax.set_xlabel('Walk Rate')\n",
    "ax.set_ylabel('Games')\n",
    "\n",
    "plt.legend(loc='upper right', bbox_to_anchor = (1.5,1))\n",
    "\n",
    "plt.xticks(rotation=45, ha='right')\n",
    "\n",
    "plt.show()"
   ]
  },
  {
   "cell_type": "code",
   "execution_count": 78,
   "id": "ccf4b6c7",
   "metadata": {
    "scrolled": true
   },
   "outputs": [
    {
     "data": {
      "image/png": "[encoded data removed]",
      "text/plain": [
       "<Figure size 360x360 with 1 Axes>"
      ]
     },
     "metadata": {
      "needs_background": "light"
     },
     "output_type": "display_data"
    }
   ],
   "source": [
    "plt.figure(figsize=(5,5))\n",
    "\n",
    "ax = sns.barplot(data = Top_5, x = 'HR', y = 'G', hue ='Name', ci=None, \n",
    "                palette = 'Blues')\n",
    "\n",
    "\n",
    "ax.set_title('Top 5')\n",
    "ax.set_xlabel('Home Runs')\n",
    "ax.set_ylabel('Games')\n",
    "\n",
    "plt.legend(loc='upper right', bbox_to_anchor = (1.5,1))\n",
    "\n",
    "plt.xticks(rotation=45, ha='right')\n",
    "\n",
    "plt.show()"
   ]
  },
  {
   "cell_type": "code",
   "execution_count": 90,
   "id": "3c7f17cd",
   "metadata": {},
   "outputs": [
    {
     "data": {
      "text/html": [
       "<div>\n",
       "<style scoped>\n",
       "    .dataframe tbody tr th:only-of-type {\n",
       "        vertical-align: middle;\n",
       "    }\n",
       "\n",
       "    .dataframe tbody tr th {\n",
       "        vertical-align: top;\n",
       "    }\n",
       "\n",
       "    .dataframe thead th {\n",
       "        text-align: right;\n",
       "    }\n",
       "</style>\n",
       "<table border=\"1\" class=\"dataframe\">\n",
       "  <thead>\n",
       "    <tr style=\"text-align: right;\">\n",
       "      <th></th>\n",
       "      <th>Name</th>\n",
       "      <th>League</th>\n",
       "      <th>Pitches</th>\n",
       "      <th>G</th>\n",
       "      <th>W</th>\n",
       "      <th>L</th>\n",
       "      <th>IP</th>\n",
       "      <th>H</th>\n",
       "      <th>R</th>\n",
       "      <th>HR</th>\n",
       "      <th>...</th>\n",
       "      <th>WHIP</th>\n",
       "      <th>Oppo%</th>\n",
       "      <th>K%</th>\n",
       "      <th>BB%</th>\n",
       "      <th>WHIP Rank</th>\n",
       "      <th>WHIP_Rank</th>\n",
       "      <th>ERA Rank</th>\n",
       "      <th>ERA_Rank</th>\n",
       "      <th>Leagues</th>\n",
       "      <th>preds</th>\n",
       "    </tr>\n",
       "  </thead>\n",
       "  <tbody>\n",
       "    <tr>\n",
       "      <th>2247</th>\n",
       "      <td>Tanner Bibee</td>\n",
       "      <td>Minor</td>\n",
       "      <td>2257</td>\n",
       "      <td>28</td>\n",
       "      <td>10</td>\n",
       "      <td>2</td>\n",
       "      <td>148.0</td>\n",
       "      <td>109</td>\n",
       "      <td>42</td>\n",
       "      <td>12</td>\n",
       "      <td>...</td>\n",
       "      <td>0.972973</td>\n",
       "      <td>0.34375</td>\n",
       "      <td>0.322357</td>\n",
       "      <td>0.060659</td>\n",
       "      <td>Excellent</td>\n",
       "      <td>4</td>\n",
       "      <td>Excellent</td>\n",
       "      <td>3</td>\n",
       "      <td>0</td>\n",
       "      <td>1</td>\n",
       "    </tr>\n",
       "  </tbody>\n",
       "</table>\n",
       "<p>1 rows × 27 columns</p>\n",
       "</div>"
      ],
      "text/plain": [
       "              Name League  Pitches   G   W  L     IP    H   R  HR  ...  \\\n",
       "2247  Tanner Bibee  Minor     2257  28  10  2  148.0  109  42  12  ...   \n",
       "\n",
       "          WHIP    Oppo%        K%       BB%  WHIP Rank  WHIP_Rank   ERA Rank  \\\n",
       "2247  0.972973  0.34375  0.322357  0.060659  Excellent          4  Excellent   \n",
       "\n",
       "      ERA_Rank  Leagues  preds  \n",
       "2247         3        0      1  \n",
       "\n",
       "[1 rows x 27 columns]"
      ]
     },
     "execution_count": 90,
     "metadata": {},
     "output_type": "execute_result"
    }
   ],
   "source": [
    "TB = Model.loc[Model['Name'] == 'Tanner Bibee']\n",
    "TB"
   ]
  },
  {
   "cell_type": "code",
   "execution_count": 85,
   "id": "a7705a20",
   "metadata": {},
   "outputs": [
    {
     "data": {
      "text/html": [
       "<div>\n",
       "<style scoped>\n",
       "    .dataframe tbody tr th:only-of-type {\n",
       "        vertical-align: middle;\n",
       "    }\n",
       "\n",
       "    .dataframe tbody tr th {\n",
       "        vertical-align: top;\n",
       "    }\n",
       "\n",
       "    .dataframe thead th {\n",
       "        text-align: right;\n",
       "    }\n",
       "</style>\n",
       "<table border=\"1\" class=\"dataframe\">\n",
       "  <thead>\n",
       "    <tr style=\"text-align: right;\">\n",
       "      <th></th>\n",
       "      <th>Name</th>\n",
       "      <th>League</th>\n",
       "      <th>Pitches</th>\n",
       "      <th>G</th>\n",
       "      <th>W</th>\n",
       "      <th>L</th>\n",
       "      <th>IP</th>\n",
       "      <th>H</th>\n",
       "      <th>R</th>\n",
       "      <th>HR</th>\n",
       "      <th>...</th>\n",
       "      <th>WHIP</th>\n",
       "      <th>Oppo%</th>\n",
       "      <th>K%</th>\n",
       "      <th>BB%</th>\n",
       "      <th>WHIP Rank</th>\n",
       "      <th>WHIP_Rank</th>\n",
       "      <th>ERA Rank</th>\n",
       "      <th>ERA_Rank</th>\n",
       "      <th>Leagues</th>\n",
       "      <th>preds</th>\n",
       "    </tr>\n",
       "  </thead>\n",
       "  <tbody>\n",
       "    <tr>\n",
       "      <th>1209</th>\n",
       "      <td>Eduardo Rodriguez</td>\n",
       "      <td>Minor</td>\n",
       "      <td>1971</td>\n",
       "      <td>24</td>\n",
       "      <td>5</td>\n",
       "      <td>9</td>\n",
       "      <td>125.2</td>\n",
       "      <td>112</td>\n",
       "      <td>50</td>\n",
       "      <td>9</td>\n",
       "      <td>...</td>\n",
       "      <td>1.098143</td>\n",
       "      <td>0.336207</td>\n",
       "      <td>0.253465</td>\n",
       "      <td>0.051485</td>\n",
       "      <td>Excellent</td>\n",
       "      <td>4</td>\n",
       "      <td>Excellent</td>\n",
       "      <td>3</td>\n",
       "      <td>0</td>\n",
       "      <td>1</td>\n",
       "    </tr>\n",
       "  </tbody>\n",
       "</table>\n",
       "<p>1 rows × 27 columns</p>\n",
       "</div>"
      ],
      "text/plain": [
       "                   Name League  Pitches   G  W  L     IP    H   R  HR  ...  \\\n",
       "1209  Eduardo Rodriguez  Minor     1971  24  5  9  125.2  112  50   9  ...   \n",
       "\n",
       "          WHIP     Oppo%        K%       BB%  WHIP Rank  WHIP_Rank   ERA Rank  \\\n",
       "1209  1.098143  0.336207  0.253465  0.051485  Excellent          4  Excellent   \n",
       "\n",
       "      ERA_Rank  Leagues  preds  \n",
       "1209         3        0      1  \n",
       "\n",
       "[1 rows x 27 columns]"
      ]
     },
     "execution_count": 85,
     "metadata": {},
     "output_type": "execute_result"
    }
   ],
   "source": [
    "ER = Model.loc[Model['Name'] == 'Eduardo Rodriguez']\n",
    "ER"
   ]
  },
  {
   "cell_type": "code",
   "execution_count": 92,
   "id": "37abce20",
   "metadata": {},
   "outputs": [
    {
     "data": {
      "text/html": [
       "<div>\n",
       "<style scoped>\n",
       "    .dataframe tbody tr th:only-of-type {\n",
       "        vertical-align: middle;\n",
       "    }\n",
       "\n",
       "    .dataframe tbody tr th {\n",
       "        vertical-align: top;\n",
       "    }\n",
       "\n",
       "    .dataframe thead th {\n",
       "        text-align: right;\n",
       "    }\n",
       "</style>\n",
       "<table border=\"1\" class=\"dataframe\">\n",
       "  <thead>\n",
       "    <tr style=\"text-align: right;\">\n",
       "      <th></th>\n",
       "      <th>Name</th>\n",
       "      <th>League</th>\n",
       "      <th>Pitches</th>\n",
       "      <th>G</th>\n",
       "      <th>W</th>\n",
       "      <th>L</th>\n",
       "      <th>IP</th>\n",
       "      <th>H</th>\n",
       "      <th>R</th>\n",
       "      <th>HR</th>\n",
       "      <th>...</th>\n",
       "      <th>WHIP</th>\n",
       "      <th>Oppo%</th>\n",
       "      <th>K%</th>\n",
       "      <th>BB%</th>\n",
       "      <th>WHIP Rank</th>\n",
       "      <th>WHIP_Rank</th>\n",
       "      <th>ERA Rank</th>\n",
       "      <th>ERA_Rank</th>\n",
       "      <th>Leagues</th>\n",
       "      <th>preds</th>\n",
       "    </tr>\n",
       "  </thead>\n",
       "  <tbody>\n",
       "    <tr>\n",
       "      <th>5001</th>\n",
       "      <td>Andy Ferguson</td>\n",
       "      <td>Minor</td>\n",
       "      <td>2154</td>\n",
       "      <td>34</td>\n",
       "      <td>11</td>\n",
       "      <td>7</td>\n",
       "      <td>144.2</td>\n",
       "      <td>110</td>\n",
       "      <td>47</td>\n",
       "      <td>14</td>\n",
       "      <td>...</td>\n",
       "      <td>1.009217</td>\n",
       "      <td>0.305483</td>\n",
       "      <td>0.262238</td>\n",
       "      <td>0.062937</td>\n",
       "      <td>Excellent</td>\n",
       "      <td>4</td>\n",
       "      <td>Excellent</td>\n",
       "      <td>3</td>\n",
       "      <td>0</td>\n",
       "      <td>1</td>\n",
       "    </tr>\n",
       "  </tbody>\n",
       "</table>\n",
       "<p>1 rows × 27 columns</p>\n",
       "</div>"
      ],
      "text/plain": [
       "               Name League  Pitches   G   W  L     IP    H   R  HR  ...  \\\n",
       "5001  Andy Ferguson  Minor     2154  34  11  7  144.2  110  47  14  ...   \n",
       "\n",
       "          WHIP     Oppo%        K%       BB%  WHIP Rank  WHIP_Rank   ERA Rank  \\\n",
       "5001  1.009217  0.305483  0.262238  0.062937  Excellent          4  Excellent   \n",
       "\n",
       "      ERA_Rank  Leagues  preds  \n",
       "5001         3        0      1  \n",
       "\n",
       "[1 rows x 27 columns]"
      ]
     },
     "execution_count": 92,
     "metadata": {},
     "output_type": "execute_result"
    }
   ],
   "source": [
    "AF = Model.loc[Model['Name'] == \"Andy Ferguson\"]\n",
    "AF"
   ]
  },
  {
   "cell_type": "code",
   "execution_count": null,
   "id": "ac533c55",
   "metadata": {},
   "outputs": [],
   "source": []
  }
 ],
 "metadata": {
  "kernelspec": {
   "display_name": "Python (learn-env)",
   "language": "python",
   "name": "learn-env"
  },
  "language_info": {
   "codemirror_mode": {
    "name": "ipython",
    "version": 3
   },
   "file_extension": ".py",
   "mimetype": "text/x-python",
   "name": "python",
   "nbconvert_exporter": "python",
   "pygments_lexer": "ipython3",
   "version": "3.8.5"
  }
 },
 "nbformat": 4,
 "nbformat_minor": 5
}
